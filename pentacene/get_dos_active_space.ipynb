{
 "cells": [
  {
   "cell_type": "code",
   "execution_count": null,
   "id": "3453df94",
   "metadata": {},
   "outputs": [],
   "source": [
    "from __future__ import annotations\n",
    "import pickle\n",
    "import numpy as np\n",
    "from edpyt.dmft import DMFT, Gfimp\n",
    "from edpyt.nano_dmft import Gfimp as nanoGfimp\n",
    "from scipy.interpolate import interp1d\n",
    "from edpyt.nano_dmft import Gfloc\n",
    "\n",
    "import matplotlib.pyplot as plt\n",
    "import os\n",
    "\n",
    "def plot(gf, z_ret, semilogy=True):\n",
    "\n",
    "    fig, axes = plt.subplots(2, 1, sharex=True)\n",
    "    ax1, ax2 = axes\n",
    "\n",
    "    w = z_ret.real\n",
    "    dos = -1 / np.pi * gf(z_ret).sum(axis=0).imag\n",
    "    if semilogy:\n",
    "        ax1.semilogy(w, dos)\n",
    "    else:\n",
    "        ax1.plot(w, dos)\n",
    "\n",
    "    ax1.set_ylabel(\"DOS [a.u.]\")\n",
    "    ax1.legend(loc=\"upper right\")\n",
    "\n",
    "    ax1.tick_params(axis=\"x\", which=\"both\", bottom=False, top=False, labelbottom=False)\n",
    "\n",
    "    return ax1\n"
   ]
  },
  {
   "cell_type": "code",
   "execution_count": null,
   "id": "024033b7",
   "metadata": {},
   "outputs": [],
   "source": []
  },
  {
   "cell_type": "code",
   "execution_count": null,
   "id": "f6cd2711",
   "metadata": {},
   "outputs": [],
   "source": []
  }
 ],
 "metadata": {
  "language_info": {
   "name": "python"
  }
 },
 "nbformat": 4,
 "nbformat_minor": 5
}
