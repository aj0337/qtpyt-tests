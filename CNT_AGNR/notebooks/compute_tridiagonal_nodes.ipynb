{
 "cells": [
  {
   "cell_type": "code",
   "execution_count": 5,
   "metadata": {},
   "outputs": [],
   "source": [
    "import numpy as np\n",
    "import matplotlib.pyplot as plt\n",
    "from ase.io import read"
   ]
  },
  {
   "cell_type": "code",
   "execution_count": null,
   "metadata": {},
   "outputs": [
    {
     "data": {
      "text/plain": [
       "[0, 5616, 10192, 15296]"
      ]
     },
     "execution_count": 13,
     "metadata": {},
     "output_type": "execute_result"
    }
   ],
   "source": [
    "atoms = read(\"../structures/unrelaxed/scatt.xyz\")\n",
    "z_threshold = 30\n",
    "\n",
    "# Get atomic symbols and z coordinates\n",
    "symbols = atoms.get_chemical_symbols()\n",
    "z_coords = atoms.positions[:, 2]\n",
    "\n",
    "# Count atoms in the leads\n",
    "num_atoms_leads = np.sum(z_coords < z_threshold)\n",
    "\n",
    "# Atoms per lead (assuming symmetric leads)\n",
    "num_atoms_per_lead = num_atoms_leads // 2\n",
    "\n",
    "total_atoms = len(atoms)\n",
    "\n",
    "num_atoms_bridge = total_atoms - num_atoms_leads\n",
    "\n",
    "num_spherical_harmonics = {\"C\": 9, \"H\": 4} # Double check this\n",
    "\n",
    "# Count spherical harmonics in left lead\n",
    "left_lead_indices = np.argsort(z_coords)[:num_atoms_per_lead]\n",
    "total_sph_left_lead = sum(num_spherical_harmonics[symbols[i]] for i in left_lead_indices)\n",
    "\n",
    "# Count spherical harmonics in the bridge\n",
    "bridge_indices = np.argsort(z_coords)[num_atoms_per_lead:num_atoms_per_lead + num_atoms_bridge]\n",
    "total_sph_bridge = sum(num_spherical_harmonics[symbols[i]] for i in bridge_indices)\n",
    "\n",
    "# Count spherical harmonics in right lead\n",
    "right_lead_indices = np.argsort(z_coords)[-num_atoms_per_lead:]\n",
    "total_sph_right_lead = sum(num_spherical_harmonics[symbols[i]] for i in right_lead_indices)\n",
    "\n",
    "# Populate nodes\n",
    "nodes = [\n",
    "    0,\n",
    "    total_sph_left_lead,\n",
    "    total_sph_left_lead + total_sph_bridge,\n",
    "    total_sph_left_lead + total_sph_bridge + total_sph_right_lead\n",
    "]\n",
    "nodes"
   ]
  },
  {
   "cell_type": "code",
   "execution_count": null,
   "metadata": {},
   "outputs": [],
   "source": []
  },
  {
   "cell_type": "code",
   "execution_count": null,
   "metadata": {},
   "outputs": [],
   "source": []
  }
 ],
 "metadata": {
  "kernelspec": {
   "display_name": "guido-edpyt-qtpyt",
   "language": "python",
   "name": "python3"
  },
  "language_info": {
   "codemirror_mode": {
    "name": "ipython",
    "version": 3
   },
   "file_extension": ".py",
   "mimetype": "text/x-python",
   "name": "python",
   "nbconvert_exporter": "python",
   "pygments_lexer": "ipython3",
   "version": "3.9.21"
  }
 },
 "nbformat": 4,
 "nbformat_minor": 2
}
