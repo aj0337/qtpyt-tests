{
 "cells": [
  {
   "cell_type": "code",
   "execution_count": 3,
   "id": "955b656d",
   "metadata": {},
   "outputs": [],
   "source": [
    "import numpy as np\n",
    "import matplotlib.pyplot as plt\n",
    "from ase.io import read\n",
    "from scipy.spatial import cKDTree"
   ]
  },
  {
   "cell_type": "code",
   "execution_count": 4,
   "id": "ec0146cb",
   "metadata": {},
   "outputs": [
    {
     "data": {
      "text/plain": [
       "({'mean': 1.4119742538347777,\n",
       "  'std': 0.005722951184363048,\n",
       "  'min': 1.4078933659541466,\n",
       "  'max': 1.4200000000000053},\n",
       " {'mean': 1.4311184041781917,\n",
       "  'std': 0.007634058664405363,\n",
       "  'min': 1.407867680430234,\n",
       "  'max': 1.4411008637843559})"
      ]
     },
     "execution_count": 4,
     "metadata": {},
     "output_type": "execute_result"
    }
   ],
   "source": [
    "# Load initial and final structures\n",
    "init_atoms = read('./init.xyz')\n",
    "final_atoms = read('./final.xyz')\n",
    "\n",
    "def compute_bond_lengths(atoms, cutoff=2.0):\n",
    "    positions = atoms.get_positions()\n",
    "    tree = cKDTree(positions)\n",
    "    pairs = tree.query_pairs(r=cutoff)\n",
    "    bond_lengths = [np.linalg.norm(positions[i] - positions[j]) for i, j in pairs]\n",
    "    return np.array(bond_lengths)\n",
    "\n",
    "# Compute bond lengths\n",
    "init_bonds = compute_bond_lengths(init_atoms)\n",
    "final_bonds = compute_bond_lengths(final_atoms)\n",
    "\n",
    "# Compare statistics\n",
    "init_stats = {\n",
    "    'mean': np.mean(init_bonds),\n",
    "    'std': np.std(init_bonds),\n",
    "    'min': np.min(init_bonds),\n",
    "    'max': np.max(init_bonds)\n",
    "}\n",
    "\n",
    "final_stats = {\n",
    "    'mean': np.mean(final_bonds),\n",
    "    'std': np.std(final_bonds),\n",
    "    'min': np.min(final_bonds),\n",
    "    'max': np.max(final_bonds)\n",
    "}\n",
    "\n",
    "init_stats, final_stats\n"
   ]
  },
  {
   "cell_type": "code",
   "execution_count": null,
   "id": "877b7418",
   "metadata": {},
   "outputs": [],
   "source": []
  }
 ],
 "metadata": {
  "kernelspec": {
   "display_name": "guido-edpyt-qtpyt",
   "language": "python",
   "name": "python3"
  },
  "language_info": {
   "codemirror_mode": {
    "name": "ipython",
    "version": 3
   },
   "file_extension": ".py",
   "mimetype": "text/x-python",
   "name": "python",
   "nbconvert_exporter": "python",
   "pygments_lexer": "ipython3",
   "version": "3.9.21"
  }
 },
 "nbformat": 4,
 "nbformat_minor": 5
}
