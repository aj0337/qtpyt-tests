{
 "cells": [
  {
   "cell_type": "code",
   "execution_count": 1,
   "id": "5b31d605",
   "metadata": {},
   "outputs": [],
   "source": [
    "import numpy as np\n",
    "import matplotlib.pyplot as plt\n",
    "import os\n",
    "\n",
    "# new_path = '/capstor/scratch/cscs/ajayaraj/qtpyt-tests/CNT_AGNR/structures'\n",
    "# os.chdir(new_path)"
   ]
  },
  {
   "cell_type": "code",
   "execution_count": 2,
   "id": "cefe824d",
   "metadata": {},
   "outputs": [],
   "source": [
    "\"\"\"\n",
    "This script sorts an extended XYZ file for a lead (left or right) in a quantum transport device.\n",
    "Sorting is consistent with the device structure: atoms are sorted by increasing x, y, and z.\n",
    "\n",
    "The script assumes:\n",
    "1. The lead geometry roughly corresponds to the device leads (from previous sorting).\n",
    "2. Atoms are only in the lead region (left or right) and occupy one side of the device's x-span.\n",
    "\"\"\"\n",
    "\n",
    "# Load the lead-only extended xyz file\n",
    "file_path = \"./unrelaxed/leads_original.xyz\"\n",
    "with open(file_path, \"r\") as f:\n",
    "    data = f.readlines()\n",
    "\n",
    "# First two lines: number of atoms and comment\n",
    "num_atoms = int(data[0].strip())\n",
    "comment = data[1].strip()\n",
    "\n",
    "# Read atomic data\n",
    "atoms = []\n",
    "for line in data[2 : num_atoms + 2]:\n",
    "    parts = line.split()\n",
    "    element = parts[0]\n",
    "    x, y, z = map(float, parts[1:4])\n",
    "    atoms.append((element, x, y, z))\n",
    "\n",
    "# Sort atoms by x, then y, then z (same as device structure logic)\n",
    "sorted_atoms = sorted(atoms, key=lambda atom: (atom[1], atom[2], atom[3]))\n",
    "\n",
    "# Write the sorted structure to a new extended xyz file\n",
    "output_path = \"./unrelaxed/leads_sorted.xyz\"\n",
    "with open(output_path, \"w\") as f:\n",
    "    f.write(f\"{num_atoms}\\n{comment}\\n\")\n",
    "    for atom in sorted_atoms:\n",
    "        element, x, y, z = atom\n",
    "        f.write(f\"{element:<3} {x:15.8f} {y:15.8f} {z:15.8f}\\n\")\n"
   ]
  },
  {
   "cell_type": "code",
   "execution_count": null,
   "id": "9896659d",
   "metadata": {},
   "outputs": [],
   "source": []
  }
 ],
 "metadata": {
  "kernelspec": {
   "display_name": "qtpyt",
   "language": "python",
   "name": "python3"
  },
  "language_info": {
   "codemirror_mode": {
    "name": "ipython",
    "version": 3
   },
   "file_extension": ".py",
   "mimetype": "text/x-python",
   "name": "python",
   "nbconvert_exporter": "python",
   "pygments_lexer": "ipython3",
   "version": "3.9.21"
  }
 },
 "nbformat": 4,
 "nbformat_minor": 5
}
