{
 "cells": [
  {
   "cell_type": "code",
   "execution_count": 1,
   "metadata": {},
   "outputs": [],
   "source": [
    "# Necessary when connecting to a jupyterhub kernel running on daint via VScode. NOT required otherwise\n",
    "\n",
    "import os\n",
    "\n",
    "new_path = '/users/ajayaraj/scratch/tests/qtpyt-tests/AuBDA13CH2'\n",
    "os.chdir(new_path)\n"
   ]
  },
  {
   "cell_type": "code",
   "execution_count": 2,
   "metadata": {},
   "outputs": [
    {
     "name": "stderr",
     "output_type": "stream",
     "text": [
      "OMP: Info #276: omp_set_nested routine deprecated, please use omp_set_max_active_levels instead.\n"
     ]
    }
   ],
   "source": [
    "import numpy as np\n",
    "from matplotlib import pyplot as plt\n",
    "\n",
    "import tqdm\n",
    "from pathlib import Path\n",
    "from ase.io import read\n",
    "\n",
    "from qtpyt.tools import remove_pbc, expand_coupling\n",
    "from qtpyt.lo import tools as lot\n",
    "from qtpyt.surface import principallayer, tools, kpts\n",
    "from qtpyt.basis import Basis\n",
    "from qtpyt.base.greenfunction import GreenFunction\n",
    "from qtpyt.base.selfenergy import SelfEnergy\n",
    "\n",
    "import numpy as np\n",
    "import sys\n",
    "from pathlib import Path\n",
    "from ase.io import read\n",
    "from matplotlib import pyplot as plt\n",
    "\n",
    "from scipy.interpolate import interp1d\n",
    "\n",
    "import tqdm\n",
    "\n",
    "from qtpyt.basis import Basis\n",
    "from qtpyt.lo import tools as lot\n",
    "from qtpyt.base.greenfunction import GreenFunction\n",
    "from qtpyt.base.selfenergy import SelfEnergy\n",
    "from qtpyt.tools import remove_pbc, expand_coupling\n",
    "from qtpyt.surface import tools\n",
    "from qtpyt.surface.principallayer import PrincipalSelfEnergy\n",
    "from qtpyt.base import intgreenfunction\n",
    "from gpaw import restart"
   ]
  },
  {
   "cell_type": "code",
   "execution_count": 3,
   "metadata": {},
   "outputs": [],
   "source": [
    "from qtpyt.surface.tools import prepare_leads_matrices"
   ]
  },
  {
   "cell_type": "markdown",
   "metadata": {},
   "source": [
    "### Helper functions"
   ]
  },
  {
   "cell_type": "code",
   "execution_count": 4,
   "metadata": {},
   "outputs": [],
   "source": [
    "def get_species_indices(atoms,species):\n",
    "    indices = []\n",
    "    for element in species:\n",
    "        element_indices = atoms.symbols.search(element)\n",
    "        indices.extend(element_indices)\n",
    "    return sorted(indices)\n"
   ]
  },
  {
   "cell_type": "markdown",
   "metadata": {},
   "source": [
    "### Control parameters"
   ]
  },
  {
   "cell_type": "code",
   "execution_count": 5,
   "metadata": {},
   "outputs": [],
   "source": [
    "# cmap_name = 'custom_white_red'\n",
    "# colors = [(1, 1, 1), (166/255, 4/255, 4/255)]\n",
    "# n_bins = 100\n",
    "# cm = LinearSegmentedColormap.from_list(cmap_name, colors, N=n_bins)\n",
    "# norm = LogNorm(vmin=0.1, vmax=10)"
   ]
  },
  {
   "cell_type": "code",
   "execution_count": 6,
   "metadata": {},
   "outputs": [],
   "source": [
    "E_ref, T_ref = np.load(\"published_reference/transmission/ET_dft.npy\")"
   ]
  },
  {
   "cell_type": "code",
   "execution_count": 7,
   "metadata": {},
   "outputs": [],
   "source": [
    "GPWDEVICEDIR = 'dft/device/'\n",
    "BRIDGE_SPECIES = (\"N\", \"C\", \"H\")\n",
    "GPWLEADSDIR = 'dft/leads/'"
   ]
  },
  {
   "cell_type": "code",
   "execution_count": 8,
   "metadata": {},
   "outputs": [],
   "source": [
    "cc_path = Path(GPWDEVICEDIR)\n",
    "pl_path = Path(GPWLEADSDIR)\n",
    "gpwfile = f'{cc_path}/scatt.gpw'\n",
    "\n",
    "atoms, calc = restart(gpwfile, txt=None)\n",
    "fermi = calc.get_fermi_level()\n",
    "nao_a = np.array([setup.nao for setup in calc.wfs.setups])\n",
    "basis = Basis(atoms, nao_a)\n",
    "\n",
    "H_lcao, S_lcao = np.load(\"dft/device/hs_cc_k.npy\")\n"
   ]
  },
  {
   "cell_type": "code",
   "execution_count": 9,
   "metadata": {},
   "outputs": [],
   "source": [
    "H_leads_lcao, S_leads_lcao = np.load(pl_path / 'hs_pl_k.npy')\n",
    "\n",
    "basis_dict = {'Au': 9, 'H': 5, 'C': 13, 'N': 13}\n",
    "\n",
    "leads_atoms = read(pl_path / 'leads.xyz')\n",
    "leads_basis = Basis.from_dictionary(leads_atoms, basis_dict)\n",
    "\n",
    "device_atoms = read(cc_path / 'scatt.xyz')\n",
    "device_basis = Basis.from_dictionary(device_atoms, basis_dict)\n",
    "\n",
    "# Define the number of repetitions (Nr) and unit cell repetition in the leads\n",
    "Nr = (1, 5, 3)\n",
    "unit_cell_rep_in_leads = (5, 5, 3)\n",
    "\n",
    "nodes = [0,810,1116,1278,1584,2394]\n",
    "\n",
    "# Define energy range and broadening factor for the Green's function calculation\n",
    "de = 0.2\n",
    "energies = np.arange(-3., 3. + de / 2., de).round(7)\n",
    "eta = 1e-3\n"
   ]
  },
  {
   "cell_type": "code",
   "execution_count": 10,
   "metadata": {},
   "outputs": [
    {
     "data": {
      "text/plain": [
       "(38, 54, 54)"
      ]
     },
     "execution_count": 10,
     "metadata": {},
     "output_type": "execute_result"
    }
   ],
   "source": [
    "H_leads_lcao.shape"
   ]
  },
  {
   "cell_type": "code",
   "execution_count": null,
   "metadata": {},
   "outputs": [],
   "source": [
    "# Prepare the k-points and matrices for the leads (Hamiltonian and overlap matrices) This is here because tests suggest that\n",
    "# this step needs to be done prior to removing PBC in the aligning Hamiltonian\n",
    "\n",
    "kpts_t, h_leads_kii, s_leads_kii, h_leads_kij, s_leads_kij = prepare_leads_matrices(\n",
    "    H_leads_lcao, S_leads_lcao, unit_cell_rep_in_leads, align=(0, H_lcao[0, 0, 0]))\n",
    "\n",
    "# Remove periodic boundary conditions (PBC) from the device Hamiltonian and overlap matrices\n",
    "remove_pbc(device_basis, H_lcao)\n",
    "remove_pbc(device_basis, S_lcao)\n",
    "\n",
    "selfenergies = [None, None]\n",
    "selfenergies[0] = principallayer.PrincipalSelfEnergy(kpts_t, (h_leads_kii, s_leads_kii), (h_leads_kij, s_leads_kij), Nr=Nr)\n",
    "selfenergies[1] = principallayer.PrincipalSelfEnergy(kpts_t, (h_leads_kii, s_leads_kii), (h_leads_kij, s_leads_kij), Nr=Nr, id='right')\n"
   ]
  },
  {
   "cell_type": "code",
   "execution_count": null,
   "metadata": {},
   "outputs": [],
   "source": [
    "# extract indices of the active space which include C and N atoms\n",
    "active = np.where(np.isin(device_atoms.symbols,['C','N']))[0]\n",
    "\n",
    "idx_active = device_basis[active].get_indices().reshape(active.size,13)\n",
    "print(idx_active)\n",
    "idx_lo_pz = idx_active[:,3].copy()  # what is this? it seems to be the indices of the pz orbitals in the los basis\n",
    "iaopz = idx_active[:,2].copy()  # what is this?\n",
    "\n",
    "# get embedding space as the difference\n",
    "idx_embedding = np.setdiff1d(range(H_lcao.shape[-1]), idx_lo_pz)\n"
   ]
  },
  {
   "cell_type": "code",
   "execution_count": null,
   "metadata": {},
   "outputs": [],
   "source": [
    "# get subdiagonalization matrix \n",
    "Us, eig = lot.subdiagonalize_atoms(device_basis, H_lcao[0], S_lcao[0], a=active)\n",
    "\n",
    "# make sure that the projection onto the original pz AOs has the same sign for all pz LOs\n",
    "# I am still not sure if this step is correct but now at least I understand the logic behind it\n",
    "flip_sign = np.where(Us[iaopz,idx_lo_pz]<0.)[0]\n",
    "for i in flip_sign:\n",
    "    Us[np.ix_(idx_active[i],idx_active[i])] *= -1\n",
    "\n",
    "#get subdiagonalized pair\n",
    "H_subdiagonal = lot.rotate_matrix(H_lcao[0], Us)\n",
    "S_subdiagonal = lot.rotate_matrix(S_lcao[0], Us)"
   ]
  },
  {
   "cell_type": "code",
   "execution_count": null,
   "metadata": {},
   "outputs": [],
   "source": [
    "# make LO-pz subspace orthogonal to the rest of the scattering region\n",
    "hs_active, hs_embedding, hs_ea_coupling, U = lot.extract_orthogonal_subspaces(H_subdiagonal, S_subdiagonal, idx_lo_pz) \n",
    "\n",
    "# expand_coupling(selfenergies[0], hs_embedding[0].shape[0])\n",
    "# expand_coupling(selfenergies[1], hs_embedding[0].shape[0], id='right')\n",
    "\n",
    "# get size of leads principal layer\n",
    "nleads = np.prod(Nr)*len(leads_basis)\n",
    "\n",
    "# get size of embedding space\n",
    "nembedding = idx_embedding.size\n",
    "\n",
    "# creates self-energy \\Sigma_{A} describing the effect of the embedding on the active space\n",
    "sigma = SelfEnergy(hs_embedding, hs_ea_coupling, selfenergies=\n",
    "      [(np.ix_(range(nleads),range(nleads)), selfenergies[0]),\n",
    "       (np.ix_(range(nembedding-nleads,nembedding),range(nembedding-nleads,nembedding)), selfenergies[1])])"
   ]
  },
  {
   "cell_type": "code",
   "execution_count": null,
   "metadata": {},
   "outputs": [],
   "source": [
    "# If they are tuples, check the shape of each element within the tuple\n",
    "for i, elem in enumerate(hs_embedding):\n",
    "    print(f\"Shape of hs_mm[{i}]:\", elem.shape)\n",
    "\n",
    "for i, elem in enumerate(hs_active):\n",
    "    print(f\"Shape of hs_ii[{i}]:\", elem.shape)"
   ]
  },
  {
   "cell_type": "code",
   "execution_count": null,
   "metadata": {},
   "outputs": [],
   "source": [
    "gf_active = GreenFunction(*hs_active, selfenergies=[(slice(None),sigma)])"
   ]
  },
  {
   "cell_type": "code",
   "execution_count": null,
   "metadata": {},
   "outputs": [],
   "source": [
    "gf_active.selfenergies"
   ]
  },
  {
   "cell_type": "code",
   "execution_count": null,
   "metadata": {},
   "outputs": [],
   "source": [
    "# Calculate the transmission function T for each energy in the defined range\n",
    "T_active = np.empty(energies.size)\n",
    "for e, energy in enumerate(energies):\n",
    "    T_active[e] = gf_active.get_transmission(energy)  # Compute transmission at each energy point\n"
   ]
  },
  {
   "cell_type": "markdown",
   "metadata": {},
   "source": [
    "### What do I need?\n",
    "\n",
    "1. Compute T(E) from G_active using eqn.B3. This can be done by providing hs_active and sigma_a to a Greensfunction class. hs_active is obtained from extract_orthogonal_subspace.\n",
    "2. I need to compute sigma_A using eqn. B8 which requires the hs_ae_coupling and Greens function of the embedding region. hs_ae_coupling is obtained from extract_orthogonal_subspace.\n",
    "3. Embedding Greens function can be obtained by providing hs_embedding and embedded leads self energy to the Greens function class (eqn. B11). Embedded leads self energy needs to be computed using eqn. B12 which requires hs_le_coupling and Greens function for each lead.\n",
    "\n",
    "Based on the above information, if I were to order the steps chronologically to compute various quantities, it would look like this\n",
    "\n",
    "1. Get Green's functions for the left and right leads.\n",
    "2. Get the H and S for the coupling between the leads and the embedding region.\n",
    "3. Use the above matrices to compute the embedded leads self energy sigma_L,R for the left and right. This matrix would have dimensions of the embedding region.\n",
    "4. Provide hs_embedding and sigma_L,R to Greensfunction class to compute embedding Green's function G_e.\n",
    "5. Compute active self energy using G_e and hs_ae_coupling\n",
    "6. Provide hs_active and sigma_a to Greensfunction class to compute active Green's function G_a\n",
    "7. Compute T(E) using G_a.get_transmission."
   ]
  },
  {
   "cell_type": "code",
   "execution_count": null,
   "metadata": {},
   "outputs": [],
   "source": [
    "plt.figure(figsize=(8, 6))  # Set the figure size\n",
    "\n",
    "# Plot the reference DFT data\n",
    "plt.plot(E_ref, T_ref, label=\"references dft\", color='blue')\n",
    "\n",
    "# Plot the computed DFT data\n",
    "plt.plot(energies, T_active, 'o', label=\"computed dft\", color='red')\n",
    "\n",
    "# Set the y-axis to log scale\n",
    "plt.yscale(\"log\")\n",
    "\n",
    "# Set x-axis limits\n",
    "plt.xlim(-2, 2)\n",
    "\n",
    "# Set y-axis limits, bottom starting at 5e-5\n",
    "plt.ylim(bottom=5e-5)\n",
    "\n",
    "# Add a legend to distinguish between the reference and computed data\n",
    "plt.legend()\n",
    "\n",
    "# Add labels for the axes\n",
    "plt.xlabel('Energy')\n",
    "plt.ylabel('Transmission')\n",
    "\n",
    "# Add a title (optional)\n",
    "plt.title('Transmission vs Energy')\n",
    "\n",
    "# Show the grid for better readability\n",
    "plt.grid(True)\n",
    "\n",
    "# Display the plot\n",
    "plt.show()"
   ]
  },
  {
   "cell_type": "code",
   "execution_count": null,
   "metadata": {},
   "outputs": [],
   "source": [
    "n_A = len(index_active_region)\n",
    "sigma_active = np.empty((energies.size, n_A, n_A), dtype=complex)  # Create 3D array\n",
    "\n",
    "# Initialize an array to store the trace for each energy\n",
    "trace_sigma_active = np.empty(energies.size, dtype=complex)\n",
    "\n",
    "# Loop through energies and compute the trace for each corresponding sigma_active\n",
    "for e, energy in enumerate(energies):\n",
    "    sigma_active[e, :, :] = hybr_active.retarded(energy)  # Store the n_A x n_A matrix in sigma_active[e]\n",
    "    trace_sigma_active[e] = np.trace(sigma_active[e, :, :])  # Compute the trace and store it\n",
    "    \n",
    "# Now plot the trace vs energy\n",
    "plt.figure(figsize=(8, 6))\n",
    "plt.plot(energies, trace_sigma_active.real, label='Real part of Trace', color='b')\n",
    "plt.plot(energies, trace_sigma_active.imag, label='Imaginary part of Trace', color='r', linestyle='--')\n",
    "\n",
    "# Adding labels and title\n",
    "plt.xlabel('Energy')\n",
    "plt.ylabel('Trace of sigma_active')\n",
    "plt.title('Trace of sigma_active vs Energy')\n",
    "plt.legend()\n",
    "\n",
    "# Show the plot\n",
    "plt.grid(True)\n",
    "plt.show()"
   ]
  }
 ],
 "metadata": {
  "kernelspec": {
   "display_name": "CSCS Python",
   "language": "python",
   "name": "cscs"
  },
  "language_info": {
   "codemirror_mode": {
    "name": "ipython",
    "version": 3
   },
   "file_extension": ".py",
   "mimetype": "text/x-python",
   "name": "python",
   "nbconvert_exporter": "python",
   "pygments_lexer": "ipython3",
   "version": "3.9.4"
  }
 },
 "nbformat": 4,
 "nbformat_minor": 4
}
