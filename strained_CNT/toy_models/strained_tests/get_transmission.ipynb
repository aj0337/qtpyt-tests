{
 "cells": [
  {
   "cell_type": "code",
   "execution_count": null,
   "id": "839797ab",
   "metadata": {},
   "outputs": [],
   "source": [
    "import matplotlib.pyplot as plt\n",
    "import numpy as np\n",
    "from qtpyt.tools import expand_coupling\n",
    "from ase.build import nanotube\n",
    "from ase.neighborlist import NeighborList\n",
    "from qtpyt.base.greenfunction import GreenFunction\n",
    "from qtpyt.parallel.egrid import GridDesc"
   ]
  },
  {
   "cell_type": "code",
   "execution_count": null,
   "id": "3a88c5ca",
   "metadata": {},
   "outputs": [],
   "source": [
    "def build_device_structure(n=6, m=0, N_L=3, N_M=4, N_R=3, bond=1.42, direction='x', tag_regions=True):\n",
    "    \"\"\"\n",
    "    Build a CNT device using ASE nanotube with clear region tagging.\n",
    "\n",
    "    Args:\n",
    "        n, m: Chiral indices.\n",
    "        N_L, N_M, N_R: Unit cells in left, middle, right.\n",
    "        bond: C–C bond length.\n",
    "        direction: Axis of tube ('x', 'y', or 'z').\n",
    "        tag_regions: Whether to tag atoms by region (L=1, M=2, R=3).\n",
    "\n",
    "    Returns:\n",
    "        ase.Atoms with 'region' tags if enabled.\n",
    "    \"\"\"\n",
    "    total_cells = N_L + N_M + N_R\n",
    "    atoms = nanotube(n=n, m=m, length=total_cells, bond=bond, verbose=False)\n",
    "\n",
    "\n",
    "    if direction == 'x':\n",
    "        atoms.rotate('z', 'x', rotate_cell=True, center='COP')\n",
    "        axis = 0\n",
    "    elif direction == 'y':\n",
    "        atoms.rotate('z', 'y', rotate_cell=True, center='COP')\n",
    "        axis = 1\n",
    "    elif direction == 'z':\n",
    "        axis = 2\n",
    "    else:\n",
    "        raise ValueError(\"Direction must be 'x', 'y', or 'z'\")\n",
    "\n",
    "\n",
    "    positions = atoms.get_positions()\n",
    "    coord = positions[:, axis]\n",
    "    x_min, x_max = coord.min(), coord.max()\n",
    "    total_len = x_max - x_min\n",
    "    uc_len = total_len / total_cells\n",
    "\n",
    "\n",
    "    x_L = x_min + N_L * uc_len\n",
    "    x_M = x_L + N_M * uc_len\n",
    "\n",
    "    if tag_regions:\n",
    "        regions = []\n",
    "        for x in coord:\n",
    "            if x < x_L:\n",
    "                regions.append(1)\n",
    "            elif x < x_M:\n",
    "                regions.append(2)\n",
    "            else:\n",
    "                regions.append(3)\n",
    "        atoms.set_array('region', np.array(regions, dtype=int))\n",
    "\n",
    "    atoms.set_pbc((1, 0, 0))\n",
    "    return atoms\n",
    "\n",
    "def apply_strain(atoms, strain_percent, axis=0, copy=True):\n",
    "    \"\"\"\n",
    "    Apply uniaxial strain only to region 2 (middle) of the CNT structure,\n",
    "    anchoring the left boundary and shifting region 3 to preserve bond lengths.\n",
    "\n",
    "    Parameters\n",
    "    ----------\n",
    "    atoms : ase.Atoms\n",
    "        Atomic structure with a 'region' array.\n",
    "    strain_percent : float\n",
    "        Strain percentage to apply to region 2.\n",
    "    axis : int\n",
    "        Axis along which to apply strain (default: 0 for x-axis).\n",
    "    copy : bool\n",
    "        If True (default), operates on a copy of `atoms`. If False, modifies `atoms` in-place.\n",
    "\n",
    "    Returns\n",
    "    -------\n",
    "    ase.Atoms\n",
    "        Strained ASE Atoms object.\n",
    "\n",
    "    Notes\n",
    "    -----\n",
    "    Region 2 is stretched from its left boundary.\n",
    "    Region 3 is rigidly shifted to maintain M–R bond lengths.\n",
    "    Region 1 is left unmodified.\n",
    "    \"\"\"\n",
    "    if copy:\n",
    "        atoms = atoms.copy()\n",
    "\n",
    "    if 'region' not in atoms.arrays:\n",
    "        raise ValueError(\"Atoms object must have 'region' array to apply region-specific strain.\")\n",
    "\n",
    "    positions = atoms.get_positions()\n",
    "    regions = atoms.get_array('region')\n",
    "\n",
    "    strain = 1 + strain_percent / 100.0\n",
    "    coord = positions[:, axis]\n",
    "    mask_M = regions == 2\n",
    "    mask_R = regions == 3\n",
    "\n",
    "\n",
    "    x_M_min = coord[mask_M].min()\n",
    "    x_M_max = coord[mask_M].max()\n",
    "    original_length = x_M_max - x_M_min\n",
    "\n",
    "\n",
    "    strained_positions = positions.copy()\n",
    "    strained_positions[mask_M, axis] = x_M_min + strain * (positions[mask_M, axis] - x_M_min)\n",
    "\n",
    "\n",
    "    delta = (strain - 1.0) * original_length\n",
    "    strained_positions[mask_R, axis] += delta\n",
    "\n",
    "    atoms.set_positions(strained_positions)\n",
    "    return atoms\n",
    "\n",
    "def build_real_space_device_hamiltonian(\n",
    "    atoms,\n",
    "    pairs,\n",
    "    bond=1.42,\n",
    "    q_pi=3.1451,\n",
    "    q_sigma=7.428,\n",
    "    V_pi=-2.7,\n",
    "    V_sigma=0.48,\n",
    "    angle_dependence=False,\n",
    "    angles=None,\n",
    "    degrees=True\n",
    "):\n",
    "    \"\"\"\n",
    "    Construct real-space Hamiltonian for a CNT device using known neighbor pairs.\n",
    "\n",
    "    Parameters\n",
    "    ----------\n",
    "    atoms : ase.Atoms\n",
    "        CNT device structure.\n",
    "    pairs : list of tuples\n",
    "        Precomputed nearest-neighbor pairs.\n",
    "    bond : float\n",
    "        Ideal bond length.\n",
    "    beta : float\n",
    "        Decay factor for hopping integral.\n",
    "    t0 : float\n",
    "        Hopping at ideal bond length.\n",
    "    angle_dependence : bool\n",
    "        Whether to include cos(theta) dependence based on precomputed angles.\n",
    "    angles : list of float, optional\n",
    "        List of angles for each pair in `pairs` (in degrees by default).\n",
    "    degrees : bool\n",
    "        Whether the provided angles are in degrees (default: True).\n",
    "\n",
    "    Returns\n",
    "    -------\n",
    "    H : np.ndarray\n",
    "        Hamiltonian matrix (N_atoms x N_atoms).\n",
    "    \"\"\"\n",
    "    N_atoms = len(atoms)\n",
    "    positions = atoms.get_positions()\n",
    "    cell = atoms.get_cell()\n",
    "    H = np.zeros((N_atoms, N_atoms), dtype=float)\n",
    "\n",
    "    if angle_dependence and angles is None:\n",
    "        raise ValueError(\"angles must be provided when angle_dependence=True\")\n",
    "\n",
    "    for idx, (i, j, offset) in enumerate(pairs):\n",
    "        ri = positions[i]\n",
    "        rj = positions[j] + np.dot(offset, cell)\n",
    "        dist = np.linalg.norm(ri - rj)\n",
    "\n",
    "        if angle_dependence:\n",
    "            angle = angles[idx]\n",
    "            if degrees:\n",
    "                cos_theta = np.cos(np.radians(angle))\n",
    "            else:\n",
    "                cos_theta = np.cos(angle)\n",
    "        else:\n",
    "            cos_theta = 1.0\n",
    "\n",
    "        hopping = V_pi * cos_theta * np.exp(-q_pi * (dist / bond - 1))\n",
    "\n",
    "        H[i, j] = hopping\n",
    "        H[j, i] = hopping\n",
    "\n",
    "    return H\n",
    "\n",
    "def get_nearest_neighbor_pairs(atoms, neighbor_cutoff=1.42, bond=1.42, atol=0.1):\n",
    "    \"\"\"\n",
    "    Compute nearest-neighbor atom pairs using a distance cutoff and bond tolerance.\n",
    "\n",
    "    Args:\n",
    "        atoms (ase.Atoms): The atomic structure.\n",
    "        neighbor_cutoff (float): Distance threshold for neighbors.\n",
    "        bond (float): Ideal bond length.\n",
    "        atol (float): Absolute tolerance for bond length deviation.\n",
    "\n",
    "    Returns:\n",
    "        List[Tuple[int, int, Tuple[int, int, int]]]: Valid neighbor pairs and cell offsets.\n",
    "    \"\"\"\n",
    "    N = len(atoms)\n",
    "    cutoffs = [neighbor_cutoff] * N\n",
    "    nl = NeighborList(cutoffs, self_interaction=False, bothways=True)\n",
    "    nl.update(atoms)\n",
    "\n",
    "    positions = atoms.get_positions()\n",
    "    cell = atoms.get_cell()\n",
    "\n",
    "    pairs = set()\n",
    "    for i in range(N):\n",
    "        for j, offset in zip(*nl.get_neighbors(i)):\n",
    "            if j > i:\n",
    "                ri = positions[i]\n",
    "                rj = positions[j] + np.dot(offset, cell)\n",
    "                dist = np.linalg.norm(ri - rj)\n",
    "                if np.abs(dist - bond) <= atol:\n",
    "                    pairs.add((i, j, tuple(offset)))\n",
    "    return list(pairs)"
   ]
  },
  {
   "cell_type": "code",
   "execution_count": null,
   "id": "0d9b05db",
   "metadata": {},
   "outputs": [],
   "source": [
    "# Parameters\n",
    "n, m = 6, 0\n",
    "ncells = 2\n",
    "bond = 1.42\n",
    "onsite = 0.0  # eV\n",
    "eta = 1e-5\n",
    "first_neighbor_hopping = -2.7  # eV\n",
    "q_pi = 0.0\n",
    "neighbor_cutoff = 1.42  # Å for nearest neighbors\n",
    "d0 = bond\n",
    "energies = np.linspace(-3, 3, 100)\n",
    "self_energy = np.load('lead_self_energy.npy',allow_pickle=True)"
   ]
  },
  {
   "cell_type": "code",
   "execution_count": 4,
   "id": "9bc65b3b",
   "metadata": {},
   "outputs": [],
   "source": [
    "device = build_device_structure(n=6, m=0, N_L=1, N_M=4, N_R=1, direction='x')\n",
    "pairs = get_nearest_neighbor_pairs(device, neighbor_cutoff=neighbor_cutoff)\n"
   ]
  },
  {
   "cell_type": "code",
   "execution_count": 5,
   "id": "110339bf",
   "metadata": {},
   "outputs": [
    {
     "data": {
      "image/png": "[encoded data removed]",
      "text/plain": [
       "<Figure size 640x480 with 2 Axes>"
      ]
     },
     "metadata": {},
     "output_type": "display_data"
    }
   ],
   "source": [
    "H_device= build_real_space_device_hamiltonian(device, pairs, bond=bond, q_pi=q_pi, V_pi=first_neighbor_hopping)\n",
    "S_device = np.eye(H_device.shape[0])\n",
    "plt.imshow(H_device, cmap='hot', interpolation='nearest')\n",
    "plt.colorbar()\n",
    "plt.title('Real-space Hamiltonian')\n",
    "plt.show()\n"
   ]
  },
  {
   "cell_type": "code",
   "execution_count": 48,
   "id": "803a8ffa",
   "metadata": {},
   "outputs": [],
   "source": [
    "expand_coupling(self_energy[0], len(H_device[0]))\n",
    "expand_coupling(self_energy[1], len(H_device[0]), id='right')\n",
    "\n",
    "# slice(None) means that we've already expanded the leads to the scattering region\n",
    "gf = GreenFunction(H_device, S_device, selfenergies=[(slice(None),self_energy[0]),(slice(None),self_energy[1])], eta=eta)\n",
    "\n",
    "gd = GridDesc(energies, 1)\n",
    "T = np.empty(gd.energies.size)\n",
    "\n",
    "for e, energy in enumerate(gd.energies):\n",
    "    T[e] = gf.get_transmission(energy, ferretti=False)\n",
    "\n",
    "T = gd.gather_energies(T)"
   ]
  },
  {
   "cell_type": "code",
   "execution_count": 49,
   "id": "b6527127",
   "metadata": {},
   "outputs": [
    {
     "data": {
      "image/png": "[encoded data removed]",
      "text/plain": [
       "<Figure size 1000x500 with 1 Axes>"
      ]
     },
     "metadata": {},
     "output_type": "display_data"
    }
   ],
   "source": [
    "plt.figure(figsize=(10, 5))\n",
    "plt.plot(energies, T)\n",
    "plt.xlabel(\"Energy (eV)\")\n",
    "plt.ylabel(\"Transmission\")\n",
    "plt.title(\"Transmission vs Energy\")\n",
    "plt.xlim(-3, 3)\n",
    "# plt.ylim(0, 1)\n",
    "plt.grid()\n",
    "plt.show()\n"
   ]
  },
  {
   "cell_type": "markdown",
   "id": "7ab4d7d3",
   "metadata": {},
   "source": [
    "### Strained"
   ]
  },
  {
   "cell_type": "code",
   "execution_count": 50,
   "id": "59e328e6",
   "metadata": {},
   "outputs": [
    {
     "data": {
      "image/png": "[encoded data removed]",
      "text/plain": [
       "<Figure size 640x480 with 2 Axes>"
      ]
     },
     "metadata": {},
     "output_type": "display_data"
    }
   ],
   "source": [
    "q_pi = 3.1451 # Value from WannierTools, https://pubs.acs.org/doi/10.1021/acs.nanolett.9b05117\n",
    "strained_device = apply_strain(device, 4.0, axis=0)\n",
    "H_strained_device = build_real_space_device_hamiltonian(strained_device, pairs, bond=bond, q_pi=q_pi, V_pi=first_neighbor_hopping)\n",
    "S_strained_device = np.eye(H_strained_device.shape[0])\n",
    "plt.imshow(H_strained_device, cmap='hot', interpolation='nearest')\n",
    "plt.colorbar()\n",
    "plt.title('Strained Real-space Hamiltonian')\n",
    "plt.show()"
   ]
  },
  {
   "cell_type": "code",
   "execution_count": 11,
   "id": "2d0c86a8",
   "metadata": {},
   "outputs": [
    {
     "data": {
      "image/png": "[encoded data removed]",
      "text/plain": [
       "<Figure size 1000x500 with 1 Axes>"
      ]
     },
     "metadata": {},
     "output_type": "display_data"
    }
   ],
   "source": [
    "strain_percentages = np.array([0, 2, 4])\n",
    "plt.figure(figsize=(10, 5))\n",
    "for strain in strain_percentages:\n",
    "    strained_device = apply_strain(device, strain, axis=0)\n",
    "    H_strained_device = build_real_space_device_hamiltonian(strained_device, pairs, bond=bond, q_pi=q_pi, V_pi=first_neighbor_hopping)\n",
    "    S_strained_device = np.eye(H_strained_device.shape[0])\n",
    "\n",
    "    gf = GreenFunction(H_strained_device, S_strained_device, selfenergies=[(slice(None),self_energy[0]),(slice(None),self_energy[1])], eta=eta)\n",
    "\n",
    "    gd = GridDesc(energies, 1)\n",
    "    T = np.empty(gd.energies.size)\n",
    "\n",
    "    for e, energy in enumerate(gd.energies):\n",
    "        T[e] = gf.get_transmission(energy, ferretti=False)\n",
    "\n",
    "    T = gd.gather_energies(T)\n",
    "    plt.plot(energies, T, label=f\"Strain: {strain}%\")\n",
    "plt.xlabel(\"Energy (eV)\")\n",
    "plt.ylabel(\"Transmission\")\n",
    "plt.title(\"Transmission vs Energy\")\n",
    "plt.xlim(-3, 3)\n",
    "# plt.ylim(0, 1)\n",
    "plt.legend()\n",
    "plt.grid()\n",
    "plt.show()"
   ]
  },
  {
   "cell_type": "markdown",
   "id": "e91de587",
   "metadata": {},
   "source": [
    "### Increase number of unit cell that are strained"
   ]
  },
  {
   "cell_type": "code",
   "execution_count": 9,
   "id": "2d63e7f8",
   "metadata": {},
   "outputs": [
    {
     "data": {
      "image/png": "[encoded data removed]",
      "text/plain": [
       "<Figure size 1000x500 with 1 Axes>"
      ]
     },
     "metadata": {},
     "output_type": "display_data"
    }
   ],
   "source": [
    "N_Ms = [2, 4, 8]\n",
    "strain = 4.0\n",
    "plt.figure(figsize=(10, 5))\n",
    "\n",
    "for N_M in N_Ms:\n",
    "    device = build_device_structure(n=6, m=0, N_L=1, N_M=N_M, N_R=1, direction='x')\n",
    "    pairs = get_nearest_neighbor_pairs(device, neighbor_cutoff=neighbor_cutoff)\n",
    "\n",
    "    strained_device = apply_strain(device, strain, axis=0)\n",
    "    H_strained_device = build_real_space_device_hamiltonian(strained_device, pairs, bond=bond, q_pi=q_pi, V_pi=first_neighbor_hopping)\n",
    "    S_strained_device = np.eye(H_strained_device.shape[0])\n",
    "\n",
    "    self_energy = np.load('lead_self_energy.npy',allow_pickle=True)\n",
    "    expand_coupling(self_energy[0], len(H_strained_device[0]))\n",
    "    expand_coupling(self_energy[1], len(H_strained_device[0]), id='right')\n",
    "\n",
    "    gf = GreenFunction(H_strained_device, S_strained_device, selfenergies=[(slice(None),self_energy[0]),(slice(None),self_energy[1])], eta=eta)\n",
    "\n",
    "\n",
    "    gd = GridDesc(energies, 1)\n",
    "    T = np.empty(gd.energies.size)\n",
    "\n",
    "    for e, energy in enumerate(gd.energies):\n",
    "        T[e] = gf.get_transmission(energy, ferretti=False)\n",
    "\n",
    "    T = gd.gather_energies(T)\n",
    "    plt.plot(energies, T, label=f\"N_M: {N_M}\")\n",
    "\n",
    "plt.xlabel(\"Energy (eV)\")\n",
    "plt.ylabel(\"Transmission\")\n",
    "plt.title(\"Transmission vs Energy of Strained CNT\")\n",
    "plt.xlim(-3, 3)\n",
    "# plt.ylim(0, 1)\n",
    "plt.legend()\n",
    "plt.grid()\n",
    "plt.show()"
   ]
  },
  {
   "cell_type": "markdown",
   "id": "3ab36a12",
   "metadata": {},
   "source": [
    "### Increase the number of unstrained unit cells that serve as connection to the leads\n",
    "- Fix the number of strained unit cells to 10 and the strain to 4 %"
   ]
  },
  {
   "cell_type": "code",
   "execution_count": 10,
   "id": "b08036a4",
   "metadata": {},
   "outputs": [
    {
     "data": {
      "image/png": "[encoded data removed]",
      "text/plain": [
       "<Figure size 1000x500 with 1 Axes>"
      ]
     },
     "metadata": {},
     "output_type": "display_data"
    }
   ],
   "source": [
    "N_M = 10\n",
    "N_Ls = [1, 2, 5]\n",
    "strain = 4.0\n",
    "plt.figure(figsize=(10, 5))\n",
    "\n",
    "for N_L in N_Ls:\n",
    "    device = build_device_structure(n=6, m=0, N_L=N_L, N_M=N_M, N_R=N_L, direction='x')\n",
    "    pairs = get_nearest_neighbor_pairs(device, neighbor_cutoff=neighbor_cutoff)\n",
    "\n",
    "    strained_device = apply_strain(device, strain, axis=0)\n",
    "    H_strained_device = build_real_space_device_hamiltonian(strained_device, pairs, bond=bond, q_pi=q_pi, V_pi=first_neighbor_hopping)\n",
    "    S_strained_device = np.eye(H_strained_device.shape[0])\n",
    "\n",
    "    self_energy = np.load('lead_self_energy.npy',allow_pickle=True)\n",
    "    expand_coupling(self_energy[0], len(H_strained_device[0]))\n",
    "    expand_coupling(self_energy[1], len(H_strained_device[0]), id='right')\n",
    "\n",
    "    gf = GreenFunction(H_strained_device, S_strained_device, selfenergies=[(slice(None),self_energy[0]),(slice(None),self_energy[1])], eta=eta)\n",
    "\n",
    "\n",
    "    gd = GridDesc(energies, 1)\n",
    "    T = np.empty(gd.energies.size)\n",
    "\n",
    "    for e, energy in enumerate(gd.energies):\n",
    "        T[e] = gf.get_transmission(energy, ferretti=False)\n",
    "\n",
    "    T = gd.gather_energies(T)\n",
    "    plt.plot(energies, T, label=f\"N_L, N_R: {N_L}\")\n",
    "\n",
    "plt.xlabel(\"Energy (eV)\")\n",
    "plt.ylabel(\"Transmission\")\n",
    "plt.title(\"Transmission vs Energy of Strained CNT\")\n",
    "plt.xlim(-3, 3)\n",
    "# plt.ylim(0, 1)\n",
    "plt.legend()\n",
    "plt.grid()\n",
    "plt.show()"
   ]
  },
  {
   "attachments": {
    "image-2.png": {
     "image/png": "[encoded data removed]"
    },
    "image-3.png": {
     "image/png": "[encoded data removed]"
    },
    "image.png": {
     "image/png": "[encoded data removed]"
    }
   },
   "cell_type": "markdown",
   "id": "7fba84c8",
   "metadata": {},
   "source": [
    "### Effect of curvature\n",
    "\n",
    "![image.png](attachment:image.png)\n",
    "\n",
    "![image-2.png](attachment:image-2.png)\n",
    "\n",
    "![image-3.png](attachment:image-3.png)"
   ]
  },
  {
   "cell_type": "code",
   "execution_count": null,
   "id": "3ed8e9d3",
   "metadata": {},
   "outputs": [],
   "source": [
    "import numpy as np\n",
    "from typing import List, Tuple\n",
    "import plotly.graph_objects as go\n",
    "\n",
    "def compute_pz_angles_plane_normals(\n",
    "    atoms: 'ase.Atoms',\n",
    "    pairs: List[Tuple[int, int, Tuple[int, int, int]]],\n",
    "    degrees: bool = True\n",
    ") -> Tuple[List[float], np.ndarray]:\n",
    "    cell = atoms.get_cell()\n",
    "    positions = atoms.get_positions()\n",
    "    num_atoms = len(atoms)\n",
    "    print(f\"Number of atoms in extended device: {num_atoms}\")\n",
    "    centroid = np.mean(positions, axis=0)\n",
    "\n",
    "    neighbor_dict = {i: [] for i in range(num_atoms)}\n",
    "    for i, j, offset in pairs:\n",
    "        if tuple(offset) == (0,0,0):\n",
    "            neighbor_dict[i].append((j, offset))\n",
    "            neighbor_dict[j].append((i, tuple(-np.array(offset))))\n",
    "\n",
    "    pz_dirs = np.zeros((num_atoms, 3))\n",
    "    for i in range(num_atoms):\n",
    "        neighbors = neighbor_dict[i]\n",
    "        if len(neighbors) < 3:\n",
    "            print(f\" Atom {i} has only {len(neighbors)} neighbors in the extended device.\")\n",
    "            continue\n",
    "\n",
    "        V = []\n",
    "        for j, offset in neighbors:\n",
    "            V.append(positions[j] + np.dot(offset, cell) - positions[i])\n",
    "\n",
    "        V1 = V[0]\n",
    "        V2 = V[1]\n",
    "        V3 = V[2]\n",
    "        V21 = V2 - V1\n",
    "        V31 = V3 - V1\n",
    "        cross = np.cross(V21, V31)\n",
    "        norm = np.linalg.norm(cross)\n",
    "        if norm > 0:\n",
    "            normal = cross / norm\n",
    "            radial = positions[i].copy() - centroid\n",
    "            radial[0] = 0.0\n",
    "            if np.dot(normal, radial) < 0:\n",
    "                normal = -normal\n",
    "            pz_dirs[i] = normal\n",
    "        else:\n",
    "            print(f\" Atom {i} has collinear neighbors, cannot compute pz direction.\")\n",
    "\n",
    "    angles = []\n",
    "    for i, j, _ in pairs:\n",
    "        ni = pz_dirs[i]\n",
    "        nj = pz_dirs[j]\n",
    "        dot = np.clip(np.dot(ni, nj), -1.0, 1.0)\n",
    "        angle = np.arccos(dot)\n",
    "        if degrees:\n",
    "            angle = np.degrees(angle)\n",
    "        angles.append(angle)\n",
    "\n",
    "    return angles, pz_dirs\n",
    "\n",
    "def compute_pz_dirs_and_angles(\n",
    "    n: int,\n",
    "    m: int,\n",
    "    N_L: int,\n",
    "    N_M: int,\n",
    "    N_R: int,\n",
    "    bond: float,\n",
    "    direction: str,\n",
    "    neighbor_cutoff: float,\n",
    "    pairs_original: List[Tuple[int, int, Tuple[int, int, int]]],\n",
    "    degrees: bool = True\n",
    ") -> Tuple[List[float], np.ndarray]:\n",
    "    device_extended = build_device_structure(n=n, m=m, N_L=N_L+1, N_M=N_M, N_R=N_R+1, bond=bond, direction=direction)\n",
    "    pairs_extended = get_nearest_neighbor_pairs(device_extended, neighbor_cutoff=neighbor_cutoff)\n",
    "    angles_ext, pz_dirs_ext = compute_pz_angles_plane_normals(device_extended, pairs_extended, degrees=degrees)\n",
    "\n",
    "    n_atoms_unit = build_device_structure(n=n, m=m, N_L=0, N_M=1, N_R=0, bond=bond, direction=direction).get_positions().shape[0]\n",
    "    start_idx = (N_L ) * n_atoms_unit\n",
    "    end_idx = start_idx + (N_L + N_M + N_R ) * n_atoms_unit\n",
    "    pz_dirs = pz_dirs_ext[start_idx:end_idx]\n",
    "\n",
    "    original_indices = set(range(start_idx, end_idx))\n",
    "    pair_to_angle = {}\n",
    "    for (i, j, _), angle in zip(pairs_extended, angles_ext):\n",
    "        if i in original_indices and j in original_indices:\n",
    "            pair_to_angle[(i - start_idx, j - start_idx)] = angle\n",
    "            pair_to_angle[(j - start_idx, i - start_idx)] = angle\n",
    "\n",
    "    angles = []\n",
    "    for i, j, _ in pairs_original:\n",
    "        angle = pair_to_angle.get((i, j))\n",
    "        if angle is None:\n",
    "            print(f\" Warning: No angle found for pair ({i}, {j}), setting angle = 0.\")\n",
    "            angle = 0.0\n",
    "        angles.append(angle)\n",
    "\n",
    "    return angles, pz_dirs\n",
    "\n",
    "def plot_pz_normals_plotly(atoms, pz_dirs, pairs, scale=0.5):\n",
    "    positions = atoms.get_positions()\n",
    "    pz_dirs = np.array(pz_dirs)\n",
    "\n",
    "\n",
    "    atom_trace = go.Scatter3d(\n",
    "        x=positions[:, 0],\n",
    "        y=positions[:, 1],\n",
    "        z=positions[:, 2],\n",
    "        mode='markers',\n",
    "        marker=dict(size=5, color='black'),\n",
    "        showlegend=False\n",
    "    )\n",
    "\n",
    "\n",
    "    arrow_traces = []\n",
    "    for pos, dir_vec in zip(positions, pz_dirs):\n",
    "        arrow = go.Scatter3d(\n",
    "            x=[pos[0], pos[0] + scale * dir_vec[0]],\n",
    "            y=[pos[1], pos[1] + scale * dir_vec[1]],\n",
    "            z=[pos[2], pos[2] + scale * dir_vec[2]],\n",
    "            mode='lines',\n",
    "            line=dict(color='red', width=3),\n",
    "            showlegend=False\n",
    "        )\n",
    "        arrow_traces.append(arrow)\n",
    "\n",
    "\n",
    "    bond_traces = []\n",
    "    cell = atoms.get_cell()\n",
    "    for i, j, offset in pairs:\n",
    "        ri = positions[i]\n",
    "        rj = positions[j] + np.dot(offset, cell)\n",
    "        bond = go.Scatter3d(\n",
    "            x=[ri[0], rj[0]],\n",
    "            y=[ri[1], rj[1]],\n",
    "            z=[ri[2], rj[2]],\n",
    "            mode='lines',\n",
    "            line=dict(color='gray', width=3),\n",
    "            showlegend=False\n",
    "        )\n",
    "        bond_traces.append(bond)\n",
    "\n",
    "\n",
    "    fig = go.Figure(data=[atom_trace] + arrow_traces + bond_traces)\n",
    "\n",
    "    fig.update_layout(\n",
    "        scene=dict(\n",
    "            xaxis_title='X',\n",
    "            yaxis_title='Y',\n",
    "            zaxis_title='Z',\n",
    "            aspectmode='data',\n",
    "        ),\n",
    "        title='CNT Atoms, pz Orbitals, and Bonds',\n",
    "        margin=dict(l=0, r=0, b=0, t=30),\n",
    "        showlegend=False\n",
    "    )\n",
    "\n",
    "    fig.show()"
   ]
  },
  {
   "cell_type": "code",
   "execution_count": 35,
   "id": "e26178b2",
   "metadata": {},
   "outputs": [
    {
     "name": "stdout",
     "output_type": "stream",
     "text": [
      "Number of atoms in extended device: 144\n",
      " Atom 0 has only 1 neighbors in the extended device.\n",
      " Atom 4 has only 1 neighbors in the extended device.\n",
      " Atom 8 has only 1 neighbors in the extended device.\n",
      " Atom 12 has only 1 neighbors in the extended device.\n",
      " Atom 16 has only 1 neighbors in the extended device.\n",
      " Atom 20 has only 1 neighbors in the extended device.\n",
      " Atom 121 has only 1 neighbors in the extended device.\n",
      " Atom 125 has only 1 neighbors in the extended device.\n",
      " Atom 129 has only 1 neighbors in the extended device.\n",
      " Atom 133 has only 1 neighbors in the extended device.\n",
      " Atom 137 has only 1 neighbors in the extended device.\n",
      " Atom 141 has only 1 neighbors in the extended device.\n"
     ]
    },
    {
     "data": {
      "text/plain": [
       "[<matplotlib.lines.Line2D at 0x72cae3125f70>]"
      ]
     },
     "execution_count": 35,
     "metadata": {},
     "output_type": "execute_result"
    },
    {
     "data": {
      "image/png": "[encoded data removed]",
      "text/plain": [
       "<Figure size 640x480 with 1 Axes>"
      ]
     },
     "metadata": {},
     "output_type": "display_data"
    }
   ],
   "source": [
    "n,m = 6, 0\n",
    "N_L, N_M, N_R = 1, 2, 1\n",
    "bond = 1.42\n",
    "\n",
    "device = build_device_structure(n=n, m=m, N_L=N_L, N_M=N_M, N_R=N_R, bond=bond, direction='x')\n",
    "pairs = get_nearest_neighbor_pairs(\n",
    "        device,\n",
    "        neighbor_cutoff=1.43)\n",
    "\n",
    "\n",
    "angles, pz_dirs = compute_pz_dirs_and_angles(\n",
    "    n=n,\n",
    "    m=m,\n",
    "    N_L=N_L,\n",
    "    N_M=N_M,\n",
    "    N_R=N_R,\n",
    "    bond=bond,\n",
    "    direction='x',\n",
    "    neighbor_cutoff=1.43,\n",
    "    pairs_original=pairs,\n",
    ")\n",
    "plt.plot(angles, marker='o', linestyle='None')"
   ]
  },
  {
   "cell_type": "code",
   "execution_count": 36,
   "id": "cd27840a",
   "metadata": {},
   "outputs": [
    {
     "data": {
      "application/vnd.plotly.v1+json": {
       "config": {
        "plotlyServerURL": "https://plot.ly"
       },
       "data": [
        {
         "marker": {
          "color": "black",
          "size": 5
         },
         "mode": "markers",
         "showlegend": false,
         "type": "scatter3d",
         "x": {
          "bdata": "FK5H4XpUIMD1KFyPwnUSwKNwPQrXIxjAehSuR+H6GsAUrkfhelQgwPUoXI/CdRLAonA9CtcjGMB6FK5H4foawBSuR+F6VCDA9ihcj8J1EsCkcD0K1yMYwHoUrkfh+hrAFK5H4XpUIMD0KFyPwnUSwKRwPQrXIxjAehSuR+H6GsAUrkfhelQgwPQoXI/CdRLApHA9CtcjGMB6FK5H4foawBSuR+F6VCDA9yhcj8J1EsCkcD0K1yMYwHoUrkfh+hrAPArXo3A9D8CzHoXrUbjWv2VmZmZmZvy/4HoUrkfhA8A8CtejcD0PwLMehetRuNa/YWZmZmZm/L/gehSuR+EDwDwK16NwPQ/Awx6F61G41r9pZmZmZmb8v+B6FK5H4QPAPArXo3A9D8CjHoXrUbjWv2lmZmZmZvy/4HoUrkfhA8A8CtejcD0PwKMehetRuNa/aWZmZmZm/L/gehSuR+EDwDwK16NwPQ/A0x6F61G41r9pZmZmZmb8v+B6FK5H4QPAvR6F61G41j9ACtejcD0PQOB6FK5H4QNAZ2ZmZmZm/D+9HoXrUbjWP0AK16NwPQ9A5HoUrkfhA0BnZmZmZmb8P70ehetRuNY/PArXo3A9D0DgehSuR+EDQGdmZmZmZvw/vR6F61G41j9ACtejcD0PQOB6FK5H4QNAZ2ZmZmZm/D+9HoXrUbjWP0AK16NwPQ9A4HoUrkfhA0BnZmZmZmb8P70ehetRuNY/OArXo3A9D0DgehSuR+EDQGdmZmZmZvw/9ihcj8J1EkAUrkfhelQgQHwUrkfh+hpApHA9CtcjGED2KFyPwnUSQBSuR+F6VCBAfBSuR+H6GkCkcD0K1yMYQPYoXI/CdRJAFK5H4XpUIEB6FK5H4foaQKRwPQrXIxhA9ihcj8J1EkAUrkfhelQgQHoUrkfh+hpApHA9CtcjGED2KFyPwnUSQBSuR+F6VCBAehSuR+H6GkCkcD0K1yMYQPYoXI/CdRJAFK5H4XpUIEB6FK5H4foaQKRwPQrXIxhA",
          "dtype": "f8"
         },
         "y": {
          "bdata": "AAAAAAAAAAABA/LTDsryPwED8tMOyvI/M+/u4aFFAEAz7+7hoUUAQAID8tMOygJAAgPy0w7KAkAz7+7hoUUAQDPv7uGhRQBABgPy0w7K8j8GA/LTDsryP1jTqxGC+Nc8WEHn9sy5tDz/AvLTDsryv/8C8tMOyvK/Me/u4aFFAMAx7+7hoUUAwAID8tMOygLAAgPy0w7KAsAz7+7hoUUAwDXv7uGhRQDABwPy0w7K8r8HA/LTDsryv1hB5/bMucS8AAAAAAAAAAABA/LTDsryPwED8tMOyvI/M+/u4aFFAEAz7+7hoUUAQAID8tMOygJAAgPy0w7KAkAz7+7hoUUAQDPv7uGhRQBABgPy0w7K8j8GA/LTDsryP1jTqxGC+Nc8WEHn9sy5tDz/AvLTDsryv/8C8tMOyvK/Me/u4aFFAMAx7+7hoUUAwAID8tMOygLAAgPy0w7KAsAz7+7hoUUAwDXv7uGhRQDABwPy0w7K8r8HA/LTDsryv1hB5/bMucS8AAAAAAAAAAABA/LTDsryPwED8tMOyvI/M+/u4aFFAEAz7+7hoUUAQAID8tMOygJAAgPy0w7KAkAz7+7hoUUAQDPv7uGhRQBABgPy0w7K8j8GA/LTDsryP1jTqxGC+Nc8WEHn9sy5tDz/AvLTDsryv/8C8tMOyvK/Me/u4aFFAMAx7+7hoUUAwAID8tMOygLAAgPy0w7KAsAz7+7hoUUAwDXv7uGhRQDABwPy0w7K8r8HA/LTDsryv1hB5/bMucS8AAAAAAAAAAABA/LTDsryPwED8tMOyvI/M+/u4aFFAEAz7+7hoUUAQAID8tMOygJAAgPy0w7KAkAz7+7hoUUAQDPv7uGhRQBABgPy0w7K8j8GA/LTDsryP1jTqxGC+Nc8WEHn9sy5tDz/AvLTDsryv/8C8tMOyvK/Me/u4aFFAMAx7+7hoUUAwAID8tMOygLAAgPy0w7KAsAz7+7hoUUAwDXv7uGhRQDABwPy0w7K8r8HA/LTDsryv1hB5/bMucS8",
          "dtype": "f8"
         },
         "z": {
          "bdata": "p1qWWO5DF0CO5JfRJIYYQI7kl9EkhhhAZ9uSDXL2G0Bn25INcvYbQBSuR+F6VCBAFK5H4XpUIEB07sW7vK0iQHTuxbu8rSJA4GnDWeNlJEDgacNZ42UkQNQuRJb+BiVA1C5Elv4GJUDhacNZ42UkQOFpw1njZSRAde7Fu7ytIkB17sW7vK0iQBSuR+F6VCBAFK5H4XpUIEBn25INcvYbQGnbkg1y9htAkOSX0SSGGECQ5JfRJIYYQKdalljuQxdAp1qWWO5DF0CO5JfRJIYYQI7kl9EkhhhAZ9uSDXL2G0Bn25INcvYbQBSuR+F6VCBAFK5H4XpUIEB07sW7vK0iQHTuxbu8rSJA4GnDWeNlJEDgacNZ42UkQNQuRJb+BiVA1C5Elv4GJUDhacNZ42UkQOFpw1njZSRAde7Fu7ytIkB17sW7vK0iQBSuR+F6VCBAFK5H4XpUIEBn25INcvYbQGnbkg1y9htAkOSX0SSGGECQ5JfRJIYYQKdalljuQxdAp1qWWO5DF0CO5JfRJIYYQI7kl9EkhhhAZ9uSDXL2G0Bn25INcvYbQBSuR+F6VCBAFK5H4XpUIEB07sW7vK0iQHTuxbu8rSJA4GnDWeNlJEDgacNZ42UkQNQuRJb+BiVA1C5Elv4GJUDhacNZ42UkQOFpw1njZSRAde7Fu7ytIkB17sW7vK0iQBSuR+F6VCBAFK5H4XpUIEBn25INcvYbQGnbkg1y9htAkOSX0SSGGECQ5JfRJIYYQKdalljuQxdAp1qWWO5DF0CO5JfRJIYYQI7kl9EkhhhAZ9uSDXL2G0Bn25INcvYbQBSuR+F6VCBAFK5H4XpUIEB07sW7vK0iQHTuxbu8rSJA4GnDWeNlJEDgacNZ42UkQNQuRJb+BiVA1C5Elv4GJUDhacNZ42UkQOFpw1njZSRAde7Fu7ytIkB17sW7vK0iQBSuR+F6VCBAFK5H4XpUIEBn25INcvYbQGnbkg1y9htAkOSX0SSGGECQ5JfRJIYYQKdalljuQxdA",
          "dtype": "f8"
         }
        },
        {
         "line": {
          "color": "red",
          "width": 3
         },
         "mode": "lines",
         "showlegend": false,
         "type": "scatter3d",
         "x": [
          -8.165,
          -8.384213098902253
         ],
         "y": [
          0,
          -7.903597381719505e-16
         ],
         "z": [
          5.816338905503165,
          4.332443485579756
         ]
        },
        {
         "line": {
          "color": "red",
          "width": 3
         },
         "mode": "lines",
         "showlegend": false,
         "type": "scatter3d",
         "x": [
          -4.614999999999999,
          -4.395786901097746
         ],
         "y": [
          1.174330547248417,
          1.9162782572101213
         ],
         "z": [
          6.130999827285576,
          4.8459086970725265
         ]
        },
        {
         "line": {
          "color": "red",
          "width": 3
         },
         "mode": "lines",
         "showlegend": false,
         "type": "scatter3d",
         "x": [
          -6.034999999999999,
          -6.2542130989022535
         ],
         "y": [
          1.174330547248417,
          1.9162782572101213
         ],
         "z": [
          6.130999827285576,
          4.8459086970725265
         ]
        },
        {
         "line": {
          "color": "red",
          "width": 3
         },
         "mode": "lines",
         "showlegend": false,
         "type": "scatter3d",
         "x": [
          -6.744999999999999,
          -6.525786901097747
         ],
         "y": [
          2.0340001727144226,
          3.3190913029274722
         ],
         "z": [
          6.990669452751582,
          6.248721742789877
         ]
        },
        {
         "line": {
          "color": "red",
          "width": 3
         },
         "mode": "lines",
         "showlegend": false,
         "type": "scatter3d",
         "x": [
          -8.165,
          -8.384213098902253
         ],
         "y": [
          2.0340001727144226,
          3.3190913029274722
         ],
         "z": [
          6.990669452751582,
          6.248721742789877
         ]
        },
        {
         "line": {
          "color": "red",
          "width": 3
         },
         "mode": "lines",
         "showlegend": false,
         "type": "scatter3d",
         "x": [
          -4.614999999999999,
          -4.395786901097746
         ],
         "y": [
          2.3486610944968342,
          3.8325565144202436
         ],
         "z": [
          8.165,
          8.165
         ]
        },
        {
         "line": {
          "color": "red",
          "width": 3
         },
         "mode": "lines",
         "showlegend": false,
         "type": "scatter3d",
         "x": [
          -6.034999999999998,
          -6.254213098902252
         ],
         "y": [
          2.3486610944968342,
          3.8325565144202436
         ],
         "z": [
          8.165,
          8.165
         ]
        },
        {
         "line": {
          "color": "red",
          "width": 3
         },
         "mode": "lines",
         "showlegend": false,
         "type": "scatter3d",
         "x": [
          -6.744999999999999,
          -6.525786901097747
         ],
         "y": [
          2.0340001727144226,
          3.3190913029274722
         ],
         "z": [
          9.339330547248416,
          10.081278257210121
         ]
        },
        {
         "line": {
          "color": "red",
          "width": 3
         },
         "mode": "lines",
         "showlegend": false,
         "type": "scatter3d",
         "x": [
          -8.165,
          -8.384213098902253
         ],
         "y": [
          2.0340001727144226,
          3.3190913029274727
         ],
         "z": [
          9.339330547248416,
          10.081278257210121
         ]
        },
        {
         "line": {
          "color": "red",
          "width": 3
         },
         "mode": "lines",
         "showlegend": false,
         "type": "scatter3d",
         "x": [
          -4.615,
          -4.395786901097748
         ],
         "y": [
          1.174330547248418,
          1.9162782572101225
         ],
         "z": [
          10.19900017271442,
          11.484091302927471
         ]
        },
        {
         "line": {
          "color": "red",
          "width": 3
         },
         "mode": "lines",
         "showlegend": false,
         "type": "scatter3d",
         "x": [
          -6.035,
          -6.254213098902253
         ],
         "y": [
          1.174330547248418,
          1.9162782572101227
         ],
         "z": [
          10.19900017271442,
          11.484091302927471
         ]
        },
        {
         "line": {
          "color": "red",
          "width": 3
         },
         "mode": "lines",
         "showlegend": false,
         "type": "scatter3d",
         "x": [
          -6.744999999999999,
          -6.525786901097747
         ],
         "y": [
          1.330643078826429e-15,
          2.4503193745700267e-15
         ],
         "z": [
          10.513661094496833,
          11.997556514420243
         ]
        },
        {
         "line": {
          "color": "red",
          "width": 3
         },
         "mode": "lines",
         "showlegend": false,
         "type": "scatter3d",
         "x": [
          -8.165,
          -8.384213098902253
         ],
         "y": [
          2.876280291657467e-16,
          1.2441419748679894e-15
         ],
         "z": [
          10.513661094496833,
          11.997556514420243
         ]
        },
        {
         "line": {
          "color": "red",
          "width": 3
         },
         "mode": "lines",
         "showlegend": false,
         "type": "scatter3d",
         "x": [
          -4.614999999999998,
          -4.395786901097745
         ],
         "y": [
          -1.1743305472484165,
          -1.91627825721012
         ],
         "z": [
          10.199000172714422,
          11.484091302927473
         ]
        },
        {
         "line": {
          "color": "red",
          "width": 3
         },
         "mode": "lines",
         "showlegend": false,
         "type": "scatter3d",
         "x": [
          -6.035,
          -6.2542130989022535
         ],
         "y": [
          -1.1743305472484165,
          -1.91627825721012
         ],
         "z": [
          10.199000172714422,
          11.484091302927473
         ]
        },
        {
         "line": {
          "color": "red",
          "width": 3
         },
         "mode": "lines",
         "showlegend": false,
         "type": "scatter3d",
         "x": [
          -6.744999999999999,
          -6.525786901097746
         ],
         "y": [
          -2.0340001727144217,
          -3.3190913029274713
         ],
         "z": [
          9.339330547248418,
          10.081278257210123
         ]
        },
        {
         "line": {
          "color": "red",
          "width": 3
         },
         "mode": "lines",
         "showlegend": false,
         "type": "scatter3d",
         "x": [
          -8.165,
          -8.384213098902253
         ],
         "y": [
          -2.0340001727144217,
          -3.3190913029274713
         ],
         "z": [
          9.339330547248418,
          10.081278257210123
         ]
        },
        {
         "line": {
          "color": "red",
          "width": 3
         },
         "mode": "lines",
         "showlegend": false,
         "type": "scatter3d",
         "x": [
          -4.614999999999998,
          -4.395786901097746
         ],
         "y": [
          -2.3486610944968342,
          -3.8325565144202436
         ],
         "z": [
          8.165,
          8.165000000000001
         ]
        },
        {
         "line": {
          "color": "red",
          "width": 3
         },
         "mode": "lines",
         "showlegend": false,
         "type": "scatter3d",
         "x": [
          -6.035,
          -6.2542130989022535
         ],
         "y": [
          -2.3486610944968342,
          -3.8325565144202436
         ],
         "z": [
          8.165,
          8.165
         ]
        },
        {
         "line": {
          "color": "red",
          "width": 3
         },
         "mode": "lines",
         "showlegend": false,
         "type": "scatter3d",
         "x": [
          -6.744999999999999,
          -6.525786901097746
         ],
         "y": [
          -2.0340001727144226,
          -3.3190913029274722
         ],
         "z": [
          6.990669452751582,
          6.248721742789877
         ]
        },
        {
         "line": {
          "color": "red",
          "width": 3
         },
         "mode": "lines",
         "showlegend": false,
         "type": "scatter3d",
         "x": [
          -8.165,
          -8.384213098902253
         ],
         "y": [
          -2.0340001727144235,
          -3.3190913029274736
         ],
         "z": [
          6.990669452751583,
          6.248721742789879
         ]
        },
        {
         "line": {
          "color": "red",
          "width": 3
         },
         "mode": "lines",
         "showlegend": false,
         "type": "scatter3d",
         "x": [
          -4.615000000000001,
          -4.395786901097749
         ],
         "y": [
          -1.1743305472484182,
          -1.9162782572101222
         ],
         "z": [
          6.130999827285578,
          4.845908697072528
         ]
        },
        {
         "line": {
          "color": "red",
          "width": 3
         },
         "mode": "lines",
         "showlegend": false,
         "type": "scatter3d",
         "x": [
          -6.035,
          -6.2542130989022535
         ],
         "y": [
          -1.1743305472484182,
          -1.9162782572101227
         ],
         "z": [
          6.130999827285578,
          4.845908697072528
         ]
        },
        {
         "line": {
          "color": "red",
          "width": 3
         },
         "mode": "lines",
         "showlegend": false,
         "type": "scatter3d",
         "x": [
          -6.744999999999999,
          -6.525786901097747
         ],
         "y": [
          -5.752560583314934e-16,
          -1.793727321346584e-15
         ],
         "z": [
          5.816338905503165,
          4.332443485579756
         ]
        },
        {
         "line": {
          "color": "red",
          "width": 3
         },
         "mode": "lines",
         "showlegend": false,
         "type": "scatter3d",
         "x": [
          -3.9049999999999994,
          -4.124213098902252
         ],
         "y": [
          0,
          -9.550180169577733e-16
         ],
         "z": [
          5.816338905503165,
          4.332443485579756
         ]
        },
        {
         "line": {
          "color": "red",
          "width": 3
         },
         "mode": "lines",
         "showlegend": false,
         "type": "scatter3d",
         "x": [
          -0.3549999999999997,
          -0.13578690109774622
         ],
         "y": [
          1.174330547248417,
          1.916278257210121
         ],
         "z": [
          6.130999827285576,
          4.8459086970725265
         ]
        },
        {
         "line": {
          "color": "red",
          "width": 3
         },
         "mode": "lines",
         "showlegend": false,
         "type": "scatter3d",
         "x": [
          -1.7749999999999997,
          -1.9942130989022533
         ],
         "y": [
          1.174330547248417,
          1.916278257210121
         ],
         "z": [
          6.130999827285576,
          4.8459086970725265
         ]
        },
        {
         "line": {
          "color": "red",
          "width": 3
         },
         "mode": "lines",
         "showlegend": false,
         "type": "scatter3d",
         "x": [
          -2.4849999999999994,
          -2.2657869010977465
         ],
         "y": [
          2.0340001727144226,
          3.3190913029274722
         ],
         "z": [
          6.990669452751582,
          6.248721742789877
         ]
        },
        {
         "line": {
          "color": "red",
          "width": 3
         },
         "mode": "lines",
         "showlegend": false,
         "type": "scatter3d",
         "x": [
          -3.9049999999999994,
          -4.124213098902252
         ],
         "y": [
          2.0340001727144226,
          3.3190913029274722
         ],
         "z": [
          6.990669452751582,
          6.248721742789877
         ]
        },
        {
         "line": {
          "color": "red",
          "width": 3
         },
         "mode": "lines",
         "showlegend": false,
         "type": "scatter3d",
         "x": [
          -0.3549999999999997,
          -0.1357869010977466
         ],
         "y": [
          2.3486610944968342,
          3.8325565144202436
         ],
         "z": [
          8.165,
          8.165
         ]
        },
        {
         "line": {
          "color": "red",
          "width": 3
         },
         "mode": "lines",
         "showlegend": false,
         "type": "scatter3d",
         "x": [
          -1.7749999999999988,
          -1.9942130989022517
         ],
         "y": [
          2.3486610944968342,
          3.8325565144202436
         ],
         "z": [
          8.165,
          8.165
         ]
        },
        {
         "line": {
          "color": "red",
          "width": 3
         },
         "mode": "lines",
         "showlegend": false,
         "type": "scatter3d",
         "x": [
          -2.4849999999999994,
          -2.2657869010977465
         ],
         "y": [
          2.0340001727144226,
          3.3190913029274722
         ],
         "z": [
          9.339330547248416,
          10.081278257210121
         ]
        },
        {
         "line": {
          "color": "red",
          "width": 3
         },
         "mode": "lines",
         "showlegend": false,
         "type": "scatter3d",
         "x": [
          -3.9049999999999994,
          -4.124213098902252
         ],
         "y": [
          2.0340001727144226,
          3.3190913029274722
         ],
         "z": [
          9.339330547248416,
          10.081278257210121
         ]
        },
        {
         "line": {
          "color": "red",
          "width": 3
         },
         "mode": "lines",
         "showlegend": false,
         "type": "scatter3d",
         "x": [
          -0.3550000000000006,
          -0.13578690109774771
         ],
         "y": [
          1.174330547248418,
          1.9162782572101225
         ],
         "z": [
          10.19900017271442,
          11.484091302927471
         ]
        },
        {
         "line": {
          "color": "red",
          "width": 3
         },
         "mode": "lines",
         "showlegend": false,
         "type": "scatter3d",
         "x": [
          -1.7750000000000006,
          -1.9942130989022533
         ],
         "y": [
          1.174330547248418,
          1.9162782572101227
         ],
         "z": [
          10.19900017271442,
          11.484091302927471
         ]
        },
        {
         "line": {
          "color": "red",
          "width": 3
         },
         "mode": "lines",
         "showlegend": false,
         "type": "scatter3d",
         "x": [
          -2.4849999999999994,
          -2.2657869010977465
         ],
         "y": [
          1.330643078826429e-15,
          2.4529539070305992e-15
         ],
         "z": [
          10.513661094496833,
          11.997556514420243
         ]
        },
        {
         "line": {
          "color": "red",
          "width": 3
         },
         "mode": "lines",
         "showlegend": false,
         "type": "scatter3d",
         "x": [
          -3.9049999999999994,
          -4.124213098902252
         ],
         "y": [
          2.876280291657467e-16,
          1.2426460461235207e-15
         ],
         "z": [
          10.513661094496833,
          11.997556514420243
         ]
        },
        {
         "line": {
          "color": "red",
          "width": 3
         },
         "mode": "lines",
         "showlegend": false,
         "type": "scatter3d",
         "x": [
          -0.3549999999999988,
          -0.13578690109774577
         ],
         "y": [
          -1.1743305472484165,
          -1.91627825721012
         ],
         "z": [
          10.199000172714422,
          11.484091302927473
         ]
        },
        {
         "line": {
          "color": "red",
          "width": 3
         },
         "mode": "lines",
         "showlegend": false,
         "type": "scatter3d",
         "x": [
          -1.7750000000000006,
          -1.9942130989022537
         ],
         "y": [
          -1.1743305472484165,
          -1.91627825721012
         ],
         "z": [
          10.199000172714422,
          11.484091302927473
         ]
        },
        {
         "line": {
          "color": "red",
          "width": 3
         },
         "mode": "lines",
         "showlegend": false,
         "type": "scatter3d",
         "x": [
          -2.4849999999999994,
          -2.265786901097746
         ],
         "y": [
          -2.0340001727144217,
          -3.3190913029274713
         ],
         "z": [
          9.339330547248418,
          10.081278257210123
         ]
        },
        {
         "line": {
          "color": "red",
          "width": 3
         },
         "mode": "lines",
         "showlegend": false,
         "type": "scatter3d",
         "x": [
          -3.9049999999999994,
          -4.124213098902253
         ],
         "y": [
          -2.0340001727144217,
          -3.3190913029274713
         ],
         "z": [
          9.339330547248418,
          10.081278257210123
         ]
        },
        {
         "line": {
          "color": "red",
          "width": 3
         },
         "mode": "lines",
         "showlegend": false,
         "type": "scatter3d",
         "x": [
          -0.3549999999999988,
          -0.135786901097746
         ],
         "y": [
          -2.3486610944968342,
          -3.8325565144202436
         ],
         "z": [
          8.165,
          8.165000000000001
         ]
        },
        {
         "line": {
          "color": "red",
          "width": 3
         },
         "mode": "lines",
         "showlegend": false,
         "type": "scatter3d",
         "x": [
          -1.7750000000000006,
          -1.9942130989022537
         ],
         "y": [
          -2.3486610944968342,
          -3.8325565144202436
         ],
         "z": [
          8.165,
          8.165
         ]
        },
        {
         "line": {
          "color": "red",
          "width": 3
         },
         "mode": "lines",
         "showlegend": false,
         "type": "scatter3d",
         "x": [
          -2.4849999999999994,
          -2.265786901097746
         ],
         "y": [
          -2.0340001727144226,
          -3.3190913029274722
         ],
         "z": [
          6.990669452751582,
          6.248721742789877
         ]
        },
        {
         "line": {
          "color": "red",
          "width": 3
         },
         "mode": "lines",
         "showlegend": false,
         "type": "scatter3d",
         "x": [
          -3.9049999999999994,
          -4.124213098902252
         ],
         "y": [
          -2.0340001727144235,
          -3.319091302927473
         ],
         "z": [
          6.990669452751583,
          6.248721742789879
         ]
        },
        {
         "line": {
          "color": "red",
          "width": 3
         },
         "mode": "lines",
         "showlegend": false,
         "type": "scatter3d",
         "x": [
          -0.3550000000000015,
          -0.13578690109774869
         ],
         "y": [
          -1.1743305472484182,
          -1.9162782572101222
         ],
         "z": [
          6.130999827285578,
          4.845908697072528
         ]
        },
        {
         "line": {
          "color": "red",
          "width": 3
         },
         "mode": "lines",
         "showlegend": false,
         "type": "scatter3d",
         "x": [
          -1.7750000000000006,
          -1.9942130989022537
         ],
         "y": [
          -1.1743305472484182,
          -1.9162782572101227
         ],
         "z": [
          6.130999827285578,
          4.845908697072528
         ]
        },
        {
         "line": {
          "color": "red",
          "width": 3
         },
         "mode": "lines",
         "showlegend": false,
         "type": "scatter3d",
         "x": [
          -2.4849999999999994,
          -2.2657869010977465
         ],
         "y": [
          -5.752560583314934e-16,
          -1.6949323540750906e-15
         ],
         "z": [
          5.816338905503165,
          4.332443485579756
         ]
        },
        {
         "line": {
          "color": "red",
          "width": 3
         },
         "mode": "lines",
         "showlegend": false,
         "type": "scatter3d",
         "x": [
          0.35500000000000026,
          0.13578690109774763
         ],
         "y": [
          0,
          -7.903597381719505e-16
         ],
         "z": [
          5.816338905503165,
          4.332443485579756
         ]
        },
        {
         "line": {
          "color": "red",
          "width": 3
         },
         "mode": "lines",
         "showlegend": false,
         "type": "scatter3d",
         "x": [
          3.905000000000001,
          4.1242130989022545
         ],
         "y": [
          1.174330547248417,
          1.9162782572101213
         ],
         "z": [
          6.130999827285576,
          4.8459086970725265
         ]
        },
        {
         "line": {
          "color": "red",
          "width": 3
         },
         "mode": "lines",
         "showlegend": false,
         "type": "scatter3d",
         "x": [
          2.4849999999999994,
          2.2657869010977456
         ],
         "y": [
          1.174330547248417,
          1.916278257210121
         ],
         "z": [
          6.130999827285576,
          4.8459086970725265
         ]
        },
        {
         "line": {
          "color": "red",
          "width": 3
         },
         "mode": "lines",
         "showlegend": false,
         "type": "scatter3d",
         "x": [
          1.7750000000000001,
          1.9942130989022528
         ],
         "y": [
          2.0340001727144226,
          3.3190913029274722
         ],
         "z": [
          6.990669452751582,
          6.248721742789877
         ]
        },
        {
         "line": {
          "color": "red",
          "width": 3
         },
         "mode": "lines",
         "showlegend": false,
         "type": "scatter3d",
         "x": [
          0.35500000000000026,
          0.1357869010977473
         ],
         "y": [
          2.0340001727144226,
          3.3190913029274722
         ],
         "z": [
          6.990669452751582,
          6.248721742789877
         ]
        },
        {
         "line": {
          "color": "red",
          "width": 3
         },
         "mode": "lines",
         "showlegend": false,
         "type": "scatter3d",
         "x": [
          3.905000000000001,
          4.1242130989022545
         ],
         "y": [
          2.3486610944968342,
          3.8325565144202436
         ],
         "z": [
          8.165,
          8.165
         ]
        },
        {
         "line": {
          "color": "red",
          "width": 3
         },
         "mode": "lines",
         "showlegend": false,
         "type": "scatter3d",
         "x": [
          2.485000000000001,
          2.2657869010977483
         ],
         "y": [
          2.3486610944968342,
          3.8325565144202436
         ],
         "z": [
          8.165,
          8.165
         ]
        },
        {
         "line": {
          "color": "red",
          "width": 3
         },
         "mode": "lines",
         "showlegend": false,
         "type": "scatter3d",
         "x": [
          1.7750000000000001,
          1.9942130989022528
         ],
         "y": [
          2.0340001727144226,
          3.3190913029274722
         ],
         "z": [
          9.339330547248416,
          10.081278257210121
         ]
        },
        {
         "line": {
          "color": "red",
          "width": 3
         },
         "mode": "lines",
         "showlegend": false,
         "type": "scatter3d",
         "x": [
          0.35500000000000026,
          0.13578690109774733
         ],
         "y": [
          2.0340001727144226,
          3.3190913029274727
         ],
         "z": [
          9.339330547248416,
          10.081278257210121
         ]
        },
        {
         "line": {
          "color": "red",
          "width": 3
         },
         "mode": "lines",
         "showlegend": false,
         "type": "scatter3d",
         "x": [
          3.9049999999999994,
          4.124213098902252
         ],
         "y": [
          1.174330547248418,
          1.9162782572101227
         ],
         "z": [
          10.19900017271442,
          11.484091302927471
         ]
        },
        {
         "line": {
          "color": "red",
          "width": 3
         },
         "mode": "lines",
         "showlegend": false,
         "type": "scatter3d",
         "x": [
          2.4849999999999994,
          2.2657869010977465
         ],
         "y": [
          1.174330547248418,
          1.9162782572101227
         ],
         "z": [
          10.19900017271442,
          11.484091302927471
         ]
        },
        {
         "line": {
          "color": "red",
          "width": 3
         },
         "mode": "lines",
         "showlegend": false,
         "type": "scatter3d",
         "x": [
          1.7750000000000001,
          1.9942130989022528
         ],
         "y": [
          1.330643078826429e-15,
          2.4529539070305992e-15
         ],
         "z": [
          10.513661094496833,
          11.997556514420243
         ]
        },
        {
         "line": {
          "color": "red",
          "width": 3
         },
         "mode": "lines",
         "showlegend": false,
         "type": "scatter3d",
         "x": [
          0.35500000000000026,
          0.13578690109774763
         ],
         "y": [
          2.876280291657467e-16,
          1.2441419748679892e-15
         ],
         "z": [
          10.513661094496833,
          11.997556514420243
         ]
        },
        {
         "line": {
          "color": "red",
          "width": 3
         },
         "mode": "lines",
         "showlegend": false,
         "type": "scatter3d",
         "x": [
          3.905000000000001,
          4.1242130989022545
         ],
         "y": [
          -1.1743305472484165,
          -1.91627825721012
         ],
         "z": [
          10.199000172714422,
          11.484091302927473
         ]
        },
        {
         "line": {
          "color": "red",
          "width": 3
         },
         "mode": "lines",
         "showlegend": false,
         "type": "scatter3d",
         "x": [
          2.4849999999999994,
          2.265786901097746
         ],
         "y": [
          -1.1743305472484165,
          -1.9162782572101198
         ],
         "z": [
          10.199000172714422,
          11.484091302927473
         ]
        },
        {
         "line": {
          "color": "red",
          "width": 3
         },
         "mode": "lines",
         "showlegend": false,
         "type": "scatter3d",
         "x": [
          1.7750000000000001,
          1.9942130989022533
         ],
         "y": [
          -2.0340001727144217,
          -3.3190913029274713
         ],
         "z": [
          9.339330547248418,
          10.081278257210123
         ]
        },
        {
         "line": {
          "color": "red",
          "width": 3
         },
         "mode": "lines",
         "showlegend": false,
         "type": "scatter3d",
         "x": [
          0.35500000000000026,
          0.13578690109774705
         ],
         "y": [
          -2.0340001727144217,
          -3.3190913029274713
         ],
         "z": [
          9.339330547248418,
          10.081278257210123
         ]
        },
        {
         "line": {
          "color": "red",
          "width": 3
         },
         "mode": "lines",
         "showlegend": false,
         "type": "scatter3d",
         "x": [
          3.905000000000001,
          4.1242130989022545
         ],
         "y": [
          -2.3486610944968342,
          -3.8325565144202436
         ],
         "z": [
          8.165,
          8.165000000000001
         ]
        },
        {
         "line": {
          "color": "red",
          "width": 3
         },
         "mode": "lines",
         "showlegend": false,
         "type": "scatter3d",
         "x": [
          2.4849999999999994,
          2.265786901097746
         ],
         "y": [
          -2.3486610944968342,
          -3.8325565144202436
         ],
         "z": [
          8.165,
          8.165
         ]
        },
        {
         "line": {
          "color": "red",
          "width": 3
         },
         "mode": "lines",
         "showlegend": false,
         "type": "scatter3d",
         "x": [
          1.7750000000000001,
          1.9942130989022535
         ],
         "y": [
          -2.0340001727144226,
          -3.3190913029274722
         ],
         "z": [
          6.990669452751582,
          6.248721742789877
         ]
        },
        {
         "line": {
          "color": "red",
          "width": 3
         },
         "mode": "lines",
         "showlegend": false,
         "type": "scatter3d",
         "x": [
          0.35500000000000026,
          0.1357869010977475
         ],
         "y": [
          -2.0340001727144235,
          -3.3190913029274736
         ],
         "z": [
          6.990669452751583,
          6.248721742789879
         ]
        },
        {
         "line": {
          "color": "red",
          "width": 3
         },
         "mode": "lines",
         "showlegend": false,
         "type": "scatter3d",
         "x": [
          3.9049999999999976,
          4.12421309890225
         ],
         "y": [
          -1.1743305472484182,
          -1.9162782572101222
         ],
         "z": [
          6.130999827285578,
          4.845908697072528
         ]
        },
        {
         "line": {
          "color": "red",
          "width": 3
         },
         "mode": "lines",
         "showlegend": false,
         "type": "scatter3d",
         "x": [
          2.4849999999999994,
          2.2657869010977465
         ],
         "y": [
          -1.1743305472484182,
          -1.9162782572101227
         ],
         "z": [
          6.130999827285578,
          4.845908697072528
         ]
        },
        {
         "line": {
          "color": "red",
          "width": 3
         },
         "mode": "lines",
         "showlegend": false,
         "type": "scatter3d",
         "x": [
          1.7750000000000001,
          1.9942130989022528
         ],
         "y": [
          -5.752560583314934e-16,
          -1.859590632860913e-15
         ],
         "z": [
          5.816338905503165,
          4.332443485579756
         ]
        },
        {
         "line": {
          "color": "red",
          "width": 3
         },
         "mode": "lines",
         "showlegend": false,
         "type": "scatter3d",
         "x": [
          4.615,
          4.395786901097748
         ],
         "y": [
          0,
          -1.1196762957435972e-15
         ],
         "z": [
          5.816338905503165,
          4.332443485579756
         ]
        },
        {
         "line": {
          "color": "red",
          "width": 3
         },
         "mode": "lines",
         "showlegend": false,
         "type": "scatter3d",
         "x": [
          8.165,
          8.384213098902253
         ],
         "y": [
          1.174330547248417,
          1.9162782572101213
         ],
         "z": [
          6.130999827285576,
          4.8459086970725265
         ]
        },
        {
         "line": {
          "color": "red",
          "width": 3
         },
         "mode": "lines",
         "showlegend": false,
         "type": "scatter3d",
         "x": [
          6.745000000000001,
          6.525786901097748
         ],
         "y": [
          1.174330547248417,
          1.9162782572101213
         ],
         "z": [
          6.130999827285576,
          4.8459086970725265
         ]
        },
        {
         "line": {
          "color": "red",
          "width": 3
         },
         "mode": "lines",
         "showlegend": false,
         "type": "scatter3d",
         "x": [
          6.035,
          6.2542130989022535
         ],
         "y": [
          2.0340001727144226,
          3.3190913029274722
         ],
         "z": [
          6.990669452751582,
          6.248721742789877
         ]
        },
        {
         "line": {
          "color": "red",
          "width": 3
         },
         "mode": "lines",
         "showlegend": false,
         "type": "scatter3d",
         "x": [
          4.615,
          4.395786901097748
         ],
         "y": [
          2.0340001727144226,
          3.3190913029274722
         ],
         "z": [
          6.990669452751582,
          6.248721742789877
         ]
        },
        {
         "line": {
          "color": "red",
          "width": 3
         },
         "mode": "lines",
         "showlegend": false,
         "type": "scatter3d",
         "x": [
          8.165,
          8.384213098902253
         ],
         "y": [
          2.3486610944968342,
          3.8325565144202436
         ],
         "z": [
          8.165,
          8.165
         ]
        },
        {
         "line": {
          "color": "red",
          "width": 3
         },
         "mode": "lines",
         "showlegend": false,
         "type": "scatter3d",
         "x": [
          6.745000000000001,
          6.525786901097748
         ],
         "y": [
          2.3486610944968342,
          3.8325565144202436
         ],
         "z": [
          8.165,
          8.165
         ]
        },
        {
         "line": {
          "color": "red",
          "width": 3
         },
         "mode": "lines",
         "showlegend": false,
         "type": "scatter3d",
         "x": [
          6.035,
          6.2542130989022535
         ],
         "y": [
          2.0340001727144226,
          3.3190913029274722
         ],
         "z": [
          9.339330547248416,
          10.081278257210121
         ]
        },
        {
         "line": {
          "color": "red",
          "width": 3
         },
         "mode": "lines",
         "showlegend": false,
         "type": "scatter3d",
         "x": [
          4.615,
          4.395786901097748
         ],
         "y": [
          2.0340001727144226,
          3.3190913029274722
         ],
         "z": [
          9.339330547248416,
          10.081278257210121
         ]
        },
        {
         "line": {
          "color": "red",
          "width": 3
         },
         "mode": "lines",
         "showlegend": false,
         "type": "scatter3d",
         "x": [
          8.165,
          8.384213098902253
         ],
         "y": [
          1.174330547248418,
          1.9162782572101227
         ],
         "z": [
          10.19900017271442,
          11.484091302927471
         ]
        },
        {
         "line": {
          "color": "red",
          "width": 3
         },
         "mode": "lines",
         "showlegend": false,
         "type": "scatter3d",
         "x": [
          6.744999999999999,
          6.525786901097746
         ],
         "y": [
          1.174330547248418,
          1.9162782572101231
         ],
         "z": [
          10.19900017271442,
          11.48409130292747
         ]
        },
        {
         "line": {
          "color": "red",
          "width": 3
         },
         "mode": "lines",
         "showlegend": false,
         "type": "scatter3d",
         "x": [
          6.035,
          6.254213098902253
         ],
         "y": [
          1.330643078826429e-15,
          2.4529539070305992e-15
         ],
         "z": [
          10.513661094496833,
          11.997556514420243
         ]
        },
        {
         "line": {
          "color": "red",
          "width": 3
         },
         "mode": "lines",
         "showlegend": false,
         "type": "scatter3d",
         "x": [
          4.615,
          4.395786901097748
         ],
         "y": [
          2.876280291657467e-16,
          1.4099388573699168e-15
         ],
         "z": [
          10.513661094496833,
          11.997556514420243
         ]
        },
        {
         "line": {
          "color": "red",
          "width": 3
         },
         "mode": "lines",
         "showlegend": false,
         "type": "scatter3d",
         "x": [
          8.165,
          8.384213098902253
         ],
         "y": [
          -1.1743305472484165,
          -1.91627825721012
         ],
         "z": [
          10.199000172714422,
          11.484091302927473
         ]
        },
        {
         "line": {
          "color": "red",
          "width": 3
         },
         "mode": "lines",
         "showlegend": false,
         "type": "scatter3d",
         "x": [
          6.744999999999999,
          6.525786901097746
         ],
         "y": [
          -1.1743305472484165,
          -1.9162782572101198
         ],
         "z": [
          10.199000172714422,
          11.484091302927473
         ]
        },
        {
         "line": {
          "color": "red",
          "width": 3
         },
         "mode": "lines",
         "showlegend": false,
         "type": "scatter3d",
         "x": [
          6.035,
          6.2542130989022535
         ],
         "y": [
          -2.0340001727144217,
          -3.3190913029274713
         ],
         "z": [
          9.339330547248418,
          10.081278257210123
         ]
        },
        {
         "line": {
          "color": "red",
          "width": 3
         },
         "mode": "lines",
         "showlegend": false,
         "type": "scatter3d",
         "x": [
          4.615,
          4.395786901097747
         ],
         "y": [
          -2.0340001727144217,
          -3.3190913029274713
         ],
         "z": [
          9.339330547248418,
          10.081278257210123
         ]
        },
        {
         "line": {
          "color": "red",
          "width": 3
         },
         "mode": "lines",
         "showlegend": false,
         "type": "scatter3d",
         "x": [
          8.165,
          8.384213098902253
         ],
         "y": [
          -2.3486610944968342,
          -3.8325565144202436
         ],
         "z": [
          8.165,
          8.165000000000001
         ]
        },
        {
         "line": {
          "color": "red",
          "width": 3
         },
         "mode": "lines",
         "showlegend": false,
         "type": "scatter3d",
         "x": [
          6.744999999999999,
          6.525786901097746
         ],
         "y": [
          -2.3486610944968342,
          -3.8325565144202436
         ],
         "z": [
          8.165,
          8.165
         ]
        },
        {
         "line": {
          "color": "red",
          "width": 3
         },
         "mode": "lines",
         "showlegend": false,
         "type": "scatter3d",
         "x": [
          6.035,
          6.2542130989022535
         ],
         "y": [
          -2.0340001727144226,
          -3.3190913029274722
         ],
         "z": [
          6.990669452751582,
          6.248721742789877
         ]
        },
        {
         "line": {
          "color": "red",
          "width": 3
         },
         "mode": "lines",
         "showlegend": false,
         "type": "scatter3d",
         "x": [
          4.615,
          4.395786901097747
         ],
         "y": [
          -2.0340001727144235,
          -3.319091302927473
         ],
         "z": [
          6.990669452751583,
          6.248721742789879
         ]
        },
        {
         "line": {
          "color": "red",
          "width": 3
         },
         "mode": "lines",
         "showlegend": false,
         "type": "scatter3d",
         "x": [
          8.165,
          8.384213098902253
         ],
         "y": [
          -1.1743305472484182,
          -1.9162782572101222
         ],
         "z": [
          6.130999827285578,
          4.845908697072528
         ]
        },
        {
         "line": {
          "color": "red",
          "width": 3
         },
         "mode": "lines",
         "showlegend": false,
         "type": "scatter3d",
         "x": [
          6.744999999999999,
          6.525786901097746
         ],
         "y": [
          -1.1743305472484182,
          -1.916278257210123
         ],
         "z": [
          6.130999827285578,
          4.845908697072528
         ]
        },
        {
         "line": {
          "color": "red",
          "width": 3
         },
         "mode": "lines",
         "showlegend": false,
         "type": "scatter3d",
         "x": [
          6.035,
          6.254213098902253
         ],
         "y": [
          -5.752560583314934e-16,
          -1.6949323540750906e-15
         ],
         "z": [
          5.816338905503165,
          4.332443485579756
         ]
        },
        {
         "line": {
          "color": "gray",
          "width": 3
         },
         "mode": "lines",
         "showlegend": false,
         "type": "scatter3d",
         "x": [
          1.7750000000000001,
          0.35500000000000026
         ],
         "y": [
          2.0340001727144226,
          2.0340001727144226
         ],
         "z": [
          9.339330547248416,
          9.339330547248416
         ]
        },
        {
         "line": {
          "color": "gray",
          "width": 3
         },
         "mode": "lines",
         "showlegend": false,
         "type": "scatter3d",
         "x": [
          -0.3549999999999997,
          -1.7749999999999997
         ],
         "y": [
          1.174330547248417,
          1.174330547248417
         ],
         "z": [
          6.130999827285576,
          6.130999827285576
         ]
        },
        {
         "line": {
          "color": "gray",
          "width": 3
         },
         "mode": "lines",
         "showlegend": false,
         "type": "scatter3d",
         "x": [
          8.165,
          6.745000000000001
         ],
         "y": [
          1.174330547248417,
          1.174330547248417
         ],
         "z": [
          6.130999827285576,
          6.130999827285576
         ]
        },
        {
         "line": {
          "color": "gray",
          "width": 3
         },
         "mode": "lines",
         "showlegend": false,
         "type": "scatter3d",
         "x": [
          8.165,
          6.745000000000001
         ],
         "y": [
          1.174330547248417,
          1.174330547248417
         ],
         "z": [
          6.130999827285576,
          6.130999827285576
         ]
        },
        {
         "line": {
          "color": "gray",
          "width": 3
         },
         "mode": "lines",
         "showlegend": false,
         "type": "scatter3d",
         "x": [
          6.035,
          6.745000000000001
         ],
         "y": [
          2.0340001727144226,
          2.3486610944968342
         ],
         "z": [
          6.990669452751582,
          8.165
         ]
        },
        {
         "line": {
          "color": "gray",
          "width": 3
         },
         "mode": "lines",
         "showlegend": false,
         "type": "scatter3d",
         "x": [
          6.035,
          6.745000000000001
         ],
         "y": [
          2.0340001727144226,
          2.3486610944968342
         ],
         "z": [
          6.990669452751582,
          8.165
         ]
        },
        {
         "line": {
          "color": "gray",
          "width": 3
         },
         "mode": "lines",
         "showlegend": false,
         "type": "scatter3d",
         "x": [
          6.035,
          4.615
         ],
         "y": [
          2.0340001727144226,
          2.0340001727144226
         ],
         "z": [
          6.990669452751582,
          6.990669452751582
         ]
        },
        {
         "line": {
          "color": "gray",
          "width": 3
         },
         "mode": "lines",
         "showlegend": false,
         "type": "scatter3d",
         "x": [
          3.905000000000001,
          4.615
         ],
         "y": [
          2.3486610944968342,
          2.0340001727144226
         ],
         "z": [
          8.165,
          9.339330547248416
         ]
        },
        {
         "line": {
          "color": "gray",
          "width": 3
         },
         "mode": "lines",
         "showlegend": false,
         "type": "scatter3d",
         "x": [
          1.7750000000000001,
          0.35500000000000026
         ],
         "y": [
          -2.0340001727144226,
          -2.0340001727144235
         ],
         "z": [
          6.990669452751582,
          6.990669452751583
         ]
        },
        {
         "line": {
          "color": "gray",
          "width": 3
         },
         "mode": "lines",
         "showlegend": false,
         "type": "scatter3d",
         "x": [
          -6.744999999999999,
          -8.165
         ],
         "y": [
          -2.0340001727144226,
          -2.0340001727144235
         ],
         "z": [
          6.990669452751582,
          6.990669452751583
         ]
        },
        {
         "line": {
          "color": "gray",
          "width": 3
         },
         "mode": "lines",
         "showlegend": false,
         "type": "scatter3d",
         "x": [
          -4.615000000000001,
          -3.9049999999999994
         ],
         "y": [
          -1.1743305472484182,
          0
         ],
         "z": [
          6.130999827285578,
          5.816338905503165
         ]
        },
        {
         "line": {
          "color": "gray",
          "width": 3
         },
         "mode": "lines",
         "showlegend": false,
         "type": "scatter3d",
         "x": [
          -4.615,
          -3.9049999999999994
         ],
         "y": [
          1.174330547248418,
          2.876280291657467e-16
         ],
         "z": [
          10.19900017271442,
          10.513661094496833
         ]
        },
        {
         "line": {
          "color": "gray",
          "width": 3
         },
         "mode": "lines",
         "showlegend": false,
         "type": "scatter3d",
         "x": [
          -4.615,
          -3.9049999999999994
         ],
         "y": [
          1.174330547248418,
          2.876280291657467e-16
         ],
         "z": [
          10.19900017271442,
          10.513661094496833
         ]
        },
        {
         "line": {
          "color": "gray",
          "width": 3
         },
         "mode": "lines",
         "showlegend": false,
         "type": "scatter3d",
         "x": [
          6.745000000000001,
          6.035
         ],
         "y": [
          1.174330547248417,
          -5.752560583314934e-16
         ],
         "z": [
          6.130999827285576,
          5.816338905503165
         ]
        },
        {
         "line": {
          "color": "gray",
          "width": 3
         },
         "mode": "lines",
         "showlegend": false,
         "type": "scatter3d",
         "x": [
          6.744999999999999,
          6.035
         ],
         "y": [
          -1.1743305472484182,
          -5.752560583314934e-16
         ],
         "z": [
          6.130999827285578,
          5.816338905503165
         ]
        },
        {
         "line": {
          "color": "gray",
          "width": 3
         },
         "mode": "lines",
         "showlegend": false,
         "type": "scatter3d",
         "x": [
          -6.744999999999999,
          -8.165
         ],
         "y": [
          -2.0340001727144217,
          -2.0340001727144217
         ],
         "z": [
          9.339330547248418,
          9.339330547248418
         ]
        },
        {
         "line": {
          "color": "gray",
          "width": 3
         },
         "mode": "lines",
         "showlegend": false,
         "type": "scatter3d",
         "x": [
          -8.165,
          -6.744999999999999
         ],
         "y": [
          0,
          -5.752560583314934e-16
         ],
         "z": [
          5.816338905503165,
          5.816338905503165
         ]
        },
        {
         "line": {
          "color": "gray",
          "width": 3
         },
         "mode": "lines",
         "showlegend": false,
         "type": "scatter3d",
         "x": [
          -0.3550000000000006,
          -1.7750000000000006
         ],
         "y": [
          1.174330547248418,
          1.174330547248418
         ],
         "z": [
          10.19900017271442,
          10.19900017271442
         ]
        },
        {
         "line": {
          "color": "gray",
          "width": 3
         },
         "mode": "lines",
         "showlegend": false,
         "type": "scatter3d",
         "x": [
          -0.3550000000000006,
          -1.7750000000000006
         ],
         "y": [
          1.174330547248418,
          1.174330547248418
         ],
         "z": [
          10.19900017271442,
          10.19900017271442
         ]
        },
        {
         "line": {
          "color": "gray",
          "width": 3
         },
         "mode": "lines",
         "showlegend": false,
         "type": "scatter3d",
         "x": [
          -0.3549999999999988,
          -1.7750000000000006
         ],
         "y": [
          -1.1743305472484165,
          -1.1743305472484165
         ],
         "z": [
          10.199000172714422,
          10.199000172714422
         ]
        },
        {
         "line": {
          "color": "gray",
          "width": 3
         },
         "mode": "lines",
         "showlegend": false,
         "type": "scatter3d",
         "x": [
          3.905000000000001,
          4.615
         ],
         "y": [
          -2.3486610944968342,
          -2.0340001727144217
         ],
         "z": [
          8.165,
          9.339330547248418
         ]
        },
        {
         "line": {
          "color": "gray",
          "width": 3
         },
         "mode": "lines",
         "showlegend": false,
         "type": "scatter3d",
         "x": [
          -6.744999999999999,
          -8.165
         ],
         "y": [
          2.0340001727144226,
          2.0340001727144226
         ],
         "z": [
          9.339330547248416,
          9.339330547248416
         ]
        },
        {
         "line": {
          "color": "gray",
          "width": 3
         },
         "mode": "lines",
         "showlegend": false,
         "type": "scatter3d",
         "x": [
          3.9049999999999976,
          4.615
         ],
         "y": [
          -1.1743305472484182,
          -2.0340001727144235
         ],
         "z": [
          6.130999827285578,
          6.990669452751583
         ]
        },
        {
         "line": {
          "color": "gray",
          "width": 3
         },
         "mode": "lines",
         "showlegend": false,
         "type": "scatter3d",
         "x": [
          -1.7749999999999988,
          -2.4849999999999994
         ],
         "y": [
          2.3486610944968342,
          2.0340001727144226
         ],
         "z": [
          8.165,
          9.339330547248416
         ]
        },
        {
         "line": {
          "color": "gray",
          "width": 3
         },
         "mode": "lines",
         "showlegend": false,
         "type": "scatter3d",
         "x": [
          6.035,
          4.615
         ],
         "y": [
          -2.0340001727144217,
          -2.0340001727144217
         ],
         "z": [
          9.339330547248418,
          9.339330547248418
         ]
        },
        {
         "line": {
          "color": "gray",
          "width": 3
         },
         "mode": "lines",
         "showlegend": false,
         "type": "scatter3d",
         "x": [
          6.035,
          4.615
         ],
         "y": [
          -2.0340001727144217,
          -2.0340001727144217
         ],
         "z": [
          9.339330547248418,
          9.339330547248418
         ]
        },
        {
         "line": {
          "color": "gray",
          "width": 3
         },
         "mode": "lines",
         "showlegend": false,
         "type": "scatter3d",
         "x": [
          -4.615,
          -3.9049999999999994
         ],
         "y": [
          1.174330547248418,
          2.876280291657467e-16
         ],
         "z": [
          10.19900017271442,
          10.513661094496833
         ]
        },
        {
         "line": {
          "color": "gray",
          "width": 3
         },
         "mode": "lines",
         "showlegend": false,
         "type": "scatter3d",
         "x": [
          -1.7749999999999997,
          -2.4849999999999994
         ],
         "y": [
          1.174330547248417,
          2.0340001727144226
         ],
         "z": [
          6.130999827285576,
          6.990669452751582
         ]
        },
        {
         "line": {
          "color": "gray",
          "width": 3
         },
         "mode": "lines",
         "showlegend": false,
         "type": "scatter3d",
         "x": [
          3.905000000000001,
          2.4849999999999994
         ],
         "y": [
          -2.3486610944968342,
          -2.3486610944968342
         ],
         "z": [
          8.165,
          8.165
         ]
        },
        {
         "line": {
          "color": "gray",
          "width": 3
         },
         "mode": "lines",
         "showlegend": false,
         "type": "scatter3d",
         "x": [
          -2.4849999999999994,
          -3.9049999999999994
         ],
         "y": [
          2.0340001727144226,
          2.0340001727144226
         ],
         "z": [
          9.339330547248416,
          9.339330547248416
         ]
        },
        {
         "line": {
          "color": "gray",
          "width": 3
         },
         "mode": "lines",
         "showlegend": false,
         "type": "scatter3d",
         "x": [
          -6.744999999999999,
          -6.034999999999998
         ],
         "y": [
          2.0340001727144226,
          2.3486610944968342
         ],
         "z": [
          6.990669452751582,
          8.165
         ]
        },
        {
         "line": {
          "color": "gray",
          "width": 3
         },
         "mode": "lines",
         "showlegend": false,
         "type": "scatter3d",
         "x": [
          -2.4849999999999994,
          -3.9049999999999994
         ],
         "y": [
          2.0340001727144226,
          2.0340001727144226
         ],
         "z": [
          9.339330547248416,
          9.339330547248416
         ]
        },
        {
         "line": {
          "color": "gray",
          "width": 3
         },
         "mode": "lines",
         "showlegend": false,
         "type": "scatter3d",
         "x": [
          2.4849999999999994,
          1.7750000000000001
         ],
         "y": [
          1.174330547248417,
          2.0340001727144226
         ],
         "z": [
          6.130999827285576,
          6.990669452751582
         ]
        },
        {
         "line": {
          "color": "gray",
          "width": 3
         },
         "mode": "lines",
         "showlegend": false,
         "type": "scatter3d",
         "x": [
          1.7750000000000001,
          2.4849999999999994
         ],
         "y": [
          -2.0340001727144226,
          -1.1743305472484182
         ],
         "z": [
          6.990669452751582,
          6.130999827285578
         ]
        },
        {
         "line": {
          "color": "gray",
          "width": 3
         },
         "mode": "lines",
         "showlegend": false,
         "type": "scatter3d",
         "x": [
          3.905000000000001,
          2.4849999999999994
         ],
         "y": [
          -1.1743305472484165,
          -1.1743305472484165
         ],
         "z": [
          10.199000172714422,
          10.199000172714422
         ]
        },
        {
         "line": {
          "color": "gray",
          "width": 3
         },
         "mode": "lines",
         "showlegend": false,
         "type": "scatter3d",
         "x": [
          2.4849999999999994,
          1.7750000000000001
         ],
         "y": [
          -2.3486610944968342,
          -2.0340001727144226
         ],
         "z": [
          8.165,
          6.990669452751582
         ]
        },
        {
         "line": {
          "color": "gray",
          "width": 3
         },
         "mode": "lines",
         "showlegend": false,
         "type": "scatter3d",
         "x": [
          2.4849999999999994,
          1.7750000000000001
         ],
         "y": [
          -2.3486610944968342,
          -2.0340001727144226
         ],
         "z": [
          8.165,
          6.990669452751582
         ]
        },
        {
         "line": {
          "color": "gray",
          "width": 3
         },
         "mode": "lines",
         "showlegend": false,
         "type": "scatter3d",
         "x": [
          -4.614999999999999,
          -3.9049999999999994
         ],
         "y": [
          1.174330547248417,
          2.0340001727144226
         ],
         "z": [
          6.130999827285576,
          6.990669452751582
         ]
        },
        {
         "line": {
          "color": "gray",
          "width": 3
         },
         "mode": "lines",
         "showlegend": false,
         "type": "scatter3d",
         "x": [
          2.4849999999999994,
          1.7750000000000001
         ],
         "y": [
          -1.1743305472484182,
          -5.752560583314934e-16
         ],
         "z": [
          6.130999827285578,
          5.816338905503165
         ]
        },
        {
         "line": {
          "color": "gray",
          "width": 3
         },
         "mode": "lines",
         "showlegend": false,
         "type": "scatter3d",
         "x": [
          -0.3549999999999997,
          0.35500000000000026
         ],
         "y": [
          2.3486610944968342,
          2.0340001727144226
         ],
         "z": [
          8.165,
          6.990669452751582
         ]
        },
        {
         "line": {
          "color": "gray",
          "width": 3
         },
         "mode": "lines",
         "showlegend": false,
         "type": "scatter3d",
         "x": [
          -6.744999999999999,
          -6.035
         ],
         "y": [
          1.330643078826429e-15,
          -1.1743305472484165
         ],
         "z": [
          10.513661094496833,
          10.199000172714422
         ]
        },
        {
         "line": {
          "color": "gray",
          "width": 3
         },
         "mode": "lines",
         "showlegend": false,
         "type": "scatter3d",
         "x": [
          -4.614999999999999,
          -6.034999999999998
         ],
         "y": [
          2.3486610944968342,
          2.3486610944968342
         ],
         "z": [
          8.165,
          8.165
         ]
        },
        {
         "line": {
          "color": "gray",
          "width": 3
         },
         "mode": "lines",
         "showlegend": false,
         "type": "scatter3d",
         "x": [
          -4.614999999999999,
          -3.9049999999999994
         ],
         "y": [
          2.3486610944968342,
          2.0340001727144226
         ],
         "z": [
          8.165,
          6.990669452751582
         ]
        },
        {
         "line": {
          "color": "gray",
          "width": 3
         },
         "mode": "lines",
         "showlegend": false,
         "type": "scatter3d",
         "x": [
          -6.744999999999999,
          -6.035
         ],
         "y": [
          2.0340001727144226,
          1.174330547248418
         ],
         "z": [
          9.339330547248416,
          10.19900017271442
         ]
        },
        {
         "line": {
          "color": "gray",
          "width": 3
         },
         "mode": "lines",
         "showlegend": false,
         "type": "scatter3d",
         "x": [
          3.9049999999999994,
          4.615
         ],
         "y": [
          1.174330547248418,
          2.876280291657467e-16
         ],
         "z": [
          10.19900017271442,
          10.513661094496833
         ]
        },
        {
         "line": {
          "color": "gray",
          "width": 3
         },
         "mode": "lines",
         "showlegend": false,
         "type": "scatter3d",
         "x": [
          -4.614999999999999,
          -6.034999999999999
         ],
         "y": [
          1.174330547248417,
          1.174330547248417
         ],
         "z": [
          6.130999827285576,
          6.130999827285576
         ]
        },
        {
         "line": {
          "color": "gray",
          "width": 3
         },
         "mode": "lines",
         "showlegend": false,
         "type": "scatter3d",
         "x": [
          -6.034999999999998,
          -6.744999999999999
         ],
         "y": [
          2.3486610944968342,
          2.0340001727144226
         ],
         "z": [
          8.165,
          9.339330547248416
         ]
        },
        {
         "line": {
          "color": "gray",
          "width": 3
         },
         "mode": "lines",
         "showlegend": false,
         "type": "scatter3d",
         "x": [
          -6.034999999999998,
          -6.744999999999999
         ],
         "y": [
          2.3486610944968342,
          2.0340001727144226
         ],
         "z": [
          8.165,
          9.339330547248416
         ]
        },
        {
         "line": {
          "color": "gray",
          "width": 3
         },
         "mode": "lines",
         "showlegend": false,
         "type": "scatter3d",
         "x": [
          -6.035,
          -6.744999999999999
         ],
         "y": [
          1.174330547248418,
          1.330643078826429e-15
         ],
         "z": [
          10.19900017271442,
          10.513661094496833
         ]
        },
        {
         "line": {
          "color": "gray",
          "width": 3
         },
         "mode": "lines",
         "showlegend": false,
         "type": "scatter3d",
         "x": [
          -4.614999999999998,
          -3.9049999999999994
         ],
         "y": [
          -2.3486610944968342,
          -2.0340001727144235
         ],
         "z": [
          8.165,
          6.990669452751583
         ]
        },
        {
         "line": {
          "color": "gray",
          "width": 3
         },
         "mode": "lines",
         "showlegend": false,
         "type": "scatter3d",
         "x": [
          -4.614999999999998,
          -3.9049999999999994
         ],
         "y": [
          -2.3486610944968342,
          -2.0340001727144235
         ],
         "z": [
          8.165,
          6.990669452751583
         ]
        },
        {
         "line": {
          "color": "gray",
          "width": 3
         },
         "mode": "lines",
         "showlegend": false,
         "type": "scatter3d",
         "x": [
          -2.4849999999999994,
          -1.7750000000000006
         ],
         "y": [
          -2.0340001727144226,
          -1.1743305472484182
         ],
         "z": [
          6.990669452751582,
          6.130999827285578
         ]
        },
        {
         "line": {
          "color": "gray",
          "width": 3
         },
         "mode": "lines",
         "showlegend": false,
         "type": "scatter3d",
         "x": [
          -0.3549999999999997,
          -1.7749999999999997
         ],
         "y": [
          1.174330547248417,
          1.174330547248417
         ],
         "z": [
          6.130999827285576,
          6.130999827285576
         ]
        },
        {
         "line": {
          "color": "gray",
          "width": 3
         },
         "mode": "lines",
         "showlegend": false,
         "type": "scatter3d",
         "x": [
          -0.3549999999999997,
          0.35500000000000026
         ],
         "y": [
          1.174330547248417,
          0
         ],
         "z": [
          6.130999827285576,
          5.816338905503165
         ]
        },
        {
         "line": {
          "color": "gray",
          "width": 3
         },
         "mode": "lines",
         "showlegend": false,
         "type": "scatter3d",
         "x": [
          -2.4849999999999994,
          -1.7750000000000006
         ],
         "y": [
          2.0340001727144226,
          1.174330547248418
         ],
         "z": [
          9.339330547248416,
          10.19900017271442
         ]
        },
        {
         "line": {
          "color": "gray",
          "width": 3
         },
         "mode": "lines",
         "showlegend": false,
         "type": "scatter3d",
         "x": [
          -4.615000000000001,
          -3.9049999999999994
         ],
         "y": [
          -1.1743305472484182,
          -2.0340001727144235
         ],
         "z": [
          6.130999827285578,
          6.990669452751583
         ]
        },
        {
         "line": {
          "color": "gray",
          "width": 3
         },
         "mode": "lines",
         "showlegend": false,
         "type": "scatter3d",
         "x": [
          -0.3549999999999988,
          0.35500000000000026
         ],
         "y": [
          -2.3486610944968342,
          -2.0340001727144217
         ],
         "z": [
          8.165,
          9.339330547248418
         ]
        },
        {
         "line": {
          "color": "gray",
          "width": 3
         },
         "mode": "lines",
         "showlegend": false,
         "type": "scatter3d",
         "x": [
          -0.3549999999999988,
          0.35500000000000026
         ],
         "y": [
          -2.3486610944968342,
          -2.0340001727144217
         ],
         "z": [
          8.165,
          9.339330547248418
         ]
        },
        {
         "line": {
          "color": "gray",
          "width": 3
         },
         "mode": "lines",
         "showlegend": false,
         "type": "scatter3d",
         "x": [
          -0.3549999999999988,
          0.35500000000000026
         ],
         "y": [
          -1.1743305472484165,
          2.876280291657467e-16
         ],
         "z": [
          10.199000172714422,
          10.513661094496833
         ]
        },
        {
         "line": {
          "color": "gray",
          "width": 3
         },
         "mode": "lines",
         "showlegend": false,
         "type": "scatter3d",
         "x": [
          -0.3550000000000015,
          0.35500000000000026
         ],
         "y": [
          -1.1743305472484182,
          -2.0340001727144235
         ],
         "z": [
          6.130999827285578,
          6.990669452751583
         ]
        },
        {
         "line": {
          "color": "gray",
          "width": 3
         },
         "mode": "lines",
         "showlegend": false,
         "type": "scatter3d",
         "x": [
          -6.744999999999999,
          -6.035
         ],
         "y": [
          -2.0340001727144226,
          -1.1743305472484182
         ],
         "z": [
          6.990669452751582,
          6.130999827285578
         ]
        },
        {
         "line": {
          "color": "gray",
          "width": 3
         },
         "mode": "lines",
         "showlegend": false,
         "type": "scatter3d",
         "x": [
          -6.744999999999999,
          -6.035
         ],
         "y": [
          -2.0340001727144226,
          -1.1743305472484182
         ],
         "z": [
          6.990669452751582,
          6.130999827285578
         ]
        },
        {
         "line": {
          "color": "gray",
          "width": 3
         },
         "mode": "lines",
         "showlegend": false,
         "type": "scatter3d",
         "x": [
          3.9049999999999994,
          2.4849999999999994
         ],
         "y": [
          1.174330547248418,
          1.174330547248418
         ],
         "z": [
          10.19900017271442,
          10.19900017271442
         ]
        },
        {
         "line": {
          "color": "gray",
          "width": 3
         },
         "mode": "lines",
         "showlegend": false,
         "type": "scatter3d",
         "x": [
          -6.034999999999999,
          -6.744999999999999
         ],
         "y": [
          1.174330547248417,
          2.0340001727144226
         ],
         "z": [
          6.130999827285576,
          6.990669452751582
         ]
        },
        {
         "line": {
          "color": "gray",
          "width": 3
         },
         "mode": "lines",
         "showlegend": false,
         "type": "scatter3d",
         "x": [
          -4.614999999999998,
          -6.035
         ],
         "y": [
          -2.3486610944968342,
          -2.3486610944968342
         ],
         "z": [
          8.165,
          8.165
         ]
        },
        {
         "line": {
          "color": "gray",
          "width": 3
         },
         "mode": "lines",
         "showlegend": false,
         "type": "scatter3d",
         "x": [
          -8.165,
          -6.744999999999999
         ],
         "y": [
          0,
          -5.752560583314934e-16
         ],
         "z": [
          5.816338905503165,
          5.816338905503165
         ]
        },
        {
         "line": {
          "color": "gray",
          "width": 3
         },
         "mode": "lines",
         "showlegend": false,
         "type": "scatter3d",
         "x": [
          6.744999999999999,
          6.035
         ],
         "y": [
          -1.1743305472484165,
          -2.0340001727144217
         ],
         "z": [
          10.199000172714422,
          9.339330547248418
         ]
        },
        {
         "line": {
          "color": "gray",
          "width": 3
         },
         "mode": "lines",
         "showlegend": false,
         "type": "scatter3d",
         "x": [
          1.7750000000000001,
          0.35500000000000026
         ],
         "y": [
          2.0340001727144226,
          2.0340001727144226
         ],
         "z": [
          6.990669452751582,
          6.990669452751582
         ]
        },
        {
         "line": {
          "color": "gray",
          "width": 3
         },
         "mode": "lines",
         "showlegend": false,
         "type": "scatter3d",
         "x": [
          1.7750000000000001,
          0.35500000000000026
         ],
         "y": [
          -2.0340001727144226,
          -2.0340001727144235
         ],
         "z": [
          6.990669452751582,
          6.990669452751583
         ]
        },
        {
         "line": {
          "color": "gray",
          "width": 3
         },
         "mode": "lines",
         "showlegend": false,
         "type": "scatter3d",
         "x": [
          -6.744999999999999,
          -8.165
         ],
         "y": [
          -2.0340001727144226,
          -2.0340001727144235
         ],
         "z": [
          6.990669452751582,
          6.990669452751583
         ]
        },
        {
         "line": {
          "color": "gray",
          "width": 3
         },
         "mode": "lines",
         "showlegend": false,
         "type": "scatter3d",
         "x": [
          6.745000000000001,
          6.035
         ],
         "y": [
          1.174330547248417,
          -5.752560583314934e-16
         ],
         "z": [
          6.130999827285576,
          5.816338905503165
         ]
        },
        {
         "line": {
          "color": "gray",
          "width": 3
         },
         "mode": "lines",
         "showlegend": false,
         "type": "scatter3d",
         "x": [
          6.745000000000001,
          6.035
         ],
         "y": [
          1.174330547248417,
          -5.752560583314934e-16
         ],
         "z": [
          6.130999827285576,
          5.816338905503165
         ]
        },
        {
         "line": {
          "color": "gray",
          "width": 3
         },
         "mode": "lines",
         "showlegend": false,
         "type": "scatter3d",
         "x": [
          -6.034999999999999,
          -6.744999999999999
         ],
         "y": [
          1.174330547248417,
          -5.752560583314934e-16
         ],
         "z": [
          6.130999827285576,
          5.816338905503165
         ]
        },
        {
         "line": {
          "color": "gray",
          "width": 3
         },
         "mode": "lines",
         "showlegend": false,
         "type": "scatter3d",
         "x": [
          -0.3549999999999988,
          -1.7750000000000006
         ],
         "y": [
          -1.1743305472484165,
          -1.1743305472484165
         ],
         "z": [
          10.199000172714422,
          10.199000172714422
         ]
        },
        {
         "line": {
          "color": "gray",
          "width": 3
         },
         "mode": "lines",
         "showlegend": false,
         "type": "scatter3d",
         "x": [
          -0.3549999999999988,
          -1.7750000000000006
         ],
         "y": [
          -1.1743305472484165,
          -1.1743305472484165
         ],
         "z": [
          10.199000172714422,
          10.199000172714422
         ]
        },
        {
         "line": {
          "color": "gray",
          "width": 3
         },
         "mode": "lines",
         "showlegend": false,
         "type": "scatter3d",
         "x": [
          0.35500000000000026,
          1.7750000000000001
         ],
         "y": [
          0,
          -5.752560583314934e-16
         ],
         "z": [
          5.816338905503165,
          5.816338905503165
         ]
        },
        {
         "line": {
          "color": "gray",
          "width": 3
         },
         "mode": "lines",
         "showlegend": false,
         "type": "scatter3d",
         "x": [
          0.35500000000000026,
          1.7750000000000001
         ],
         "y": [
          0,
          -5.752560583314934e-16
         ],
         "z": [
          5.816338905503165,
          5.816338905503165
         ]
        },
        {
         "line": {
          "color": "gray",
          "width": 3
         },
         "mode": "lines",
         "showlegend": false,
         "type": "scatter3d",
         "x": [
          -1.7750000000000006,
          -2.4849999999999994
         ],
         "y": [
          -1.1743305472484182,
          -5.752560583314934e-16
         ],
         "z": [
          6.130999827285578,
          5.816338905503165
         ]
        },
        {
         "line": {
          "color": "gray",
          "width": 3
         },
         "mode": "lines",
         "showlegend": false,
         "type": "scatter3d",
         "x": [
          3.905000000000001,
          4.615
         ],
         "y": [
          1.174330547248417,
          2.0340001727144226
         ],
         "z": [
          6.130999827285576,
          6.990669452751582
         ]
        },
        {
         "line": {
          "color": "gray",
          "width": 3
         },
         "mode": "lines",
         "showlegend": false,
         "type": "scatter3d",
         "x": [
          -0.3550000000000006,
          0.35500000000000026
         ],
         "y": [
          1.174330547248418,
          2.0340001727144226
         ],
         "z": [
          10.19900017271442,
          9.339330547248416
         ]
        },
        {
         "line": {
          "color": "gray",
          "width": 3
         },
         "mode": "lines",
         "showlegend": false,
         "type": "scatter3d",
         "x": [
          -0.3550000000000006,
          0.35500000000000026
         ],
         "y": [
          1.174330547248418,
          2.0340001727144226
         ],
         "z": [
          10.19900017271442,
          9.339330547248416
         ]
        },
        {
         "line": {
          "color": "gray",
          "width": 3
         },
         "mode": "lines",
         "showlegend": false,
         "type": "scatter3d",
         "x": [
          -0.3550000000000015,
          0.35500000000000026
         ],
         "y": [
          -1.1743305472484182,
          0
         ],
         "z": [
          6.130999827285578,
          5.816338905503165
         ]
        },
        {
         "line": {
          "color": "gray",
          "width": 3
         },
         "mode": "lines",
         "showlegend": false,
         "type": "scatter3d",
         "x": [
          2.4849999999999994,
          1.7750000000000001
         ],
         "y": [
          1.174330547248417,
          -5.752560583314934e-16
         ],
         "z": [
          6.130999827285576,
          5.816338905503165
         ]
        },
        {
         "line": {
          "color": "gray",
          "width": 3
         },
         "mode": "lines",
         "showlegend": false,
         "type": "scatter3d",
         "x": [
          -2.4849999999999994,
          -1.7750000000000006
         ],
         "y": [
          -2.0340001727144217,
          -2.3486610944968342
         ],
         "z": [
          9.339330547248418,
          8.165
         ]
        },
        {
         "line": {
          "color": "gray",
          "width": 3
         },
         "mode": "lines",
         "showlegend": false,
         "type": "scatter3d",
         "x": [
          -1.7749999999999997,
          -2.4849999999999994
         ],
         "y": [
          1.174330547248417,
          2.0340001727144226
         ],
         "z": [
          6.130999827285576,
          6.990669452751582
         ]
        },
        {
         "line": {
          "color": "gray",
          "width": 3
         },
         "mode": "lines",
         "showlegend": false,
         "type": "scatter3d",
         "x": [
          6.744999999999999,
          6.035
         ],
         "y": [
          -2.3486610944968342,
          -2.0340001727144226
         ],
         "z": [
          8.165,
          6.990669452751582
         ]
        },
        {
         "line": {
          "color": "gray",
          "width": 3
         },
         "mode": "lines",
         "showlegend": false,
         "type": "scatter3d",
         "x": [
          6.035,
          6.744999999999999
         ],
         "y": [
          -2.0340001727144226,
          -1.1743305472484182
         ],
         "z": [
          6.990669452751582,
          6.130999827285578
         ]
        },
        {
         "line": {
          "color": "gray",
          "width": 3
         },
         "mode": "lines",
         "showlegend": false,
         "type": "scatter3d",
         "x": [
          -6.744999999999999,
          -8.165
         ],
         "y": [
          1.330643078826429e-15,
          2.876280291657467e-16
         ],
         "z": [
          10.513661094496833,
          10.513661094496833
         ]
        },
        {
         "line": {
          "color": "gray",
          "width": 3
         },
         "mode": "lines",
         "showlegend": false,
         "type": "scatter3d",
         "x": [
          -6.744999999999999,
          -8.165
         ],
         "y": [
          2.0340001727144226,
          2.0340001727144226
         ],
         "z": [
          6.990669452751582,
          6.990669452751582
         ]
        },
        {
         "line": {
          "color": "gray",
          "width": 3
         },
         "mode": "lines",
         "showlegend": false,
         "type": "scatter3d",
         "x": [
          1.7750000000000001,
          2.4849999999999994
         ],
         "y": [
          1.330643078826429e-15,
          -1.1743305472484165
         ],
         "z": [
          10.513661094496833,
          10.199000172714422
         ]
        },
        {
         "line": {
          "color": "gray",
          "width": 3
         },
         "mode": "lines",
         "showlegend": false,
         "type": "scatter3d",
         "x": [
          -0.3549999999999988,
          0.35500000000000026
         ],
         "y": [
          -2.3486610944968342,
          -2.0340001727144235
         ],
         "z": [
          8.165,
          6.990669452751583
         ]
        },
        {
         "line": {
          "color": "gray",
          "width": 3
         },
         "mode": "lines",
         "showlegend": false,
         "type": "scatter3d",
         "x": [
          -1.7749999999999988,
          -2.4849999999999994
         ],
         "y": [
          2.3486610944968342,
          2.0340001727144226
         ],
         "z": [
          8.165,
          9.339330547248416
         ]
        },
        {
         "line": {
          "color": "gray",
          "width": 3
         },
         "mode": "lines",
         "showlegend": false,
         "type": "scatter3d",
         "x": [
          6.035,
          6.744999999999999
         ],
         "y": [
          2.0340001727144226,
          1.174330547248418
         ],
         "z": [
          9.339330547248416,
          10.19900017271442
         ]
        },
        {
         "line": {
          "color": "gray",
          "width": 3
         },
         "mode": "lines",
         "showlegend": false,
         "type": "scatter3d",
         "x": [
          -1.7750000000000006,
          -2.4849999999999994
         ],
         "y": [
          -1.1743305472484165,
          -2.0340001727144217
         ],
         "z": [
          10.199000172714422,
          9.339330547248418
         ]
        },
        {
         "line": {
          "color": "gray",
          "width": 3
         },
         "mode": "lines",
         "showlegend": false,
         "type": "scatter3d",
         "x": [
          -4.614999999999999,
          -3.9049999999999994
         ],
         "y": [
          1.174330547248417,
          0
         ],
         "z": [
          6.130999827285576,
          5.816338905503165
         ]
        },
        {
         "line": {
          "color": "gray",
          "width": 3
         },
         "mode": "lines",
         "showlegend": false,
         "type": "scatter3d",
         "x": [
          2.4849999999999994,
          1.7750000000000001
         ],
         "y": [
          1.174330547248418,
          1.330643078826429e-15
         ],
         "z": [
          10.19900017271442,
          10.513661094496833
         ]
        },
        {
         "line": {
          "color": "gray",
          "width": 3
         },
         "mode": "lines",
         "showlegend": false,
         "type": "scatter3d",
         "x": [
          3.905000000000001,
          4.615
         ],
         "y": [
          -1.1743305472484165,
          -2.0340001727144217
         ],
         "z": [
          10.199000172714422,
          9.339330547248418
         ]
        },
        {
         "line": {
          "color": "gray",
          "width": 3
         },
         "mode": "lines",
         "showlegend": false,
         "type": "scatter3d",
         "x": [
          -0.3549999999999988,
          0.35500000000000026
         ],
         "y": [
          -1.1743305472484165,
          -2.0340001727144217
         ],
         "z": [
          10.199000172714422,
          9.339330547248418
         ]
        },
        {
         "line": {
          "color": "gray",
          "width": 3
         },
         "mode": "lines",
         "showlegend": false,
         "type": "scatter3d",
         "x": [
          6.744999999999999,
          6.035
         ],
         "y": [
          1.174330547248418,
          1.330643078826429e-15
         ],
         "z": [
          10.19900017271442,
          10.513661094496833
         ]
        },
        {
         "line": {
          "color": "gray",
          "width": 3
         },
         "mode": "lines",
         "showlegend": false,
         "type": "scatter3d",
         "x": [
          0.35500000000000026,
          1.7750000000000001
         ],
         "y": [
          0,
          -5.752560583314934e-16
         ],
         "z": [
          5.816338905503165,
          5.816338905503165
         ]
        },
        {
         "line": {
          "color": "gray",
          "width": 3
         },
         "mode": "lines",
         "showlegend": false,
         "type": "scatter3d",
         "x": [
          -2.4849999999999994,
          -1.7750000000000006
         ],
         "y": [
          -2.0340001727144226,
          -1.1743305472484182
         ],
         "z": [
          6.990669452751582,
          6.130999827285578
         ]
        },
        {
         "line": {
          "color": "gray",
          "width": 3
         },
         "mode": "lines",
         "showlegend": false,
         "type": "scatter3d",
         "x": [
          -4.614999999999999,
          -3.9049999999999994
         ],
         "y": [
          2.3486610944968342,
          2.0340001727144226
         ],
         "z": [
          8.165,
          9.339330547248416
         ]
        },
        {
         "line": {
          "color": "gray",
          "width": 3
         },
         "mode": "lines",
         "showlegend": false,
         "type": "scatter3d",
         "x": [
          -0.3550000000000006,
          0.35500000000000026
         ],
         "y": [
          1.174330547248418,
          2.0340001727144226
         ],
         "z": [
          10.19900017271442,
          9.339330547248416
         ]
        },
        {
         "line": {
          "color": "gray",
          "width": 3
         },
         "mode": "lines",
         "showlegend": false,
         "type": "scatter3d",
         "x": [
          3.9049999999999994,
          2.4849999999999994
         ],
         "y": [
          1.174330547248418,
          1.174330547248418
         ],
         "z": [
          10.19900017271442,
          10.19900017271442
         ]
        },
        {
         "line": {
          "color": "gray",
          "width": 3
         },
         "mode": "lines",
         "showlegend": false,
         "type": "scatter3d",
         "x": [
          -4.614999999999998,
          -6.035
         ],
         "y": [
          -2.3486610944968342,
          -2.3486610944968342
         ],
         "z": [
          8.165,
          8.165
         ]
        },
        {
         "line": {
          "color": "gray",
          "width": 3
         },
         "mode": "lines",
         "showlegend": false,
         "type": "scatter3d",
         "x": [
          -6.035,
          -6.744999999999999
         ],
         "y": [
          -1.1743305472484182,
          -5.752560583314934e-16
         ],
         "z": [
          6.130999827285578,
          5.816338905503165
         ]
        },
        {
         "line": {
          "color": "gray",
          "width": 3
         },
         "mode": "lines",
         "showlegend": false,
         "type": "scatter3d",
         "x": [
          -6.744999999999999,
          -6.035
         ],
         "y": [
          1.330643078826429e-15,
          -1.1743305472484165
         ],
         "z": [
          10.513661094496833,
          10.199000172714422
         ]
        },
        {
         "line": {
          "color": "gray",
          "width": 3
         },
         "mode": "lines",
         "showlegend": false,
         "type": "scatter3d",
         "x": [
          -4.615000000000001,
          -3.9049999999999994
         ],
         "y": [
          -1.1743305472484182,
          -2.0340001727144235
         ],
         "z": [
          6.130999827285578,
          6.990669452751583
         ]
        },
        {
         "line": {
          "color": "gray",
          "width": 3
         },
         "mode": "lines",
         "showlegend": false,
         "type": "scatter3d",
         "x": [
          -0.3550000000000006,
          0.35500000000000026
         ],
         "y": [
          1.174330547248418,
          2.876280291657467e-16
         ],
         "z": [
          10.19900017271442,
          10.513661094496833
         ]
        },
        {
         "line": {
          "color": "gray",
          "width": 3
         },
         "mode": "lines",
         "showlegend": false,
         "type": "scatter3d",
         "x": [
          1.7750000000000001,
          2.4849999999999994
         ],
         "y": [
          2.0340001727144226,
          1.174330547248418
         ],
         "z": [
          9.339330547248416,
          10.19900017271442
         ]
        },
        {
         "line": {
          "color": "gray",
          "width": 3
         },
         "mode": "lines",
         "showlegend": false,
         "type": "scatter3d",
         "x": [
          -4.614999999999999,
          -3.9049999999999994
         ],
         "y": [
          2.3486610944968342,
          2.0340001727144226
         ],
         "z": [
          8.165,
          6.990669452751582
         ]
        },
        {
         "line": {
          "color": "gray",
          "width": 3
         },
         "mode": "lines",
         "showlegend": false,
         "type": "scatter3d",
         "x": [
          3.905000000000001,
          4.615
         ],
         "y": [
          -1.1743305472484165,
          2.876280291657467e-16
         ],
         "z": [
          10.199000172714422,
          10.513661094496833
         ]
        },
        {
         "line": {
          "color": "gray",
          "width": 3
         },
         "mode": "lines",
         "showlegend": false,
         "type": "scatter3d",
         "x": [
          -4.614999999999998,
          -6.035
         ],
         "y": [
          -1.1743305472484165,
          -1.1743305472484165
         ],
         "z": [
          10.199000172714422,
          10.199000172714422
         ]
        },
        {
         "line": {
          "color": "gray",
          "width": 3
         },
         "mode": "lines",
         "showlegend": false,
         "type": "scatter3d",
         "x": [
          -0.3549999999999997,
          0.35500000000000026
         ],
         "y": [
          1.174330547248417,
          2.0340001727144226
         ],
         "z": [
          6.130999827285576,
          6.990669452751582
         ]
        },
        {
         "line": {
          "color": "gray",
          "width": 3
         },
         "mode": "lines",
         "showlegend": false,
         "type": "scatter3d",
         "x": [
          1.7750000000000001,
          0.35500000000000026
         ],
         "y": [
          2.0340001727144226,
          2.0340001727144226
         ],
         "z": [
          6.990669452751582,
          6.990669452751582
         ]
        },
        {
         "line": {
          "color": "gray",
          "width": 3
         },
         "mode": "lines",
         "showlegend": false,
         "type": "scatter3d",
         "x": [
          -1.7750000000000006,
          -2.4849999999999994
         ],
         "y": [
          -2.3486610944968342,
          -2.0340001727144226
         ],
         "z": [
          8.165,
          6.990669452751582
         ]
        },
        {
         "line": {
          "color": "gray",
          "width": 3
         },
         "mode": "lines",
         "showlegend": false,
         "type": "scatter3d",
         "x": [
          -2.4849999999999994,
          -1.7750000000000006
         ],
         "y": [
          1.330643078826429e-15,
          -1.1743305472484165
         ],
         "z": [
          10.513661094496833,
          10.199000172714422
         ]
        },
        {
         "line": {
          "color": "gray",
          "width": 3
         },
         "mode": "lines",
         "showlegend": false,
         "type": "scatter3d",
         "x": [
          -0.3549999999999997,
          0.35500000000000026
         ],
         "y": [
          1.174330547248417,
          0
         ],
         "z": [
          6.130999827285576,
          5.816338905503165
         ]
        },
        {
         "line": {
          "color": "gray",
          "width": 3
         },
         "mode": "lines",
         "showlegend": false,
         "type": "scatter3d",
         "x": [
          -6.035,
          -6.744999999999999
         ],
         "y": [
          -1.1743305472484165,
          -2.0340001727144217
         ],
         "z": [
          10.199000172714422,
          9.339330547248418
         ]
        },
        {
         "line": {
          "color": "gray",
          "width": 3
         },
         "mode": "lines",
         "showlegend": false,
         "type": "scatter3d",
         "x": [
          3.905000000000001,
          2.4849999999999994
         ],
         "y": [
          -2.3486610944968342,
          -2.3486610944968342
         ],
         "z": [
          8.165,
          8.165
         ]
        },
        {
         "line": {
          "color": "gray",
          "width": 3
         },
         "mode": "lines",
         "showlegend": false,
         "type": "scatter3d",
         "x": [
          3.905000000000001,
          2.4849999999999994
         ],
         "y": [
          -2.3486610944968342,
          -2.3486610944968342
         ],
         "z": [
          8.165,
          8.165
         ]
        },
        {
         "line": {
          "color": "gray",
          "width": 3
         },
         "mode": "lines",
         "showlegend": false,
         "type": "scatter3d",
         "x": [
          3.9049999999999976,
          2.4849999999999994
         ],
         "y": [
          -1.1743305472484182,
          -1.1743305472484182
         ],
         "z": [
          6.130999827285578,
          6.130999827285578
         ]
        },
        {
         "line": {
          "color": "gray",
          "width": 3
         },
         "mode": "lines",
         "showlegend": false,
         "type": "scatter3d",
         "x": [
          2.4849999999999994,
          1.7750000000000001
         ],
         "y": [
          1.174330547248417,
          2.0340001727144226
         ],
         "z": [
          6.130999827285576,
          6.990669452751582
         ]
        },
        {
         "line": {
          "color": "gray",
          "width": 3
         },
         "mode": "lines",
         "showlegend": false,
         "type": "scatter3d",
         "x": [
          2.4849999999999994,
          1.7750000000000001
         ],
         "y": [
          1.174330547248417,
          2.0340001727144226
         ],
         "z": [
          6.130999827285576,
          6.990669452751582
         ]
        },
        {
         "line": {
          "color": "gray",
          "width": 3
         },
         "mode": "lines",
         "showlegend": false,
         "type": "scatter3d",
         "x": [
          -6.034999999999999,
          -6.744999999999999
         ],
         "y": [
          1.174330547248417,
          2.0340001727144226
         ],
         "z": [
          6.130999827285576,
          6.990669452751582
         ]
        },
        {
         "line": {
          "color": "gray",
          "width": 3
         },
         "mode": "lines",
         "showlegend": false,
         "type": "scatter3d",
         "x": [
          -6.034999999999999,
          -6.744999999999999
         ],
         "y": [
          1.174330547248417,
          2.0340001727144226
         ],
         "z": [
          6.130999827285576,
          6.990669452751582
         ]
        },
        {
         "line": {
          "color": "gray",
          "width": 3
         },
         "mode": "lines",
         "showlegend": false,
         "type": "scatter3d",
         "x": [
          -4.615000000000001,
          -6.035
         ],
         "y": [
          -1.1743305472484182,
          -1.1743305472484182
         ],
         "z": [
          6.130999827285578,
          6.130999827285578
         ]
        },
        {
         "line": {
          "color": "gray",
          "width": 3
         },
         "mode": "lines",
         "showlegend": false,
         "type": "scatter3d",
         "x": [
          1.7750000000000001,
          0.35500000000000026
         ],
         "y": [
          -2.0340001727144226,
          -2.0340001727144235
         ],
         "z": [
          6.990669452751582,
          6.990669452751583
         ]
        },
        {
         "line": {
          "color": "gray",
          "width": 3
         },
         "mode": "lines",
         "showlegend": false,
         "type": "scatter3d",
         "x": [
          1.7750000000000001,
          2.4849999999999994
         ],
         "y": [
          -2.0340001727144226,
          -1.1743305472484182
         ],
         "z": [
          6.990669452751582,
          6.130999827285578
         ]
        },
        {
         "line": {
          "color": "gray",
          "width": 3
         },
         "mode": "lines",
         "showlegend": false,
         "type": "scatter3d",
         "x": [
          3.905000000000001,
          4.615
         ],
         "y": [
          1.174330547248417,
          0
         ],
         "z": [
          6.130999827285576,
          5.816338905503165
         ]
        },
        {
         "line": {
          "color": "gray",
          "width": 3
         },
         "mode": "lines",
         "showlegend": false,
         "type": "scatter3d",
         "x": [
          1.7750000000000001,
          2.4849999999999994
         ],
         "y": [
          -2.0340001727144226,
          -1.1743305472484182
         ],
         "z": [
          6.990669452751582,
          6.130999827285578
         ]
        },
        {
         "line": {
          "color": "gray",
          "width": 3
         },
         "mode": "lines",
         "showlegend": false,
         "type": "scatter3d",
         "x": [
          -4.614999999999998,
          -3.9049999999999994
         ],
         "y": [
          -2.3486610944968342,
          -2.0340001727144217
         ],
         "z": [
          8.165,
          9.339330547248418
         ]
        },
        {
         "line": {
          "color": "gray",
          "width": 3
         },
         "mode": "lines",
         "showlegend": false,
         "type": "scatter3d",
         "x": [
          6.744999999999999,
          6.035
         ],
         "y": [
          -1.1743305472484165,
          -2.0340001727144217
         ],
         "z": [
          10.199000172714422,
          9.339330547248418
         ]
        },
        {
         "line": {
          "color": "gray",
          "width": 3
         },
         "mode": "lines",
         "showlegend": false,
         "type": "scatter3d",
         "x": [
          -0.3549999999999988,
          0.35500000000000026
         ],
         "y": [
          -1.1743305472484165,
          2.876280291657467e-16
         ],
         "z": [
          10.199000172714422,
          10.513661094496833
         ]
        },
        {
         "line": {
          "color": "gray",
          "width": 3
         },
         "mode": "lines",
         "showlegend": false,
         "type": "scatter3d",
         "x": [
          -6.034999999999999,
          -6.744999999999999
         ],
         "y": [
          1.174330547248417,
          -5.752560583314934e-16
         ],
         "z": [
          6.130999827285576,
          5.816338905503165
         ]
        },
        {
         "line": {
          "color": "gray",
          "width": 3
         },
         "mode": "lines",
         "showlegend": false,
         "type": "scatter3d",
         "x": [
          -4.615000000000001,
          -3.9049999999999994
         ],
         "y": [
          -1.1743305472484182,
          0
         ],
         "z": [
          6.130999827285578,
          5.816338905503165
         ]
        },
        {
         "line": {
          "color": "gray",
          "width": 3
         },
         "mode": "lines",
         "showlegend": false,
         "type": "scatter3d",
         "x": [
          6.744999999999999,
          6.035
         ],
         "y": [
          -1.1743305472484182,
          -5.752560583314934e-16
         ],
         "z": [
          6.130999827285578,
          5.816338905503165
         ]
        },
        {
         "line": {
          "color": "gray",
          "width": 3
         },
         "mode": "lines",
         "showlegend": false,
         "type": "scatter3d",
         "x": [
          6.745000000000001,
          6.035
         ],
         "y": [
          2.3486610944968342,
          2.0340001727144226
         ],
         "z": [
          8.165,
          9.339330547248416
         ]
        },
        {
         "line": {
          "color": "gray",
          "width": 3
         },
         "mode": "lines",
         "showlegend": false,
         "type": "scatter3d",
         "x": [
          -6.744999999999999,
          -8.165
         ],
         "y": [
          -2.0340001727144217,
          -2.0340001727144217
         ],
         "z": [
          9.339330547248418,
          9.339330547248418
         ]
        },
        {
         "line": {
          "color": "gray",
          "width": 3
         },
         "mode": "lines",
         "showlegend": false,
         "type": "scatter3d",
         "x": [
          -1.7749999999999997,
          -2.4849999999999994
         ],
         "y": [
          1.174330547248417,
          -5.752560583314934e-16
         ],
         "z": [
          6.130999827285576,
          5.816338905503165
         ]
        },
        {
         "line": {
          "color": "gray",
          "width": 3
         },
         "mode": "lines",
         "showlegend": false,
         "type": "scatter3d",
         "x": [
          -2.4849999999999994,
          -1.7750000000000006
         ],
         "y": [
          -2.0340001727144217,
          -2.3486610944968342
         ],
         "z": [
          9.339330547248418,
          8.165
         ]
        },
        {
         "line": {
          "color": "gray",
          "width": 3
         },
         "mode": "lines",
         "showlegend": false,
         "type": "scatter3d",
         "x": [
          6.035,
          4.615
         ],
         "y": [
          2.0340001727144226,
          2.0340001727144226
         ],
         "z": [
          9.339330547248416,
          9.339330547248416
         ]
        },
        {
         "line": {
          "color": "gray",
          "width": 3
         },
         "mode": "lines",
         "showlegend": false,
         "type": "scatter3d",
         "x": [
          6.035,
          4.615
         ],
         "y": [
          2.0340001727144226,
          2.0340001727144226
         ],
         "z": [
          9.339330547248416,
          9.339330547248416
         ]
        },
        {
         "line": {
          "color": "gray",
          "width": 3
         },
         "mode": "lines",
         "showlegend": false,
         "type": "scatter3d",
         "x": [
          6.035,
          4.615
         ],
         "y": [
          1.330643078826429e-15,
          2.876280291657467e-16
         ],
         "z": [
          10.513661094496833,
          10.513661094496833
         ]
        },
        {
         "line": {
          "color": "gray",
          "width": 3
         },
         "mode": "lines",
         "showlegend": false,
         "type": "scatter3d",
         "x": [
          1.7750000000000001,
          2.4849999999999994
         ],
         "y": [
          1.330643078826429e-15,
          -1.1743305472484165
         ],
         "z": [
          10.513661094496833,
          10.199000172714422
         ]
        },
        {
         "line": {
          "color": "gray",
          "width": 3
         },
         "mode": "lines",
         "showlegend": false,
         "type": "scatter3d",
         "x": [
          8.165,
          6.745000000000001
         ],
         "y": [
          2.3486610944968342,
          2.3486610944968342
         ],
         "z": [
          8.165,
          8.165
         ]
        },
        {
         "line": {
          "color": "gray",
          "width": 3
         },
         "mode": "lines",
         "showlegend": false,
         "type": "scatter3d",
         "x": [
          -6.744999999999999,
          -8.165
         ],
         "y": [
          2.0340001727144226,
          2.0340001727144226
         ],
         "z": [
          9.339330547248416,
          9.339330547248416
         ]
        },
        {
         "line": {
          "color": "gray",
          "width": 3
         },
         "mode": "lines",
         "showlegend": false,
         "type": "scatter3d",
         "x": [
          6.035,
          6.744999999999999
         ],
         "y": [
          -2.0340001727144217,
          -2.3486610944968342
         ],
         "z": [
          9.339330547248418,
          8.165
         ]
        },
        {
         "line": {
          "color": "gray",
          "width": 3
         },
         "mode": "lines",
         "showlegend": false,
         "type": "scatter3d",
         "x": [
          3.905000000000001,
          2.485000000000001
         ],
         "y": [
          2.3486610944968342,
          2.3486610944968342
         ],
         "z": [
          8.165,
          8.165
         ]
        },
        {
         "line": {
          "color": "gray",
          "width": 3
         },
         "mode": "lines",
         "showlegend": false,
         "type": "scatter3d",
         "x": [
          2.4849999999999994,
          1.7750000000000001
         ],
         "y": [
          1.174330547248418,
          1.330643078826429e-15
         ],
         "z": [
          10.19900017271442,
          10.513661094496833
         ]
        },
        {
         "line": {
          "color": "gray",
          "width": 3
         },
         "mode": "lines",
         "showlegend": false,
         "type": "scatter3d",
         "x": [
          -4.614999999999999,
          -3.9049999999999994
         ],
         "y": [
          2.3486610944968342,
          2.0340001727144226
         ],
         "z": [
          8.165,
          6.990669452751582
         ]
        },
        {
         "line": {
          "color": "gray",
          "width": 3
         },
         "mode": "lines",
         "showlegend": false,
         "type": "scatter3d",
         "x": [
          2.4849999999999994,
          1.7750000000000001
         ],
         "y": [
          1.174330547248418,
          1.330643078826429e-15
         ],
         "z": [
          10.19900017271442,
          10.513661094496833
         ]
        },
        {
         "line": {
          "color": "gray",
          "width": 3
         },
         "mode": "lines",
         "showlegend": false,
         "type": "scatter3d",
         "x": [
          2.4849999999999994,
          1.7750000000000001
         ],
         "y": [
          -1.1743305472484165,
          -2.0340001727144217
         ],
         "z": [
          10.199000172714422,
          9.339330547248418
         ]
        },
        {
         "line": {
          "color": "gray",
          "width": 3
         },
         "mode": "lines",
         "showlegend": false,
         "type": "scatter3d",
         "x": [
          6.035,
          6.744999999999999
         ],
         "y": [
          1.330643078826429e-15,
          -1.1743305472484165
         ],
         "z": [
          10.513661094496833,
          10.199000172714422
         ]
        },
        {
         "line": {
          "color": "gray",
          "width": 3
         },
         "mode": "lines",
         "showlegend": false,
         "type": "scatter3d",
         "x": [
          1.7750000000000001,
          2.485000000000001
         ],
         "y": [
          2.0340001727144226,
          2.3486610944968342
         ],
         "z": [
          6.990669452751582,
          8.165
         ]
        },
        {
         "line": {
          "color": "gray",
          "width": 3
         },
         "mode": "lines",
         "showlegend": false,
         "type": "scatter3d",
         "x": [
          -1.7749999999999997,
          -2.4849999999999994
         ],
         "y": [
          1.174330547248417,
          2.0340001727144226
         ],
         "z": [
          6.130999827285576,
          6.990669452751582
         ]
        },
        {
         "line": {
          "color": "gray",
          "width": 3
         },
         "mode": "lines",
         "showlegend": false,
         "type": "scatter3d",
         "x": [
          -6.744999999999999,
          -6.034999999999998
         ],
         "y": [
          2.0340001727144226,
          2.3486610944968342
         ],
         "z": [
          6.990669452751582,
          8.165
         ]
        },
        {
         "line": {
          "color": "gray",
          "width": 3
         },
         "mode": "lines",
         "showlegend": false,
         "type": "scatter3d",
         "x": [
          -4.614999999999998,
          -3.9049999999999994
         ],
         "y": [
          -1.1743305472484165,
          -2.0340001727144217
         ],
         "z": [
          10.199000172714422,
          9.339330547248418
         ]
        },
        {
         "line": {
          "color": "gray",
          "width": 3
         },
         "mode": "lines",
         "showlegend": false,
         "type": "scatter3d",
         "x": [
          -4.614999999999998,
          -6.035
         ],
         "y": [
          -2.3486610944968342,
          -2.3486610944968342
         ],
         "z": [
          8.165,
          8.165
         ]
        },
        {
         "line": {
          "color": "gray",
          "width": 3
         },
         "mode": "lines",
         "showlegend": false,
         "type": "scatter3d",
         "x": [
          -1.7750000000000006,
          -2.4849999999999994
         ],
         "y": [
          1.174330547248418,
          1.330643078826429e-15
         ],
         "z": [
          10.19900017271442,
          10.513661094496833
         ]
        },
        {
         "line": {
          "color": "gray",
          "width": 3
         },
         "mode": "lines",
         "showlegend": false,
         "type": "scatter3d",
         "x": [
          -0.3549999999999988,
          0.35500000000000026
         ],
         "y": [
          -1.1743305472484165,
          -2.0340001727144217
         ],
         "z": [
          10.199000172714422,
          9.339330547248418
         ]
        },
        {
         "line": {
          "color": "gray",
          "width": 3
         },
         "mode": "lines",
         "showlegend": false,
         "type": "scatter3d",
         "x": [
          3.9049999999999994,
          2.4849999999999994
         ],
         "y": [
          1.174330547248418,
          1.174330547248418
         ],
         "z": [
          10.19900017271442,
          10.19900017271442
         ]
        },
        {
         "line": {
          "color": "gray",
          "width": 3
         },
         "mode": "lines",
         "showlegend": false,
         "type": "scatter3d",
         "x": [
          6.744999999999999,
          6.035
         ],
         "y": [
          -2.3486610944968342,
          -2.0340001727144226
         ],
         "z": [
          8.165,
          6.990669452751582
         ]
        },
        {
         "line": {
          "color": "gray",
          "width": 3
         },
         "mode": "lines",
         "showlegend": false,
         "type": "scatter3d",
         "x": [
          6.744999999999999,
          6.035
         ],
         "y": [
          -2.3486610944968342,
          -2.0340001727144226
         ],
         "z": [
          8.165,
          6.990669452751582
         ]
        },
        {
         "line": {
          "color": "gray",
          "width": 3
         },
         "mode": "lines",
         "showlegend": false,
         "type": "scatter3d",
         "x": [
          2.485000000000001,
          1.7750000000000001
         ],
         "y": [
          2.3486610944968342,
          2.0340001727144226
         ],
         "z": [
          8.165,
          9.339330547248416
         ]
        },
        {
         "line": {
          "color": "gray",
          "width": 3
         },
         "mode": "lines",
         "showlegend": false,
         "type": "scatter3d",
         "x": [
          3.905000000000001,
          2.4849999999999994
         ],
         "y": [
          -1.1743305472484165,
          -1.1743305472484165
         ],
         "z": [
          10.199000172714422,
          10.199000172714422
         ]
        },
        {
         "line": {
          "color": "gray",
          "width": 3
         },
         "mode": "lines",
         "showlegend": false,
         "type": "scatter3d",
         "x": [
          4.615,
          6.035
         ],
         "y": [
          0,
          -5.752560583314934e-16
         ],
         "z": [
          5.816338905503165,
          5.816338905503165
         ]
        },
        {
         "line": {
          "color": "gray",
          "width": 3
         },
         "mode": "lines",
         "showlegend": false,
         "type": "scatter3d",
         "x": [
          1.7750000000000001,
          0.35500000000000026
         ],
         "y": [
          2.0340001727144226,
          2.0340001727144226
         ],
         "z": [
          6.990669452751582,
          6.990669452751582
         ]
        },
        {
         "line": {
          "color": "gray",
          "width": 3
         },
         "mode": "lines",
         "showlegend": false,
         "type": "scatter3d",
         "x": [
          -6.744999999999999,
          -6.035
         ],
         "y": [
          -2.0340001727144217,
          -2.3486610944968342
         ],
         "z": [
          9.339330547248418,
          8.165
         ]
        },
        {
         "line": {
          "color": "gray",
          "width": 3
         },
         "mode": "lines",
         "showlegend": false,
         "type": "scatter3d",
         "x": [
          3.9049999999999994,
          4.615
         ],
         "y": [
          1.174330547248418,
          2.0340001727144226
         ],
         "z": [
          10.19900017271442,
          9.339330547248416
         ]
        },
        {
         "line": {
          "color": "gray",
          "width": 3
         },
         "mode": "lines",
         "showlegend": false,
         "type": "scatter3d",
         "x": [
          3.9049999999999976,
          2.4849999999999994
         ],
         "y": [
          -1.1743305472484182,
          -1.1743305472484182
         ],
         "z": [
          6.130999827285578,
          6.130999827285578
         ]
        },
        {
         "line": {
          "color": "gray",
          "width": 3
         },
         "mode": "lines",
         "showlegend": false,
         "type": "scatter3d",
         "x": [
          -4.614999999999999,
          -6.034999999999999
         ],
         "y": [
          1.174330547248417,
          1.174330547248417
         ],
         "z": [
          6.130999827285576,
          6.130999827285576
         ]
        },
        {
         "line": {
          "color": "gray",
          "width": 3
         },
         "mode": "lines",
         "showlegend": false,
         "type": "scatter3d",
         "x": [
          3.9049999999999976,
          2.4849999999999994
         ],
         "y": [
          -1.1743305472484182,
          -1.1743305472484182
         ],
         "z": [
          6.130999827285578,
          6.130999827285578
         ]
        },
        {
         "line": {
          "color": "gray",
          "width": 3
         },
         "mode": "lines",
         "showlegend": false,
         "type": "scatter3d",
         "x": [
          -2.4849999999999994,
          -1.7750000000000006
         ],
         "y": [
          -2.0340001727144226,
          -1.1743305472484182
         ],
         "z": [
          6.990669452751582,
          6.130999827285578
         ]
        },
        {
         "line": {
          "color": "gray",
          "width": 3
         },
         "mode": "lines",
         "showlegend": false,
         "type": "scatter3d",
         "x": [
          -2.4849999999999994,
          -1.7750000000000006
         ],
         "y": [
          -2.0340001727144226,
          -1.1743305472484182
         ],
         "z": [
          6.990669452751582,
          6.130999827285578
         ]
        },
        {
         "line": {
          "color": "gray",
          "width": 3
         },
         "mode": "lines",
         "showlegend": false,
         "type": "scatter3d",
         "x": [
          2.4849999999999994,
          1.7750000000000001
         ],
         "y": [
          1.174330547248417,
          -5.752560583314934e-16
         ],
         "z": [
          6.130999827285576,
          5.816338905503165
         ]
        },
        {
         "line": {
          "color": "gray",
          "width": 3
         },
         "mode": "lines",
         "showlegend": false,
         "type": "scatter3d",
         "x": [
          -0.3550000000000015,
          0.35500000000000026
         ],
         "y": [
          -1.1743305472484182,
          0
         ],
         "z": [
          6.130999827285578,
          5.816338905503165
         ]
        },
        {
         "line": {
          "color": "gray",
          "width": 3
         },
         "mode": "lines",
         "showlegend": false,
         "type": "scatter3d",
         "x": [
          -0.3549999999999988,
          0.35500000000000026
         ],
         "y": [
          -1.1743305472484165,
          2.876280291657467e-16
         ],
         "z": [
          10.199000172714422,
          10.513661094496833
         ]
        },
        {
         "line": {
          "color": "gray",
          "width": 3
         },
         "mode": "lines",
         "showlegend": false,
         "type": "scatter3d",
         "x": [
          -0.3549999999999988,
          0.35500000000000026
         ],
         "y": [
          -1.1743305472484165,
          2.876280291657467e-16
         ],
         "z": [
          10.199000172714422,
          10.513661094496833
         ]
        },
        {
         "line": {
          "color": "gray",
          "width": 3
         },
         "mode": "lines",
         "showlegend": false,
         "type": "scatter3d",
         "x": [
          -2.4849999999999994,
          -3.9049999999999994
         ],
         "y": [
          -2.0340001727144217,
          -2.0340001727144217
         ],
         "z": [
          9.339330547248418,
          9.339330547248418
         ]
        },
        {
         "line": {
          "color": "gray",
          "width": 3
         },
         "mode": "lines",
         "showlegend": false,
         "type": "scatter3d",
         "x": [
          1.7750000000000001,
          2.4849999999999994
         ],
         "y": [
          -2.0340001727144217,
          -2.3486610944968342
         ],
         "z": [
          9.339330547248418,
          8.165
         ]
        },
        {
         "line": {
          "color": "gray",
          "width": 3
         },
         "mode": "lines",
         "showlegend": false,
         "type": "scatter3d",
         "x": [
          1.7750000000000001,
          2.4849999999999994
         ],
         "y": [
          -2.0340001727144217,
          -2.3486610944968342
         ],
         "z": [
          9.339330547248418,
          8.165
         ]
        },
        {
         "line": {
          "color": "gray",
          "width": 3
         },
         "mode": "lines",
         "showlegend": false,
         "type": "scatter3d",
         "x": [
          -0.3549999999999997,
          -1.7749999999999988
         ],
         "y": [
          2.3486610944968342,
          2.3486610944968342
         ],
         "z": [
          8.165,
          8.165
         ]
        },
        {
         "line": {
          "color": "gray",
          "width": 3
         },
         "mode": "lines",
         "showlegend": false,
         "type": "scatter3d",
         "x": [
          -0.3549999999999997,
          -1.7749999999999988
         ],
         "y": [
          2.3486610944968342,
          2.3486610944968342
         ],
         "z": [
          8.165,
          8.165
         ]
        },
        {
         "line": {
          "color": "gray",
          "width": 3
         },
         "mode": "lines",
         "showlegend": false,
         "type": "scatter3d",
         "x": [
          -0.3549999999999988,
          0.35500000000000026
         ],
         "y": [
          -2.3486610944968342,
          -2.0340001727144235
         ],
         "z": [
          8.165,
          6.990669452751583
         ]
        },
        {
         "line": {
          "color": "gray",
          "width": 3
         },
         "mode": "lines",
         "showlegend": false,
         "type": "scatter3d",
         "x": [
          -6.744999999999999,
          -8.165
         ],
         "y": [
          2.0340001727144226,
          2.0340001727144226
         ],
         "z": [
          9.339330547248416,
          9.339330547248416
         ]
        },
        {
         "line": {
          "color": "gray",
          "width": 3
         },
         "mode": "lines",
         "showlegend": false,
         "type": "scatter3d",
         "x": [
          1.7750000000000001,
          0.35500000000000026
         ],
         "y": [
          1.330643078826429e-15,
          2.876280291657467e-16
         ],
         "z": [
          10.513661094496833,
          10.513661094496833
         ]
        },
        {
         "line": {
          "color": "gray",
          "width": 3
         },
         "mode": "lines",
         "showlegend": false,
         "type": "scatter3d",
         "x": [
          -2.4849999999999994,
          -3.9049999999999994
         ],
         "y": [
          2.0340001727144226,
          2.0340001727144226
         ],
         "z": [
          6.990669452751582,
          6.990669452751582
         ]
        },
        {
         "line": {
          "color": "gray",
          "width": 3
         },
         "mode": "lines",
         "showlegend": false,
         "type": "scatter3d",
         "x": [
          -6.744999999999999,
          -8.165
         ],
         "y": [
          2.0340001727144226,
          2.0340001727144226
         ],
         "z": [
          6.990669452751582,
          6.990669452751582
         ]
        },
        {
         "line": {
          "color": "gray",
          "width": 3
         },
         "mode": "lines",
         "showlegend": false,
         "type": "scatter3d",
         "x": [
          6.744999999999999,
          6.035
         ],
         "y": [
          1.174330547248418,
          1.330643078826429e-15
         ],
         "z": [
          10.19900017271442,
          10.513661094496833
         ]
        },
        {
         "line": {
          "color": "gray",
          "width": 3
         },
         "mode": "lines",
         "showlegend": false,
         "type": "scatter3d",
         "x": [
          8.165,
          6.744999999999999
         ],
         "y": [
          -1.1743305472484182,
          -1.1743305472484182
         ],
         "z": [
          6.130999827285578,
          6.130999827285578
         ]
        },
        {
         "line": {
          "color": "gray",
          "width": 3
         },
         "mode": "lines",
         "showlegend": false,
         "type": "scatter3d",
         "x": [
          -4.615000000000001,
          -6.035
         ],
         "y": [
          -1.1743305472484182,
          -1.1743305472484182
         ],
         "z": [
          6.130999827285578,
          6.130999827285578
         ]
        },
        {
         "line": {
          "color": "gray",
          "width": 3
         },
         "mode": "lines",
         "showlegend": false,
         "type": "scatter3d",
         "x": [
          -4.615000000000001,
          -6.035
         ],
         "y": [
          -1.1743305472484182,
          -1.1743305472484182
         ],
         "z": [
          6.130999827285578,
          6.130999827285578
         ]
        },
        {
         "line": {
          "color": "gray",
          "width": 3
         },
         "mode": "lines",
         "showlegend": false,
         "type": "scatter3d",
         "x": [
          -2.4849999999999994,
          -1.7750000000000006
         ],
         "y": [
          -2.0340001727144226,
          -1.1743305472484182
         ],
         "z": [
          6.990669452751582,
          6.130999827285578
         ]
        },
        {
         "line": {
          "color": "gray",
          "width": 3
         },
         "mode": "lines",
         "showlegend": false,
         "type": "scatter3d",
         "x": [
          6.035,
          6.744999999999999
         ],
         "y": [
          -2.0340001727144226,
          -1.1743305472484182
         ],
         "z": [
          6.990669452751582,
          6.130999827285578
         ]
        },
        {
         "line": {
          "color": "gray",
          "width": 3
         },
         "mode": "lines",
         "showlegend": false,
         "type": "scatter3d",
         "x": [
          -1.7750000000000006,
          -2.4849999999999994
         ],
         "y": [
          -1.1743305472484165,
          -2.0340001727144217
         ],
         "z": [
          10.199000172714422,
          9.339330547248418
         ]
        },
        {
         "line": {
          "color": "gray",
          "width": 3
         },
         "mode": "lines",
         "showlegend": false,
         "type": "scatter3d",
         "x": [
          6.035,
          4.615
         ],
         "y": [
          1.330643078826429e-15,
          2.876280291657467e-16
         ],
         "z": [
          10.513661094496833,
          10.513661094496833
         ]
        },
        {
         "line": {
          "color": "gray",
          "width": 3
         },
         "mode": "lines",
         "showlegend": false,
         "type": "scatter3d",
         "x": [
          6.035,
          4.615
         ],
         "y": [
          1.330643078826429e-15,
          2.876280291657467e-16
         ],
         "z": [
          10.513661094496833,
          10.513661094496833
         ]
        },
        {
         "line": {
          "color": "gray",
          "width": 3
         },
         "mode": "lines",
         "showlegend": false,
         "type": "scatter3d",
         "x": [
          -6.035,
          -6.744999999999999
         ],
         "y": [
          -1.1743305472484182,
          -5.752560583314934e-16
         ],
         "z": [
          6.130999827285578,
          5.816338905503165
         ]
        },
        {
         "line": {
          "color": "gray",
          "width": 3
         },
         "mode": "lines",
         "showlegend": false,
         "type": "scatter3d",
         "x": [
          -1.7750000000000006,
          -2.4849999999999994
         ],
         "y": [
          -1.1743305472484182,
          -5.752560583314934e-16
         ],
         "z": [
          6.130999827285578,
          5.816338905503165
         ]
        },
        {
         "line": {
          "color": "gray",
          "width": 3
         },
         "mode": "lines",
         "showlegend": false,
         "type": "scatter3d",
         "x": [
          3.905000000000001,
          4.615
         ],
         "y": [
          1.174330547248417,
          2.0340001727144226
         ],
         "z": [
          6.130999827285576,
          6.990669452751582
         ]
        },
        {
         "line": {
          "color": "gray",
          "width": 3
         },
         "mode": "lines",
         "showlegend": false,
         "type": "scatter3d",
         "x": [
          -0.3550000000000006,
          0.35500000000000026
         ],
         "y": [
          1.174330547248418,
          2.876280291657467e-16
         ],
         "z": [
          10.19900017271442,
          10.513661094496833
         ]
        },
        {
         "line": {
          "color": "gray",
          "width": 3
         },
         "mode": "lines",
         "showlegend": false,
         "type": "scatter3d",
         "x": [
          1.7750000000000001,
          0.35500000000000026
         ],
         "y": [
          2.0340001727144226,
          2.0340001727144226
         ],
         "z": [
          9.339330547248416,
          9.339330547248416
         ]
        },
        {
         "line": {
          "color": "gray",
          "width": 3
         },
         "mode": "lines",
         "showlegend": false,
         "type": "scatter3d",
         "x": [
          1.7750000000000001,
          0.35500000000000026
         ],
         "y": [
          2.0340001727144226,
          2.0340001727144226
         ],
         "z": [
          9.339330547248416,
          9.339330547248416
         ]
        },
        {
         "line": {
          "color": "gray",
          "width": 3
         },
         "mode": "lines",
         "showlegend": false,
         "type": "scatter3d",
         "x": [
          3.905000000000001,
          2.4849999999999994
         ],
         "y": [
          -1.1743305472484165,
          -1.1743305472484165
         ],
         "z": [
          10.199000172714422,
          10.199000172714422
         ]
        },
        {
         "line": {
          "color": "gray",
          "width": 3
         },
         "mode": "lines",
         "showlegend": false,
         "type": "scatter3d",
         "x": [
          -1.7749999999999997,
          -2.4849999999999994
         ],
         "y": [
          1.174330547248417,
          2.0340001727144226
         ],
         "z": [
          6.130999827285576,
          6.990669452751582
         ]
        },
        {
         "line": {
          "color": "gray",
          "width": 3
         },
         "mode": "lines",
         "showlegend": false,
         "type": "scatter3d",
         "x": [
          3.905000000000001,
          4.615
         ],
         "y": [
          2.3486610944968342,
          2.0340001727144226
         ],
         "z": [
          8.165,
          9.339330547248416
         ]
        },
        {
         "line": {
          "color": "gray",
          "width": 3
         },
         "mode": "lines",
         "showlegend": false,
         "type": "scatter3d",
         "x": [
          1.7750000000000001,
          2.4849999999999994
         ],
         "y": [
          -2.0340001727144217,
          -2.3486610944968342
         ],
         "z": [
          9.339330547248418,
          8.165
         ]
        },
        {
         "line": {
          "color": "gray",
          "width": 3
         },
         "mode": "lines",
         "showlegend": false,
         "type": "scatter3d",
         "x": [
          4.615,
          6.035
         ],
         "y": [
          0,
          -5.752560583314934e-16
         ],
         "z": [
          5.816338905503165,
          5.816338905503165
         ]
        },
        {
         "line": {
          "color": "gray",
          "width": 3
         },
         "mode": "lines",
         "showlegend": false,
         "type": "scatter3d",
         "x": [
          -0.3549999999999997,
          0.35500000000000026
         ],
         "y": [
          2.3486610944968342,
          2.0340001727144226
         ],
         "z": [
          8.165,
          9.339330547248416
         ]
        },
        {
         "line": {
          "color": "gray",
          "width": 3
         },
         "mode": "lines",
         "showlegend": false,
         "type": "scatter3d",
         "x": [
          -6.744999999999999,
          -8.165
         ],
         "y": [
          1.330643078826429e-15,
          2.876280291657467e-16
         ],
         "z": [
          10.513661094496833,
          10.513661094496833
         ]
        },
        {
         "line": {
          "color": "gray",
          "width": 3
         },
         "mode": "lines",
         "showlegend": false,
         "type": "scatter3d",
         "x": [
          -4.615000000000001,
          -3.9049999999999994
         ],
         "y": [
          -1.1743305472484182,
          0
         ],
         "z": [
          6.130999827285578,
          5.816338905503165
         ]
        },
        {
         "line": {
          "color": "gray",
          "width": 3
         },
         "mode": "lines",
         "showlegend": false,
         "type": "scatter3d",
         "x": [
          3.9049999999999994,
          2.4849999999999994
         ],
         "y": [
          1.174330547248418,
          1.174330547248418
         ],
         "z": [
          10.19900017271442,
          10.19900017271442
         ]
        },
        {
         "line": {
          "color": "gray",
          "width": 3
         },
         "mode": "lines",
         "showlegend": false,
         "type": "scatter3d",
         "x": [
          -1.7750000000000006,
          -2.4849999999999994
         ],
         "y": [
          -2.3486610944968342,
          -2.0340001727144226
         ],
         "z": [
          8.165,
          6.990669452751582
         ]
        },
        {
         "line": {
          "color": "gray",
          "width": 3
         },
         "mode": "lines",
         "showlegend": false,
         "type": "scatter3d",
         "x": [
          6.744999999999999,
          6.035
         ],
         "y": [
          -1.1743305472484182,
          -5.752560583314934e-16
         ],
         "z": [
          6.130999827285578,
          5.816338905503165
         ]
        },
        {
         "line": {
          "color": "gray",
          "width": 3
         },
         "mode": "lines",
         "showlegend": false,
         "type": "scatter3d",
         "x": [
          -2.4849999999999994,
          -1.7750000000000006
         ],
         "y": [
          1.330643078826429e-15,
          -1.1743305472484165
         ],
         "z": [
          10.513661094496833,
          10.199000172714422
         ]
        },
        {
         "line": {
          "color": "gray",
          "width": 3
         },
         "mode": "lines",
         "showlegend": false,
         "type": "scatter3d",
         "x": [
          6.035,
          4.615
         ],
         "y": [
          2.0340001727144226,
          2.0340001727144226
         ],
         "z": [
          6.990669452751582,
          6.990669452751582
         ]
        },
        {
         "line": {
          "color": "gray",
          "width": 3
         },
         "mode": "lines",
         "showlegend": false,
         "type": "scatter3d",
         "x": [
          6.035,
          4.615
         ],
         "y": [
          2.0340001727144226,
          2.0340001727144226
         ],
         "z": [
          6.990669452751582,
          6.990669452751582
         ]
        },
        {
         "line": {
          "color": "gray",
          "width": 3
         },
         "mode": "lines",
         "showlegend": false,
         "type": "scatter3d",
         "x": [
          -4.614999999999999,
          -6.034999999999999
         ],
         "y": [
          1.174330547248417,
          1.174330547248417
         ],
         "z": [
          6.130999827285576,
          6.130999827285576
         ]
        },
        {
         "line": {
          "color": "gray",
          "width": 3
         },
         "mode": "lines",
         "showlegend": false,
         "type": "scatter3d",
         "x": [
          -4.614999999999998,
          -3.9049999999999994
         ],
         "y": [
          -1.1743305472484165,
          2.876280291657467e-16
         ],
         "z": [
          10.199000172714422,
          10.513661094496833
         ]
        },
        {
         "line": {
          "color": "gray",
          "width": 3
         },
         "mode": "lines",
         "showlegend": false,
         "type": "scatter3d",
         "x": [
          1.7750000000000001,
          2.485000000000001
         ],
         "y": [
          2.0340001727144226,
          2.3486610944968342
         ],
         "z": [
          6.990669452751582,
          8.165
         ]
        },
        {
         "line": {
          "color": "gray",
          "width": 3
         },
         "mode": "lines",
         "showlegend": false,
         "type": "scatter3d",
         "x": [
          1.7750000000000001,
          2.485000000000001
         ],
         "y": [
          2.0340001727144226,
          2.3486610944968342
         ],
         "z": [
          6.990669452751582,
          8.165
         ]
        },
        {
         "line": {
          "color": "gray",
          "width": 3
         },
         "mode": "lines",
         "showlegend": false,
         "type": "scatter3d",
         "x": [
          1.7750000000000001,
          2.4849999999999994
         ],
         "y": [
          2.0340001727144226,
          1.174330547248418
         ],
         "z": [
          9.339330547248416,
          10.19900017271442
         ]
        },
        {
         "line": {
          "color": "gray",
          "width": 3
         },
         "mode": "lines",
         "showlegend": false,
         "type": "scatter3d",
         "x": [
          -4.615000000000001,
          -6.035
         ],
         "y": [
          -1.1743305472484182,
          -1.1743305472484182
         ],
         "z": [
          6.130999827285578,
          6.130999827285578
         ]
        },
        {
         "line": {
          "color": "gray",
          "width": 3
         },
         "mode": "lines",
         "showlegend": false,
         "type": "scatter3d",
         "x": [
          8.165,
          6.745000000000001
         ],
         "y": [
          1.174330547248417,
          1.174330547248417
         ],
         "z": [
          6.130999827285576,
          6.130999827285576
         ]
        },
        {
         "line": {
          "color": "gray",
          "width": 3
         },
         "mode": "lines",
         "showlegend": false,
         "type": "scatter3d",
         "x": [
          -6.744999999999999,
          -8.165
         ],
         "y": [
          -2.0340001727144217,
          -2.0340001727144217
         ],
         "z": [
          9.339330547248418,
          9.339330547248418
         ]
        },
        {
         "line": {
          "color": "gray",
          "width": 3
         },
         "mode": "lines",
         "showlegend": false,
         "type": "scatter3d",
         "x": [
          -6.744999999999999,
          -8.165
         ],
         "y": [
          -2.0340001727144217,
          -2.0340001727144217
         ],
         "z": [
          9.339330547248418,
          9.339330547248418
         ]
        },
        {
         "line": {
          "color": "gray",
          "width": 3
         },
         "mode": "lines",
         "showlegend": false,
         "type": "scatter3d",
         "x": [
          3.905000000000001,
          2.4849999999999994
         ],
         "y": [
          1.174330547248417,
          1.174330547248417
         ],
         "z": [
          6.130999827285576,
          6.130999827285576
         ]
        },
        {
         "line": {
          "color": "gray",
          "width": 3
         },
         "mode": "lines",
         "showlegend": false,
         "type": "scatter3d",
         "x": [
          2.485000000000001,
          1.7750000000000001
         ],
         "y": [
          2.3486610944968342,
          2.0340001727144226
         ],
         "z": [
          8.165,
          9.339330547248416
         ]
        },
        {
         "line": {
          "color": "gray",
          "width": 3
         },
         "mode": "lines",
         "showlegend": false,
         "type": "scatter3d",
         "x": [
          2.485000000000001,
          1.7750000000000001
         ],
         "y": [
          2.3486610944968342,
          2.0340001727144226
         ],
         "z": [
          8.165,
          9.339330547248416
         ]
        },
        {
         "line": {
          "color": "gray",
          "width": 3
         },
         "mode": "lines",
         "showlegend": false,
         "type": "scatter3d",
         "x": [
          6.035,
          6.745000000000001
         ],
         "y": [
          2.0340001727144226,
          2.3486610944968342
         ],
         "z": [
          6.990669452751582,
          8.165
         ]
        },
        {
         "line": {
          "color": "gray",
          "width": 3
         },
         "mode": "lines",
         "showlegend": false,
         "type": "scatter3d",
         "x": [
          -4.614999999999998,
          -3.9049999999999994
         ],
         "y": [
          -2.3486610944968342,
          -2.0340001727144217
         ],
         "z": [
          8.165,
          9.339330547248418
         ]
        },
        {
         "line": {
          "color": "gray",
          "width": 3
         },
         "mode": "lines",
         "showlegend": false,
         "type": "scatter3d",
         "x": [
          3.905000000000001,
          4.615
         ],
         "y": [
          -2.3486610944968342,
          -2.0340001727144217
         ],
         "z": [
          8.165,
          9.339330547248418
         ]
        },
        {
         "line": {
          "color": "gray",
          "width": 3
         },
         "mode": "lines",
         "showlegend": false,
         "type": "scatter3d",
         "x": [
          3.905000000000001,
          4.615
         ],
         "y": [
          -2.3486610944968342,
          -2.0340001727144217
         ],
         "z": [
          8.165,
          9.339330547248418
         ]
        },
        {
         "line": {
          "color": "gray",
          "width": 3
         },
         "mode": "lines",
         "showlegend": false,
         "type": "scatter3d",
         "x": [
          3.9049999999999976,
          4.615
         ],
         "y": [
          -1.1743305472484182,
          -2.0340001727144235
         ],
         "z": [
          6.130999827285578,
          6.990669452751583
         ]
        },
        {
         "line": {
          "color": "gray",
          "width": 3
         },
         "mode": "lines",
         "showlegend": false,
         "type": "scatter3d",
         "x": [
          3.905000000000001,
          4.615
         ],
         "y": [
          -1.1743305472484165,
          2.876280291657467e-16
         ],
         "z": [
          10.199000172714422,
          10.513661094496833
         ]
        },
        {
         "line": {
          "color": "gray",
          "width": 3
         },
         "mode": "lines",
         "showlegend": false,
         "type": "scatter3d",
         "x": [
          -4.615,
          -3.9049999999999994
         ],
         "y": [
          1.174330547248418,
          2.876280291657467e-16
         ],
         "z": [
          10.19900017271442,
          10.513661094496833
         ]
        },
        {
         "line": {
          "color": "gray",
          "width": 3
         },
         "mode": "lines",
         "showlegend": false,
         "type": "scatter3d",
         "x": [
          -4.614999999999998,
          -6.035
         ],
         "y": [
          -1.1743305472484165,
          -1.1743305472484165
         ],
         "z": [
          10.199000172714422,
          10.199000172714422
         ]
        },
        {
         "line": {
          "color": "gray",
          "width": 3
         },
         "mode": "lines",
         "showlegend": false,
         "type": "scatter3d",
         "x": [
          -0.3550000000000015,
          0.35500000000000026
         ],
         "y": [
          -1.1743305472484182,
          0
         ],
         "z": [
          6.130999827285578,
          5.816338905503165
         ]
        },
        {
         "line": {
          "color": "gray",
          "width": 3
         },
         "mode": "lines",
         "showlegend": false,
         "type": "scatter3d",
         "x": [
          -3.9049999999999994,
          -2.4849999999999994
         ],
         "y": [
          0,
          -5.752560583314934e-16
         ],
         "z": [
          5.816338905503165,
          5.816338905503165
         ]
        },
        {
         "line": {
          "color": "gray",
          "width": 3
         },
         "mode": "lines",
         "showlegend": false,
         "type": "scatter3d",
         "x": [
          -0.3550000000000006,
          -1.7750000000000006
         ],
         "y": [
          1.174330547248418,
          1.174330547248418
         ],
         "z": [
          10.19900017271442,
          10.19900017271442
         ]
        },
        {
         "line": {
          "color": "gray",
          "width": 3
         },
         "mode": "lines",
         "showlegend": false,
         "type": "scatter3d",
         "x": [
          -4.615,
          -6.035
         ],
         "y": [
          1.174330547248418,
          1.174330547248418
         ],
         "z": [
          10.19900017271442,
          10.19900017271442
         ]
        },
        {
         "line": {
          "color": "gray",
          "width": 3
         },
         "mode": "lines",
         "showlegend": false,
         "type": "scatter3d",
         "x": [
          -0.3549999999999997,
          0.35500000000000026
         ],
         "y": [
          2.3486610944968342,
          2.0340001727144226
         ],
         "z": [
          8.165,
          6.990669452751582
         ]
        },
        {
         "line": {
          "color": "gray",
          "width": 3
         },
         "mode": "lines",
         "showlegend": false,
         "type": "scatter3d",
         "x": [
          2.4849999999999994,
          1.7750000000000001
         ],
         "y": [
          1.174330547248417,
          -5.752560583314934e-16
         ],
         "z": [
          6.130999827285576,
          5.816338905503165
         ]
        },
        {
         "line": {
          "color": "gray",
          "width": 3
         },
         "mode": "lines",
         "showlegend": false,
         "type": "scatter3d",
         "x": [
          -6.744999999999999,
          -6.034999999999998
         ],
         "y": [
          2.0340001727144226,
          2.3486610944968342
         ],
         "z": [
          6.990669452751582,
          8.165
         ]
        },
        {
         "line": {
          "color": "gray",
          "width": 3
         },
         "mode": "lines",
         "showlegend": false,
         "type": "scatter3d",
         "x": [
          -6.744999999999999,
          -6.034999999999998
         ],
         "y": [
          2.0340001727144226,
          2.3486610944968342
         ],
         "z": [
          6.990669452751582,
          8.165
         ]
        },
        {
         "line": {
          "color": "gray",
          "width": 3
         },
         "mode": "lines",
         "showlegend": false,
         "type": "scatter3d",
         "x": [
          -6.744999999999999,
          -6.035
         ],
         "y": [
          2.0340001727144226,
          1.174330547248418
         ],
         "z": [
          9.339330547248416,
          10.19900017271442
         ]
        },
        {
         "line": {
          "color": "gray",
          "width": 3
         },
         "mode": "lines",
         "showlegend": false,
         "type": "scatter3d",
         "x": [
          -1.7749999999999997,
          -2.4849999999999994
         ],
         "y": [
          1.174330547248417,
          -5.752560583314934e-16
         ],
         "z": [
          6.130999827285576,
          5.816338905503165
         ]
        },
        {
         "line": {
          "color": "gray",
          "width": 3
         },
         "mode": "lines",
         "showlegend": false,
         "type": "scatter3d",
         "x": [
          -2.4849999999999994,
          -3.9049999999999994
         ],
         "y": [
          -2.0340001727144226,
          -2.0340001727144235
         ],
         "z": [
          6.990669452751582,
          6.990669452751583
         ]
        },
        {
         "line": {
          "color": "gray",
          "width": 3
         },
         "mode": "lines",
         "showlegend": false,
         "type": "scatter3d",
         "x": [
          6.745000000000001,
          6.035
         ],
         "y": [
          2.3486610944968342,
          2.0340001727144226
         ],
         "z": [
          8.165,
          9.339330547248416
         ]
        },
        {
         "line": {
          "color": "gray",
          "width": 3
         },
         "mode": "lines",
         "showlegend": false,
         "type": "scatter3d",
         "x": [
          6.035,
          4.615
         ],
         "y": [
          -2.0340001727144217,
          -2.0340001727144217
         ],
         "z": [
          9.339330547248418,
          9.339330547248418
         ]
        },
        {
         "line": {
          "color": "gray",
          "width": 3
         },
         "mode": "lines",
         "showlegend": false,
         "type": "scatter3d",
         "x": [
          6.745000000000001,
          6.035
         ],
         "y": [
          1.174330547248417,
          -5.752560583314934e-16
         ],
         "z": [
          6.130999827285576,
          5.816338905503165
         ]
        },
        {
         "line": {
          "color": "gray",
          "width": 3
         },
         "mode": "lines",
         "showlegend": false,
         "type": "scatter3d",
         "x": [
          -4.614999999999999,
          -6.034999999999998
         ],
         "y": [
          2.3486610944968342,
          2.3486610944968342
         ],
         "z": [
          8.165,
          8.165
         ]
        },
        {
         "line": {
          "color": "gray",
          "width": 3
         },
         "mode": "lines",
         "showlegend": false,
         "type": "scatter3d",
         "x": [
          -4.614999999999999,
          -6.034999999999998
         ],
         "y": [
          2.3486610944968342,
          2.3486610944968342
         ],
         "z": [
          8.165,
          8.165
         ]
        },
        {
         "line": {
          "color": "gray",
          "width": 3
         },
         "mode": "lines",
         "showlegend": false,
         "type": "scatter3d",
         "x": [
          1.7750000000000001,
          0.35500000000000026
         ],
         "y": [
          -2.0340001727144217,
          -2.0340001727144217
         ],
         "z": [
          9.339330547248418,
          9.339330547248418
         ]
        },
        {
         "line": {
          "color": "gray",
          "width": 3
         },
         "mode": "lines",
         "showlegend": false,
         "type": "scatter3d",
         "x": [
          -6.035,
          -6.744999999999999
         ],
         "y": [
          -1.1743305472484182,
          -5.752560583314934e-16
         ],
         "z": [
          6.130999827285578,
          5.816338905503165
         ]
        },
        {
         "line": {
          "color": "gray",
          "width": 3
         },
         "mode": "lines",
         "showlegend": false,
         "type": "scatter3d",
         "x": [
          -6.744999999999999,
          -8.165
         ],
         "y": [
          2.0340001727144226,
          2.0340001727144226
         ],
         "z": [
          9.339330547248416,
          9.339330547248416
         ]
        },
        {
         "line": {
          "color": "gray",
          "width": 3
         },
         "mode": "lines",
         "showlegend": false,
         "type": "scatter3d",
         "x": [
          -2.4849999999999994,
          -3.9049999999999994
         ],
         "y": [
          1.330643078826429e-15,
          2.876280291657467e-16
         ],
         "z": [
          10.513661094496833,
          10.513661094496833
         ]
        },
        {
         "line": {
          "color": "gray",
          "width": 3
         },
         "mode": "lines",
         "showlegend": false,
         "type": "scatter3d",
         "x": [
          -0.3549999999999997,
          -1.7749999999999997
         ],
         "y": [
          1.174330547248417,
          1.174330547248417
         ],
         "z": [
          6.130999827285576,
          6.130999827285576
         ]
        },
        {
         "line": {
          "color": "gray",
          "width": 3
         },
         "mode": "lines",
         "showlegend": false,
         "type": "scatter3d",
         "x": [
          -0.3549999999999997,
          -1.7749999999999997
         ],
         "y": [
          1.174330547248417,
          1.174330547248417
         ],
         "z": [
          6.130999827285576,
          6.130999827285576
         ]
        },
        {
         "line": {
          "color": "gray",
          "width": 3
         },
         "mode": "lines",
         "showlegend": false,
         "type": "scatter3d",
         "x": [
          6.744999999999999,
          6.035
         ],
         "y": [
          1.174330547248418,
          1.330643078826429e-15
         ],
         "z": [
          10.19900017271442,
          10.513661094496833
         ]
        },
        {
         "line": {
          "color": "gray",
          "width": 3
         },
         "mode": "lines",
         "showlegend": false,
         "type": "scatter3d",
         "x": [
          6.035,
          6.744999999999999
         ],
         "y": [
          1.330643078826429e-15,
          -1.1743305472484165
         ],
         "z": [
          10.513661094496833,
          10.199000172714422
         ]
        },
        {
         "line": {
          "color": "gray",
          "width": 3
         },
         "mode": "lines",
         "showlegend": false,
         "type": "scatter3d",
         "x": [
          3.905000000000001,
          4.615
         ],
         "y": [
          -2.3486610944968342,
          -2.0340001727144235
         ],
         "z": [
          8.165,
          6.990669452751583
         ]
        },
        {
         "line": {
          "color": "gray",
          "width": 3
         },
         "mode": "lines",
         "showlegend": false,
         "type": "scatter3d",
         "x": [
          3.905000000000001,
          4.615
         ],
         "y": [
          2.3486610944968342,
          2.0340001727144226
         ],
         "z": [
          8.165,
          6.990669452751582
         ]
        },
        {
         "line": {
          "color": "gray",
          "width": 3
         },
         "mode": "lines",
         "showlegend": false,
         "type": "scatter3d",
         "x": [
          -1.7750000000000006,
          -2.4849999999999994
         ],
         "y": [
          1.174330547248418,
          1.330643078826429e-15
         ],
         "z": [
          10.19900017271442,
          10.513661094496833
         ]
        },
        {
         "line": {
          "color": "gray",
          "width": 3
         },
         "mode": "lines",
         "showlegend": false,
         "type": "scatter3d",
         "x": [
          -0.3549999999999988,
          0.35500000000000026
         ],
         "y": [
          -1.1743305472484165,
          -2.0340001727144217
         ],
         "z": [
          10.199000172714422,
          9.339330547248418
         ]
        },
        {
         "line": {
          "color": "gray",
          "width": 3
         },
         "mode": "lines",
         "showlegend": false,
         "type": "scatter3d",
         "x": [
          -2.4849999999999994,
          -1.7750000000000006
         ],
         "y": [
          2.0340001727144226,
          1.174330547248418
         ],
         "z": [
          9.339330547248416,
          10.19900017271442
         ]
        },
        {
         "line": {
          "color": "gray",
          "width": 3
         },
         "mode": "lines",
         "showlegend": false,
         "type": "scatter3d",
         "x": [
          -0.3550000000000006,
          0.35500000000000026
         ],
         "y": [
          1.174330547248418,
          2.876280291657467e-16
         ],
         "z": [
          10.19900017271442,
          10.513661094496833
         ]
        },
        {
         "line": {
          "color": "gray",
          "width": 3
         },
         "mode": "lines",
         "showlegend": false,
         "type": "scatter3d",
         "x": [
          3.905000000000001,
          4.615
         ],
         "y": [
          2.3486610944968342,
          2.0340001727144226
         ],
         "z": [
          8.165,
          9.339330547248416
         ]
        },
        {
         "line": {
          "color": "gray",
          "width": 3
         },
         "mode": "lines",
         "showlegend": false,
         "type": "scatter3d",
         "x": [
          3.905000000000001,
          4.615
         ],
         "y": [
          2.3486610944968342,
          2.0340001727144226
         ],
         "z": [
          8.165,
          9.339330547248416
         ]
        },
        {
         "line": {
          "color": "gray",
          "width": 3
         },
         "mode": "lines",
         "showlegend": false,
         "type": "scatter3d",
         "x": [
          3.9049999999999994,
          4.615
         ],
         "y": [
          1.174330547248418,
          2.876280291657467e-16
         ],
         "z": [
          10.19900017271442,
          10.513661094496833
         ]
        },
        {
         "line": {
          "color": "gray",
          "width": 3
         },
         "mode": "lines",
         "showlegend": false,
         "type": "scatter3d",
         "x": [
          -4.615000000000001,
          -3.9049999999999994
         ],
         "y": [
          -1.1743305472484182,
          0
         ],
         "z": [
          6.130999827285578,
          5.816338905503165
         ]
        },
        {
         "line": {
          "color": "gray",
          "width": 3
         },
         "mode": "lines",
         "showlegend": false,
         "type": "scatter3d",
         "x": [
          -4.615000000000001,
          -3.9049999999999994
         ],
         "y": [
          -1.1743305472484182,
          0
         ],
         "z": [
          6.130999827285578,
          5.816338905503165
         ]
        },
        {
         "line": {
          "color": "gray",
          "width": 3
         },
         "mode": "lines",
         "showlegend": false,
         "type": "scatter3d",
         "x": [
          3.905000000000001,
          2.4849999999999994
         ],
         "y": [
          -1.1743305472484165,
          -1.1743305472484165
         ],
         "z": [
          10.199000172714422,
          10.199000172714422
         ]
        },
        {
         "line": {
          "color": "gray",
          "width": 3
         },
         "mode": "lines",
         "showlegend": false,
         "type": "scatter3d",
         "x": [
          4.615,
          6.035
         ],
         "y": [
          0,
          -5.752560583314934e-16
         ],
         "z": [
          5.816338905503165,
          5.816338905503165
         ]
        },
        {
         "line": {
          "color": "gray",
          "width": 3
         },
         "mode": "lines",
         "showlegend": false,
         "type": "scatter3d",
         "x": [
          -6.744999999999999,
          -8.165
         ],
         "y": [
          -2.0340001727144226,
          -2.0340001727144235
         ],
         "z": [
          6.990669452751582,
          6.990669452751583
         ]
        },
        {
         "line": {
          "color": "gray",
          "width": 3
         },
         "mode": "lines",
         "showlegend": false,
         "type": "scatter3d",
         "x": [
          6.745000000000001,
          6.035
         ],
         "y": [
          1.174330547248417,
          2.0340001727144226
         ],
         "z": [
          6.130999827285576,
          6.990669452751582
         ]
        },
        {
         "line": {
          "color": "gray",
          "width": 3
         },
         "mode": "lines",
         "showlegend": false,
         "type": "scatter3d",
         "x": [
          8.165,
          6.744999999999999
         ],
         "y": [
          -2.3486610944968342,
          -2.3486610944968342
         ],
         "z": [
          8.165,
          8.165
         ]
        },
        {
         "line": {
          "color": "gray",
          "width": 3
         },
         "mode": "lines",
         "showlegend": false,
         "type": "scatter3d",
         "x": [
          6.744999999999999,
          6.035
         ],
         "y": [
          -1.1743305472484182,
          -5.752560583314934e-16
         ],
         "z": [
          6.130999827285578,
          5.816338905503165
         ]
        },
        {
         "line": {
          "color": "gray",
          "width": 3
         },
         "mode": "lines",
         "showlegend": false,
         "type": "scatter3d",
         "x": [
          -8.165,
          -6.744999999999999
         ],
         "y": [
          0,
          -5.752560583314934e-16
         ],
         "z": [
          5.816338905503165,
          5.816338905503165
         ]
        },
        {
         "line": {
          "color": "gray",
          "width": 3
         },
         "mode": "lines",
         "showlegend": false,
         "type": "scatter3d",
         "x": [
          -8.165,
          -6.744999999999999
         ],
         "y": [
          0,
          -5.752560583314934e-16
         ],
         "z": [
          5.816338905503165,
          5.816338905503165
         ]
        },
        {
         "line": {
          "color": "gray",
          "width": 3
         },
         "mode": "lines",
         "showlegend": false,
         "type": "scatter3d",
         "x": [
          3.9049999999999994,
          4.615
         ],
         "y": [
          1.174330547248418,
          2.0340001727144226
         ],
         "z": [
          10.19900017271442,
          9.339330547248416
         ]
        },
        {
         "line": {
          "color": "gray",
          "width": 3
         },
         "mode": "lines",
         "showlegend": false,
         "type": "scatter3d",
         "x": [
          6.744999999999999,
          6.035
         ],
         "y": [
          -1.1743305472484182,
          -5.752560583314934e-16
         ],
         "z": [
          6.130999827285578,
          5.816338905503165
         ]
        },
        {
         "line": {
          "color": "gray",
          "width": 3
         },
         "mode": "lines",
         "showlegend": false,
         "type": "scatter3d",
         "x": [
          -4.614999999999998,
          -3.9049999999999994
         ],
         "y": [
          -2.3486610944968342,
          -2.0340001727144217
         ],
         "z": [
          8.165,
          9.339330547248418
         ]
        },
        {
         "line": {
          "color": "gray",
          "width": 3
         },
         "mode": "lines",
         "showlegend": false,
         "type": "scatter3d",
         "x": [
          -2.4849999999999994,
          -1.7750000000000006
         ],
         "y": [
          1.330643078826429e-15,
          -1.1743305472484165
         ],
         "z": [
          10.513661094496833,
          10.199000172714422
         ]
        },
        {
         "line": {
          "color": "gray",
          "width": 3
         },
         "mode": "lines",
         "showlegend": false,
         "type": "scatter3d",
         "x": [
          -4.614999999999999,
          -6.034999999999999
         ],
         "y": [
          1.174330547248417,
          1.174330547248417
         ],
         "z": [
          6.130999827285576,
          6.130999827285576
         ]
        },
        {
         "line": {
          "color": "gray",
          "width": 3
         },
         "mode": "lines",
         "showlegend": false,
         "type": "scatter3d",
         "x": [
          -1.7750000000000006,
          -2.4849999999999994
         ],
         "y": [
          -1.1743305472484182,
          -5.752560583314934e-16
         ],
         "z": [
          6.130999827285578,
          5.816338905503165
         ]
        },
        {
         "line": {
          "color": "gray",
          "width": 3
         },
         "mode": "lines",
         "showlegend": false,
         "type": "scatter3d",
         "x": [
          3.905000000000001,
          4.615
         ],
         "y": [
          1.174330547248417,
          2.0340001727144226
         ],
         "z": [
          6.130999827285576,
          6.990669452751582
         ]
        },
        {
         "line": {
          "color": "gray",
          "width": 3
         },
         "mode": "lines",
         "showlegend": false,
         "type": "scatter3d",
         "x": [
          3.905000000000001,
          2.485000000000001
         ],
         "y": [
          2.3486610944968342,
          2.3486610944968342
         ],
         "z": [
          8.165,
          8.165
         ]
        },
        {
         "line": {
          "color": "gray",
          "width": 3
         },
         "mode": "lines",
         "showlegend": false,
         "type": "scatter3d",
         "x": [
          3.9049999999999976,
          4.615
         ],
         "y": [
          -1.1743305472484182,
          -2.0340001727144235
         ],
         "z": [
          6.130999827285578,
          6.990669452751583
         ]
        },
        {
         "line": {
          "color": "gray",
          "width": 3
         },
         "mode": "lines",
         "showlegend": false,
         "type": "scatter3d",
         "x": [
          3.9049999999999976,
          4.615
         ],
         "y": [
          -1.1743305472484182,
          -2.0340001727144235
         ],
         "z": [
          6.130999827285578,
          6.990669452751583
         ]
        },
        {
         "line": {
          "color": "gray",
          "width": 3
         },
         "mode": "lines",
         "showlegend": false,
         "type": "scatter3d",
         "x": [
          -4.615,
          -3.9049999999999994
         ],
         "y": [
          1.174330547248418,
          2.0340001727144226
         ],
         "z": [
          10.19900017271442,
          9.339330547248416
         ]
        },
        {
         "line": {
          "color": "gray",
          "width": 3
         },
         "mode": "lines",
         "showlegend": false,
         "type": "scatter3d",
         "x": [
          -2.4849999999999994,
          -1.7749999999999988
         ],
         "y": [
          2.0340001727144226,
          2.3486610944968342
         ],
         "z": [
          6.990669452751582,
          8.165
         ]
        },
        {
         "line": {
          "color": "gray",
          "width": 3
         },
         "mode": "lines",
         "showlegend": false,
         "type": "scatter3d",
         "x": [
          -6.035,
          -6.744999999999999
         ],
         "y": [
          1.174330547248418,
          1.330643078826429e-15
         ],
         "z": [
          10.19900017271442,
          10.513661094496833
         ]
        },
        {
         "line": {
          "color": "gray",
          "width": 3
         },
         "mode": "lines",
         "showlegend": false,
         "type": "scatter3d",
         "x": [
          -1.7749999999999997,
          -2.4849999999999994
         ],
         "y": [
          1.174330547248417,
          2.0340001727144226
         ],
         "z": [
          6.130999827285576,
          6.990669452751582
         ]
        },
        {
         "line": {
          "color": "gray",
          "width": 3
         },
         "mode": "lines",
         "showlegend": false,
         "type": "scatter3d",
         "x": [
          -1.7749999999999997,
          -2.4849999999999994
         ],
         "y": [
          1.174330547248417,
          2.0340001727144226
         ],
         "z": [
          6.130999827285576,
          6.990669452751582
         ]
        },
        {
         "line": {
          "color": "gray",
          "width": 3
         },
         "mode": "lines",
         "showlegend": false,
         "type": "scatter3d",
         "x": [
          -1.7749999999999988,
          -2.4849999999999994
         ],
         "y": [
          2.3486610944968342,
          2.0340001727144226
         ],
         "z": [
          8.165,
          9.339330547248416
         ]
        },
        {
         "line": {
          "color": "gray",
          "width": 3
         },
         "mode": "lines",
         "showlegend": false,
         "type": "scatter3d",
         "x": [
          -0.3550000000000015,
          -1.7750000000000006
         ],
         "y": [
          -1.1743305472484182,
          -1.1743305472484182
         ],
         "z": [
          6.130999827285578,
          6.130999827285578
         ]
        },
        {
         "line": {
          "color": "gray",
          "width": 3
         },
         "mode": "lines",
         "showlegend": false,
         "type": "scatter3d",
         "x": [
          -0.3550000000000015,
          0.35500000000000026
         ],
         "y": [
          -1.1743305472484182,
          -2.0340001727144235
         ],
         "z": [
          6.130999827285578,
          6.990669452751583
         ]
        },
        {
         "line": {
          "color": "gray",
          "width": 3
         },
         "mode": "lines",
         "showlegend": false,
         "type": "scatter3d",
         "x": [
          -6.744999999999999,
          -8.165
         ],
         "y": [
          1.330643078826429e-15,
          2.876280291657467e-16
         ],
         "z": [
          10.513661094496833,
          10.513661094496833
         ]
        },
        {
         "line": {
          "color": "gray",
          "width": 3
         },
         "mode": "lines",
         "showlegend": false,
         "type": "scatter3d",
         "x": [
          -6.744999999999999,
          -8.165
         ],
         "y": [
          1.330643078826429e-15,
          2.876280291657467e-16
         ],
         "z": [
          10.513661094496833,
          10.513661094496833
         ]
        },
        {
         "line": {
          "color": "gray",
          "width": 3
         },
         "mode": "lines",
         "showlegend": false,
         "type": "scatter3d",
         "x": [
          -4.614999999999998,
          -3.9049999999999994
         ],
         "y": [
          -1.1743305472484165,
          2.876280291657467e-16
         ],
         "z": [
          10.199000172714422,
          10.513661094496833
         ]
        },
        {
         "line": {
          "color": "gray",
          "width": 3
         },
         "mode": "lines",
         "showlegend": false,
         "type": "scatter3d",
         "x": [
          2.4849999999999994,
          1.7750000000000001
         ],
         "y": [
          1.174330547248417,
          -5.752560583314934e-16
         ],
         "z": [
          6.130999827285576,
          5.816338905503165
         ]
        },
        {
         "line": {
          "color": "gray",
          "width": 3
         },
         "mode": "lines",
         "showlegend": false,
         "type": "scatter3d",
         "x": [
          6.035,
          4.615
         ],
         "y": [
          -2.0340001727144226,
          -2.0340001727144235
         ],
         "z": [
          6.990669452751582,
          6.990669452751583
         ]
        },
        {
         "line": {
          "color": "gray",
          "width": 3
         },
         "mode": "lines",
         "showlegend": false,
         "type": "scatter3d",
         "x": [
          0.35500000000000026,
          1.7750000000000001
         ],
         "y": [
          0,
          -5.752560583314934e-16
         ],
         "z": [
          5.816338905503165,
          5.816338905503165
         ]
        },
        {
         "line": {
          "color": "gray",
          "width": 3
         },
         "mode": "lines",
         "showlegend": false,
         "type": "scatter3d",
         "x": [
          -0.3549999999999997,
          0.35500000000000026
         ],
         "y": [
          2.3486610944968342,
          2.0340001727144226
         ],
         "z": [
          8.165,
          6.990669452751582
         ]
        },
        {
         "line": {
          "color": "gray",
          "width": 3
         },
         "mode": "lines",
         "showlegend": false,
         "type": "scatter3d",
         "x": [
          -0.3549999999999997,
          0.35500000000000026
         ],
         "y": [
          2.3486610944968342,
          2.0340001727144226
         ],
         "z": [
          8.165,
          6.990669452751582
         ]
        },
        {
         "line": {
          "color": "gray",
          "width": 3
         },
         "mode": "lines",
         "showlegend": false,
         "type": "scatter3d",
         "x": [
          -0.3550000000000006,
          0.35500000000000026
         ],
         "y": [
          1.174330547248418,
          2.0340001727144226
         ],
         "z": [
          10.19900017271442,
          9.339330547248416
         ]
        },
        {
         "line": {
          "color": "gray",
          "width": 3
         },
         "mode": "lines",
         "showlegend": false,
         "type": "scatter3d",
         "x": [
          -6.744999999999999,
          -6.035
         ],
         "y": [
          2.0340001727144226,
          1.174330547248418
         ],
         "z": [
          9.339330547248416,
          10.19900017271442
         ]
        },
        {
         "line": {
          "color": "gray",
          "width": 3
         },
         "mode": "lines",
         "showlegend": false,
         "type": "scatter3d",
         "x": [
          -6.744999999999999,
          -6.035
         ],
         "y": [
          2.0340001727144226,
          1.174330547248418
         ],
         "z": [
          9.339330547248416,
          10.19900017271442
         ]
        },
        {
         "line": {
          "color": "gray",
          "width": 3
         },
         "mode": "lines",
         "showlegend": false,
         "type": "scatter3d",
         "x": [
          -6.744999999999999,
          -6.035
         ],
         "y": [
          1.330643078826429e-15,
          -1.1743305472484165
         ],
         "z": [
          10.513661094496833,
          10.199000172714422
         ]
        },
        {
         "line": {
          "color": "gray",
          "width": 3
         },
         "mode": "lines",
         "showlegend": false,
         "type": "scatter3d",
         "x": [
          -4.614999999999999,
          -3.9049999999999994
         ],
         "y": [
          1.174330547248417,
          0
         ],
         "z": [
          6.130999827285576,
          5.816338905503165
         ]
        },
        {
         "line": {
          "color": "gray",
          "width": 3
         },
         "mode": "lines",
         "showlegend": false,
         "type": "scatter3d",
         "x": [
          -4.614999999999999,
          -3.9049999999999994
         ],
         "y": [
          1.174330547248417,
          0
         ],
         "z": [
          6.130999827285576,
          5.816338905503165
         ]
        },
        {
         "line": {
          "color": "gray",
          "width": 3
         },
         "mode": "lines",
         "showlegend": false,
         "type": "scatter3d",
         "x": [
          6.744999999999999,
          6.035
         ],
         "y": [
          1.174330547248418,
          1.330643078826429e-15
         ],
         "z": [
          10.19900017271442,
          10.513661094496833
         ]
        },
        {
         "line": {
          "color": "gray",
          "width": 3
         },
         "mode": "lines",
         "showlegend": false,
         "type": "scatter3d",
         "x": [
          -0.3550000000000015,
          0.35500000000000026
         ],
         "y": [
          -1.1743305472484182,
          0
         ],
         "z": [
          6.130999827285578,
          5.816338905503165
         ]
        },
        {
         "line": {
          "color": "gray",
          "width": 3
         },
         "mode": "lines",
         "showlegend": false,
         "type": "scatter3d",
         "x": [
          6.035,
          6.744999999999999
         ],
         "y": [
          -2.0340001727144226,
          -1.1743305472484182
         ],
         "z": [
          6.990669452751582,
          6.130999827285578
         ]
        },
        {
         "line": {
          "color": "gray",
          "width": 3
         },
         "mode": "lines",
         "showlegend": false,
         "type": "scatter3d",
         "x": [
          -4.615000000000001,
          -3.9049999999999994
         ],
         "y": [
          -1.1743305472484182,
          -2.0340001727144235
         ],
         "z": [
          6.130999827285578,
          6.990669452751583
         ]
        },
        {
         "line": {
          "color": "gray",
          "width": 3
         },
         "mode": "lines",
         "showlegend": false,
         "type": "scatter3d",
         "x": [
          -4.615000000000001,
          -3.9049999999999994
         ],
         "y": [
          -1.1743305472484182,
          -2.0340001727144235
         ],
         "z": [
          6.130999827285578,
          6.990669452751583
         ]
        },
        {
         "line": {
          "color": "gray",
          "width": 3
         },
         "mode": "lines",
         "showlegend": false,
         "type": "scatter3d",
         "x": [
          -0.3549999999999997,
          0.35500000000000026
         ],
         "y": [
          1.174330547248417,
          0
         ],
         "z": [
          6.130999827285576,
          5.816338905503165
         ]
        },
        {
         "line": {
          "color": "gray",
          "width": 3
         },
         "mode": "lines",
         "showlegend": false,
         "type": "scatter3d",
         "x": [
          -6.744999999999999,
          -8.165
         ],
         "y": [
          1.330643078826429e-15,
          2.876280291657467e-16
         ],
         "z": [
          10.513661094496833,
          10.513661094496833
         ]
        },
        {
         "line": {
          "color": "gray",
          "width": 3
         },
         "mode": "lines",
         "showlegend": false,
         "type": "scatter3d",
         "x": [
          -2.4849999999999994,
          -3.9049999999999994
         ],
         "y": [
          -2.0340001727144217,
          -2.0340001727144217
         ],
         "z": [
          9.339330547248418,
          9.339330547248418
         ]
        },
        {
         "line": {
          "color": "gray",
          "width": 3
         },
         "mode": "lines",
         "showlegend": false,
         "type": "scatter3d",
         "x": [
          -4.614999999999998,
          -6.035
         ],
         "y": [
          -1.1743305472484165,
          -1.1743305472484165
         ],
         "z": [
          10.199000172714422,
          10.199000172714422
         ]
        },
        {
         "line": {
          "color": "gray",
          "width": 3
         },
         "mode": "lines",
         "showlegend": false,
         "type": "scatter3d",
         "x": [
          -4.614999999999998,
          -6.035
         ],
         "y": [
          -1.1743305472484165,
          -1.1743305472484165
         ],
         "z": [
          10.199000172714422,
          10.199000172714422
         ]
        },
        {
         "line": {
          "color": "gray",
          "width": 3
         },
         "mode": "lines",
         "showlegend": false,
         "type": "scatter3d",
         "x": [
          0.35500000000000026,
          1.7750000000000001
         ],
         "y": [
          0,
          -5.752560583314934e-16
         ],
         "z": [
          5.816338905503165,
          5.816338905503165
         ]
        },
        {
         "line": {
          "color": "gray",
          "width": 3
         },
         "mode": "lines",
         "showlegend": false,
         "type": "scatter3d",
         "x": [
          -0.3550000000000006,
          0.35500000000000026
         ],
         "y": [
          1.174330547248418,
          2.876280291657467e-16
         ],
         "z": [
          10.19900017271442,
          10.513661094496833
         ]
        },
        {
         "line": {
          "color": "gray",
          "width": 3
         },
         "mode": "lines",
         "showlegend": false,
         "type": "scatter3d",
         "x": [
          4.615,
          6.035
         ],
         "y": [
          0,
          -5.752560583314934e-16
         ],
         "z": [
          5.816338905503165,
          5.816338905503165
         ]
        },
        {
         "line": {
          "color": "gray",
          "width": 3
         },
         "mode": "lines",
         "showlegend": false,
         "type": "scatter3d",
         "x": [
          1.7750000000000001,
          0.35500000000000026
         ],
         "y": [
          1.330643078826429e-15,
          2.876280291657467e-16
         ],
         "z": [
          10.513661094496833,
          10.513661094496833
         ]
        },
        {
         "line": {
          "color": "gray",
          "width": 3
         },
         "mode": "lines",
         "showlegend": false,
         "type": "scatter3d",
         "x": [
          6.035,
          6.744999999999999
         ],
         "y": [
          -2.0340001727144217,
          -2.3486610944968342
         ],
         "z": [
          9.339330547248418,
          8.165
         ]
        },
        {
         "line": {
          "color": "gray",
          "width": 3
         },
         "mode": "lines",
         "showlegend": false,
         "type": "scatter3d",
         "x": [
          3.905000000000001,
          2.485000000000001
         ],
         "y": [
          2.3486610944968342,
          2.3486610944968342
         ],
         "z": [
          8.165,
          8.165
         ]
        },
        {
         "line": {
          "color": "gray",
          "width": 3
         },
         "mode": "lines",
         "showlegend": false,
         "type": "scatter3d",
         "x": [
          3.9049999999999994,
          4.615
         ],
         "y": [
          1.174330547248418,
          2.0340001727144226
         ],
         "z": [
          10.19900017271442,
          9.339330547248416
         ]
        },
        {
         "line": {
          "color": "gray",
          "width": 3
         },
         "mode": "lines",
         "showlegend": false,
         "type": "scatter3d",
         "x": [
          -4.614999999999999,
          -3.9049999999999994
         ],
         "y": [
          1.174330547248417,
          0
         ],
         "z": [
          6.130999827285576,
          5.816338905503165
         ]
        },
        {
         "line": {
          "color": "gray",
          "width": 3
         },
         "mode": "lines",
         "showlegend": false,
         "type": "scatter3d",
         "x": [
          -6.744999999999999,
          -8.165
         ],
         "y": [
          2.0340001727144226,
          2.0340001727144226
         ],
         "z": [
          6.990669452751582,
          6.990669452751582
         ]
        },
        {
         "line": {
          "color": "gray",
          "width": 3
         },
         "mode": "lines",
         "showlegend": false,
         "type": "scatter3d",
         "x": [
          -2.4849999999999994,
          -1.7750000000000006
         ],
         "y": [
          1.330643078826429e-15,
          -1.1743305472484165
         ],
         "z": [
          10.513661094496833,
          10.199000172714422
         ]
        },
        {
         "line": {
          "color": "gray",
          "width": 3
         },
         "mode": "lines",
         "showlegend": false,
         "type": "scatter3d",
         "x": [
          -1.7750000000000006,
          -2.4849999999999994
         ],
         "y": [
          1.174330547248418,
          1.330643078826429e-15
         ],
         "z": [
          10.19900017271442,
          10.513661094496833
         ]
        },
        {
         "line": {
          "color": "gray",
          "width": 3
         },
         "mode": "lines",
         "showlegend": false,
         "type": "scatter3d",
         "x": [
          -0.3549999999999988,
          0.35500000000000026
         ],
         "y": [
          -1.1743305472484165,
          -2.0340001727144217
         ],
         "z": [
          10.199000172714422,
          9.339330547248418
         ]
        },
        {
         "line": {
          "color": "gray",
          "width": 3
         },
         "mode": "lines",
         "showlegend": false,
         "type": "scatter3d",
         "x": [
          6.744999999999999,
          6.035
         ],
         "y": [
          -1.1743305472484165,
          -2.0340001727144217
         ],
         "z": [
          10.199000172714422,
          9.339330547248418
         ]
        },
        {
         "line": {
          "color": "gray",
          "width": 3
         },
         "mode": "lines",
         "showlegend": false,
         "type": "scatter3d",
         "x": [
          8.165,
          6.744999999999999
         ],
         "y": [
          -1.1743305472484182,
          -1.1743305472484182
         ],
         "z": [
          6.130999827285578,
          6.130999827285578
         ]
        },
        {
         "line": {
          "color": "gray",
          "width": 3
         },
         "mode": "lines",
         "showlegend": false,
         "type": "scatter3d",
         "x": [
          1.7750000000000001,
          0.35500000000000026
         ],
         "y": [
          -2.0340001727144226,
          -2.0340001727144235
         ],
         "z": [
          6.990669452751582,
          6.990669452751583
         ]
        },
        {
         "line": {
          "color": "gray",
          "width": 3
         },
         "mode": "lines",
         "showlegend": false,
         "type": "scatter3d",
         "x": [
          -6.035,
          -6.744999999999999
         ],
         "y": [
          -1.1743305472484165,
          -2.0340001727144217
         ],
         "z": [
          10.199000172714422,
          9.339330547248418
         ]
        },
        {
         "line": {
          "color": "gray",
          "width": 3
         },
         "mode": "lines",
         "showlegend": false,
         "type": "scatter3d",
         "x": [
          -6.744999999999999,
          -8.165
         ],
         "y": [
          -2.0340001727144226,
          -2.0340001727144235
         ],
         "z": [
          6.990669452751582,
          6.990669452751583
         ]
        },
        {
         "line": {
          "color": "gray",
          "width": 3
         },
         "mode": "lines",
         "showlegend": false,
         "type": "scatter3d",
         "x": [
          -6.744999999999999,
          -8.165
         ],
         "y": [
          -2.0340001727144226,
          -2.0340001727144235
         ],
         "z": [
          6.990669452751582,
          6.990669452751583
         ]
        },
        {
         "line": {
          "color": "gray",
          "width": 3
         },
         "mode": "lines",
         "showlegend": false,
         "type": "scatter3d",
         "x": [
          1.7750000000000001,
          0.35500000000000026
         ],
         "y": [
          -2.0340001727144226,
          -2.0340001727144235
         ],
         "z": [
          6.990669452751582,
          6.990669452751583
         ]
        },
        {
         "line": {
          "color": "gray",
          "width": 3
         },
         "mode": "lines",
         "showlegend": false,
         "type": "scatter3d",
         "x": [
          6.035,
          6.744999999999999
         ],
         "y": [
          2.0340001727144226,
          1.174330547248418
         ],
         "z": [
          9.339330547248416,
          10.19900017271442
         ]
        },
        {
         "line": {
          "color": "gray",
          "width": 3
         },
         "mode": "lines",
         "showlegend": false,
         "type": "scatter3d",
         "x": [
          -6.035,
          -6.744999999999999
         ],
         "y": [
          -1.1743305472484182,
          -5.752560583314934e-16
         ],
         "z": [
          6.130999827285578,
          5.816338905503165
         ]
        },
        {
         "line": {
          "color": "gray",
          "width": 3
         },
         "mode": "lines",
         "showlegend": false,
         "type": "scatter3d",
         "x": [
          3.905000000000001,
          4.615
         ],
         "y": [
          -1.1743305472484165,
          2.876280291657467e-16
         ],
         "z": [
          10.199000172714422,
          10.513661094496833
         ]
        },
        {
         "line": {
          "color": "gray",
          "width": 3
         },
         "mode": "lines",
         "showlegend": false,
         "type": "scatter3d",
         "x": [
          8.165,
          6.744999999999999
         ],
         "y": [
          -1.1743305472484165,
          -1.1743305472484165
         ],
         "z": [
          10.199000172714422,
          10.199000172714422
         ]
        },
        {
         "line": {
          "color": "gray",
          "width": 3
         },
         "mode": "lines",
         "showlegend": false,
         "type": "scatter3d",
         "x": [
          -0.3550000000000015,
          -1.7750000000000006
         ],
         "y": [
          -1.1743305472484182,
          -1.1743305472484182
         ],
         "z": [
          6.130999827285578,
          6.130999827285578
         ]
        },
        {
         "line": {
          "color": "gray",
          "width": 3
         },
         "mode": "lines",
         "showlegend": false,
         "type": "scatter3d",
         "x": [
          -6.034999999999999,
          -6.744999999999999
         ],
         "y": [
          1.174330547248417,
          -5.752560583314934e-16
         ],
         "z": [
          6.130999827285576,
          5.816338905503165
         ]
        },
        {
         "line": {
          "color": "gray",
          "width": 3
         },
         "mode": "lines",
         "showlegend": false,
         "type": "scatter3d",
         "x": [
          3.905000000000001,
          4.615
         ],
         "y": [
          1.174330547248417,
          0
         ],
         "z": [
          6.130999827285576,
          5.816338905503165
         ]
        },
        {
         "line": {
          "color": "gray",
          "width": 3
         },
         "mode": "lines",
         "showlegend": false,
         "type": "scatter3d",
         "x": [
          2.4849999999999994,
          1.7750000000000001
         ],
         "y": [
          1.174330547248418,
          1.330643078826429e-15
         ],
         "z": [
          10.19900017271442,
          10.513661094496833
         ]
        },
        {
         "line": {
          "color": "gray",
          "width": 3
         },
         "mode": "lines",
         "showlegend": false,
         "type": "scatter3d",
         "x": [
          -4.614999999999998,
          -6.035
         ],
         "y": [
          -1.1743305472484165,
          -1.1743305472484165
         ],
         "z": [
          10.199000172714422,
          10.199000172714422
         ]
        },
        {
         "line": {
          "color": "gray",
          "width": 3
         },
         "mode": "lines",
         "showlegend": false,
         "type": "scatter3d",
         "x": [
          3.905000000000001,
          4.615
         ],
         "y": [
          -1.1743305472484165,
          -2.0340001727144217
         ],
         "z": [
          10.199000172714422,
          9.339330547248418
         ]
        },
        {
         "line": {
          "color": "gray",
          "width": 3
         },
         "mode": "lines",
         "showlegend": false,
         "type": "scatter3d",
         "x": [
          3.905000000000001,
          2.4849999999999994
         ],
         "y": [
          -2.3486610944968342,
          -2.3486610944968342
         ],
         "z": [
          8.165,
          8.165
         ]
        },
        {
         "line": {
          "color": "gray",
          "width": 3
         },
         "mode": "lines",
         "showlegend": false,
         "type": "scatter3d",
         "x": [
          -0.3549999999999988,
          -1.7750000000000006
         ],
         "y": [
          -2.3486610944968342,
          -2.3486610944968342
         ],
         "z": [
          8.165,
          8.165
         ]
        },
        {
         "line": {
          "color": "gray",
          "width": 3
         },
         "mode": "lines",
         "showlegend": false,
         "type": "scatter3d",
         "x": [
          -1.7750000000000006,
          -2.4849999999999994
         ],
         "y": [
          -1.1743305472484182,
          -5.752560583314934e-16
         ],
         "z": [
          6.130999827285578,
          5.816338905503165
         ]
        },
        {
         "line": {
          "color": "gray",
          "width": 3
         },
         "mode": "lines",
         "showlegend": false,
         "type": "scatter3d",
         "x": [
          -6.035,
          -6.744999999999999
         ],
         "y": [
          -2.3486610944968342,
          -2.0340001727144226
         ],
         "z": [
          8.165,
          6.990669452751582
         ]
        },
        {
         "line": {
          "color": "gray",
          "width": 3
         },
         "mode": "lines",
         "showlegend": false,
         "type": "scatter3d",
         "x": [
          -1.7750000000000006,
          -2.4849999999999994
         ],
         "y": [
          -1.1743305472484182,
          -5.752560583314934e-16
         ],
         "z": [
          6.130999827285578,
          5.816338905503165
         ]
        },
        {
         "line": {
          "color": "gray",
          "width": 3
         },
         "mode": "lines",
         "showlegend": false,
         "type": "scatter3d",
         "x": [
          3.905000000000001,
          4.615
         ],
         "y": [
          1.174330547248417,
          2.0340001727144226
         ],
         "z": [
          6.130999827285576,
          6.990669452751582
         ]
        },
        {
         "line": {
          "color": "gray",
          "width": 3
         },
         "mode": "lines",
         "showlegend": false,
         "type": "scatter3d",
         "x": [
          3.905000000000001,
          4.615
         ],
         "y": [
          1.174330547248417,
          2.0340001727144226
         ],
         "z": [
          6.130999827285576,
          6.990669452751582
         ]
        },
        {
         "line": {
          "color": "gray",
          "width": 3
         },
         "mode": "lines",
         "showlegend": false,
         "type": "scatter3d",
         "x": [
          2.4849999999999994,
          1.7750000000000001
         ],
         "y": [
          1.174330547248417,
          2.0340001727144226
         ],
         "z": [
          6.130999827285576,
          6.990669452751582
         ]
        },
        {
         "line": {
          "color": "gray",
          "width": 3
         },
         "mode": "lines",
         "showlegend": false,
         "type": "scatter3d",
         "x": [
          1.7750000000000001,
          2.4849999999999994
         ],
         "y": [
          -2.0340001727144226,
          -1.1743305472484182
         ],
         "z": [
          6.990669452751582,
          6.130999827285578
         ]
        },
        {
         "line": {
          "color": "gray",
          "width": 3
         },
         "mode": "lines",
         "showlegend": false,
         "type": "scatter3d",
         "x": [
          2.4849999999999994,
          1.7750000000000001
         ],
         "y": [
          -1.1743305472484182,
          -5.752560583314934e-16
         ],
         "z": [
          6.130999827285578,
          5.816338905503165
         ]
        },
        {
         "line": {
          "color": "gray",
          "width": 3
         },
         "mode": "lines",
         "showlegend": false,
         "type": "scatter3d",
         "x": [
          -2.4849999999999994,
          -1.7750000000000006
         ],
         "y": [
          -2.0340001727144217,
          -2.3486610944968342
         ],
         "z": [
          9.339330547248418,
          8.165
         ]
        },
        {
         "line": {
          "color": "gray",
          "width": 3
         },
         "mode": "lines",
         "showlegend": false,
         "type": "scatter3d",
         "x": [
          -4.614999999999998,
          -3.9049999999999994
         ],
         "y": [
          -1.1743305472484165,
          2.876280291657467e-16
         ],
         "z": [
          10.199000172714422,
          10.513661094496833
         ]
        },
        {
         "line": {
          "color": "gray",
          "width": 3
         },
         "mode": "lines",
         "showlegend": false,
         "type": "scatter3d",
         "x": [
          -1.7749999999999988,
          -2.4849999999999994
         ],
         "y": [
          2.3486610944968342,
          2.0340001727144226
         ],
         "z": [
          8.165,
          9.339330547248416
         ]
        },
        {
         "line": {
          "color": "gray",
          "width": 3
         },
         "mode": "lines",
         "showlegend": false,
         "type": "scatter3d",
         "x": [
          -1.7749999999999988,
          -2.4849999999999994
         ],
         "y": [
          2.3486610944968342,
          2.0340001727144226
         ],
         "z": [
          8.165,
          9.339330547248416
         ]
        },
        {
         "line": {
          "color": "gray",
          "width": 3
         },
         "mode": "lines",
         "showlegend": false,
         "type": "scatter3d",
         "x": [
          3.905000000000001,
          2.4849999999999994
         ],
         "y": [
          1.174330547248417,
          1.174330547248417
         ],
         "z": [
          6.130999827285576,
          6.130999827285576
         ]
        },
        {
         "line": {
          "color": "gray",
          "width": 3
         },
         "mode": "lines",
         "showlegend": false,
         "type": "scatter3d",
         "x": [
          1.7750000000000001,
          2.4849999999999994
         ],
         "y": [
          1.330643078826429e-15,
          -1.1743305472484165
         ],
         "z": [
          10.513661094496833,
          10.199000172714422
         ]
        },
        {
         "line": {
          "color": "gray",
          "width": 3
         },
         "mode": "lines",
         "showlegend": false,
         "type": "scatter3d",
         "x": [
          -2.4849999999999994,
          -3.9049999999999994
         ],
         "y": [
          -2.0340001727144217,
          -2.0340001727144217
         ],
         "z": [
          9.339330547248418,
          9.339330547248418
         ]
        },
        {
         "line": {
          "color": "gray",
          "width": 3
         },
         "mode": "lines",
         "showlegend": false,
         "type": "scatter3d",
         "x": [
          -1.7749999999999997,
          -2.4849999999999994
         ],
         "y": [
          1.174330547248417,
          -5.752560583314934e-16
         ],
         "z": [
          6.130999827285576,
          5.816338905503165
         ]
        },
        {
         "line": {
          "color": "gray",
          "width": 3
         },
         "mode": "lines",
         "showlegend": false,
         "type": "scatter3d",
         "x": [
          3.9049999999999976,
          4.615
         ],
         "y": [
          -1.1743305472484182,
          0
         ],
         "z": [
          6.130999827285578,
          5.816338905503165
         ]
        },
        {
         "line": {
          "color": "gray",
          "width": 3
         },
         "mode": "lines",
         "showlegend": false,
         "type": "scatter3d",
         "x": [
          -6.744999999999999,
          -6.035
         ],
         "y": [
          1.330643078826429e-15,
          -1.1743305472484165
         ],
         "z": [
          10.513661094496833,
          10.199000172714422
         ]
        },
        {
         "line": {
          "color": "gray",
          "width": 3
         },
         "mode": "lines",
         "showlegend": false,
         "type": "scatter3d",
         "x": [
          -6.744999999999999,
          -6.035
         ],
         "y": [
          1.330643078826429e-15,
          -1.1743305472484165
         ],
         "z": [
          10.513661094496833,
          10.199000172714422
         ]
        },
        {
         "line": {
          "color": "gray",
          "width": 3
         },
         "mode": "lines",
         "showlegend": false,
         "type": "scatter3d",
         "x": [
          1.7750000000000001,
          0.35500000000000026
         ],
         "y": [
          1.330643078826429e-15,
          2.876280291657467e-16
         ],
         "z": [
          10.513661094496833,
          10.513661094496833
         ]
        },
        {
         "line": {
          "color": "gray",
          "width": 3
         },
         "mode": "lines",
         "showlegend": false,
         "type": "scatter3d",
         "x": [
          -4.614999999999999,
          -3.9049999999999994
         ],
         "y": [
          2.3486610944968342,
          2.0340001727144226
         ],
         "z": [
          8.165,
          6.990669452751582
         ]
        },
        {
         "line": {
          "color": "gray",
          "width": 3
         },
         "mode": "lines",
         "showlegend": false,
         "type": "scatter3d",
         "x": [
          -4.614999999999999,
          -3.9049999999999994
         ],
         "y": [
          2.3486610944968342,
          2.0340001727144226
         ],
         "z": [
          8.165,
          6.990669452751582
         ]
        },
        {
         "line": {
          "color": "gray",
          "width": 3
         },
         "mode": "lines",
         "showlegend": false,
         "type": "scatter3d",
         "x": [
          -4.615,
          -3.9049999999999994
         ],
         "y": [
          1.174330547248418,
          2.0340001727144226
         ],
         "z": [
          10.19900017271442,
          9.339330547248416
         ]
        },
        {
         "line": {
          "color": "gray",
          "width": 3
         },
         "mode": "lines",
         "showlegend": false,
         "type": "scatter3d",
         "x": [
          -4.614999999999998,
          -6.035
         ],
         "y": [
          -2.3486610944968342,
          -2.3486610944968342
         ],
         "z": [
          8.165,
          8.165
         ]
        },
        {
         "line": {
          "color": "gray",
          "width": 3
         },
         "mode": "lines",
         "showlegend": false,
         "type": "scatter3d",
         "x": [
          -3.9049999999999994,
          -2.4849999999999994
         ],
         "y": [
          0,
          -5.752560583314934e-16
         ],
         "z": [
          5.816338905503165,
          5.816338905503165
         ]
        },
        {
         "line": {
          "color": "gray",
          "width": 3
         },
         "mode": "lines",
         "showlegend": false,
         "type": "scatter3d",
         "x": [
          6.035,
          4.615
         ],
         "y": [
          2.0340001727144226,
          2.0340001727144226
         ],
         "z": [
          9.339330547248416,
          9.339330547248416
         ]
        },
        {
         "line": {
          "color": "gray",
          "width": 3
         },
         "mode": "lines",
         "showlegend": false,
         "type": "scatter3d",
         "x": [
          -4.615,
          -6.035
         ],
         "y": [
          1.174330547248418,
          1.174330547248418
         ],
         "z": [
          10.19900017271442,
          10.19900017271442
         ]
        },
        {
         "line": {
          "color": "gray",
          "width": 3
         },
         "mode": "lines",
         "showlegend": false,
         "type": "scatter3d",
         "x": [
          3.905000000000001,
          4.615
         ],
         "y": [
          -2.3486610944968342,
          -2.0340001727144235
         ],
         "z": [
          8.165,
          6.990669452751583
         ]
        },
        {
         "line": {
          "color": "gray",
          "width": 3
         },
         "mode": "lines",
         "showlegend": false,
         "type": "scatter3d",
         "x": [
          8.165,
          6.744999999999999
         ],
         "y": [
          -1.1743305472484182,
          -1.1743305472484182
         ],
         "z": [
          6.130999827285578,
          6.130999827285578
         ]
        },
        {
         "line": {
          "color": "gray",
          "width": 3
         },
         "mode": "lines",
         "showlegend": false,
         "type": "scatter3d",
         "x": [
          1.7750000000000001,
          0.35500000000000026
         ],
         "y": [
          2.0340001727144226,
          2.0340001727144226
         ],
         "z": [
          6.990669452751582,
          6.990669452751582
         ]
        },
        {
         "line": {
          "color": "gray",
          "width": 3
         },
         "mode": "lines",
         "showlegend": false,
         "type": "scatter3d",
         "x": [
          -0.3549999999999997,
          0.35500000000000026
         ],
         "y": [
          1.174330547248417,
          0
         ],
         "z": [
          6.130999827285576,
          5.816338905503165
         ]
        },
        {
         "line": {
          "color": "gray",
          "width": 3
         },
         "mode": "lines",
         "showlegend": false,
         "type": "scatter3d",
         "x": [
          -0.3549999999999997,
          0.35500000000000026
         ],
         "y": [
          1.174330547248417,
          0
         ],
         "z": [
          6.130999827285576,
          5.816338905503165
         ]
        },
        {
         "line": {
          "color": "gray",
          "width": 3
         },
         "mode": "lines",
         "showlegend": false,
         "type": "scatter3d",
         "x": [
          -2.4849999999999994,
          -3.9049999999999994
         ],
         "y": [
          -2.0340001727144226,
          -2.0340001727144235
         ],
         "z": [
          6.990669452751582,
          6.990669452751583
         ]
        },
        {
         "line": {
          "color": "gray",
          "width": 3
         },
         "mode": "lines",
         "showlegend": false,
         "type": "scatter3d",
         "x": [
          6.035,
          6.744999999999999
         ],
         "y": [
          1.330643078826429e-15,
          -1.1743305472484165
         ],
         "z": [
          10.513661094496833,
          10.199000172714422
         ]
        },
        {
         "line": {
          "color": "gray",
          "width": 3
         },
         "mode": "lines",
         "showlegend": false,
         "type": "scatter3d",
         "x": [
          6.745000000000001,
          6.035
         ],
         "y": [
          1.174330547248417,
          2.0340001727144226
         ],
         "z": [
          6.130999827285576,
          6.990669452751582
         ]
        },
        {
         "line": {
          "color": "gray",
          "width": 3
         },
         "mode": "lines",
         "showlegend": false,
         "type": "scatter3d",
         "x": [
          -1.7750000000000006,
          -2.4849999999999994
         ],
         "y": [
          1.174330547248418,
          1.330643078826429e-15
         ],
         "z": [
          10.19900017271442,
          10.513661094496833
         ]
        },
        {
         "line": {
          "color": "gray",
          "width": 3
         },
         "mode": "lines",
         "showlegend": false,
         "type": "scatter3d",
         "x": [
          -0.3549999999999997,
          0.35500000000000026
         ],
         "y": [
          2.3486610944968342,
          2.0340001727144226
         ],
         "z": [
          8.165,
          9.339330547248416
         ]
        },
        {
         "line": {
          "color": "gray",
          "width": 3
         },
         "mode": "lines",
         "showlegend": false,
         "type": "scatter3d",
         "x": [
          1.7750000000000001,
          0.35500000000000026
         ],
         "y": [
          -2.0340001727144217,
          -2.0340001727144217
         ],
         "z": [
          9.339330547248418,
          9.339330547248418
         ]
        },
        {
         "line": {
          "color": "gray",
          "width": 3
         },
         "mode": "lines",
         "showlegend": false,
         "type": "scatter3d",
         "x": [
          6.035,
          6.744999999999999
         ],
         "y": [
          -2.0340001727144217,
          -2.3486610944968342
         ],
         "z": [
          9.339330547248418,
          8.165
         ]
        },
        {
         "line": {
          "color": "gray",
          "width": 3
         },
         "mode": "lines",
         "showlegend": false,
         "type": "scatter3d",
         "x": [
          3.905000000000001,
          2.485000000000001
         ],
         "y": [
          2.3486610944968342,
          2.3486610944968342
         ],
         "z": [
          8.165,
          8.165
         ]
        },
        {
         "line": {
          "color": "gray",
          "width": 3
         },
         "mode": "lines",
         "showlegend": false,
         "type": "scatter3d",
         "x": [
          -2.4849999999999994,
          -3.9049999999999994
         ],
         "y": [
          1.330643078826429e-15,
          2.876280291657467e-16
         ],
         "z": [
          10.513661094496833,
          10.513661094496833
         ]
        },
        {
         "line": {
          "color": "gray",
          "width": 3
         },
         "mode": "lines",
         "showlegend": false,
         "type": "scatter3d",
         "x": [
          8.165,
          6.744999999999999
         ],
         "y": [
          1.174330547248418,
          1.174330547248418
         ],
         "z": [
          10.19900017271442,
          10.19900017271442
         ]
        },
        {
         "line": {
          "color": "gray",
          "width": 3
         },
         "mode": "lines",
         "showlegend": false,
         "type": "scatter3d",
         "x": [
          6.744999999999999,
          6.035
         ],
         "y": [
          -1.1743305472484165,
          -2.0340001727144217
         ],
         "z": [
          10.199000172714422,
          9.339330547248418
         ]
        },
        {
         "line": {
          "color": "gray",
          "width": 3
         },
         "mode": "lines",
         "showlegend": false,
         "type": "scatter3d",
         "x": [
          6.744999999999999,
          6.035
         ],
         "y": [
          -1.1743305472484165,
          -2.0340001727144217
         ],
         "z": [
          10.199000172714422,
          9.339330547248418
         ]
        },
        {
         "line": {
          "color": "gray",
          "width": 3
         },
         "mode": "lines",
         "showlegend": false,
         "type": "scatter3d",
         "x": [
          6.744999999999999,
          6.035
         ],
         "y": [
          -2.3486610944968342,
          -2.0340001727144226
         ],
         "z": [
          8.165,
          6.990669452751582
         ]
        },
        {
         "line": {
          "color": "gray",
          "width": 3
         },
         "mode": "lines",
         "showlegend": false,
         "type": "scatter3d",
         "x": [
          -6.035,
          -6.744999999999999
         ],
         "y": [
          -2.3486610944968342,
          -2.0340001727144226
         ],
         "z": [
          8.165,
          6.990669452751582
         ]
        },
        {
         "line": {
          "color": "gray",
          "width": 3
         },
         "mode": "lines",
         "showlegend": false,
         "type": "scatter3d",
         "x": [
          -2.4849999999999994,
          -1.7749999999999988
         ],
         "y": [
          2.0340001727144226,
          2.3486610944968342
         ],
         "z": [
          6.990669452751582,
          8.165
         ]
        },
        {
         "line": {
          "color": "gray",
          "width": 3
         },
         "mode": "lines",
         "showlegend": false,
         "type": "scatter3d",
         "x": [
          -6.035,
          -6.744999999999999
         ],
         "y": [
          1.174330547248418,
          1.330643078826429e-15
         ],
         "z": [
          10.19900017271442,
          10.513661094496833
         ]
        },
        {
         "line": {
          "color": "gray",
          "width": 3
         },
         "mode": "lines",
         "showlegend": false,
         "type": "scatter3d",
         "x": [
          -6.034999999999999,
          -6.744999999999999
         ],
         "y": [
          1.174330547248417,
          -5.752560583314934e-16
         ],
         "z": [
          6.130999827285576,
          5.816338905503165
         ]
        },
        {
         "line": {
          "color": "gray",
          "width": 3
         },
         "mode": "lines",
         "showlegend": false,
         "type": "scatter3d",
         "x": [
          -6.034999999999999,
          -6.744999999999999
         ],
         "y": [
          1.174330547248417,
          -5.752560583314934e-16
         ],
         "z": [
          6.130999827285576,
          5.816338905503165
         ]
        },
        {
         "line": {
          "color": "gray",
          "width": 3
         },
         "mode": "lines",
         "showlegend": false,
         "type": "scatter3d",
         "x": [
          3.905000000000001,
          2.4849999999999994
         ],
         "y": [
          1.174330547248417,
          1.174330547248417
         ],
         "z": [
          6.130999827285576,
          6.130999827285576
         ]
        },
        {
         "line": {
          "color": "gray",
          "width": 3
         },
         "mode": "lines",
         "showlegend": false,
         "type": "scatter3d",
         "x": [
          -0.3549999999999988,
          0.35500000000000026
         ],
         "y": [
          -2.3486610944968342,
          -2.0340001727144235
         ],
         "z": [
          8.165,
          6.990669452751583
         ]
        },
        {
         "line": {
          "color": "gray",
          "width": 3
         },
         "mode": "lines",
         "showlegend": false,
         "type": "scatter3d",
         "x": [
          2.4849999999999994,
          1.7750000000000001
         ],
         "y": [
          -1.1743305472484165,
          -2.0340001727144217
         ],
         "z": [
          10.199000172714422,
          9.339330547248418
         ]
        },
        {
         "line": {
          "color": "gray",
          "width": 3
         },
         "mode": "lines",
         "showlegend": false,
         "type": "scatter3d",
         "x": [
          -0.3550000000000015,
          -1.7750000000000006
         ],
         "y": [
          -1.1743305472484182,
          -1.1743305472484182
         ],
         "z": [
          6.130999827285578,
          6.130999827285578
         ]
        },
        {
         "line": {
          "color": "gray",
          "width": 3
         },
         "mode": "lines",
         "showlegend": false,
         "type": "scatter3d",
         "x": [
          8.165,
          6.744999999999999
         ],
         "y": [
          -1.1743305472484165,
          -1.1743305472484165
         ],
         "z": [
          10.199000172714422,
          10.199000172714422
         ]
        },
        {
         "line": {
          "color": "gray",
          "width": 3
         },
         "mode": "lines",
         "showlegend": false,
         "type": "scatter3d",
         "x": [
          -0.3550000000000015,
          0.35500000000000026
         ],
         "y": [
          -1.1743305472484182,
          -2.0340001727144235
         ],
         "z": [
          6.130999827285578,
          6.990669452751583
         ]
        },
        {
         "line": {
          "color": "gray",
          "width": 3
         },
         "mode": "lines",
         "showlegend": false,
         "type": "scatter3d",
         "x": [
          8.165,
          6.744999999999999
         ],
         "y": [
          -2.3486610944968342,
          -2.3486610944968342
         ],
         "z": [
          8.165,
          8.165
         ]
        },
        {
         "line": {
          "color": "gray",
          "width": 3
         },
         "mode": "lines",
         "showlegend": false,
         "type": "scatter3d",
         "x": [
          3.9049999999999994,
          4.615
         ],
         "y": [
          1.174330547248418,
          2.0340001727144226
         ],
         "z": [
          10.19900017271442,
          9.339330547248416
         ]
        },
        {
         "line": {
          "color": "gray",
          "width": 3
         },
         "mode": "lines",
         "showlegend": false,
         "type": "scatter3d",
         "x": [
          -4.614999999999998,
          -3.9049999999999994
         ],
         "y": [
          -1.1743305472484165,
          -2.0340001727144217
         ],
         "z": [
          10.199000172714422,
          9.339330547248418
         ]
        },
        {
         "line": {
          "color": "gray",
          "width": 3
         },
         "mode": "lines",
         "showlegend": false,
         "type": "scatter3d",
         "x": [
          -2.4849999999999994,
          -1.7750000000000006
         ],
         "y": [
          -2.0340001727144217,
          -2.3486610944968342
         ],
         "z": [
          9.339330547248418,
          8.165
         ]
        },
        {
         "line": {
          "color": "gray",
          "width": 3
         },
         "mode": "lines",
         "showlegend": false,
         "type": "scatter3d",
         "x": [
          -2.4849999999999994,
          -1.7750000000000006
         ],
         "y": [
          -2.0340001727144217,
          -2.3486610944968342
         ],
         "z": [
          9.339330547248418,
          8.165
         ]
        },
        {
         "line": {
          "color": "gray",
          "width": 3
         },
         "mode": "lines",
         "showlegend": false,
         "type": "scatter3d",
         "x": [
          -2.4849999999999994,
          -1.7750000000000006
         ],
         "y": [
          -2.0340001727144226,
          -1.1743305472484182
         ],
         "z": [
          6.990669452751582,
          6.130999827285578
         ]
        },
        {
         "line": {
          "color": "gray",
          "width": 3
         },
         "mode": "lines",
         "showlegend": false,
         "type": "scatter3d",
         "x": [
          -3.9049999999999994,
          -2.4849999999999994
         ],
         "y": [
          0,
          -5.752560583314934e-16
         ],
         "z": [
          5.816338905503165,
          5.816338905503165
         ]
        },
        {
         "line": {
          "color": "gray",
          "width": 3
         },
         "mode": "lines",
         "showlegend": false,
         "type": "scatter3d",
         "x": [
          -6.744999999999999,
          -8.165
         ],
         "y": [
          2.0340001727144226,
          2.0340001727144226
         ],
         "z": [
          6.990669452751582,
          6.990669452751582
         ]
        },
        {
         "line": {
          "color": "gray",
          "width": 3
         },
         "mode": "lines",
         "showlegend": false,
         "type": "scatter3d",
         "x": [
          -6.744999999999999,
          -8.165
         ],
         "y": [
          2.0340001727144226,
          2.0340001727144226
         ],
         "z": [
          6.990669452751582,
          6.990669452751582
         ]
        },
        {
         "line": {
          "color": "gray",
          "width": 3
         },
         "mode": "lines",
         "showlegend": false,
         "type": "scatter3d",
         "x": [
          -4.615,
          -6.035
         ],
         "y": [
          1.174330547248418,
          1.174330547248418
         ],
         "z": [
          10.19900017271442,
          10.19900017271442
         ]
        },
        {
         "line": {
          "color": "gray",
          "width": 3
         },
         "mode": "lines",
         "showlegend": false,
         "type": "scatter3d",
         "x": [
          -0.3549999999999997,
          0.35500000000000026
         ],
         "y": [
          1.174330547248417,
          2.0340001727144226
         ],
         "z": [
          6.130999827285576,
          6.990669452751582
         ]
        },
        {
         "line": {
          "color": "gray",
          "width": 3
         },
         "mode": "lines",
         "showlegend": false,
         "type": "scatter3d",
         "x": [
          1.7750000000000001,
          2.4849999999999994
         ],
         "y": [
          1.330643078826429e-15,
          -1.1743305472484165
         ],
         "z": [
          10.513661094496833,
          10.199000172714422
         ]
        },
        {
         "line": {
          "color": "gray",
          "width": 3
         },
         "mode": "lines",
         "showlegend": false,
         "type": "scatter3d",
         "x": [
          1.7750000000000001,
          2.4849999999999994
         ],
         "y": [
          1.330643078826429e-15,
          -1.1743305472484165
         ],
         "z": [
          10.513661094496833,
          10.199000172714422
         ]
        },
        {
         "line": {
          "color": "gray",
          "width": 3
         },
         "mode": "lines",
         "showlegend": false,
         "type": "scatter3d",
         "x": [
          1.7750000000000001,
          2.4849999999999994
         ],
         "y": [
          -2.0340001727144217,
          -2.3486610944968342
         ],
         "z": [
          9.339330547248418,
          8.165
         ]
        },
        {
         "line": {
          "color": "gray",
          "width": 3
         },
         "mode": "lines",
         "showlegend": false,
         "type": "scatter3d",
         "x": [
          -0.3549999999999997,
          -1.7749999999999988
         ],
         "y": [
          2.3486610944968342,
          2.3486610944968342
         ],
         "z": [
          8.165,
          8.165
         ]
        },
        {
         "line": {
          "color": "gray",
          "width": 3
         },
         "mode": "lines",
         "showlegend": false,
         "type": "scatter3d",
         "x": [
          -1.7750000000000006,
          -2.4849999999999994
         ],
         "y": [
          -1.1743305472484165,
          -2.0340001727144217
         ],
         "z": [
          10.199000172714422,
          9.339330547248418
         ]
        },
        {
         "line": {
          "color": "gray",
          "width": 3
         },
         "mode": "lines",
         "showlegend": false,
         "type": "scatter3d",
         "x": [
          -1.7750000000000006,
          -2.4849999999999994
         ],
         "y": [
          -1.1743305472484165,
          -2.0340001727144217
         ],
         "z": [
          10.199000172714422,
          9.339330547248418
         ]
        },
        {
         "line": {
          "color": "gray",
          "width": 3
         },
         "mode": "lines",
         "showlegend": false,
         "type": "scatter3d",
         "x": [
          -1.7750000000000006,
          -2.4849999999999994
         ],
         "y": [
          -2.3486610944968342,
          -2.0340001727144226
         ],
         "z": [
          8.165,
          6.990669452751582
         ]
        },
        {
         "line": {
          "color": "gray",
          "width": 3
         },
         "mode": "lines",
         "showlegend": false,
         "type": "scatter3d",
         "x": [
          -4.615,
          -3.9049999999999994
         ],
         "y": [
          1.174330547248418,
          2.0340001727144226
         ],
         "z": [
          10.19900017271442,
          9.339330547248416
         ]
        },
        {
         "line": {
          "color": "gray",
          "width": 3
         },
         "mode": "lines",
         "showlegend": false,
         "type": "scatter3d",
         "x": [
          -2.4849999999999994,
          -3.9049999999999994
         ],
         "y": [
          -2.0340001727144226,
          -2.0340001727144235
         ],
         "z": [
          6.990669452751582,
          6.990669452751583
         ]
        },
        {
         "line": {
          "color": "gray",
          "width": 3
         },
         "mode": "lines",
         "showlegend": false,
         "type": "scatter3d",
         "x": [
          3.905000000000001,
          4.615
         ],
         "y": [
          -2.3486610944968342,
          -2.0340001727144235
         ],
         "z": [
          8.165,
          6.990669452751583
         ]
        },
        {
         "line": {
          "color": "gray",
          "width": 3
         },
         "mode": "lines",
         "showlegend": false,
         "type": "scatter3d",
         "x": [
          -2.4849999999999994,
          -3.9049999999999994
         ],
         "y": [
          -2.0340001727144217,
          -2.0340001727144217
         ],
         "z": [
          9.339330547248418,
          9.339330547248418
         ]
        },
        {
         "line": {
          "color": "gray",
          "width": 3
         },
         "mode": "lines",
         "showlegend": false,
         "type": "scatter3d",
         "x": [
          6.035,
          4.615
         ],
         "y": [
          -2.0340001727144226,
          -2.0340001727144235
         ],
         "z": [
          6.990669452751582,
          6.990669452751583
         ]
        },
        {
         "line": {
          "color": "gray",
          "width": 3
         },
         "mode": "lines",
         "showlegend": false,
         "type": "scatter3d",
         "x": [
          3.9049999999999994,
          2.4849999999999994
         ],
         "y": [
          1.174330547248418,
          1.174330547248418
         ],
         "z": [
          10.19900017271442,
          10.19900017271442
         ]
        },
        {
         "line": {
          "color": "gray",
          "width": 3
         },
         "mode": "lines",
         "showlegend": false,
         "type": "scatter3d",
         "x": [
          -4.614999999999998,
          -6.035
         ],
         "y": [
          -2.3486610944968342,
          -2.3486610944968342
         ],
         "z": [
          8.165,
          8.165
         ]
        },
        {
         "line": {
          "color": "gray",
          "width": 3
         },
         "mode": "lines",
         "showlegend": false,
         "type": "scatter3d",
         "x": [
          -4.614999999999998,
          -6.035
         ],
         "y": [
          -2.3486610944968342,
          -2.3486610944968342
         ],
         "z": [
          8.165,
          8.165
         ]
        },
        {
         "line": {
          "color": "gray",
          "width": 3
         },
         "mode": "lines",
         "showlegend": false,
         "type": "scatter3d",
         "x": [
          -4.615000000000001,
          -6.035
         ],
         "y": [
          -1.1743305472484182,
          -1.1743305472484182
         ],
         "z": [
          6.130999827285578,
          6.130999827285578
         ]
        },
        {
         "line": {
          "color": "gray",
          "width": 3
         },
         "mode": "lines",
         "showlegend": false,
         "type": "scatter3d",
         "x": [
          3.9049999999999994,
          2.4849999999999994
         ],
         "y": [
          1.174330547248418,
          1.174330547248418
         ],
         "z": [
          10.19900017271442,
          10.19900017271442
         ]
        },
        {
         "line": {
          "color": "gray",
          "width": 3
         },
         "mode": "lines",
         "showlegend": false,
         "type": "scatter3d",
         "x": [
          1.7750000000000001,
          0.35500000000000026
         ],
         "y": [
          -2.0340001727144217,
          -2.0340001727144217
         ],
         "z": [
          9.339330547248418,
          9.339330547248418
         ]
        },
        {
         "line": {
          "color": "gray",
          "width": 3
         },
         "mode": "lines",
         "showlegend": false,
         "type": "scatter3d",
         "x": [
          1.7750000000000001,
          0.35500000000000026
         ],
         "y": [
          1.330643078826429e-15,
          2.876280291657467e-16
         ],
         "z": [
          10.513661094496833,
          10.513661094496833
         ]
        },
        {
         "line": {
          "color": "gray",
          "width": 3
         },
         "mode": "lines",
         "showlegend": false,
         "type": "scatter3d",
         "x": [
          6.745000000000001,
          6.035
         ],
         "y": [
          1.174330547248417,
          2.0340001727144226
         ],
         "z": [
          6.130999827285576,
          6.990669452751582
         ]
        },
        {
         "line": {
          "color": "gray",
          "width": 3
         },
         "mode": "lines",
         "showlegend": false,
         "type": "scatter3d",
         "x": [
          -4.614999999999998,
          -3.9049999999999994
         ],
         "y": [
          -1.1743305472484165,
          2.876280291657467e-16
         ],
         "z": [
          10.199000172714422,
          10.513661094496833
         ]
        },
        {
         "line": {
          "color": "gray",
          "width": 3
         },
         "mode": "lines",
         "showlegend": false,
         "type": "scatter3d",
         "x": [
          -4.614999999999998,
          -3.9049999999999994
         ],
         "y": [
          -1.1743305472484165,
          2.876280291657467e-16
         ],
         "z": [
          10.199000172714422,
          10.513661094496833
         ]
        },
        {
         "line": {
          "color": "gray",
          "width": 3
         },
         "mode": "lines",
         "showlegend": false,
         "type": "scatter3d",
         "x": [
          -2.4849999999999994,
          -3.9049999999999994
         ],
         "y": [
          1.330643078826429e-15,
          2.876280291657467e-16
         ],
         "z": [
          10.513661094496833,
          10.513661094496833
         ]
        },
        {
         "line": {
          "color": "gray",
          "width": 3
         },
         "mode": "lines",
         "showlegend": false,
         "type": "scatter3d",
         "x": [
          -6.744999999999999,
          -8.165
         ],
         "y": [
          2.0340001727144226,
          2.0340001727144226
         ],
         "z": [
          6.990669452751582,
          6.990669452751582
         ]
        },
        {
         "line": {
          "color": "gray",
          "width": 3
         },
         "mode": "lines",
         "showlegend": false,
         "type": "scatter3d",
         "x": [
          1.7750000000000001,
          0.35500000000000026
         ],
         "y": [
          2.0340001727144226,
          2.0340001727144226
         ],
         "z": [
          6.990669452751582,
          6.990669452751582
         ]
        },
        {
         "line": {
          "color": "gray",
          "width": 3
         },
         "mode": "lines",
         "showlegend": false,
         "type": "scatter3d",
         "x": [
          1.7750000000000001,
          0.35500000000000026
         ],
         "y": [
          2.0340001727144226,
          2.0340001727144226
         ],
         "z": [
          6.990669452751582,
          6.990669452751582
         ]
        },
        {
         "line": {
          "color": "gray",
          "width": 3
         },
         "mode": "lines",
         "showlegend": false,
         "type": "scatter3d",
         "x": [
          1.7750000000000001,
          0.35500000000000026
         ],
         "y": [
          2.0340001727144226,
          2.0340001727144226
         ],
         "z": [
          9.339330547248416,
          9.339330547248416
         ]
        },
        {
         "line": {
          "color": "gray",
          "width": 3
         },
         "mode": "lines",
         "showlegend": false,
         "type": "scatter3d",
         "x": [
          -2.4849999999999994,
          -3.9049999999999994
         ],
         "y": [
          2.0340001727144226,
          2.0340001727144226
         ],
         "z": [
          9.339330547248416,
          9.339330547248416
         ]
        },
        {
         "line": {
          "color": "gray",
          "width": 3
         },
         "mode": "lines",
         "showlegend": false,
         "type": "scatter3d",
         "x": [
          8.165,
          6.744999999999999
         ],
         "y": [
          -1.1743305472484182,
          -1.1743305472484182
         ],
         "z": [
          6.130999827285578,
          6.130999827285578
         ]
        },
        {
         "line": {
          "color": "gray",
          "width": 3
         },
         "mode": "lines",
         "showlegend": false,
         "type": "scatter3d",
         "x": [
          -1.7750000000000006,
          -2.4849999999999994
         ],
         "y": [
          -1.1743305472484165,
          -2.0340001727144217
         ],
         "z": [
          10.199000172714422,
          9.339330547248418
         ]
        },
        {
         "line": {
          "color": "gray",
          "width": 3
         },
         "mode": "lines",
         "showlegend": false,
         "type": "scatter3d",
         "x": [
          3.905000000000001,
          4.615
         ],
         "y": [
          2.3486610944968342,
          2.0340001727144226
         ],
         "z": [
          8.165,
          6.990669452751582
         ]
        },
        {
         "line": {
          "color": "gray",
          "width": 3
         },
         "mode": "lines",
         "showlegend": false,
         "type": "scatter3d",
         "x": [
          6.035,
          6.744999999999999
         ],
         "y": [
          2.0340001727144226,
          1.174330547248418
         ],
         "z": [
          9.339330547248416,
          10.19900017271442
         ]
        },
        {
         "line": {
          "color": "gray",
          "width": 3
         },
         "mode": "lines",
         "showlegend": false,
         "type": "scatter3d",
         "x": [
          2.4849999999999994,
          1.7750000000000001
         ],
         "y": [
          -2.3486610944968342,
          -2.0340001727144226
         ],
         "z": [
          8.165,
          6.990669452751582
         ]
        },
        {
         "line": {
          "color": "gray",
          "width": 3
         },
         "mode": "lines",
         "showlegend": false,
         "type": "scatter3d",
         "x": [
          -2.4849999999999994,
          -1.7750000000000006
         ],
         "y": [
          2.0340001727144226,
          1.174330547248418
         ],
         "z": [
          9.339330547248416,
          10.19900017271442
         ]
        },
        {
         "line": {
          "color": "gray",
          "width": 3
         },
         "mode": "lines",
         "showlegend": false,
         "type": "scatter3d",
         "x": [
          6.035,
          4.615
         ],
         "y": [
          2.0340001727144226,
          2.0340001727144226
         ],
         "z": [
          6.990669452751582,
          6.990669452751582
         ]
        },
        {
         "line": {
          "color": "gray",
          "width": 3
         },
         "mode": "lines",
         "showlegend": false,
         "type": "scatter3d",
         "x": [
          6.035,
          6.744999999999999
         ],
         "y": [
          -2.0340001727144226,
          -1.1743305472484182
         ],
         "z": [
          6.990669452751582,
          6.130999827285578
         ]
        },
        {
         "line": {
          "color": "gray",
          "width": 3
         },
         "mode": "lines",
         "showlegend": false,
         "type": "scatter3d",
         "x": [
          -2.4849999999999994,
          -1.7749999999999988
         ],
         "y": [
          2.0340001727144226,
          2.3486610944968342
         ],
         "z": [
          6.990669452751582,
          8.165
         ]
        },
        {
         "line": {
          "color": "gray",
          "width": 3
         },
         "mode": "lines",
         "showlegend": false,
         "type": "scatter3d",
         "x": [
          8.165,
          6.744999999999999
         ],
         "y": [
          -2.3486610944968342,
          -2.3486610944968342
         ],
         "z": [
          8.165,
          8.165
         ]
        },
        {
         "line": {
          "color": "gray",
          "width": 3
         },
         "mode": "lines",
         "showlegend": false,
         "type": "scatter3d",
         "x": [
          -0.3549999999999997,
          0.35500000000000026
         ],
         "y": [
          2.3486610944968342,
          2.0340001727144226
         ],
         "z": [
          8.165,
          9.339330547248416
         ]
        },
        {
         "line": {
          "color": "gray",
          "width": 3
         },
         "mode": "lines",
         "showlegend": false,
         "type": "scatter3d",
         "x": [
          -4.614999999999999,
          -3.9049999999999994
         ],
         "y": [
          2.3486610944968342,
          2.0340001727144226
         ],
         "z": [
          8.165,
          9.339330547248416
         ]
        },
        {
         "line": {
          "color": "gray",
          "width": 3
         },
         "mode": "lines",
         "showlegend": false,
         "type": "scatter3d",
         "x": [
          -4.614999999999998,
          -3.9049999999999994
         ],
         "y": [
          -2.3486610944968342,
          -2.0340001727144235
         ],
         "z": [
          8.165,
          6.990669452751583
         ]
        },
        {
         "line": {
          "color": "gray",
          "width": 3
         },
         "mode": "lines",
         "showlegend": false,
         "type": "scatter3d",
         "x": [
          -6.034999999999998,
          -6.744999999999999
         ],
         "y": [
          2.3486610944968342,
          2.0340001727144226
         ],
         "z": [
          8.165,
          9.339330547248416
         ]
        },
        {
         "line": {
          "color": "gray",
          "width": 3
         },
         "mode": "lines",
         "showlegend": false,
         "type": "scatter3d",
         "x": [
          -0.3550000000000015,
          0.35500000000000026
         ],
         "y": [
          -1.1743305472484182,
          0
         ],
         "z": [
          6.130999827285578,
          5.816338905503165
         ]
        },
        {
         "line": {
          "color": "gray",
          "width": 3
         },
         "mode": "lines",
         "showlegend": false,
         "type": "scatter3d",
         "x": [
          -6.744999999999999,
          -8.165
         ],
         "y": [
          -2.0340001727144217,
          -2.0340001727144217
         ],
         "z": [
          9.339330547248418,
          9.339330547248418
         ]
        },
        {
         "line": {
          "color": "gray",
          "width": 3
         },
         "mode": "lines",
         "showlegend": false,
         "type": "scatter3d",
         "x": [
          -0.3550000000000015,
          -1.7750000000000006
         ],
         "y": [
          -1.1743305472484182,
          -1.1743305472484182
         ],
         "z": [
          6.130999827285578,
          6.130999827285578
         ]
        },
        {
         "line": {
          "color": "gray",
          "width": 3
         },
         "mode": "lines",
         "showlegend": false,
         "type": "scatter3d",
         "x": [
          -0.3550000000000015,
          0.35500000000000026
         ],
         "y": [
          -1.1743305472484182,
          0
         ],
         "z": [
          6.130999827285578,
          5.816338905503165
         ]
        },
        {
         "line": {
          "color": "gray",
          "width": 3
         },
         "mode": "lines",
         "showlegend": false,
         "type": "scatter3d",
         "x": [
          2.4849999999999994,
          1.7750000000000001
         ],
         "y": [
          -1.1743305472484182,
          -5.752560583314934e-16
         ],
         "z": [
          6.130999827285578,
          5.816338905503165
         ]
        },
        {
         "line": {
          "color": "gray",
          "width": 3
         },
         "mode": "lines",
         "showlegend": false,
         "type": "scatter3d",
         "x": [
          8.165,
          6.744999999999999
         ],
         "y": [
          -1.1743305472484165,
          -1.1743305472484165
         ],
         "z": [
          10.199000172714422,
          10.199000172714422
         ]
        },
        {
         "line": {
          "color": "gray",
          "width": 3
         },
         "mode": "lines",
         "showlegend": false,
         "type": "scatter3d",
         "x": [
          -4.614999999999998,
          -3.9049999999999994
         ],
         "y": [
          -1.1743305472484165,
          2.876280291657467e-16
         ],
         "z": [
          10.199000172714422,
          10.513661094496833
         ]
        },
        {
         "line": {
          "color": "gray",
          "width": 3
         },
         "mode": "lines",
         "showlegend": false,
         "type": "scatter3d",
         "x": [
          3.905000000000001,
          4.615
         ],
         "y": [
          -2.3486610944968342,
          -2.0340001727144217
         ],
         "z": [
          8.165,
          9.339330547248418
         ]
        },
        {
         "line": {
          "color": "gray",
          "width": 3
         },
         "mode": "lines",
         "showlegend": false,
         "type": "scatter3d",
         "x": [
          -0.3549999999999988,
          0.35500000000000026
         ],
         "y": [
          -2.3486610944968342,
          -2.0340001727144217
         ],
         "z": [
          8.165,
          9.339330547248418
         ]
        },
        {
         "line": {
          "color": "gray",
          "width": 3
         },
         "mode": "lines",
         "showlegend": false,
         "type": "scatter3d",
         "x": [
          -6.744999999999999,
          -6.035
         ],
         "y": [
          -2.0340001727144226,
          -1.1743305472484182
         ],
         "z": [
          6.990669452751582,
          6.130999827285578
         ]
        },
        {
         "line": {
          "color": "gray",
          "width": 3
         },
         "mode": "lines",
         "showlegend": false,
         "type": "scatter3d",
         "x": [
          -0.3549999999999988,
          0.35500000000000026
         ],
         "y": [
          -2.3486610944968342,
          -2.0340001727144235
         ],
         "z": [
          8.165,
          6.990669452751583
         ]
        },
        {
         "line": {
          "color": "gray",
          "width": 3
         },
         "mode": "lines",
         "showlegend": false,
         "type": "scatter3d",
         "x": [
          -6.035,
          -6.744999999999999
         ],
         "y": [
          1.174330547248418,
          1.330643078826429e-15
         ],
         "z": [
          10.19900017271442,
          10.513661094496833
         ]
        },
        {
         "line": {
          "color": "gray",
          "width": 3
         },
         "mode": "lines",
         "showlegend": false,
         "type": "scatter3d",
         "x": [
          -0.3549999999999988,
          0.35500000000000026
         ],
         "y": [
          -2.3486610944968342,
          -2.0340001727144235
         ],
         "z": [
          8.165,
          6.990669452751583
         ]
        },
        {
         "line": {
          "color": "gray",
          "width": 3
         },
         "mode": "lines",
         "showlegend": false,
         "type": "scatter3d",
         "x": [
          3.905000000000001,
          2.4849999999999994
         ],
         "y": [
          1.174330547248417,
          1.174330547248417
         ],
         "z": [
          6.130999827285576,
          6.130999827285576
         ]
        },
        {
         "line": {
          "color": "gray",
          "width": 3
         },
         "mode": "lines",
         "showlegend": false,
         "type": "scatter3d",
         "x": [
          8.165,
          6.745000000000001
         ],
         "y": [
          2.3486610944968342,
          2.3486610944968342
         ],
         "z": [
          8.165,
          8.165
         ]
        },
        {
         "line": {
          "color": "gray",
          "width": 3
         },
         "mode": "lines",
         "showlegend": false,
         "type": "scatter3d",
         "x": [
          -6.744999999999999,
          -8.165
         ],
         "y": [
          2.0340001727144226,
          2.0340001727144226
         ],
         "z": [
          9.339330547248416,
          9.339330547248416
         ]
        },
        {
         "line": {
          "color": "gray",
          "width": 3
         },
         "mode": "lines",
         "showlegend": false,
         "type": "scatter3d",
         "x": [
          1.7750000000000001,
          2.4849999999999994
         ],
         "y": [
          2.0340001727144226,
          1.174330547248418
         ],
         "z": [
          9.339330547248416,
          10.19900017271442
         ]
        },
        {
         "line": {
          "color": "gray",
          "width": 3
         },
         "mode": "lines",
         "showlegend": false,
         "type": "scatter3d",
         "x": [
          -0.3550000000000015,
          0.35500000000000026
         ],
         "y": [
          -1.1743305472484182,
          -2.0340001727144235
         ],
         "z": [
          6.130999827285578,
          6.990669452751583
         ]
        },
        {
         "line": {
          "color": "gray",
          "width": 3
         },
         "mode": "lines",
         "showlegend": false,
         "type": "scatter3d",
         "x": [
          3.905000000000001,
          4.615
         ],
         "y": [
          -1.1743305472484165,
          2.876280291657467e-16
         ],
         "z": [
          10.199000172714422,
          10.513661094496833
         ]
        },
        {
         "line": {
          "color": "gray",
          "width": 3
         },
         "mode": "lines",
         "showlegend": false,
         "type": "scatter3d",
         "x": [
          6.745000000000001,
          6.035
         ],
         "y": [
          2.3486610944968342,
          2.0340001727144226
         ],
         "z": [
          8.165,
          9.339330547248416
         ]
        },
        {
         "line": {
          "color": "gray",
          "width": 3
         },
         "mode": "lines",
         "showlegend": false,
         "type": "scatter3d",
         "x": [
          6.745000000000001,
          6.035
         ],
         "y": [
          2.3486610944968342,
          2.0340001727144226
         ],
         "z": [
          8.165,
          9.339330547248416
         ]
        },
        {
         "line": {
          "color": "gray",
          "width": 3
         },
         "mode": "lines",
         "showlegend": false,
         "type": "scatter3d",
         "x": [
          6.035,
          4.615
         ],
         "y": [
          -2.0340001727144226,
          -2.0340001727144235
         ],
         "z": [
          6.990669452751582,
          6.990669452751583
         ]
        },
        {
         "line": {
          "color": "gray",
          "width": 3
         },
         "mode": "lines",
         "showlegend": false,
         "type": "scatter3d",
         "x": [
          1.7750000000000001,
          0.35500000000000026
         ],
         "y": [
          -2.0340001727144217,
          -2.0340001727144217
         ],
         "z": [
          9.339330547248418,
          9.339330547248418
         ]
        },
        {
         "line": {
          "color": "gray",
          "width": 3
         },
         "mode": "lines",
         "showlegend": false,
         "type": "scatter3d",
         "x": [
          1.7750000000000001,
          0.35500000000000026
         ],
         "y": [
          -2.0340001727144217,
          -2.0340001727144217
         ],
         "z": [
          9.339330547248418,
          9.339330547248418
         ]
        },
        {
         "line": {
          "color": "gray",
          "width": 3
         },
         "mode": "lines",
         "showlegend": false,
         "type": "scatter3d",
         "x": [
          -6.035,
          -6.744999999999999
         ],
         "y": [
          -1.1743305472484182,
          -5.752560583314934e-16
         ],
         "z": [
          6.130999827285578,
          5.816338905503165
         ]
        },
        {
         "line": {
          "color": "gray",
          "width": 3
         },
         "mode": "lines",
         "showlegend": false,
         "type": "scatter3d",
         "x": [
          -6.035,
          -6.744999999999999
         ],
         "y": [
          -1.1743305472484182,
          -5.752560583314934e-16
         ],
         "z": [
          6.130999827285578,
          5.816338905503165
         ]
        },
        {
         "line": {
          "color": "gray",
          "width": 3
         },
         "mode": "lines",
         "showlegend": false,
         "type": "scatter3d",
         "x": [
          -0.3549999999999988,
          -1.7750000000000006
         ],
         "y": [
          -2.3486610944968342,
          -2.3486610944968342
         ],
         "z": [
          8.165,
          8.165
         ]
        },
        {
         "line": {
          "color": "gray",
          "width": 3
         },
         "mode": "lines",
         "showlegend": false,
         "type": "scatter3d",
         "x": [
          -6.744999999999999,
          -6.034999999999998
         ],
         "y": [
          2.0340001727144226,
          2.3486610944968342
         ],
         "z": [
          6.990669452751582,
          8.165
         ]
        },
        {
         "line": {
          "color": "gray",
          "width": 3
         },
         "mode": "lines",
         "showlegend": false,
         "type": "scatter3d",
         "x": [
          3.9049999999999976,
          4.615
         ],
         "y": [
          -1.1743305472484182,
          -2.0340001727144235
         ],
         "z": [
          6.130999827285578,
          6.990669452751583
         ]
        },
        {
         "line": {
          "color": "gray",
          "width": 3
         },
         "mode": "lines",
         "showlegend": false,
         "type": "scatter3d",
         "x": [
          -3.9049999999999994,
          -2.4849999999999994
         ],
         "y": [
          0,
          -5.752560583314934e-16
         ],
         "z": [
          5.816338905503165,
          5.816338905503165
         ]
        },
        {
         "line": {
          "color": "gray",
          "width": 3
         },
         "mode": "lines",
         "showlegend": false,
         "type": "scatter3d",
         "x": [
          3.9049999999999994,
          4.615
         ],
         "y": [
          1.174330547248418,
          2.876280291657467e-16
         ],
         "z": [
          10.19900017271442,
          10.513661094496833
         ]
        },
        {
         "line": {
          "color": "gray",
          "width": 3
         },
         "mode": "lines",
         "showlegend": false,
         "type": "scatter3d",
         "x": [
          6.745000000000001,
          6.035
         ],
         "y": [
          1.174330547248417,
          -5.752560583314934e-16
         ],
         "z": [
          6.130999827285576,
          5.816338905503165
         ]
        },
        {
         "line": {
          "color": "gray",
          "width": 3
         },
         "mode": "lines",
         "showlegend": false,
         "type": "scatter3d",
         "x": [
          -4.615,
          -6.035
         ],
         "y": [
          1.174330547248418,
          1.174330547248418
         ],
         "z": [
          10.19900017271442,
          10.19900017271442
         ]
        },
        {
         "line": {
          "color": "gray",
          "width": 3
         },
         "mode": "lines",
         "showlegend": false,
         "type": "scatter3d",
         "x": [
          3.905000000000001,
          2.4849999999999994
         ],
         "y": [
          -1.1743305472484165,
          -1.1743305472484165
         ],
         "z": [
          10.199000172714422,
          10.199000172714422
         ]
        },
        {
         "line": {
          "color": "gray",
          "width": 3
         },
         "mode": "lines",
         "showlegend": false,
         "type": "scatter3d",
         "x": [
          -0.3549999999999988,
          -1.7750000000000006
         ],
         "y": [
          -1.1743305472484165,
          -1.1743305472484165
         ],
         "z": [
          10.199000172714422,
          10.199000172714422
         ]
        },
        {
         "line": {
          "color": "gray",
          "width": 3
         },
         "mode": "lines",
         "showlegend": false,
         "type": "scatter3d",
         "x": [
          -1.7750000000000006,
          -2.4849999999999994
         ],
         "y": [
          -2.3486610944968342,
          -2.0340001727144226
         ],
         "z": [
          8.165,
          6.990669452751582
         ]
        },
        {
         "line": {
          "color": "gray",
          "width": 3
         },
         "mode": "lines",
         "showlegend": false,
         "type": "scatter3d",
         "x": [
          -4.615,
          -3.9049999999999994
         ],
         "y": [
          1.174330547248418,
          2.876280291657467e-16
         ],
         "z": [
          10.19900017271442,
          10.513661094496833
         ]
        },
        {
         "line": {
          "color": "gray",
          "width": 3
         },
         "mode": "lines",
         "showlegend": false,
         "type": "scatter3d",
         "x": [
          -1.7750000000000006,
          -2.4849999999999994
         ],
         "y": [
          -2.3486610944968342,
          -2.0340001727144226
         ],
         "z": [
          8.165,
          6.990669452751582
         ]
        },
        {
         "line": {
          "color": "gray",
          "width": 3
         },
         "mode": "lines",
         "showlegend": false,
         "type": "scatter3d",
         "x": [
          -4.614999999999999,
          -6.034999999999998
         ],
         "y": [
          2.3486610944968342,
          2.3486610944968342
         ],
         "z": [
          8.165,
          8.165
         ]
        },
        {
         "line": {
          "color": "gray",
          "width": 3
         },
         "mode": "lines",
         "showlegend": false,
         "type": "scatter3d",
         "x": [
          3.905000000000001,
          4.615
         ],
         "y": [
          2.3486610944968342,
          2.0340001727144226
         ],
         "z": [
          8.165,
          6.990669452751582
         ]
        },
        {
         "line": {
          "color": "gray",
          "width": 3
         },
         "mode": "lines",
         "showlegend": false,
         "type": "scatter3d",
         "x": [
          3.905000000000001,
          4.615
         ],
         "y": [
          2.3486610944968342,
          2.0340001727144226
         ],
         "z": [
          8.165,
          6.990669452751582
         ]
        },
        {
         "line": {
          "color": "gray",
          "width": 3
         },
         "mode": "lines",
         "showlegend": false,
         "type": "scatter3d",
         "x": [
          -2.4849999999999994,
          -3.9049999999999994
         ],
         "y": [
          -2.0340001727144226,
          -2.0340001727144235
         ],
         "z": [
          6.990669452751582,
          6.990669452751583
         ]
        },
        {
         "line": {
          "color": "gray",
          "width": 3
         },
         "mode": "lines",
         "showlegend": false,
         "type": "scatter3d",
         "x": [
          -4.614999999999999,
          -6.034999999999999
         ],
         "y": [
          1.174330547248417,
          1.174330547248417
         ],
         "z": [
          6.130999827285576,
          6.130999827285576
         ]
        },
        {
         "line": {
          "color": "gray",
          "width": 3
         },
         "mode": "lines",
         "showlegend": false,
         "type": "scatter3d",
         "x": [
          6.745000000000001,
          6.035
         ],
         "y": [
          2.3486610944968342,
          2.0340001727144226
         ],
         "z": [
          8.165,
          9.339330547248416
         ]
        },
        {
         "line": {
          "color": "gray",
          "width": 3
         },
         "mode": "lines",
         "showlegend": false,
         "type": "scatter3d",
         "x": [
          -0.3549999999999997,
          -1.7749999999999997
         ],
         "y": [
          1.174330547248417,
          1.174330547248417
         ],
         "z": [
          6.130999827285576,
          6.130999827285576
         ]
        },
        {
         "line": {
          "color": "gray",
          "width": 3
         },
         "mode": "lines",
         "showlegend": false,
         "type": "scatter3d",
         "x": [
          1.7750000000000001,
          0.35500000000000026
         ],
         "y": [
          -2.0340001727144217,
          -2.0340001727144217
         ],
         "z": [
          9.339330547248418,
          9.339330547248418
         ]
        },
        {
         "line": {
          "color": "gray",
          "width": 3
         },
         "mode": "lines",
         "showlegend": false,
         "type": "scatter3d",
         "x": [
          -4.614999999999998,
          -3.9049999999999994
         ],
         "y": [
          -2.3486610944968342,
          -2.0340001727144217
         ],
         "z": [
          8.165,
          9.339330547248418
         ]
        },
        {
         "line": {
          "color": "gray",
          "width": 3
         },
         "mode": "lines",
         "showlegend": false,
         "type": "scatter3d",
         "x": [
          -4.614999999999998,
          -3.9049999999999994
         ],
         "y": [
          -2.3486610944968342,
          -2.0340001727144217
         ],
         "z": [
          8.165,
          9.339330547248418
         ]
        },
        {
         "line": {
          "color": "gray",
          "width": 3
         },
         "mode": "lines",
         "showlegend": false,
         "type": "scatter3d",
         "x": [
          3.9049999999999976,
          4.615
         ],
         "y": [
          -1.1743305472484182,
          0
         ],
         "z": [
          6.130999827285578,
          5.816338905503165
         ]
        },
        {
         "line": {
          "color": "gray",
          "width": 3
         },
         "mode": "lines",
         "showlegend": false,
         "type": "scatter3d",
         "x": [
          -2.4849999999999994,
          -3.9049999999999994
         ],
         "y": [
          1.330643078826429e-15,
          2.876280291657467e-16
         ],
         "z": [
          10.513661094496833,
          10.513661094496833
         ]
        },
        {
         "line": {
          "color": "gray",
          "width": 3
         },
         "mode": "lines",
         "showlegend": false,
         "type": "scatter3d",
         "x": [
          3.905000000000001,
          4.615
         ],
         "y": [
          2.3486610944968342,
          2.0340001727144226
         ],
         "z": [
          8.165,
          6.990669452751582
         ]
        },
        {
         "line": {
          "color": "gray",
          "width": 3
         },
         "mode": "lines",
         "showlegend": false,
         "type": "scatter3d",
         "x": [
          -8.165,
          -6.744999999999999
         ],
         "y": [
          0,
          -5.752560583314934e-16
         ],
         "z": [
          5.816338905503165,
          5.816338905503165
         ]
        },
        {
         "line": {
          "color": "gray",
          "width": 3
         },
         "mode": "lines",
         "showlegend": false,
         "type": "scatter3d",
         "x": [
          -4.614999999999999,
          -3.9049999999999994
         ],
         "y": [
          1.174330547248417,
          2.0340001727144226
         ],
         "z": [
          6.130999827285576,
          6.990669452751582
         ]
        },
        {
         "line": {
          "color": "gray",
          "width": 3
         },
         "mode": "lines",
         "showlegend": false,
         "type": "scatter3d",
         "x": [
          2.4849999999999994,
          1.7750000000000001
         ],
         "y": [
          -1.1743305472484182,
          -5.752560583314934e-16
         ],
         "z": [
          6.130999827285578,
          5.816338905503165
         ]
        },
        {
         "line": {
          "color": "gray",
          "width": 3
         },
         "mode": "lines",
         "showlegend": false,
         "type": "scatter3d",
         "x": [
          8.165,
          6.745000000000001
         ],
         "y": [
          2.3486610944968342,
          2.3486610944968342
         ],
         "z": [
          8.165,
          8.165
         ]
        },
        {
         "line": {
          "color": "gray",
          "width": 3
         },
         "mode": "lines",
         "showlegend": false,
         "type": "scatter3d",
         "x": [
          6.035,
          6.744999999999999
         ],
         "y": [
          2.0340001727144226,
          1.174330547248418
         ],
         "z": [
          9.339330547248416,
          10.19900017271442
         ]
        },
        {
         "line": {
          "color": "gray",
          "width": 3
         },
         "mode": "lines",
         "showlegend": false,
         "type": "scatter3d",
         "x": [
          -4.615,
          -3.9049999999999994
         ],
         "y": [
          1.174330547248418,
          2.0340001727144226
         ],
         "z": [
          10.19900017271442,
          9.339330547248416
         ]
        },
        {
         "line": {
          "color": "gray",
          "width": 3
         },
         "mode": "lines",
         "showlegend": false,
         "type": "scatter3d",
         "x": [
          -4.615,
          -3.9049999999999994
         ],
         "y": [
          1.174330547248418,
          2.0340001727144226
         ],
         "z": [
          10.19900017271442,
          9.339330547248416
         ]
        },
        {
         "line": {
          "color": "gray",
          "width": 3
         },
         "mode": "lines",
         "showlegend": false,
         "type": "scatter3d",
         "x": [
          -2.4849999999999994,
          -1.7750000000000006
         ],
         "y": [
          2.0340001727144226,
          1.174330547248418
         ],
         "z": [
          9.339330547248416,
          10.19900017271442
         ]
        },
        {
         "line": {
          "color": "gray",
          "width": 3
         },
         "mode": "lines",
         "showlegend": false,
         "type": "scatter3d",
         "x": [
          2.4849999999999994,
          1.7750000000000001
         ],
         "y": [
          -1.1743305472484165,
          -2.0340001727144217
         ],
         "z": [
          10.199000172714422,
          9.339330547248418
         ]
        },
        {
         "line": {
          "color": "gray",
          "width": 3
         },
         "mode": "lines",
         "showlegend": false,
         "type": "scatter3d",
         "x": [
          -6.035,
          -6.744999999999999
         ],
         "y": [
          -1.1743305472484165,
          -2.0340001727144217
         ],
         "z": [
          10.199000172714422,
          9.339330547248418
         ]
        },
        {
         "line": {
          "color": "gray",
          "width": 3
         },
         "mode": "lines",
         "showlegend": false,
         "type": "scatter3d",
         "x": [
          -2.4849999999999994,
          -3.9049999999999994
         ],
         "y": [
          2.0340001727144226,
          2.0340001727144226
         ],
         "z": [
          6.990669452751582,
          6.990669452751582
         ]
        },
        {
         "line": {
          "color": "gray",
          "width": 3
         },
         "mode": "lines",
         "showlegend": false,
         "type": "scatter3d",
         "x": [
          6.745000000000001,
          6.035
         ],
         "y": [
          1.174330547248417,
          2.0340001727144226
         ],
         "z": [
          6.130999827285576,
          6.990669452751582
         ]
        },
        {
         "line": {
          "color": "gray",
          "width": 3
         },
         "mode": "lines",
         "showlegend": false,
         "type": "scatter3d",
         "x": [
          8.165,
          6.744999999999999
         ],
         "y": [
          -2.3486610944968342,
          -2.3486610944968342
         ],
         "z": [
          8.165,
          8.165
         ]
        },
        {
         "line": {
          "color": "gray",
          "width": 3
         },
         "mode": "lines",
         "showlegend": false,
         "type": "scatter3d",
         "x": [
          -6.035,
          -6.744999999999999
         ],
         "y": [
          1.174330547248418,
          1.330643078826429e-15
         ],
         "z": [
          10.19900017271442,
          10.513661094496833
         ]
        },
        {
         "line": {
          "color": "gray",
          "width": 3
         },
         "mode": "lines",
         "showlegend": false,
         "type": "scatter3d",
         "x": [
          2.4849999999999994,
          1.7750000000000001
         ],
         "y": [
          1.174330547248417,
          -5.752560583314934e-16
         ],
         "z": [
          6.130999827285576,
          5.816338905503165
         ]
        },
        {
         "line": {
          "color": "gray",
          "width": 3
         },
         "mode": "lines",
         "showlegend": false,
         "type": "scatter3d",
         "x": [
          2.4849999999999994,
          1.7750000000000001
         ],
         "y": [
          1.174330547248417,
          -5.752560583314934e-16
         ],
         "z": [
          6.130999827285576,
          5.816338905503165
         ]
        },
        {
         "line": {
          "color": "gray",
          "width": 3
         },
         "mode": "lines",
         "showlegend": false,
         "type": "scatter3d",
         "x": [
          -4.614999999999999,
          -3.9049999999999994
         ],
         "y": [
          2.3486610944968342,
          2.0340001727144226
         ],
         "z": [
          8.165,
          9.339330547248416
         ]
        },
        {
         "line": {
          "color": "gray",
          "width": 3
         },
         "mode": "lines",
         "showlegend": false,
         "type": "scatter3d",
         "x": [
          3.905000000000001,
          4.615
         ],
         "y": [
          1.174330547248417,
          0
         ],
         "z": [
          6.130999827285576,
          5.816338905503165
         ]
        },
        {
         "line": {
          "color": "gray",
          "width": 3
         },
         "mode": "lines",
         "showlegend": false,
         "type": "scatter3d",
         "x": [
          -4.614999999999998,
          -3.9049999999999994
         ],
         "y": [
          -1.1743305472484165,
          -2.0340001727144217
         ],
         "z": [
          10.199000172714422,
          9.339330547248418
         ]
        },
        {
         "line": {
          "color": "gray",
          "width": 3
         },
         "mode": "lines",
         "showlegend": false,
         "type": "scatter3d",
         "x": [
          -0.3549999999999988,
          -1.7750000000000006
         ],
         "y": [
          -2.3486610944968342,
          -2.3486610944968342
         ],
         "z": [
          8.165,
          8.165
         ]
        },
        {
         "line": {
          "color": "gray",
          "width": 3
         },
         "mode": "lines",
         "showlegend": false,
         "type": "scatter3d",
         "x": [
          -0.3550000000000015,
          0.35500000000000026
         ],
         "y": [
          -1.1743305472484182,
          -2.0340001727144235
         ],
         "z": [
          6.130999827285578,
          6.990669452751583
         ]
        },
        {
         "line": {
          "color": "gray",
          "width": 3
         },
         "mode": "lines",
         "showlegend": false,
         "type": "scatter3d",
         "x": [
          3.9049999999999994,
          4.615
         ],
         "y": [
          1.174330547248418,
          2.876280291657467e-16
         ],
         "z": [
          10.19900017271442,
          10.513661094496833
         ]
        },
        {
         "line": {
          "color": "gray",
          "width": 3
         },
         "mode": "lines",
         "showlegend": false,
         "type": "scatter3d",
         "x": [
          -0.3549999999999997,
          0.35500000000000026
         ],
         "y": [
          1.174330547248417,
          2.0340001727144226
         ],
         "z": [
          6.130999827285576,
          6.990669452751582
         ]
        },
        {
         "line": {
          "color": "gray",
          "width": 3
         },
         "mode": "lines",
         "showlegend": false,
         "type": "scatter3d",
         "x": [
          8.165,
          6.744999999999999
         ],
         "y": [
          1.174330547248418,
          1.174330547248418
         ],
         "z": [
          10.19900017271442,
          10.19900017271442
         ]
        },
        {
         "line": {
          "color": "gray",
          "width": 3
         },
         "mode": "lines",
         "showlegend": false,
         "type": "scatter3d",
         "x": [
          -1.7749999999999997,
          -2.4849999999999994
         ],
         "y": [
          1.174330547248417,
          2.0340001727144226
         ],
         "z": [
          6.130999827285576,
          6.990669452751582
         ]
        },
        {
         "line": {
          "color": "gray",
          "width": 3
         },
         "mode": "lines",
         "showlegend": false,
         "type": "scatter3d",
         "x": [
          6.035,
          6.744999999999999
         ],
         "y": [
          -2.0340001727144226,
          -1.1743305472484182
         ],
         "z": [
          6.990669452751582,
          6.130999827285578
         ]
        },
        {
         "line": {
          "color": "gray",
          "width": 3
         },
         "mode": "lines",
         "showlegend": false,
         "type": "scatter3d",
         "x": [
          -6.744999999999999,
          -6.035
         ],
         "y": [
          -2.0340001727144217,
          -2.3486610944968342
         ],
         "z": [
          9.339330547248418,
          8.165
         ]
        },
        {
         "line": {
          "color": "gray",
          "width": 3
         },
         "mode": "lines",
         "showlegend": false,
         "type": "scatter3d",
         "x": [
          -6.034999999999999,
          -6.744999999999999
         ],
         "y": [
          1.174330547248417,
          2.0340001727144226
         ],
         "z": [
          6.130999827285576,
          6.990669452751582
         ]
        },
        {
         "line": {
          "color": "gray",
          "width": 3
         },
         "mode": "lines",
         "showlegend": false,
         "type": "scatter3d",
         "x": [
          -6.744999999999999,
          -8.165
         ],
         "y": [
          2.0340001727144226,
          2.0340001727144226
         ],
         "z": [
          9.339330547248416,
          9.339330547248416
         ]
        },
        {
         "line": {
          "color": "gray",
          "width": 3
         },
         "mode": "lines",
         "showlegend": false,
         "type": "scatter3d",
         "x": [
          -6.744999999999999,
          -8.165
         ],
         "y": [
          2.0340001727144226,
          2.0340001727144226
         ],
         "z": [
          9.339330547248416,
          9.339330547248416
         ]
        },
        {
         "line": {
          "color": "gray",
          "width": 3
         },
         "mode": "lines",
         "showlegend": false,
         "type": "scatter3d",
         "x": [
          -6.744999999999999,
          -8.165
         ],
         "y": [
          1.330643078826429e-15,
          2.876280291657467e-16
         ],
         "z": [
          10.513661094496833,
          10.513661094496833
         ]
        },
        {
         "line": {
          "color": "gray",
          "width": 3
         },
         "mode": "lines",
         "showlegend": false,
         "type": "scatter3d",
         "x": [
          -6.035,
          -6.744999999999999
         ],
         "y": [
          -2.3486610944968342,
          -2.0340001727144226
         ],
         "z": [
          8.165,
          6.990669452751582
         ]
        },
        {
         "line": {
          "color": "gray",
          "width": 3
         },
         "mode": "lines",
         "showlegend": false,
         "type": "scatter3d",
         "x": [
          -4.615,
          -3.9049999999999994
         ],
         "y": [
          1.174330547248418,
          2.0340001727144226
         ],
         "z": [
          10.19900017271442,
          9.339330547248416
         ]
        },
        {
         "line": {
          "color": "gray",
          "width": 3
         },
         "mode": "lines",
         "showlegend": false,
         "type": "scatter3d",
         "x": [
          6.744999999999999,
          6.035
         ],
         "y": [
          1.174330547248418,
          1.330643078826429e-15
         ],
         "z": [
          10.19900017271442,
          10.513661094496833
         ]
        },
        {
         "line": {
          "color": "gray",
          "width": 3
         },
         "mode": "lines",
         "showlegend": false,
         "type": "scatter3d",
         "x": [
          6.744999999999999,
          6.035
         ],
         "y": [
          1.174330547248418,
          1.330643078826429e-15
         ],
         "z": [
          10.19900017271442,
          10.513661094496833
         ]
        },
        {
         "line": {
          "color": "gray",
          "width": 3
         },
         "mode": "lines",
         "showlegend": false,
         "type": "scatter3d",
         "x": [
          6.035,
          4.615
         ],
         "y": [
          -2.0340001727144226,
          -2.0340001727144235
         ],
         "z": [
          6.990669452751582,
          6.990669452751583
         ]
        },
        {
         "line": {
          "color": "gray",
          "width": 3
         },
         "mode": "lines",
         "showlegend": false,
         "type": "scatter3d",
         "x": [
          8.165,
          6.745000000000001
         ],
         "y": [
          1.174330547248417,
          1.174330547248417
         ],
         "z": [
          6.130999827285576,
          6.130999827285576
         ]
        },
        {
         "line": {
          "color": "gray",
          "width": 3
         },
         "mode": "lines",
         "showlegend": false,
         "type": "scatter3d",
         "x": [
          -4.614999999999999,
          -3.9049999999999994
         ],
         "y": [
          1.174330547248417,
          0
         ],
         "z": [
          6.130999827285576,
          5.816338905503165
         ]
        },
        {
         "line": {
          "color": "gray",
          "width": 3
         },
         "mode": "lines",
         "showlegend": false,
         "type": "scatter3d",
         "x": [
          -0.3550000000000006,
          0.35500000000000026
         ],
         "y": [
          1.174330547248418,
          2.876280291657467e-16
         ],
         "z": [
          10.19900017271442,
          10.513661094496833
         ]
        },
        {
         "line": {
          "color": "gray",
          "width": 3
         },
         "mode": "lines",
         "showlegend": false,
         "type": "scatter3d",
         "x": [
          -0.3550000000000006,
          0.35500000000000026
         ],
         "y": [
          1.174330547248418,
          2.876280291657467e-16
         ],
         "z": [
          10.19900017271442,
          10.513661094496833
         ]
        },
        {
         "line": {
          "color": "gray",
          "width": 3
         },
         "mode": "lines",
         "showlegend": false,
         "type": "scatter3d",
         "x": [
          -0.3549999999999988,
          0.35500000000000026
         ],
         "y": [
          -1.1743305472484165,
          -2.0340001727144217
         ],
         "z": [
          10.199000172714422,
          9.339330547248418
         ]
        },
        {
         "line": {
          "color": "gray",
          "width": 3
         },
         "mode": "lines",
         "showlegend": false,
         "type": "scatter3d",
         "x": [
          3.905000000000001,
          2.4849999999999994
         ],
         "y": [
          -1.1743305472484165,
          -1.1743305472484165
         ],
         "z": [
          10.199000172714422,
          10.199000172714422
         ]
        },
        {
         "line": {
          "color": "gray",
          "width": 3
         },
         "mode": "lines",
         "showlegend": false,
         "type": "scatter3d",
         "x": [
          3.905000000000001,
          2.4849999999999994
         ],
         "y": [
          -1.1743305472484165,
          -1.1743305472484165
         ],
         "z": [
          10.199000172714422,
          10.199000172714422
         ]
        },
        {
         "line": {
          "color": "gray",
          "width": 3
         },
         "mode": "lines",
         "showlegend": false,
         "type": "scatter3d",
         "x": [
          4.615,
          6.035
         ],
         "y": [
          0,
          -5.752560583314934e-16
         ],
         "z": [
          5.816338905503165,
          5.816338905503165
         ]
        },
        {
         "line": {
          "color": "gray",
          "width": 3
         },
         "mode": "lines",
         "showlegend": false,
         "type": "scatter3d",
         "x": [
          4.615,
          6.035
         ],
         "y": [
          0,
          -5.752560583314934e-16
         ],
         "z": [
          5.816338905503165,
          5.816338905503165
         ]
        },
        {
         "line": {
          "color": "gray",
          "width": 3
         },
         "mode": "lines",
         "showlegend": false,
         "type": "scatter3d",
         "x": [
          3.9049999999999994,
          4.615
         ],
         "y": [
          1.174330547248418,
          2.0340001727144226
         ],
         "z": [
          10.19900017271442,
          9.339330547248416
         ]
        },
        {
         "line": {
          "color": "gray",
          "width": 3
         },
         "mode": "lines",
         "showlegend": false,
         "type": "scatter3d",
         "x": [
          3.9049999999999994,
          4.615
         ],
         "y": [
          1.174330547248418,
          2.0340001727144226
         ],
         "z": [
          10.19900017271442,
          9.339330547248416
         ]
        },
        {
         "line": {
          "color": "gray",
          "width": 3
         },
         "mode": "lines",
         "showlegend": false,
         "type": "scatter3d",
         "x": [
          -4.615000000000001,
          -3.9049999999999994
         ],
         "y": [
          -1.1743305472484182,
          -2.0340001727144235
         ],
         "z": [
          6.130999827285578,
          6.990669452751583
         ]
        },
        {
         "line": {
          "color": "gray",
          "width": 3
         },
         "mode": "lines",
         "showlegend": false,
         "type": "scatter3d",
         "x": [
          3.905000000000001,
          4.615
         ],
         "y": [
          -1.1743305472484165,
          2.876280291657467e-16
         ],
         "z": [
          10.199000172714422,
          10.513661094496833
         ]
        },
        {
         "line": {
          "color": "gray",
          "width": 3
         },
         "mode": "lines",
         "showlegend": false,
         "type": "scatter3d",
         "x": [
          -2.4849999999999994,
          -1.7750000000000006
         ],
         "y": [
          1.330643078826429e-15,
          -1.1743305472484165
         ],
         "z": [
          10.513661094496833,
          10.199000172714422
         ]
        },
        {
         "line": {
          "color": "gray",
          "width": 3
         },
         "mode": "lines",
         "showlegend": false,
         "type": "scatter3d",
         "x": [
          -2.4849999999999994,
          -1.7750000000000006
         ],
         "y": [
          1.330643078826429e-15,
          -1.1743305472484165
         ],
         "z": [
          10.513661094496833,
          10.199000172714422
         ]
        },
        {
         "line": {
          "color": "gray",
          "width": 3
         },
         "mode": "lines",
         "showlegend": false,
         "type": "scatter3d",
         "x": [
          -4.614999999999999,
          -6.034999999999999
         ],
         "y": [
          1.174330547248417,
          1.174330547248417
         ],
         "z": [
          6.130999827285576,
          6.130999827285576
         ]
        },
        {
         "line": {
          "color": "gray",
          "width": 3
         },
         "mode": "lines",
         "showlegend": false,
         "type": "scatter3d",
         "x": [
          -4.614999999999999,
          -6.034999999999999
         ],
         "y": [
          1.174330547248417,
          1.174330547248417
         ],
         "z": [
          6.130999827285576,
          6.130999827285576
         ]
        },
        {
         "line": {
          "color": "gray",
          "width": 3
         },
         "mode": "lines",
         "showlegend": false,
         "type": "scatter3d",
         "x": [
          -4.614999999999998,
          -6.035
         ],
         "y": [
          -1.1743305472484165,
          -1.1743305472484165
         ],
         "z": [
          10.199000172714422,
          10.199000172714422
         ]
        },
        {
         "line": {
          "color": "gray",
          "width": 3
         },
         "mode": "lines",
         "showlegend": false,
         "type": "scatter3d",
         "x": [
          -2.4849999999999994,
          -3.9049999999999994
         ],
         "y": [
          2.0340001727144226,
          2.0340001727144226
         ],
         "z": [
          6.990669452751582,
          6.990669452751582
         ]
        },
        {
         "line": {
          "color": "gray",
          "width": 3
         },
         "mode": "lines",
         "showlegend": false,
         "type": "scatter3d",
         "x": [
          -6.744999999999999,
          -6.035
         ],
         "y": [
          1.330643078826429e-15,
          -1.1743305472484165
         ],
         "z": [
          10.513661094496833,
          10.199000172714422
         ]
        },
        {
         "line": {
          "color": "gray",
          "width": 3
         },
         "mode": "lines",
         "showlegend": false,
         "type": "scatter3d",
         "x": [
          6.035,
          6.744999999999999
         ],
         "y": [
          2.0340001727144226,
          1.174330547248418
         ],
         "z": [
          9.339330547248416,
          10.19900017271442
         ]
        },
        {
         "line": {
          "color": "gray",
          "width": 3
         },
         "mode": "lines",
         "showlegend": false,
         "type": "scatter3d",
         "x": [
          2.4849999999999994,
          1.7750000000000001
         ],
         "y": [
          1.174330547248418,
          1.330643078826429e-15
         ],
         "z": [
          10.19900017271442,
          10.513661094496833
         ]
        },
        {
         "line": {
          "color": "gray",
          "width": 3
         },
         "mode": "lines",
         "showlegend": false,
         "type": "scatter3d",
         "x": [
          3.905000000000001,
          4.615
         ],
         "y": [
          -1.1743305472484165,
          -2.0340001727144217
         ],
         "z": [
          10.199000172714422,
          9.339330547248418
         ]
        },
        {
         "line": {
          "color": "gray",
          "width": 3
         },
         "mode": "lines",
         "showlegend": false,
         "type": "scatter3d",
         "x": [
          1.7750000000000001,
          0.35500000000000026
         ],
         "y": [
          -2.0340001727144226,
          -2.0340001727144235
         ],
         "z": [
          6.990669452751582,
          6.990669452751583
         ]
        },
        {
         "line": {
          "color": "gray",
          "width": 3
         },
         "mode": "lines",
         "showlegend": false,
         "type": "scatter3d",
         "x": [
          -4.614999999999999,
          -3.9049999999999994
         ],
         "y": [
          2.3486610944968342,
          2.0340001727144226
         ],
         "z": [
          8.165,
          9.339330547248416
         ]
        },
        {
         "line": {
          "color": "gray",
          "width": 3
         },
         "mode": "lines",
         "showlegend": false,
         "type": "scatter3d",
         "x": [
          6.035,
          4.615
         ],
         "y": [
          -2.0340001727144217,
          -2.0340001727144217
         ],
         "z": [
          9.339330547248418,
          9.339330547248418
         ]
        },
        {
         "line": {
          "color": "gray",
          "width": 3
         },
         "mode": "lines",
         "showlegend": false,
         "type": "scatter3d",
         "x": [
          8.165,
          6.744999999999999
         ],
         "y": [
          1.174330547248418,
          1.174330547248418
         ],
         "z": [
          10.19900017271442,
          10.19900017271442
         ]
        },
        {
         "line": {
          "color": "gray",
          "width": 3
         },
         "mode": "lines",
         "showlegend": false,
         "type": "scatter3d",
         "x": [
          8.165,
          6.745000000000001
         ],
         "y": [
          2.3486610944968342,
          2.3486610944968342
         ],
         "z": [
          8.165,
          8.165
         ]
        },
        {
         "line": {
          "color": "gray",
          "width": 3
         },
         "mode": "lines",
         "showlegend": false,
         "type": "scatter3d",
         "x": [
          -2.4849999999999994,
          -3.9049999999999994
         ],
         "y": [
          2.0340001727144226,
          2.0340001727144226
         ],
         "z": [
          9.339330547248416,
          9.339330547248416
         ]
        },
        {
         "line": {
          "color": "gray",
          "width": 3
         },
         "mode": "lines",
         "showlegend": false,
         "type": "scatter3d",
         "x": [
          2.4849999999999994,
          1.7750000000000001
         ],
         "y": [
          -1.1743305472484165,
          -2.0340001727144217
         ],
         "z": [
          10.199000172714422,
          9.339330547248418
         ]
        },
        {
         "line": {
          "color": "gray",
          "width": 3
         },
         "mode": "lines",
         "showlegend": false,
         "type": "scatter3d",
         "x": [
          -6.035,
          -6.744999999999999
         ],
         "y": [
          -1.1743305472484165,
          -2.0340001727144217
         ],
         "z": [
          10.199000172714422,
          9.339330547248418
         ]
        },
        {
         "line": {
          "color": "gray",
          "width": 3
         },
         "mode": "lines",
         "showlegend": false,
         "type": "scatter3d",
         "x": [
          -0.3549999999999997,
          0.35500000000000026
         ],
         "y": [
          1.174330547248417,
          2.0340001727144226
         ],
         "z": [
          6.130999827285576,
          6.990669452751582
         ]
        },
        {
         "line": {
          "color": "gray",
          "width": 3
         },
         "mode": "lines",
         "showlegend": false,
         "type": "scatter3d",
         "x": [
          1.7750000000000001,
          2.4849999999999994
         ],
         "y": [
          2.0340001727144226,
          1.174330547248418
         ],
         "z": [
          9.339330547248416,
          10.19900017271442
         ]
        },
        {
         "line": {
          "color": "gray",
          "width": 3
         },
         "mode": "lines",
         "showlegend": false,
         "type": "scatter3d",
         "x": [
          2.4849999999999994,
          1.7750000000000001
         ],
         "y": [
          -2.3486610944968342,
          -2.0340001727144226
         ],
         "z": [
          8.165,
          6.990669452751582
         ]
        },
        {
         "line": {
          "color": "gray",
          "width": 3
         },
         "mode": "lines",
         "showlegend": false,
         "type": "scatter3d",
         "x": [
          3.905000000000001,
          4.615
         ],
         "y": [
          1.174330547248417,
          0
         ],
         "z": [
          6.130999827285576,
          5.816338905503165
         ]
        },
        {
         "line": {
          "color": "gray",
          "width": 3
         },
         "mode": "lines",
         "showlegend": false,
         "type": "scatter3d",
         "x": [
          -1.7749999999999997,
          -2.4849999999999994
         ],
         "y": [
          1.174330547248417,
          -5.752560583314934e-16
         ],
         "z": [
          6.130999827285576,
          5.816338905503165
         ]
        },
        {
         "line": {
          "color": "gray",
          "width": 3
         },
         "mode": "lines",
         "showlegend": false,
         "type": "scatter3d",
         "x": [
          -1.7749999999999997,
          -2.4849999999999994
         ],
         "y": [
          1.174330547248417,
          -5.752560583314934e-16
         ],
         "z": [
          6.130999827285576,
          5.816338905503165
         ]
        },
        {
         "line": {
          "color": "gray",
          "width": 3
         },
         "mode": "lines",
         "showlegend": false,
         "type": "scatter3d",
         "x": [
          8.165,
          6.745000000000001
         ],
         "y": [
          1.174330547248417,
          1.174330547248417
         ],
         "z": [
          6.130999827285576,
          6.130999827285576
         ]
        },
        {
         "line": {
          "color": "gray",
          "width": 3
         },
         "mode": "lines",
         "showlegend": false,
         "type": "scatter3d",
         "x": [
          6.744999999999999,
          6.035
         ],
         "y": [
          -1.1743305472484165,
          -2.0340001727144217
         ],
         "z": [
          10.199000172714422,
          9.339330547248418
         ]
        },
        {
         "line": {
          "color": "gray",
          "width": 3
         },
         "mode": "lines",
         "showlegend": false,
         "type": "scatter3d",
         "x": [
          -0.3549999999999988,
          -1.7750000000000006
         ],
         "y": [
          -2.3486610944968342,
          -2.3486610944968342
         ],
         "z": [
          8.165,
          8.165
         ]
        },
        {
         "line": {
          "color": "gray",
          "width": 3
         },
         "mode": "lines",
         "showlegend": false,
         "type": "scatter3d",
         "x": [
          3.9049999999999976,
          2.4849999999999994
         ],
         "y": [
          -1.1743305472484182,
          -1.1743305472484182
         ],
         "z": [
          6.130999827285578,
          6.130999827285578
         ]
        },
        {
         "line": {
          "color": "gray",
          "width": 3
         },
         "mode": "lines",
         "showlegend": false,
         "type": "scatter3d",
         "x": [
          -4.614999999999998,
          -3.9049999999999994
         ],
         "y": [
          -2.3486610944968342,
          -2.0340001727144235
         ],
         "z": [
          8.165,
          6.990669452751583
         ]
        },
        {
         "line": {
          "color": "gray",
          "width": 3
         },
         "mode": "lines",
         "showlegend": false,
         "type": "scatter3d",
         "x": [
          6.035,
          6.744999999999999
         ],
         "y": [
          -2.0340001727144226,
          -1.1743305472484182
         ],
         "z": [
          6.990669452751582,
          6.130999827285578
         ]
        },
        {
         "line": {
          "color": "gray",
          "width": 3
         },
         "mode": "lines",
         "showlegend": false,
         "type": "scatter3d",
         "x": [
          8.165,
          6.744999999999999
         ],
         "y": [
          -1.1743305472484165,
          -1.1743305472484165
         ],
         "z": [
          10.199000172714422,
          10.199000172714422
         ]
        },
        {
         "line": {
          "color": "gray",
          "width": 3
         },
         "mode": "lines",
         "showlegend": false,
         "type": "scatter3d",
         "x": [
          2.4849999999999994,
          1.7750000000000001
         ],
         "y": [
          -1.1743305472484182,
          -5.752560583314934e-16
         ],
         "z": [
          6.130999827285578,
          5.816338905503165
         ]
        },
        {
         "line": {
          "color": "gray",
          "width": 3
         },
         "mode": "lines",
         "showlegend": false,
         "type": "scatter3d",
         "x": [
          -4.614999999999999,
          -3.9049999999999994
         ],
         "y": [
          1.174330547248417,
          2.0340001727144226
         ],
         "z": [
          6.130999827285576,
          6.990669452751582
         ]
        },
        {
         "line": {
          "color": "gray",
          "width": 3
         },
         "mode": "lines",
         "showlegend": false,
         "type": "scatter3d",
         "x": [
          6.035,
          6.744999999999999
         ],
         "y": [
          -2.0340001727144226,
          -1.1743305472484182
         ],
         "z": [
          6.990669452751582,
          6.130999827285578
         ]
        },
        {
         "line": {
          "color": "gray",
          "width": 3
         },
         "mode": "lines",
         "showlegend": false,
         "type": "scatter3d",
         "x": [
          -6.034999999999999,
          -6.744999999999999
         ],
         "y": [
          1.174330547248417,
          -5.752560583314934e-16
         ],
         "z": [
          6.130999827285576,
          5.816338905503165
         ]
        },
        {
         "line": {
          "color": "gray",
          "width": 3
         },
         "mode": "lines",
         "showlegend": false,
         "type": "scatter3d",
         "x": [
          -6.744999999999999,
          -6.035
         ],
         "y": [
          -2.0340001727144217,
          -2.3486610944968342
         ],
         "z": [
          9.339330547248418,
          8.165
         ]
        },
        {
         "line": {
          "color": "gray",
          "width": 3
         },
         "mode": "lines",
         "showlegend": false,
         "type": "scatter3d",
         "x": [
          -0.3549999999999988,
          0.35500000000000026
         ],
         "y": [
          -2.3486610944968342,
          -2.0340001727144217
         ],
         "z": [
          8.165,
          9.339330547248418
         ]
        },
        {
         "line": {
          "color": "gray",
          "width": 3
         },
         "mode": "lines",
         "showlegend": false,
         "type": "scatter3d",
         "x": [
          -6.744999999999999,
          -6.035
         ],
         "y": [
          -2.0340001727144226,
          -1.1743305472484182
         ],
         "z": [
          6.990669452751582,
          6.130999827285578
         ]
        },
        {
         "line": {
          "color": "gray",
          "width": 3
         },
         "mode": "lines",
         "showlegend": false,
         "type": "scatter3d",
         "x": [
          -0.3550000000000006,
          -1.7750000000000006
         ],
         "y": [
          1.174330547248418,
          1.174330547248418
         ],
         "z": [
          10.19900017271442,
          10.19900017271442
         ]
        },
        {
         "line": {
          "color": "gray",
          "width": 3
         },
         "mode": "lines",
         "showlegend": false,
         "type": "scatter3d",
         "x": [
          -0.3549999999999988,
          0.35500000000000026
         ],
         "y": [
          -1.1743305472484165,
          2.876280291657467e-16
         ],
         "z": [
          10.199000172714422,
          10.513661094496833
         ]
        },
        {
         "line": {
          "color": "gray",
          "width": 3
         },
         "mode": "lines",
         "showlegend": false,
         "type": "scatter3d",
         "x": [
          6.035,
          6.744999999999999
         ],
         "y": [
          1.330643078826429e-15,
          -1.1743305472484165
         ],
         "z": [
          10.513661094496833,
          10.199000172714422
         ]
        },
        {
         "line": {
          "color": "gray",
          "width": 3
         },
         "mode": "lines",
         "showlegend": false,
         "type": "scatter3d",
         "x": [
          6.035,
          6.744999999999999
         ],
         "y": [
          1.330643078826429e-15,
          -1.1743305472484165
         ],
         "z": [
          10.513661094496833,
          10.199000172714422
         ]
        },
        {
         "line": {
          "color": "gray",
          "width": 3
         },
         "mode": "lines",
         "showlegend": false,
         "type": "scatter3d",
         "x": [
          6.035,
          6.744999999999999
         ],
         "y": [
          -2.0340001727144217,
          -2.3486610944968342
         ],
         "z": [
          9.339330547248418,
          8.165
         ]
        },
        {
         "line": {
          "color": "gray",
          "width": 3
         },
         "mode": "lines",
         "showlegend": false,
         "type": "scatter3d",
         "x": [
          3.905000000000001,
          2.485000000000001
         ],
         "y": [
          2.3486610944968342,
          2.3486610944968342
         ],
         "z": [
          8.165,
          8.165
         ]
        },
        {
         "line": {
          "color": "gray",
          "width": 3
         },
         "mode": "lines",
         "showlegend": false,
         "type": "scatter3d",
         "x": [
          -4.614999999999999,
          -3.9049999999999994
         ],
         "y": [
          2.3486610944968342,
          2.0340001727144226
         ],
         "z": [
          8.165,
          6.990669452751582
         ]
        },
        {
         "line": {
          "color": "gray",
          "width": 3
         },
         "mode": "lines",
         "showlegend": false,
         "type": "scatter3d",
         "x": [
          -1.7750000000000006,
          -2.4849999999999994
         ],
         "y": [
          1.174330547248418,
          1.330643078826429e-15
         ],
         "z": [
          10.19900017271442,
          10.513661094496833
         ]
        },
        {
         "line": {
          "color": "gray",
          "width": 3
         },
         "mode": "lines",
         "showlegend": false,
         "type": "scatter3d",
         "x": [
          -1.7749999999999997,
          -2.4849999999999994
         ],
         "y": [
          1.174330547248417,
          -5.752560583314934e-16
         ],
         "z": [
          6.130999827285576,
          5.816338905503165
         ]
        },
        {
         "line": {
          "color": "gray",
          "width": 3
         },
         "mode": "lines",
         "showlegend": false,
         "type": "scatter3d",
         "x": [
          -1.7750000000000006,
          -2.4849999999999994
         ],
         "y": [
          1.174330547248418,
          1.330643078826429e-15
         ],
         "z": [
          10.19900017271442,
          10.513661094496833
         ]
        },
        {
         "line": {
          "color": "gray",
          "width": 3
         },
         "mode": "lines",
         "showlegend": false,
         "type": "scatter3d",
         "x": [
          -0.3549999999999988,
          0.35500000000000026
         ],
         "y": [
          -1.1743305472484165,
          -2.0340001727144217
         ],
         "z": [
          10.199000172714422,
          9.339330547248418
         ]
        },
        {
         "line": {
          "color": "gray",
          "width": 3
         },
         "mode": "lines",
         "showlegend": false,
         "type": "scatter3d",
         "x": [
          -0.3549999999999988,
          0.35500000000000026
         ],
         "y": [
          -1.1743305472484165,
          -2.0340001727144217
         ],
         "z": [
          10.199000172714422,
          9.339330547248418
         ]
        },
        {
         "line": {
          "color": "gray",
          "width": 3
         },
         "mode": "lines",
         "showlegend": false,
         "type": "scatter3d",
         "x": [
          3.9049999999999976,
          4.615
         ],
         "y": [
          -1.1743305472484182,
          0
         ],
         "z": [
          6.130999827285578,
          5.816338905503165
         ]
        },
        {
         "line": {
          "color": "gray",
          "width": 3
         },
         "mode": "lines",
         "showlegend": false,
         "type": "scatter3d",
         "x": [
          1.7750000000000001,
          2.4849999999999994
         ],
         "y": [
          1.330643078826429e-15,
          -1.1743305472484165
         ],
         "z": [
          10.513661094496833,
          10.199000172714422
         ]
        },
        {
         "line": {
          "color": "gray",
          "width": 3
         },
         "mode": "lines",
         "showlegend": false,
         "type": "scatter3d",
         "x": [
          3.905000000000001,
          4.615
         ],
         "y": [
          -1.1743305472484165,
          2.876280291657467e-16
         ],
         "z": [
          10.199000172714422,
          10.513661094496833
         ]
        },
        {
         "line": {
          "color": "gray",
          "width": 3
         },
         "mode": "lines",
         "showlegend": false,
         "type": "scatter3d",
         "x": [
          3.905000000000001,
          4.615
         ],
         "y": [
          -1.1743305472484165,
          2.876280291657467e-16
         ],
         "z": [
          10.199000172714422,
          10.513661094496833
         ]
        },
        {
         "line": {
          "color": "gray",
          "width": 3
         },
         "mode": "lines",
         "showlegend": false,
         "type": "scatter3d",
         "x": [
          6.035,
          4.615
         ],
         "y": [
          -2.0340001727144217,
          -2.0340001727144217
         ],
         "z": [
          9.339330547248418,
          9.339330547248418
         ]
        },
        {
         "line": {
          "color": "gray",
          "width": 3
         },
         "mode": "lines",
         "showlegend": false,
         "type": "scatter3d",
         "x": [
          -6.035,
          -6.744999999999999
         ],
         "y": [
          -2.3486610944968342,
          -2.0340001727144226
         ],
         "z": [
          8.165,
          6.990669452751582
         ]
        },
        {
         "line": {
          "color": "gray",
          "width": 3
         },
         "mode": "lines",
         "showlegend": false,
         "type": "scatter3d",
         "x": [
          -6.035,
          -6.744999999999999
         ],
         "y": [
          -2.3486610944968342,
          -2.0340001727144226
         ],
         "z": [
          8.165,
          6.990669452751582
         ]
        },
        {
         "line": {
          "color": "gray",
          "width": 3
         },
         "mode": "lines",
         "showlegend": false,
         "type": "scatter3d",
         "x": [
          -0.3549999999999988,
          -1.7750000000000006
         ],
         "y": [
          -1.1743305472484165,
          -1.1743305472484165
         ],
         "z": [
          10.199000172714422,
          10.199000172714422
         ]
        },
        {
         "line": {
          "color": "gray",
          "width": 3
         },
         "mode": "lines",
         "showlegend": false,
         "type": "scatter3d",
         "x": [
          -2.4849999999999994,
          -3.9049999999999994
         ],
         "y": [
          2.0340001727144226,
          2.0340001727144226
         ],
         "z": [
          9.339330547248416,
          9.339330547248416
         ]
        },
        {
         "line": {
          "color": "gray",
          "width": 3
         },
         "mode": "lines",
         "showlegend": false,
         "type": "scatter3d",
         "x": [
          6.035,
          4.615
         ],
         "y": [
          1.330643078826429e-15,
          2.876280291657467e-16
         ],
         "z": [
          10.513661094496833,
          10.513661094496833
         ]
        },
        {
         "line": {
          "color": "gray",
          "width": 3
         },
         "mode": "lines",
         "showlegend": false,
         "type": "scatter3d",
         "x": [
          -2.4849999999999994,
          -3.9049999999999994
         ],
         "y": [
          2.0340001727144226,
          2.0340001727144226
         ],
         "z": [
          6.990669452751582,
          6.990669452751582
         ]
        },
        {
         "line": {
          "color": "gray",
          "width": 3
         },
         "mode": "lines",
         "showlegend": false,
         "type": "scatter3d",
         "x": [
          6.035,
          6.744999999999999
         ],
         "y": [
          1.330643078826429e-15,
          -1.1743305472484165
         ],
         "z": [
          10.513661094496833,
          10.199000172714422
         ]
        },
        {
         "line": {
          "color": "gray",
          "width": 3
         },
         "mode": "lines",
         "showlegend": false,
         "type": "scatter3d",
         "x": [
          8.165,
          6.745000000000001
         ],
         "y": [
          2.3486610944968342,
          2.3486610944968342
         ],
         "z": [
          8.165,
          8.165
         ]
        },
        {
         "line": {
          "color": "gray",
          "width": 3
         },
         "mode": "lines",
         "showlegend": false,
         "type": "scatter3d",
         "x": [
          2.4849999999999994,
          1.7750000000000001
         ],
         "y": [
          -1.1743305472484165,
          -2.0340001727144217
         ],
         "z": [
          10.199000172714422,
          9.339330547248418
         ]
        },
        {
         "line": {
          "color": "gray",
          "width": 3
         },
         "mode": "lines",
         "showlegend": false,
         "type": "scatter3d",
         "x": [
          3.9049999999999994,
          4.615
         ],
         "y": [
          1.174330547248418,
          2.876280291657467e-16
         ],
         "z": [
          10.19900017271442,
          10.513661094496833
         ]
        },
        {
         "line": {
          "color": "gray",
          "width": 3
         },
         "mode": "lines",
         "showlegend": false,
         "type": "scatter3d",
         "x": [
          -6.034999999999998,
          -6.744999999999999
         ],
         "y": [
          2.3486610944968342,
          2.0340001727144226
         ],
         "z": [
          8.165,
          9.339330547248416
         ]
        },
        {
         "line": {
          "color": "gray",
          "width": 3
         },
         "mode": "lines",
         "showlegend": false,
         "type": "scatter3d",
         "x": [
          1.7750000000000001,
          2.485000000000001
         ],
         "y": [
          2.0340001727144226,
          2.3486610944968342
         ],
         "z": [
          6.990669452751582,
          8.165
         ]
        },
        {
         "line": {
          "color": "gray",
          "width": 3
         },
         "mode": "lines",
         "showlegend": false,
         "type": "scatter3d",
         "x": [
          8.165,
          6.744999999999999
         ],
         "y": [
          1.174330547248418,
          1.174330547248418
         ],
         "z": [
          10.19900017271442,
          10.19900017271442
         ]
        },
        {
         "line": {
          "color": "gray",
          "width": 3
         },
         "mode": "lines",
         "showlegend": false,
         "type": "scatter3d",
         "x": [
          -4.614999999999998,
          -3.9049999999999994
         ],
         "y": [
          -1.1743305472484165,
          -2.0340001727144217
         ],
         "z": [
          10.199000172714422,
          9.339330547248418
         ]
        },
        {
         "line": {
          "color": "gray",
          "width": 3
         },
         "mode": "lines",
         "showlegend": false,
         "type": "scatter3d",
         "x": [
          -2.4849999999999994,
          -3.9049999999999994
         ],
         "y": [
          -2.0340001727144217,
          -2.0340001727144217
         ],
         "z": [
          9.339330547248418,
          9.339330547248418
         ]
        },
        {
         "line": {
          "color": "gray",
          "width": 3
         },
         "mode": "lines",
         "showlegend": false,
         "type": "scatter3d",
         "x": [
          2.485000000000001,
          1.7750000000000001
         ],
         "y": [
          2.3486610944968342,
          2.0340001727144226
         ],
         "z": [
          8.165,
          9.339330547248416
         ]
        },
        {
         "line": {
          "color": "gray",
          "width": 3
         },
         "mode": "lines",
         "showlegend": false,
         "type": "scatter3d",
         "x": [
          -4.614999999999999,
          -3.9049999999999994
         ],
         "y": [
          1.174330547248417,
          2.0340001727144226
         ],
         "z": [
          6.130999827285576,
          6.990669452751582
         ]
        },
        {
         "line": {
          "color": "gray",
          "width": 3
         },
         "mode": "lines",
         "showlegend": false,
         "type": "scatter3d",
         "x": [
          1.7750000000000001,
          2.4849999999999994
         ],
         "y": [
          2.0340001727144226,
          1.174330547248418
         ],
         "z": [
          9.339330547248416,
          10.19900017271442
         ]
        },
        {
         "line": {
          "color": "gray",
          "width": 3
         },
         "mode": "lines",
         "showlegend": false,
         "type": "scatter3d",
         "x": [
          -6.744999999999999,
          -6.035
         ],
         "y": [
          -2.0340001727144217,
          -2.3486610944968342
         ],
         "z": [
          9.339330547248418,
          8.165
         ]
        },
        {
         "line": {
          "color": "gray",
          "width": 3
         },
         "mode": "lines",
         "showlegend": false,
         "type": "scatter3d",
         "x": [
          1.7750000000000001,
          0.35500000000000026
         ],
         "y": [
          1.330643078826429e-15,
          2.876280291657467e-16
         ],
         "z": [
          10.513661094496833,
          10.513661094496833
         ]
        },
        {
         "line": {
          "color": "gray",
          "width": 3
         },
         "mode": "lines",
         "showlegend": false,
         "type": "scatter3d",
         "x": [
          3.905000000000001,
          4.615
         ],
         "y": [
          -2.3486610944968342,
          -2.0340001727144235
         ],
         "z": [
          8.165,
          6.990669452751583
         ]
        },
        {
         "line": {
          "color": "gray",
          "width": 3
         },
         "mode": "lines",
         "showlegend": false,
         "type": "scatter3d",
         "x": [
          3.905000000000001,
          4.615
         ],
         "y": [
          -2.3486610944968342,
          -2.0340001727144235
         ],
         "z": [
          8.165,
          6.990669452751583
         ]
        },
        {
         "line": {
          "color": "gray",
          "width": 3
         },
         "mode": "lines",
         "showlegend": false,
         "type": "scatter3d",
         "x": [
          8.165,
          6.745000000000001
         ],
         "y": [
          1.174330547248417,
          1.174330547248417
         ],
         "z": [
          6.130999827285576,
          6.130999827285576
         ]
        },
        {
         "line": {
          "color": "gray",
          "width": 3
         },
         "mode": "lines",
         "showlegend": false,
         "type": "scatter3d",
         "x": [
          -6.744999999999999,
          -8.165
         ],
         "y": [
          2.0340001727144226,
          2.0340001727144226
         ],
         "z": [
          6.990669452751582,
          6.990669452751582
         ]
        },
        {
         "line": {
          "color": "gray",
          "width": 3
         },
         "mode": "lines",
         "showlegend": false,
         "type": "scatter3d",
         "x": [
          6.035,
          6.745000000000001
         ],
         "y": [
          2.0340001727144226,
          2.3486610944968342
         ],
         "z": [
          6.990669452751582,
          8.165
         ]
        },
        {
         "line": {
          "color": "gray",
          "width": 3
         },
         "mode": "lines",
         "showlegend": false,
         "type": "scatter3d",
         "x": [
          8.165,
          6.744999999999999
         ],
         "y": [
          -1.1743305472484182,
          -1.1743305472484182
         ],
         "z": [
          6.130999827285578,
          6.130999827285578
         ]
        },
        {
         "line": {
          "color": "gray",
          "width": 3
         },
         "mode": "lines",
         "showlegend": false,
         "type": "scatter3d",
         "x": [
          6.745000000000001,
          6.035
         ],
         "y": [
          1.174330547248417,
          2.0340001727144226
         ],
         "z": [
          6.130999827285576,
          6.990669452751582
         ]
        },
        {
         "line": {
          "color": "gray",
          "width": 3
         },
         "mode": "lines",
         "showlegend": false,
         "type": "scatter3d",
         "x": [
          6.745000000000001,
          6.035
         ],
         "y": [
          1.174330547248417,
          2.0340001727144226
         ],
         "z": [
          6.130999827285576,
          6.990669452751582
         ]
        },
        {
         "line": {
          "color": "gray",
          "width": 3
         },
         "mode": "lines",
         "showlegend": false,
         "type": "scatter3d",
         "x": [
          -1.7750000000000006,
          -2.4849999999999994
         ],
         "y": [
          -1.1743305472484165,
          -2.0340001727144217
         ],
         "z": [
          10.199000172714422,
          9.339330547248418
         ]
        },
        {
         "line": {
          "color": "gray",
          "width": 3
         },
         "mode": "lines",
         "showlegend": false,
         "type": "scatter3d",
         "x": [
          6.745000000000001,
          6.035
         ],
         "y": [
          1.174330547248417,
          -5.752560583314934e-16
         ],
         "z": [
          6.130999827285576,
          5.816338905503165
         ]
        },
        {
         "line": {
          "color": "gray",
          "width": 3
         },
         "mode": "lines",
         "showlegend": false,
         "type": "scatter3d",
         "x": [
          -0.3549999999999997,
          0.35500000000000026
         ],
         "y": [
          1.174330547248417,
          2.0340001727144226
         ],
         "z": [
          6.130999827285576,
          6.990669452751582
         ]
        },
        {
         "line": {
          "color": "gray",
          "width": 3
         },
         "mode": "lines",
         "showlegend": false,
         "type": "scatter3d",
         "x": [
          -0.3549999999999988,
          -1.7750000000000006
         ],
         "y": [
          -1.1743305472484165,
          -1.1743305472484165
         ],
         "z": [
          10.199000172714422,
          10.199000172714422
         ]
        },
        {
         "line": {
          "color": "gray",
          "width": 3
         },
         "mode": "lines",
         "showlegend": false,
         "type": "scatter3d",
         "x": [
          -6.034999999999999,
          -6.744999999999999
         ],
         "y": [
          1.174330547248417,
          2.0340001727144226
         ],
         "z": [
          6.130999827285576,
          6.990669452751582
         ]
        },
        {
         "line": {
          "color": "gray",
          "width": 3
         },
         "mode": "lines",
         "showlegend": false,
         "type": "scatter3d",
         "x": [
          -0.3549999999999997,
          0.35500000000000026
         ],
         "y": [
          2.3486610944968342,
          2.0340001727144226
         ],
         "z": [
          8.165,
          9.339330547248416
         ]
        },
        {
         "line": {
          "color": "gray",
          "width": 3
         },
         "mode": "lines",
         "showlegend": false,
         "type": "scatter3d",
         "x": [
          6.035,
          6.744999999999999
         ],
         "y": [
          -2.0340001727144217,
          -2.3486610944968342
         ],
         "z": [
          9.339330547248418,
          8.165
         ]
        },
        {
         "line": {
          "color": "gray",
          "width": 3
         },
         "mode": "lines",
         "showlegend": false,
         "type": "scatter3d",
         "x": [
          -0.3550000000000006,
          -1.7750000000000006
         ],
         "y": [
          1.174330547248418,
          1.174330547248418
         ],
         "z": [
          10.19900017271442,
          10.19900017271442
         ]
        },
        {
         "line": {
          "color": "gray",
          "width": 3
         },
         "mode": "lines",
         "showlegend": false,
         "type": "scatter3d",
         "x": [
          0.35500000000000026,
          1.7750000000000001
         ],
         "y": [
          0,
          -5.752560583314934e-16
         ],
         "z": [
          5.816338905503165,
          5.816338905503165
         ]
        },
        {
         "line": {
          "color": "gray",
          "width": 3
         },
         "mode": "lines",
         "showlegend": false,
         "type": "scatter3d",
         "x": [
          3.905000000000001,
          2.485000000000001
         ],
         "y": [
          2.3486610944968342,
          2.3486610944968342
         ],
         "z": [
          8.165,
          8.165
         ]
        },
        {
         "line": {
          "color": "gray",
          "width": 3
         },
         "mode": "lines",
         "showlegend": false,
         "type": "scatter3d",
         "x": [
          3.905000000000001,
          2.485000000000001
         ],
         "y": [
          2.3486610944968342,
          2.3486610944968342
         ],
         "z": [
          8.165,
          8.165
         ]
        },
        {
         "line": {
          "color": "gray",
          "width": 3
         },
         "mode": "lines",
         "showlegend": false,
         "type": "scatter3d",
         "x": [
          3.9049999999999994,
          2.4849999999999994
         ],
         "y": [
          1.174330547248418,
          1.174330547248418
         ],
         "z": [
          10.19900017271442,
          10.19900017271442
         ]
        },
        {
         "line": {
          "color": "gray",
          "width": 3
         },
         "mode": "lines",
         "showlegend": false,
         "type": "scatter3d",
         "x": [
          6.035,
          6.744999999999999
         ],
         "y": [
          -2.0340001727144217,
          -2.3486610944968342
         ],
         "z": [
          9.339330547248418,
          8.165
         ]
        },
        {
         "line": {
          "color": "gray",
          "width": 3
         },
         "mode": "lines",
         "showlegend": false,
         "type": "scatter3d",
         "x": [
          -4.614999999999998,
          -3.9049999999999994
         ],
         "y": [
          -1.1743305472484165,
          2.876280291657467e-16
         ],
         "z": [
          10.199000172714422,
          10.513661094496833
         ]
        },
        {
         "line": {
          "color": "gray",
          "width": 3
         },
         "mode": "lines",
         "showlegend": false,
         "type": "scatter3d",
         "x": [
          -2.4849999999999994,
          -1.7749999999999988
         ],
         "y": [
          2.0340001727144226,
          2.3486610944968342
         ],
         "z": [
          6.990669452751582,
          8.165
         ]
        },
        {
         "line": {
          "color": "gray",
          "width": 3
         },
         "mode": "lines",
         "showlegend": false,
         "type": "scatter3d",
         "x": [
          -2.4849999999999994,
          -1.7749999999999988
         ],
         "y": [
          2.0340001727144226,
          2.3486610944968342
         ],
         "z": [
          6.990669452751582,
          8.165
         ]
        },
        {
         "line": {
          "color": "gray",
          "width": 3
         },
         "mode": "lines",
         "showlegend": false,
         "type": "scatter3d",
         "x": [
          -2.4849999999999994,
          -3.9049999999999994
         ],
         "y": [
          2.0340001727144226,
          2.0340001727144226
         ],
         "z": [
          6.990669452751582,
          6.990669452751582
         ]
        },
        {
         "line": {
          "color": "gray",
          "width": 3
         },
         "mode": "lines",
         "showlegend": false,
         "type": "scatter3d",
         "x": [
          8.165,
          6.744999999999999
         ],
         "y": [
          -1.1743305472484165,
          -1.1743305472484165
         ],
         "z": [
          10.199000172714422,
          10.199000172714422
         ]
        },
        {
         "line": {
          "color": "gray",
          "width": 3
         },
         "mode": "lines",
         "showlegend": false,
         "type": "scatter3d",
         "x": [
          -0.3550000000000015,
          -1.7750000000000006
         ],
         "y": [
          -1.1743305472484182,
          -1.1743305472484182
         ],
         "z": [
          6.130999827285578,
          6.130999827285578
         ]
        },
        {
         "line": {
          "color": "gray",
          "width": 3
         },
         "mode": "lines",
         "showlegend": false,
         "type": "scatter3d",
         "x": [
          -0.3550000000000015,
          -1.7750000000000006
         ],
         "y": [
          -1.1743305472484182,
          -1.1743305472484182
         ],
         "z": [
          6.130999827285578,
          6.130999827285578
         ]
        },
        {
         "line": {
          "color": "gray",
          "width": 3
         },
         "mode": "lines",
         "showlegend": false,
         "type": "scatter3d",
         "x": [
          3.905000000000001,
          2.4849999999999994
         ],
         "y": [
          1.174330547248417,
          1.174330547248417
         ],
         "z": [
          6.130999827285576,
          6.130999827285576
         ]
        },
        {
         "line": {
          "color": "gray",
          "width": 3
         },
         "mode": "lines",
         "showlegend": false,
         "type": "scatter3d",
         "x": [
          8.165,
          6.744999999999999
         ],
         "y": [
          -1.1743305472484165,
          -1.1743305472484165
         ],
         "z": [
          10.199000172714422,
          10.199000172714422
         ]
        },
        {
         "line": {
          "color": "gray",
          "width": 3
         },
         "mode": "lines",
         "showlegend": false,
         "type": "scatter3d",
         "x": [
          6.035,
          4.615
         ],
         "y": [
          -2.0340001727144217,
          -2.0340001727144217
         ],
         "z": [
          9.339330547248418,
          9.339330547248418
         ]
        },
        {
         "line": {
          "color": "gray",
          "width": 3
         },
         "mode": "lines",
         "showlegend": false,
         "type": "scatter3d",
         "x": [
          -2.4849999999999994,
          -3.9049999999999994
         ],
         "y": [
          2.0340001727144226,
          2.0340001727144226
         ],
         "z": [
          9.339330547248416,
          9.339330547248416
         ]
        },
        {
         "line": {
          "color": "gray",
          "width": 3
         },
         "mode": "lines",
         "showlegend": false,
         "type": "scatter3d",
         "x": [
          3.905000000000001,
          4.615
         ],
         "y": [
          2.3486610944968342,
          2.0340001727144226
         ],
         "z": [
          8.165,
          9.339330547248416
         ]
        },
        {
         "line": {
          "color": "gray",
          "width": 3
         },
         "mode": "lines",
         "showlegend": false,
         "type": "scatter3d",
         "x": [
          -0.3550000000000015,
          0.35500000000000026
         ],
         "y": [
          -1.1743305472484182,
          0
         ],
         "z": [
          6.130999827285578,
          5.816338905503165
         ]
        },
        {
         "line": {
          "color": "gray",
          "width": 3
         },
         "mode": "lines",
         "showlegend": false,
         "type": "scatter3d",
         "x": [
          -4.615000000000001,
          -3.9049999999999994
         ],
         "y": [
          -1.1743305472484182,
          0
         ],
         "z": [
          6.130999827285578,
          5.816338905503165
         ]
        },
        {
         "line": {
          "color": "gray",
          "width": 3
         },
         "mode": "lines",
         "showlegend": false,
         "type": "scatter3d",
         "x": [
          2.4849999999999994,
          1.7750000000000001
         ],
         "y": [
          -2.3486610944968342,
          -2.0340001727144226
         ],
         "z": [
          8.165,
          6.990669452751582
         ]
        },
        {
         "line": {
          "color": "gray",
          "width": 3
         },
         "mode": "lines",
         "showlegend": false,
         "type": "scatter3d",
         "x": [
          6.035,
          4.615
         ],
         "y": [
          2.0340001727144226,
          2.0340001727144226
         ],
         "z": [
          9.339330547248416,
          9.339330547248416
         ]
        },
        {
         "line": {
          "color": "gray",
          "width": 3
         },
         "mode": "lines",
         "showlegend": false,
         "type": "scatter3d",
         "x": [
          -3.9049999999999994,
          -2.4849999999999994
         ],
         "y": [
          0,
          -5.752560583314934e-16
         ],
         "z": [
          5.816338905503165,
          5.816338905503165
         ]
        },
        {
         "line": {
          "color": "gray",
          "width": 3
         },
         "mode": "lines",
         "showlegend": false,
         "type": "scatter3d",
         "x": [
          6.744999999999999,
          6.035
         ],
         "y": [
          -1.1743305472484182,
          -5.752560583314934e-16
         ],
         "z": [
          6.130999827285578,
          5.816338905503165
         ]
        },
        {
         "line": {
          "color": "gray",
          "width": 3
         },
         "mode": "lines",
         "showlegend": false,
         "type": "scatter3d",
         "x": [
          -4.615,
          -6.035
         ],
         "y": [
          1.174330547248418,
          1.174330547248418
         ],
         "z": [
          10.19900017271442,
          10.19900017271442
         ]
        },
        {
         "line": {
          "color": "gray",
          "width": 3
         },
         "mode": "lines",
         "showlegend": false,
         "type": "scatter3d",
         "x": [
          1.7750000000000001,
          2.4849999999999994
         ],
         "y": [
          2.0340001727144226,
          1.174330547248418
         ],
         "z": [
          9.339330547248416,
          10.19900017271442
         ]
        },
        {
         "line": {
          "color": "gray",
          "width": 3
         },
         "mode": "lines",
         "showlegend": false,
         "type": "scatter3d",
         "x": [
          3.9049999999999994,
          4.615
         ],
         "y": [
          1.174330547248418,
          2.876280291657467e-16
         ],
         "z": [
          10.19900017271442,
          10.513661094496833
         ]
        },
        {
         "line": {
          "color": "gray",
          "width": 3
         },
         "mode": "lines",
         "showlegend": false,
         "type": "scatter3d",
         "x": [
          -4.614999999999998,
          -3.9049999999999994
         ],
         "y": [
          -2.3486610944968342,
          -2.0340001727144235
         ],
         "z": [
          8.165,
          6.990669452751583
         ]
        },
        {
         "line": {
          "color": "gray",
          "width": 3
         },
         "mode": "lines",
         "showlegend": false,
         "type": "scatter3d",
         "x": [
          -6.034999999999998,
          -6.744999999999999
         ],
         "y": [
          2.3486610944968342,
          2.0340001727144226
         ],
         "z": [
          8.165,
          9.339330547248416
         ]
        },
        {
         "line": {
          "color": "gray",
          "width": 3
         },
         "mode": "lines",
         "showlegend": false,
         "type": "scatter3d",
         "x": [
          -2.4849999999999994,
          -3.9049999999999994
         ],
         "y": [
          -2.0340001727144217,
          -2.0340001727144217
         ],
         "z": [
          9.339330547248418,
          9.339330547248418
         ]
        },
        {
         "line": {
          "color": "gray",
          "width": 3
         },
         "mode": "lines",
         "showlegend": false,
         "type": "scatter3d",
         "x": [
          -2.4849999999999994,
          -3.9049999999999994
         ],
         "y": [
          -2.0340001727144217,
          -2.0340001727144217
         ],
         "z": [
          9.339330547248418,
          9.339330547248418
         ]
        },
        {
         "line": {
          "color": "gray",
          "width": 3
         },
         "mode": "lines",
         "showlegend": false,
         "type": "scatter3d",
         "x": [
          -2.4849999999999994,
          -3.9049999999999994
         ],
         "y": [
          -2.0340001727144226,
          -2.0340001727144235
         ],
         "z": [
          6.990669452751582,
          6.990669452751583
         ]
        },
        {
         "line": {
          "color": "gray",
          "width": 3
         },
         "mode": "lines",
         "showlegend": false,
         "type": "scatter3d",
         "x": [
          8.165,
          6.745000000000001
         ],
         "y": [
          1.174330547248417,
          1.174330547248417
         ],
         "z": [
          6.130999827285576,
          6.130999827285576
         ]
        },
        {
         "line": {
          "color": "gray",
          "width": 3
         },
         "mode": "lines",
         "showlegend": false,
         "type": "scatter3d",
         "x": [
          -0.3549999999999988,
          0.35500000000000026
         ],
         "y": [
          -2.3486610944968342,
          -2.0340001727144217
         ],
         "z": [
          8.165,
          9.339330547248418
         ]
        },
        {
         "line": {
          "color": "gray",
          "width": 3
         },
         "mode": "lines",
         "showlegend": false,
         "type": "scatter3d",
         "x": [
          6.035,
          6.745000000000001
         ],
         "y": [
          2.0340001727144226,
          2.3486610944968342
         ],
         "z": [
          6.990669452751582,
          8.165
         ]
        },
        {
         "line": {
          "color": "gray",
          "width": 3
         },
         "mode": "lines",
         "showlegend": false,
         "type": "scatter3d",
         "x": [
          3.905000000000001,
          2.4849999999999994
         ],
         "y": [
          -2.3486610944968342,
          -2.3486610944968342
         ],
         "z": [
          8.165,
          8.165
         ]
        },
        {
         "line": {
          "color": "gray",
          "width": 3
         },
         "mode": "lines",
         "showlegend": false,
         "type": "scatter3d",
         "x": [
          3.9049999999999976,
          4.615
         ],
         "y": [
          -1.1743305472484182,
          -2.0340001727144235
         ],
         "z": [
          6.130999827285578,
          6.990669452751583
         ]
        },
        {
         "line": {
          "color": "gray",
          "width": 3
         },
         "mode": "lines",
         "showlegend": false,
         "type": "scatter3d",
         "x": [
          -6.744999999999999,
          -6.035
         ],
         "y": [
          -2.0340001727144226,
          -1.1743305472484182
         ],
         "z": [
          6.990669452751582,
          6.130999827285578
         ]
        },
        {
         "line": {
          "color": "gray",
          "width": 3
         },
         "mode": "lines",
         "showlegend": false,
         "type": "scatter3d",
         "x": [
          6.745000000000001,
          6.035
         ],
         "y": [
          2.3486610944968342,
          2.0340001727144226
         ],
         "z": [
          8.165,
          9.339330547248416
         ]
        },
        {
         "line": {
          "color": "gray",
          "width": 3
         },
         "mode": "lines",
         "showlegend": false,
         "type": "scatter3d",
         "x": [
          1.7750000000000001,
          0.35500000000000026
         ],
         "y": [
          1.330643078826429e-15,
          2.876280291657467e-16
         ],
         "z": [
          10.513661094496833,
          10.513661094496833
         ]
        },
        {
         "line": {
          "color": "gray",
          "width": 3
         },
         "mode": "lines",
         "showlegend": false,
         "type": "scatter3d",
         "x": [
          1.7750000000000001,
          0.35500000000000026
         ],
         "y": [
          1.330643078826429e-15,
          2.876280291657467e-16
         ],
         "z": [
          10.513661094496833,
          10.513661094496833
         ]
        },
        {
         "line": {
          "color": "gray",
          "width": 3
         },
         "mode": "lines",
         "showlegend": false,
         "type": "scatter3d",
         "x": [
          1.7750000000000001,
          0.35500000000000026
         ],
         "y": [
          -2.0340001727144217,
          -2.0340001727144217
         ],
         "z": [
          9.339330547248418,
          9.339330547248418
         ]
        },
        {
         "line": {
          "color": "gray",
          "width": 3
         },
         "mode": "lines",
         "showlegend": false,
         "type": "scatter3d",
         "x": [
          -6.035,
          -6.744999999999999
         ],
         "y": [
          -1.1743305472484182,
          -5.752560583314934e-16
         ],
         "z": [
          6.130999827285578,
          5.816338905503165
         ]
        },
        {
         "line": {
          "color": "gray",
          "width": 3
         },
         "mode": "lines",
         "showlegend": false,
         "type": "scatter3d",
         "x": [
          -4.615,
          -3.9049999999999994
         ],
         "y": [
          1.174330547248418,
          2.876280291657467e-16
         ],
         "z": [
          10.19900017271442,
          10.513661094496833
         ]
        },
        {
         "line": {
          "color": "gray",
          "width": 3
         },
         "mode": "lines",
         "showlegend": false,
         "type": "scatter3d",
         "x": [
          -2.4849999999999994,
          -3.9049999999999994
         ],
         "y": [
          1.330643078826429e-15,
          2.876280291657467e-16
         ],
         "z": [
          10.513661094496833,
          10.513661094496833
         ]
        },
        {
         "line": {
          "color": "gray",
          "width": 3
         },
         "mode": "lines",
         "showlegend": false,
         "type": "scatter3d",
         "x": [
          8.165,
          6.744999999999999
         ],
         "y": [
          -1.1743305472484182,
          -1.1743305472484182
         ],
         "z": [
          6.130999827285578,
          6.130999827285578
         ]
        },
        {
         "line": {
          "color": "gray",
          "width": 3
         },
         "mode": "lines",
         "showlegend": false,
         "type": "scatter3d",
         "x": [
          8.165,
          6.744999999999999
         ],
         "y": [
          -1.1743305472484182,
          -1.1743305472484182
         ],
         "z": [
          6.130999827285578,
          6.130999827285578
         ]
        },
        {
         "line": {
          "color": "gray",
          "width": 3
         },
         "mode": "lines",
         "showlegend": false,
         "type": "scatter3d",
         "x": [
          -0.3550000000000006,
          -1.7750000000000006
         ],
         "y": [
          1.174330547248418,
          1.174330547248418
         ],
         "z": [
          10.19900017271442,
          10.19900017271442
         ]
        },
        {
         "line": {
          "color": "gray",
          "width": 3
         },
         "mode": "lines",
         "showlegend": false,
         "type": "scatter3d",
         "x": [
          3.905000000000001,
          4.615
         ],
         "y": [
          2.3486610944968342,
          2.0340001727144226
         ],
         "z": [
          8.165,
          6.990669452751582
         ]
        },
        {
         "line": {
          "color": "gray",
          "width": 3
         },
         "mode": "lines",
         "showlegend": false,
         "type": "scatter3d",
         "x": [
          -0.3549999999999997,
          0.35500000000000026
         ],
         "y": [
          2.3486610944968342,
          2.0340001727144226
         ],
         "z": [
          8.165,
          6.990669452751582
         ]
        },
        {
         "line": {
          "color": "gray",
          "width": 3
         },
         "mode": "lines",
         "showlegend": false,
         "type": "scatter3d",
         "x": [
          3.9049999999999976,
          2.4849999999999994
         ],
         "y": [
          -1.1743305472484182,
          -1.1743305472484182
         ],
         "z": [
          6.130999827285578,
          6.130999827285578
         ]
        },
        {
         "line": {
          "color": "gray",
          "width": 3
         },
         "mode": "lines",
         "showlegend": false,
         "type": "scatter3d",
         "x": [
          6.745000000000001,
          6.035
         ],
         "y": [
          1.174330547248417,
          -5.752560583314934e-16
         ],
         "z": [
          6.130999827285576,
          5.816338905503165
         ]
        },
        {
         "line": {
          "color": "gray",
          "width": 3
         },
         "mode": "lines",
         "showlegend": false,
         "type": "scatter3d",
         "x": [
          -2.4849999999999994,
          -1.7750000000000006
         ],
         "y": [
          2.0340001727144226,
          1.174330547248418
         ],
         "z": [
          9.339330547248416,
          10.19900017271442
         ]
        },
        {
         "line": {
          "color": "gray",
          "width": 3
         },
         "mode": "lines",
         "showlegend": false,
         "type": "scatter3d",
         "x": [
          -6.744999999999999,
          -6.035
         ],
         "y": [
          2.0340001727144226,
          1.174330547248418
         ],
         "z": [
          9.339330547248416,
          10.19900017271442
         ]
        },
        {
         "line": {
          "color": "gray",
          "width": 3
         },
         "mode": "lines",
         "showlegend": false,
         "type": "scatter3d",
         "x": [
          -0.3549999999999997,
          0.35500000000000026
         ],
         "y": [
          2.3486610944968342,
          2.0340001727144226
         ],
         "z": [
          8.165,
          9.339330547248416
         ]
        },
        {
         "line": {
          "color": "gray",
          "width": 3
         },
         "mode": "lines",
         "showlegend": false,
         "type": "scatter3d",
         "x": [
          -0.3549999999999997,
          0.35500000000000026
         ],
         "y": [
          2.3486610944968342,
          2.0340001727144226
         ],
         "z": [
          8.165,
          9.339330547248416
         ]
        },
        {
         "line": {
          "color": "gray",
          "width": 3
         },
         "mode": "lines",
         "showlegend": false,
         "type": "scatter3d",
         "x": [
          -0.3549999999999988,
          -1.7750000000000006
         ],
         "y": [
          -1.1743305472484165,
          -1.1743305472484165
         ],
         "z": [
          10.199000172714422,
          10.199000172714422
         ]
        },
        {
         "line": {
          "color": "gray",
          "width": 3
         },
         "mode": "lines",
         "showlegend": false,
         "type": "scatter3d",
         "x": [
          8.165,
          6.744999999999999
         ],
         "y": [
          -2.3486610944968342,
          -2.3486610944968342
         ],
         "z": [
          8.165,
          8.165
         ]
        },
        {
         "line": {
          "color": "gray",
          "width": 3
         },
         "mode": "lines",
         "showlegend": false,
         "type": "scatter3d",
         "x": [
          2.4849999999999994,
          1.7750000000000001
         ],
         "y": [
          -1.1743305472484182,
          -5.752560583314934e-16
         ],
         "z": [
          6.130999827285578,
          5.816338905503165
         ]
        },
        {
         "line": {
          "color": "gray",
          "width": 3
         },
         "mode": "lines",
         "showlegend": false,
         "type": "scatter3d",
         "x": [
          -4.614999999999999,
          -3.9049999999999994
         ],
         "y": [
          1.174330547248417,
          2.0340001727144226
         ],
         "z": [
          6.130999827285576,
          6.990669452751582
         ]
        },
        {
         "line": {
          "color": "gray",
          "width": 3
         },
         "mode": "lines",
         "showlegend": false,
         "type": "scatter3d",
         "x": [
          -4.614999999999999,
          -3.9049999999999994
         ],
         "y": [
          1.174330547248417,
          2.0340001727144226
         ],
         "z": [
          6.130999827285576,
          6.990669452751582
         ]
        },
        {
         "line": {
          "color": "gray",
          "width": 3
         },
         "mode": "lines",
         "showlegend": false,
         "type": "scatter3d",
         "x": [
          2.4849999999999994,
          1.7750000000000001
         ],
         "y": [
          -1.1743305472484182,
          -5.752560583314934e-16
         ],
         "z": [
          6.130999827285578,
          5.816338905503165
         ]
        },
        {
         "line": {
          "color": "gray",
          "width": 3
         },
         "mode": "lines",
         "showlegend": false,
         "type": "scatter3d",
         "x": [
          6.035,
          4.615
         ],
         "y": [
          -2.0340001727144217,
          -2.0340001727144217
         ],
         "z": [
          9.339330547248418,
          9.339330547248418
         ]
        },
        {
         "line": {
          "color": "gray",
          "width": 3
         },
         "mode": "lines",
         "showlegend": false,
         "type": "scatter3d",
         "x": [
          -4.614999999999998,
          -3.9049999999999994
         ],
         "y": [
          -2.3486610944968342,
          -2.0340001727144217
         ],
         "z": [
          8.165,
          9.339330547248418
         ]
        },
        {
         "line": {
          "color": "gray",
          "width": 3
         },
         "mode": "lines",
         "showlegend": false,
         "type": "scatter3d",
         "x": [
          -0.3549999999999988,
          0.35500000000000026
         ],
         "y": [
          -1.1743305472484165,
          2.876280291657467e-16
         ],
         "z": [
          10.199000172714422,
          10.513661094496833
         ]
        },
        {
         "line": {
          "color": "gray",
          "width": 3
         },
         "mode": "lines",
         "showlegend": false,
         "type": "scatter3d",
         "x": [
          6.035,
          4.615
         ],
         "y": [
          2.0340001727144226,
          2.0340001727144226
         ],
         "z": [
          9.339330547248416,
          9.339330547248416
         ]
        },
        {
         "line": {
          "color": "gray",
          "width": 3
         },
         "mode": "lines",
         "showlegend": false,
         "type": "scatter3d",
         "x": [
          -6.035,
          -6.744999999999999
         ],
         "y": [
          1.174330547248418,
          1.330643078826429e-15
         ],
         "z": [
          10.19900017271442,
          10.513661094496833
         ]
        },
        {
         "line": {
          "color": "gray",
          "width": 3
         },
         "mode": "lines",
         "showlegend": false,
         "type": "scatter3d",
         "x": [
          -6.035,
          -6.744999999999999
         ],
         "y": [
          1.174330547248418,
          1.330643078826429e-15
         ],
         "z": [
          10.19900017271442,
          10.513661094496833
         ]
        },
        {
         "line": {
          "color": "gray",
          "width": 3
         },
         "mode": "lines",
         "showlegend": false,
         "type": "scatter3d",
         "x": [
          -0.3549999999999997,
          -1.7749999999999988
         ],
         "y": [
          2.3486610944968342,
          2.3486610944968342
         ],
         "z": [
          8.165,
          8.165
         ]
        },
        {
         "line": {
          "color": "gray",
          "width": 3
         },
         "mode": "lines",
         "showlegend": false,
         "type": "scatter3d",
         "x": [
          3.905000000000001,
          2.4849999999999994
         ],
         "y": [
          1.174330547248417,
          1.174330547248417
         ],
         "z": [
          6.130999827285576,
          6.130999827285576
         ]
        },
        {
         "line": {
          "color": "gray",
          "width": 3
         },
         "mode": "lines",
         "showlegend": false,
         "type": "scatter3d",
         "x": [
          3.905000000000001,
          2.4849999999999994
         ],
         "y": [
          1.174330547248417,
          1.174330547248417
         ],
         "z": [
          6.130999827285576,
          6.130999827285576
         ]
        },
        {
         "line": {
          "color": "gray",
          "width": 3
         },
         "mode": "lines",
         "showlegend": false,
         "type": "scatter3d",
         "x": [
          3.9049999999999976,
          4.615
         ],
         "y": [
          -1.1743305472484182,
          0
         ],
         "z": [
          6.130999827285578,
          5.816338905503165
         ]
        },
        {
         "line": {
          "color": "gray",
          "width": 3
         },
         "mode": "lines",
         "showlegend": false,
         "type": "scatter3d",
         "x": [
          -0.3550000000000015,
          0.35500000000000026
         ],
         "y": [
          -1.1743305472484182,
          -2.0340001727144235
         ],
         "z": [
          6.130999827285578,
          6.990669452751583
         ]
        },
        {
         "line": {
          "color": "gray",
          "width": 3
         },
         "mode": "lines",
         "showlegend": false,
         "type": "scatter3d",
         "x": [
          -0.3550000000000015,
          0.35500000000000026
         ],
         "y": [
          -1.1743305472484182,
          -2.0340001727144235
         ],
         "z": [
          6.130999827285578,
          6.990669452751583
         ]
        },
        {
         "line": {
          "color": "gray",
          "width": 3
         },
         "mode": "lines",
         "showlegend": false,
         "type": "scatter3d",
         "x": [
          -4.615,
          -3.9049999999999994
         ],
         "y": [
          1.174330547248418,
          2.0340001727144226
         ],
         "z": [
          10.19900017271442,
          9.339330547248416
         ]
        },
        {
         "line": {
          "color": "gray",
          "width": 3
         },
         "mode": "lines",
         "showlegend": false,
         "type": "scatter3d",
         "x": [
          2.4849999999999994,
          1.7750000000000001
         ],
         "y": [
          1.174330547248418,
          1.330643078826429e-15
         ],
         "z": [
          10.19900017271442,
          10.513661094496833
         ]
        },
        {
         "line": {
          "color": "gray",
          "width": 3
         },
         "mode": "lines",
         "showlegend": false,
         "type": "scatter3d",
         "x": [
          3.905000000000001,
          4.615
         ],
         "y": [
          -1.1743305472484165,
          -2.0340001727144217
         ],
         "z": [
          10.199000172714422,
          9.339330547248418
         ]
        },
        {
         "line": {
          "color": "gray",
          "width": 3
         },
         "mode": "lines",
         "showlegend": false,
         "type": "scatter3d",
         "x": [
          3.9049999999999994,
          4.615
         ],
         "y": [
          1.174330547248418,
          2.876280291657467e-16
         ],
         "z": [
          10.19900017271442,
          10.513661094496833
         ]
        },
        {
         "line": {
          "color": "gray",
          "width": 3
         },
         "mode": "lines",
         "showlegend": false,
         "type": "scatter3d",
         "x": [
          6.035,
          4.615
         ],
         "y": [
          -2.0340001727144226,
          -2.0340001727144235
         ],
         "z": [
          6.990669452751582,
          6.990669452751583
         ]
        },
        {
         "line": {
          "color": "gray",
          "width": 3
         },
         "mode": "lines",
         "showlegend": false,
         "type": "scatter3d",
         "x": [
          2.4849999999999994,
          1.7750000000000001
         ],
         "y": [
          1.174330547248417,
          -5.752560583314934e-16
         ],
         "z": [
          6.130999827285576,
          5.816338905503165
         ]
        },
        {
         "line": {
          "color": "gray",
          "width": 3
         },
         "mode": "lines",
         "showlegend": false,
         "type": "scatter3d",
         "x": [
          -4.614999999999999,
          -3.9049999999999994
         ],
         "y": [
          1.174330547248417,
          2.0340001727144226
         ],
         "z": [
          6.130999827285576,
          6.990669452751582
         ]
        },
        {
         "line": {
          "color": "gray",
          "width": 3
         },
         "mode": "lines",
         "showlegend": false,
         "type": "scatter3d",
         "x": [
          -6.744999999999999,
          -8.165
         ],
         "y": [
          -2.0340001727144226,
          -2.0340001727144235
         ],
         "z": [
          6.990669452751582,
          6.990669452751583
         ]
        },
        {
         "line": {
          "color": "gray",
          "width": 3
         },
         "mode": "lines",
         "showlegend": false,
         "type": "scatter3d",
         "x": [
          -3.9049999999999994,
          -2.4849999999999994
         ],
         "y": [
          0,
          -5.752560583314934e-16
         ],
         "z": [
          5.816338905503165,
          5.816338905503165
         ]
        },
        {
         "line": {
          "color": "gray",
          "width": 3
         },
         "mode": "lines",
         "showlegend": false,
         "type": "scatter3d",
         "x": [
          -3.9049999999999994,
          -2.4849999999999994
         ],
         "y": [
          0,
          -5.752560583314934e-16
         ],
         "z": [
          5.816338905503165,
          5.816338905503165
         ]
        },
        {
         "line": {
          "color": "gray",
          "width": 3
         },
         "mode": "lines",
         "showlegend": false,
         "type": "scatter3d",
         "x": [
          6.035,
          4.615
         ],
         "y": [
          1.330643078826429e-15,
          2.876280291657467e-16
         ],
         "z": [
          10.513661094496833,
          10.513661094496833
         ]
        },
        {
         "line": {
          "color": "gray",
          "width": 3
         },
         "mode": "lines",
         "showlegend": false,
         "type": "scatter3d",
         "x": [
          -4.615,
          -6.035
         ],
         "y": [
          1.174330547248418,
          1.174330547248418
         ],
         "z": [
          10.19900017271442,
          10.19900017271442
         ]
        },
        {
         "line": {
          "color": "gray",
          "width": 3
         },
         "mode": "lines",
         "showlegend": false,
         "type": "scatter3d",
         "x": [
          -4.615,
          -6.035
         ],
         "y": [
          1.174330547248418,
          1.174330547248418
         ],
         "z": [
          10.19900017271442,
          10.19900017271442
         ]
        },
        {
         "line": {
          "color": "gray",
          "width": 3
         },
         "mode": "lines",
         "showlegend": false,
         "type": "scatter3d",
         "x": [
          1.7750000000000001,
          0.35500000000000026
         ],
         "y": [
          2.0340001727144226,
          2.0340001727144226
         ],
         "z": [
          9.339330547248416,
          9.339330547248416
         ]
        },
        {
         "line": {
          "color": "gray",
          "width": 3
         },
         "mode": "lines",
         "showlegend": false,
         "type": "scatter3d",
         "x": [
          -1.7750000000000006,
          -2.4849999999999994
         ],
         "y": [
          -1.1743305472484182,
          -5.752560583314934e-16
         ],
         "z": [
          6.130999827285578,
          5.816338905503165
         ]
        },
        {
         "line": {
          "color": "gray",
          "width": 3
         },
         "mode": "lines",
         "showlegend": false,
         "type": "scatter3d",
         "x": [
          3.905000000000001,
          4.615
         ],
         "y": [
          1.174330547248417,
          2.0340001727144226
         ],
         "z": [
          6.130999827285576,
          6.990669452751582
         ]
        },
        {
         "line": {
          "color": "gray",
          "width": 3
         },
         "mode": "lines",
         "showlegend": false,
         "type": "scatter3d",
         "x": [
          -2.4849999999999994,
          -3.9049999999999994
         ],
         "y": [
          -2.0340001727144226,
          -2.0340001727144235
         ],
         "z": [
          6.990669452751582,
          6.990669452751583
         ]
        },
        {
         "line": {
          "color": "gray",
          "width": 3
         },
         "mode": "lines",
         "showlegend": false,
         "type": "scatter3d",
         "x": [
          -2.4849999999999994,
          -3.9049999999999994
         ],
         "y": [
          -2.0340001727144226,
          -2.0340001727144235
         ],
         "z": [
          6.990669452751582,
          6.990669452751583
         ]
        },
        {
         "line": {
          "color": "gray",
          "width": 3
         },
         "mode": "lines",
         "showlegend": false,
         "type": "scatter3d",
         "x": [
          6.035,
          4.615
         ],
         "y": [
          2.0340001727144226,
          2.0340001727144226
         ],
         "z": [
          6.990669452751582,
          6.990669452751582
         ]
        },
        {
         "line": {
          "color": "gray",
          "width": 3
         },
         "mode": "lines",
         "showlegend": false,
         "type": "scatter3d",
         "x": [
          3.9049999999999976,
          2.4849999999999994
         ],
         "y": [
          -1.1743305472484182,
          -1.1743305472484182
         ],
         "z": [
          6.130999827285578,
          6.130999827285578
         ]
        },
        {
         "line": {
          "color": "gray",
          "width": 3
         },
         "mode": "lines",
         "showlegend": false,
         "type": "scatter3d",
         "x": [
          1.7750000000000001,
          2.485000000000001
         ],
         "y": [
          2.0340001727144226,
          2.3486610944968342
         ],
         "z": [
          6.990669452751582,
          8.165
         ]
        },
        {
         "line": {
          "color": "gray",
          "width": 3
         },
         "mode": "lines",
         "showlegend": false,
         "type": "scatter3d",
         "x": [
          6.744999999999999,
          6.035
         ],
         "y": [
          1.174330547248418,
          1.330643078826429e-15
         ],
         "z": [
          10.19900017271442,
          10.513661094496833
         ]
        },
        {
         "line": {
          "color": "gray",
          "width": 3
         },
         "mode": "lines",
         "showlegend": false,
         "type": "scatter3d",
         "x": [
          3.905000000000001,
          2.4849999999999994
         ],
         "y": [
          -2.3486610944968342,
          -2.3486610944968342
         ],
         "z": [
          8.165,
          8.165
         ]
        },
        {
         "line": {
          "color": "gray",
          "width": 3
         },
         "mode": "lines",
         "showlegend": false,
         "type": "scatter3d",
         "x": [
          2.4849999999999994,
          1.7750000000000001
         ],
         "y": [
          1.174330547248417,
          2.0340001727144226
         ],
         "z": [
          6.130999827285576,
          6.990669452751582
         ]
        },
        {
         "line": {
          "color": "gray",
          "width": 3
         },
         "mode": "lines",
         "showlegend": false,
         "type": "scatter3d",
         "x": [
          1.7750000000000001,
          2.4849999999999994
         ],
         "y": [
          -2.0340001727144226,
          -1.1743305472484182
         ],
         "z": [
          6.990669452751582,
          6.130999827285578
         ]
        },
        {
         "line": {
          "color": "gray",
          "width": 3
         },
         "mode": "lines",
         "showlegend": false,
         "type": "scatter3d",
         "x": [
          -6.034999999999999,
          -6.744999999999999
         ],
         "y": [
          1.174330547248417,
          2.0340001727144226
         ],
         "z": [
          6.130999827285576,
          6.990669452751582
         ]
        },
        {
         "line": {
          "color": "gray",
          "width": 3
         },
         "mode": "lines",
         "showlegend": false,
         "type": "scatter3d",
         "x": [
          -1.7749999999999988,
          -2.4849999999999994
         ],
         "y": [
          2.3486610944968342,
          2.0340001727144226
         ],
         "z": [
          8.165,
          9.339330547248416
         ]
        },
        {
         "line": {
          "color": "gray",
          "width": 3
         },
         "mode": "lines",
         "showlegend": false,
         "type": "scatter3d",
         "x": [
          -2.4849999999999994,
          -3.9049999999999994
         ],
         "y": [
          1.330643078826429e-15,
          2.876280291657467e-16
         ],
         "z": [
          10.513661094496833,
          10.513661094496833
         ]
        },
        {
         "line": {
          "color": "gray",
          "width": 3
         },
         "mode": "lines",
         "showlegend": false,
         "type": "scatter3d",
         "x": [
          -2.4849999999999994,
          -3.9049999999999994
         ],
         "y": [
          1.330643078826429e-15,
          2.876280291657467e-16
         ],
         "z": [
          10.513661094496833,
          10.513661094496833
         ]
        },
        {
         "line": {
          "color": "gray",
          "width": 3
         },
         "mode": "lines",
         "showlegend": false,
         "type": "scatter3d",
         "x": [
          -0.3550000000000006,
          0.35500000000000026
         ],
         "y": [
          1.174330547248418,
          2.876280291657467e-16
         ],
         "z": [
          10.19900017271442,
          10.513661094496833
         ]
        },
        {
         "line": {
          "color": "gray",
          "width": 3
         },
         "mode": "lines",
         "showlegend": false,
         "type": "scatter3d",
         "x": [
          3.905000000000001,
          4.615
         ],
         "y": [
          -2.3486610944968342,
          -2.0340001727144217
         ],
         "z": [
          8.165,
          9.339330547248418
         ]
        },
        {
         "line": {
          "color": "gray",
          "width": 3
         },
         "mode": "lines",
         "showlegend": false,
         "type": "scatter3d",
         "x": [
          4.615,
          6.035
         ],
         "y": [
          0,
          -5.752560583314934e-16
         ],
         "z": [
          5.816338905503165,
          5.816338905503165
         ]
        },
        {
         "line": {
          "color": "gray",
          "width": 3
         },
         "mode": "lines",
         "showlegend": false,
         "type": "scatter3d",
         "x": [
          0.35500000000000026,
          1.7750000000000001
         ],
         "y": [
          0,
          -5.752560583314934e-16
         ],
         "z": [
          5.816338905503165,
          5.816338905503165
         ]
        },
        {
         "line": {
          "color": "gray",
          "width": 3
         },
         "mode": "lines",
         "showlegend": false,
         "type": "scatter3d",
         "x": [
          1.7750000000000001,
          2.4849999999999994
         ],
         "y": [
          -2.0340001727144217,
          -2.3486610944968342
         ],
         "z": [
          9.339330547248418,
          8.165
         ]
        },
        {
         "line": {
          "color": "gray",
          "width": 3
         },
         "mode": "lines",
         "showlegend": false,
         "type": "scatter3d",
         "x": [
          3.9049999999999994,
          4.615
         ],
         "y": [
          1.174330547248418,
          2.0340001727144226
         ],
         "z": [
          10.19900017271442,
          9.339330547248416
         ]
        },
        {
         "line": {
          "color": "gray",
          "width": 3
         },
         "mode": "lines",
         "showlegend": false,
         "type": "scatter3d",
         "x": [
          -0.3549999999999997,
          -1.7749999999999988
         ],
         "y": [
          2.3486610944968342,
          2.3486610944968342
         ],
         "z": [
          8.165,
          8.165
         ]
        },
        {
         "line": {
          "color": "gray",
          "width": 3
         },
         "mode": "lines",
         "showlegend": false,
         "type": "scatter3d",
         "x": [
          -0.3550000000000006,
          0.35500000000000026
         ],
         "y": [
          1.174330547248418,
          2.0340001727144226
         ],
         "z": [
          10.19900017271442,
          9.339330547248416
         ]
        },
        {
         "line": {
          "color": "gray",
          "width": 3
         },
         "mode": "lines",
         "showlegend": false,
         "type": "scatter3d",
         "x": [
          6.035,
          6.744999999999999
         ],
         "y": [
          2.0340001727144226,
          1.174330547248418
         ],
         "z": [
          9.339330547248416,
          10.19900017271442
         ]
        },
        {
         "line": {
          "color": "gray",
          "width": 3
         },
         "mode": "lines",
         "showlegend": false,
         "type": "scatter3d",
         "x": [
          -2.4849999999999994,
          -1.7750000000000006
         ],
         "y": [
          2.0340001727144226,
          1.174330547248418
         ],
         "z": [
          9.339330547248416,
          10.19900017271442
         ]
        },
        {
         "line": {
          "color": "gray",
          "width": 3
         },
         "mode": "lines",
         "showlegend": false,
         "type": "scatter3d",
         "x": [
          -2.4849999999999994,
          -1.7750000000000006
         ],
         "y": [
          2.0340001727144226,
          1.174330547248418
         ],
         "z": [
          9.339330547248416,
          10.19900017271442
         ]
        },
        {
         "line": {
          "color": "gray",
          "width": 3
         },
         "mode": "lines",
         "showlegend": false,
         "type": "scatter3d",
         "x": [
          -2.4849999999999994,
          -1.7750000000000006
         ],
         "y": [
          1.330643078826429e-15,
          -1.1743305472484165
         ],
         "z": [
          10.513661094496833,
          10.199000172714422
         ]
        },
        {
         "line": {
          "color": "gray",
          "width": 3
         },
         "mode": "lines",
         "showlegend": false,
         "type": "scatter3d",
         "x": [
          6.035,
          6.744999999999999
         ],
         "y": [
          2.0340001727144226,
          1.174330547248418
         ],
         "z": [
          9.339330547248416,
          10.19900017271442
         ]
        },
        {
         "line": {
          "color": "gray",
          "width": 3
         },
         "mode": "lines",
         "showlegend": false,
         "type": "scatter3d",
         "x": [
          -6.744999999999999,
          -6.035
         ],
         "y": [
          1.330643078826429e-15,
          -1.1743305472484165
         ],
         "z": [
          10.513661094496833,
          10.199000172714422
         ]
        },
        {
         "line": {
          "color": "gray",
          "width": 3
         },
         "mode": "lines",
         "showlegend": false,
         "type": "scatter3d",
         "x": [
          3.905000000000001,
          4.615
         ],
         "y": [
          -1.1743305472484165,
          -2.0340001727144217
         ],
         "z": [
          10.199000172714422,
          9.339330547248418
         ]
        },
        {
         "line": {
          "color": "gray",
          "width": 3
         },
         "mode": "lines",
         "showlegend": false,
         "type": "scatter3d",
         "x": [
          3.905000000000001,
          4.615
         ],
         "y": [
          -1.1743305472484165,
          -2.0340001727144217
         ],
         "z": [
          10.199000172714422,
          9.339330547248418
         ]
        },
        {
         "line": {
          "color": "gray",
          "width": 3
         },
         "mode": "lines",
         "showlegend": false,
         "type": "scatter3d",
         "x": [
          -6.035,
          -6.744999999999999
         ],
         "y": [
          -1.1743305472484165,
          -2.0340001727144217
         ],
         "z": [
          10.199000172714422,
          9.339330547248418
         ]
        },
        {
         "line": {
          "color": "gray",
          "width": 3
         },
         "mode": "lines",
         "showlegend": false,
         "type": "scatter3d",
         "x": [
          8.165,
          6.744999999999999
         ],
         "y": [
          -2.3486610944968342,
          -2.3486610944968342
         ],
         "z": [
          8.165,
          8.165
         ]
        },
        {
         "line": {
          "color": "gray",
          "width": 3
         },
         "mode": "lines",
         "showlegend": false,
         "type": "scatter3d",
         "x": [
          8.165,
          6.744999999999999
         ],
         "y": [
          -2.3486610944968342,
          -2.3486610944968342
         ],
         "z": [
          8.165,
          8.165
         ]
        },
        {
         "line": {
          "color": "gray",
          "width": 3
         },
         "mode": "lines",
         "showlegend": false,
         "type": "scatter3d",
         "x": [
          -4.614999999999999,
          -3.9049999999999994
         ],
         "y": [
          2.3486610944968342,
          2.0340001727144226
         ],
         "z": [
          8.165,
          9.339330547248416
         ]
        },
        {
         "line": {
          "color": "gray",
          "width": 3
         },
         "mode": "lines",
         "showlegend": false,
         "type": "scatter3d",
         "x": [
          -4.614999999999999,
          -3.9049999999999994
         ],
         "y": [
          2.3486610944968342,
          2.0340001727144226
         ],
         "z": [
          8.165,
          9.339330547248416
         ]
        },
        {
         "line": {
          "color": "gray",
          "width": 3
         },
         "mode": "lines",
         "showlegend": false,
         "type": "scatter3d",
         "x": [
          -6.744999999999999,
          -6.035
         ],
         "y": [
          2.0340001727144226,
          1.174330547248418
         ],
         "z": [
          9.339330547248416,
          10.19900017271442
         ]
        },
        {
         "line": {
          "color": "gray",
          "width": 3
         },
         "mode": "lines",
         "showlegend": false,
         "type": "scatter3d",
         "x": [
          3.905000000000001,
          4.615
         ],
         "y": [
          1.174330547248417,
          0
         ],
         "z": [
          6.130999827285576,
          5.816338905503165
         ]
        },
        {
         "line": {
          "color": "gray",
          "width": 3
         },
         "mode": "lines",
         "showlegend": false,
         "type": "scatter3d",
         "x": [
          -4.614999999999999,
          -3.9049999999999994
         ],
         "y": [
          1.174330547248417,
          0
         ],
         "z": [
          6.130999827285576,
          5.816338905503165
         ]
        },
        {
         "line": {
          "color": "gray",
          "width": 3
         },
         "mode": "lines",
         "showlegend": false,
         "type": "scatter3d",
         "x": [
          -4.615000000000001,
          -6.035
         ],
         "y": [
          -1.1743305472484182,
          -1.1743305472484182
         ],
         "z": [
          6.130999827285578,
          6.130999827285578
         ]
        },
        {
         "line": {
          "color": "gray",
          "width": 3
         },
         "mode": "lines",
         "showlegend": false,
         "type": "scatter3d",
         "x": [
          -0.3549999999999997,
          0.35500000000000026
         ],
         "y": [
          1.174330547248417,
          0
         ],
         "z": [
          6.130999827285576,
          5.816338905503165
         ]
        },
        {
         "line": {
          "color": "gray",
          "width": 3
         },
         "mode": "lines",
         "showlegend": false,
         "type": "scatter3d",
         "x": [
          6.035,
          4.615
         ],
         "y": [
          1.330643078826429e-15,
          2.876280291657467e-16
         ],
         "z": [
          10.513661094496833,
          10.513661094496833
         ]
        },
        {
         "line": {
          "color": "gray",
          "width": 3
         },
         "mode": "lines",
         "showlegend": false,
         "type": "scatter3d",
         "x": [
          -0.3549999999999988,
          -1.7750000000000006
         ],
         "y": [
          -2.3486610944968342,
          -2.3486610944968342
         ],
         "z": [
          8.165,
          8.165
         ]
        },
        {
         "line": {
          "color": "gray",
          "width": 3
         },
         "mode": "lines",
         "showlegend": false,
         "type": "scatter3d",
         "x": [
          -0.3549999999999997,
          0.35500000000000026
         ],
         "y": [
          1.174330547248417,
          2.0340001727144226
         ],
         "z": [
          6.130999827285576,
          6.990669452751582
         ]
        },
        {
         "line": {
          "color": "gray",
          "width": 3
         },
         "mode": "lines",
         "showlegend": false,
         "type": "scatter3d",
         "x": [
          -0.3549999999999997,
          0.35500000000000026
         ],
         "y": [
          1.174330547248417,
          2.0340001727144226
         ],
         "z": [
          6.130999827285576,
          6.990669452751582
         ]
        },
        {
         "line": {
          "color": "gray",
          "width": 3
         },
         "mode": "lines",
         "showlegend": false,
         "type": "scatter3d",
         "x": [
          6.035,
          4.615
         ],
         "y": [
          2.0340001727144226,
          2.0340001727144226
         ],
         "z": [
          9.339330547248416,
          9.339330547248416
         ]
        },
        {
         "line": {
          "color": "gray",
          "width": 3
         },
         "mode": "lines",
         "showlegend": false,
         "type": "scatter3d",
         "x": [
          1.7750000000000001,
          0.35500000000000026
         ],
         "y": [
          2.0340001727144226,
          2.0340001727144226
         ],
         "z": [
          9.339330547248416,
          9.339330547248416
         ]
        },
        {
         "line": {
          "color": "gray",
          "width": 3
         },
         "mode": "lines",
         "showlegend": false,
         "type": "scatter3d",
         "x": [
          -4.615000000000001,
          -3.9049999999999994
         ],
         "y": [
          -1.1743305472484182,
          -2.0340001727144235
         ],
         "z": [
          6.130999827285578,
          6.990669452751583
         ]
        },
        {
         "line": {
          "color": "gray",
          "width": 3
         },
         "mode": "lines",
         "showlegend": false,
         "type": "scatter3d",
         "x": [
          -4.614999999999999,
          -6.034999999999998
         ],
         "y": [
          2.3486610944968342,
          2.3486610944968342
         ],
         "z": [
          8.165,
          8.165
         ]
        },
        {
         "line": {
          "color": "gray",
          "width": 3
         },
         "mode": "lines",
         "showlegend": false,
         "type": "scatter3d",
         "x": [
          2.4849999999999994,
          1.7750000000000001
         ],
         "y": [
          1.174330547248418,
          1.330643078826429e-15
         ],
         "z": [
          10.19900017271442,
          10.513661094496833
         ]
        },
        {
         "line": {
          "color": "gray",
          "width": 3
         },
         "mode": "lines",
         "showlegend": false,
         "type": "scatter3d",
         "x": [
          3.905000000000001,
          4.615
         ],
         "y": [
          -1.1743305472484165,
          -2.0340001727144217
         ],
         "z": [
          10.199000172714422,
          9.339330547248418
         ]
        },
        {
         "line": {
          "color": "gray",
          "width": 3
         },
         "mode": "lines",
         "showlegend": false,
         "type": "scatter3d",
         "x": [
          6.035,
          4.615
         ],
         "y": [
          2.0340001727144226,
          2.0340001727144226
         ],
         "z": [
          6.990669452751582,
          6.990669452751582
         ]
        },
        {
         "line": {
          "color": "gray",
          "width": 3
         },
         "mode": "lines",
         "showlegend": false,
         "type": "scatter3d",
         "x": [
          6.744999999999999,
          6.035
         ],
         "y": [
          -1.1743305472484165,
          -2.0340001727144217
         ],
         "z": [
          10.199000172714422,
          9.339330547248418
         ]
        },
        {
         "line": {
          "color": "gray",
          "width": 3
         },
         "mode": "lines",
         "showlegend": false,
         "type": "scatter3d",
         "x": [
          6.035,
          4.615
         ],
         "y": [
          -2.0340001727144226,
          -2.0340001727144235
         ],
         "z": [
          6.990669452751582,
          6.990669452751583
         ]
        },
        {
         "line": {
          "color": "gray",
          "width": 3
         },
         "mode": "lines",
         "showlegend": false,
         "type": "scatter3d",
         "x": [
          6.035,
          4.615
         ],
         "y": [
          -2.0340001727144226,
          -2.0340001727144235
         ],
         "z": [
          6.990669452751582,
          6.990669452751583
         ]
        },
        {
         "line": {
          "color": "gray",
          "width": 3
         },
         "mode": "lines",
         "showlegend": false,
         "type": "scatter3d",
         "x": [
          -0.3549999999999997,
          -1.7749999999999997
         ],
         "y": [
          1.174330547248417,
          1.174330547248417
         ],
         "z": [
          6.130999827285576,
          6.130999827285576
         ]
        },
        {
         "line": {
          "color": "gray",
          "width": 3
         },
         "mode": "lines",
         "showlegend": false,
         "type": "scatter3d",
         "x": [
          -1.7749999999999997,
          -2.4849999999999994
         ],
         "y": [
          1.174330547248417,
          -5.752560583314934e-16
         ],
         "z": [
          6.130999827285576,
          5.816338905503165
         ]
        },
        {
         "line": {
          "color": "gray",
          "width": 3
         },
         "mode": "lines",
         "showlegend": false,
         "type": "scatter3d",
         "x": [
          -6.744999999999999,
          -8.165
         ],
         "y": [
          -2.0340001727144217,
          -2.0340001727144217
         ],
         "z": [
          9.339330547248418,
          9.339330547248418
         ]
        },
        {
         "line": {
          "color": "gray",
          "width": 3
         },
         "mode": "lines",
         "showlegend": false,
         "type": "scatter3d",
         "x": [
          -6.034999999999999,
          -6.744999999999999
         ],
         "y": [
          1.174330547248417,
          -5.752560583314934e-16
         ],
         "z": [
          6.130999827285576,
          5.816338905503165
         ]
        },
        {
         "line": {
          "color": "gray",
          "width": 3
         },
         "mode": "lines",
         "showlegend": false,
         "type": "scatter3d",
         "x": [
          2.485000000000001,
          1.7750000000000001
         ],
         "y": [
          2.3486610944968342,
          2.0340001727144226
         ],
         "z": [
          8.165,
          9.339330547248416
         ]
        },
        {
         "line": {
          "color": "gray",
          "width": 3
         },
         "mode": "lines",
         "showlegend": false,
         "type": "scatter3d",
         "x": [
          3.9049999999999976,
          4.615
         ],
         "y": [
          -1.1743305472484182,
          0
         ],
         "z": [
          6.130999827285578,
          5.816338905503165
         ]
        },
        {
         "line": {
          "color": "gray",
          "width": 3
         },
         "mode": "lines",
         "showlegend": false,
         "type": "scatter3d",
         "x": [
          3.905000000000001,
          2.4849999999999994
         ],
         "y": [
          -2.3486610944968342,
          -2.3486610944968342
         ],
         "z": [
          8.165,
          8.165
         ]
        },
        {
         "line": {
          "color": "gray",
          "width": 3
         },
         "mode": "lines",
         "showlegend": false,
         "type": "scatter3d",
         "x": [
          6.744999999999999,
          6.035
         ],
         "y": [
          -2.3486610944968342,
          -2.0340001727144226
         ],
         "z": [
          8.165,
          6.990669452751582
         ]
        },
        {
         "line": {
          "color": "gray",
          "width": 3
         },
         "mode": "lines",
         "showlegend": false,
         "type": "scatter3d",
         "x": [
          -4.615000000000001,
          -3.9049999999999994
         ],
         "y": [
          -1.1743305472484182,
          0
         ],
         "z": [
          6.130999827285578,
          5.816338905503165
         ]
        },
        {
         "line": {
          "color": "gray",
          "width": 3
         },
         "mode": "lines",
         "showlegend": false,
         "type": "scatter3d",
         "x": [
          2.4849999999999994,
          1.7750000000000001
         ],
         "y": [
          1.174330547248417,
          2.0340001727144226
         ],
         "z": [
          6.130999827285576,
          6.990669452751582
         ]
        },
        {
         "line": {
          "color": "gray",
          "width": 3
         },
         "mode": "lines",
         "showlegend": false,
         "type": "scatter3d",
         "x": [
          1.7750000000000001,
          2.4849999999999994
         ],
         "y": [
          -2.0340001727144226,
          -1.1743305472484182
         ],
         "z": [
          6.990669452751582,
          6.130999827285578
         ]
        },
        {
         "line": {
          "color": "gray",
          "width": 3
         },
         "mode": "lines",
         "showlegend": false,
         "type": "scatter3d",
         "x": [
          6.744999999999999,
          6.035
         ],
         "y": [
          -1.1743305472484182,
          -5.752560583314934e-16
         ],
         "z": [
          6.130999827285578,
          5.816338905503165
         ]
        },
        {
         "line": {
          "color": "gray",
          "width": 3
         },
         "mode": "lines",
         "showlegend": false,
         "type": "scatter3d",
         "x": [
          -8.165,
          -6.744999999999999
         ],
         "y": [
          0,
          -5.752560583314934e-16
         ],
         "z": [
          5.816338905503165,
          5.816338905503165
         ]
        },
        {
         "line": {
          "color": "gray",
          "width": 3
         },
         "mode": "lines",
         "showlegend": false,
         "type": "scatter3d",
         "x": [
          -0.3550000000000006,
          0.35500000000000026
         ],
         "y": [
          1.174330547248418,
          2.0340001727144226
         ],
         "z": [
          10.19900017271442,
          9.339330547248416
         ]
        },
        {
         "line": {
          "color": "gray",
          "width": 3
         },
         "mode": "lines",
         "showlegend": false,
         "type": "scatter3d",
         "x": [
          -2.4849999999999994,
          -1.7750000000000006
         ],
         "y": [
          -2.0340001727144217,
          -2.3486610944968342
         ],
         "z": [
          9.339330547248418,
          8.165
         ]
        },
        {
         "line": {
          "color": "gray",
          "width": 3
         },
         "mode": "lines",
         "showlegend": false,
         "type": "scatter3d",
         "x": [
          3.9049999999999976,
          2.4849999999999994
         ],
         "y": [
          -1.1743305472484182,
          -1.1743305472484182
         ],
         "z": [
          6.130999827285578,
          6.130999827285578
         ]
        },
        {
         "line": {
          "color": "gray",
          "width": 3
         },
         "mode": "lines",
         "showlegend": false,
         "type": "scatter3d",
         "x": [
          6.035,
          6.744999999999999
         ],
         "y": [
          1.330643078826429e-15,
          -1.1743305472484165
         ],
         "z": [
          10.513661094496833,
          10.199000172714422
         ]
        },
        {
         "line": {
          "color": "gray",
          "width": 3
         },
         "mode": "lines",
         "showlegend": false,
         "type": "scatter3d",
         "x": [
          1.7750000000000001,
          2.4849999999999994
         ],
         "y": [
          1.330643078826429e-15,
          -1.1743305472484165
         ],
         "z": [
          10.513661094496833,
          10.199000172714422
         ]
        },
        {
         "line": {
          "color": "gray",
          "width": 3
         },
         "mode": "lines",
         "showlegend": false,
         "type": "scatter3d",
         "x": [
          6.035,
          6.745000000000001
         ],
         "y": [
          2.0340001727144226,
          2.3486610944968342
         ],
         "z": [
          6.990669452751582,
          8.165
         ]
        },
        {
         "line": {
          "color": "gray",
          "width": 3
         },
         "mode": "lines",
         "showlegend": false,
         "type": "scatter3d",
         "x": [
          -1.7750000000000006,
          -2.4849999999999994
         ],
         "y": [
          1.174330547248418,
          1.330643078826429e-15
         ],
         "z": [
          10.19900017271442,
          10.513661094496833
         ]
        },
        {
         "line": {
          "color": "gray",
          "width": 3
         },
         "mode": "lines",
         "showlegend": false,
         "type": "scatter3d",
         "x": [
          -6.744999999999999,
          -6.035
         ],
         "y": [
          -2.0340001727144226,
          -1.1743305472484182
         ],
         "z": [
          6.990669452751582,
          6.130999827285578
         ]
        },
        {
         "line": {
          "color": "gray",
          "width": 3
         },
         "mode": "lines",
         "showlegend": false,
         "type": "scatter3d",
         "x": [
          -0.3549999999999988,
          0.35500000000000026
         ],
         "y": [
          -1.1743305472484165,
          2.876280291657467e-16
         ],
         "z": [
          10.199000172714422,
          10.513661094496833
         ]
        },
        {
         "line": {
          "color": "gray",
          "width": 3
         },
         "mode": "lines",
         "showlegend": false,
         "type": "scatter3d",
         "x": [
          -0.3549999999999997,
          -1.7749999999999988
         ],
         "y": [
          2.3486610944968342,
          2.3486610944968342
         ],
         "z": [
          8.165,
          8.165
         ]
        },
        {
         "line": {
          "color": "gray",
          "width": 3
         },
         "mode": "lines",
         "showlegend": false,
         "type": "scatter3d",
         "x": [
          8.165,
          6.745000000000001
         ],
         "y": [
          2.3486610944968342,
          2.3486610944968342
         ],
         "z": [
          8.165,
          8.165
         ]
        },
        {
         "line": {
          "color": "gray",
          "width": 3
         },
         "mode": "lines",
         "showlegend": false,
         "type": "scatter3d",
         "x": [
          8.165,
          6.745000000000001
         ],
         "y": [
          2.3486610944968342,
          2.3486610944968342
         ],
         "z": [
          8.165,
          8.165
         ]
        },
        {
         "line": {
          "color": "gray",
          "width": 3
         },
         "mode": "lines",
         "showlegend": false,
         "type": "scatter3d",
         "x": [
          8.165,
          6.744999999999999
         ],
         "y": [
          1.174330547248418,
          1.174330547248418
         ],
         "z": [
          10.19900017271442,
          10.19900017271442
         ]
        },
        {
         "line": {
          "color": "gray",
          "width": 3
         },
         "mode": "lines",
         "showlegend": false,
         "type": "scatter3d",
         "x": [
          -4.614999999999999,
          -6.034999999999998
         ],
         "y": [
          2.3486610944968342,
          2.3486610944968342
         ],
         "z": [
          8.165,
          8.165
         ]
        },
        {
         "line": {
          "color": "gray",
          "width": 3
         },
         "mode": "lines",
         "showlegend": false,
         "type": "scatter3d",
         "x": [
          -4.614999999999998,
          -6.035
         ],
         "y": [
          -2.3486610944968342,
          -2.3486610944968342
         ],
         "z": [
          8.165,
          8.165
         ]
        },
        {
         "line": {
          "color": "gray",
          "width": 3
         },
         "mode": "lines",
         "showlegend": false,
         "type": "scatter3d",
         "x": [
          2.4849999999999994,
          1.7750000000000001
         ],
         "y": [
          -1.1743305472484165,
          -2.0340001727144217
         ],
         "z": [
          10.199000172714422,
          9.339330547248418
         ]
        },
        {
         "line": {
          "color": "gray",
          "width": 3
         },
         "mode": "lines",
         "showlegend": false,
         "type": "scatter3d",
         "x": [
          -6.035,
          -6.744999999999999
         ],
         "y": [
          -1.1743305472484165,
          -2.0340001727144217
         ],
         "z": [
          10.199000172714422,
          9.339330547248418
         ]
        },
        {
         "line": {
          "color": "gray",
          "width": 3
         },
         "mode": "lines",
         "showlegend": false,
         "type": "scatter3d",
         "x": [
          -6.035,
          -6.744999999999999
         ],
         "y": [
          -1.1743305472484165,
          -2.0340001727144217
         ],
         "z": [
          10.199000172714422,
          9.339330547248418
         ]
        },
        {
         "line": {
          "color": "gray",
          "width": 3
         },
         "mode": "lines",
         "showlegend": false,
         "type": "scatter3d",
         "x": [
          -6.035,
          -6.744999999999999
         ],
         "y": [
          -2.3486610944968342,
          -2.0340001727144226
         ],
         "z": [
          8.165,
          6.990669452751582
         ]
        },
        {
         "line": {
          "color": "gray",
          "width": 3
         },
         "mode": "lines",
         "showlegend": false,
         "type": "scatter3d",
         "x": [
          -0.3550000000000006,
          -1.7750000000000006
         ],
         "y": [
          1.174330547248418,
          1.174330547248418
         ],
         "z": [
          10.19900017271442,
          10.19900017271442
         ]
        },
        {
         "line": {
          "color": "gray",
          "width": 3
         },
         "mode": "lines",
         "showlegend": false,
         "type": "scatter3d",
         "x": [
          2.4849999999999994,
          1.7750000000000001
         ],
         "y": [
          -1.1743305472484165,
          -2.0340001727144217
         ],
         "z": [
          10.199000172714422,
          9.339330547248418
         ]
        },
        {
         "line": {
          "color": "gray",
          "width": 3
         },
         "mode": "lines",
         "showlegend": false,
         "type": "scatter3d",
         "x": [
          6.035,
          4.615
         ],
         "y": [
          2.0340001727144226,
          2.0340001727144226
         ],
         "z": [
          9.339330547248416,
          9.339330547248416
         ]
        },
        {
         "line": {
          "color": "gray",
          "width": 3
         },
         "mode": "lines",
         "showlegend": false,
         "type": "scatter3d",
         "x": [
          3.905000000000001,
          4.615
         ],
         "y": [
          1.174330547248417,
          0
         ],
         "z": [
          6.130999827285576,
          5.816338905503165
         ]
        },
        {
         "line": {
          "color": "gray",
          "width": 3
         },
         "mode": "lines",
         "showlegend": false,
         "type": "scatter3d",
         "x": [
          3.905000000000001,
          4.615
         ],
         "y": [
          1.174330547248417,
          0
         ],
         "z": [
          6.130999827285576,
          5.816338905503165
         ]
        },
        {
         "line": {
          "color": "gray",
          "width": 3
         },
         "mode": "lines",
         "showlegend": false,
         "type": "scatter3d",
         "x": [
          -0.3549999999999997,
          -1.7749999999999997
         ],
         "y": [
          1.174330547248417,
          1.174330547248417
         ],
         "z": [
          6.130999827285576,
          6.130999827285576
         ]
        },
        {
         "line": {
          "color": "gray",
          "width": 3
         },
         "mode": "lines",
         "showlegend": false,
         "type": "scatter3d",
         "x": [
          1.7750000000000001,
          0.35500000000000026
         ],
         "y": [
          2.0340001727144226,
          2.0340001727144226
         ],
         "z": [
          6.990669452751582,
          6.990669452751582
         ]
        },
        {
         "line": {
          "color": "gray",
          "width": 3
         },
         "mode": "lines",
         "showlegend": false,
         "type": "scatter3d",
         "x": [
          -4.614999999999998,
          -3.9049999999999994
         ],
         "y": [
          -1.1743305472484165,
          -2.0340001727144217
         ],
         "z": [
          10.199000172714422,
          9.339330547248418
         ]
        },
        {
         "line": {
          "color": "gray",
          "width": 3
         },
         "mode": "lines",
         "showlegend": false,
         "type": "scatter3d",
         "x": [
          -4.614999999999998,
          -3.9049999999999994
         ],
         "y": [
          -1.1743305472484165,
          -2.0340001727144217
         ],
         "z": [
          10.199000172714422,
          9.339330547248418
         ]
        },
        {
         "line": {
          "color": "gray",
          "width": 3
         },
         "mode": "lines",
         "showlegend": false,
         "type": "scatter3d",
         "x": [
          -0.3549999999999988,
          -1.7750000000000006
         ],
         "y": [
          -2.3486610944968342,
          -2.3486610944968342
         ],
         "z": [
          8.165,
          8.165
         ]
        },
        {
         "line": {
          "color": "gray",
          "width": 3
         },
         "mode": "lines",
         "showlegend": false,
         "type": "scatter3d",
         "x": [
          -0.3549999999999988,
          -1.7750000000000006
         ],
         "y": [
          -2.3486610944968342,
          -2.3486610944968342
         ],
         "z": [
          8.165,
          8.165
         ]
        },
        {
         "line": {
          "color": "gray",
          "width": 3
         },
         "mode": "lines",
         "showlegend": false,
         "type": "scatter3d",
         "x": [
          6.035,
          4.615
         ],
         "y": [
          1.330643078826429e-15,
          2.876280291657467e-16
         ],
         "z": [
          10.513661094496833,
          10.513661094496833
         ]
        },
        {
         "line": {
          "color": "gray",
          "width": 3
         },
         "mode": "lines",
         "showlegend": false,
         "type": "scatter3d",
         "x": [
          -0.3549999999999997,
          0.35500000000000026
         ],
         "y": [
          1.174330547248417,
          0
         ],
         "z": [
          6.130999827285576,
          5.816338905503165
         ]
        },
        {
         "line": {
          "color": "gray",
          "width": 3
         },
         "mode": "lines",
         "showlegend": false,
         "type": "scatter3d",
         "x": [
          -0.3550000000000006,
          0.35500000000000026
         ],
         "y": [
          1.174330547248418,
          2.0340001727144226
         ],
         "z": [
          10.19900017271442,
          9.339330547248416
         ]
        },
        {
         "line": {
          "color": "gray",
          "width": 3
         },
         "mode": "lines",
         "showlegend": false,
         "type": "scatter3d",
         "x": [
          3.905000000000001,
          4.615
         ],
         "y": [
          2.3486610944968342,
          2.0340001727144226
         ],
         "z": [
          8.165,
          9.339330547248416
         ]
        },
        {
         "line": {
          "color": "gray",
          "width": 3
         },
         "mode": "lines",
         "showlegend": false,
         "type": "scatter3d",
         "x": [
          1.7750000000000001,
          0.35500000000000026
         ],
         "y": [
          2.0340001727144226,
          2.0340001727144226
         ],
         "z": [
          9.339330547248416,
          9.339330547248416
         ]
        },
        {
         "line": {
          "color": "gray",
          "width": 3
         },
         "mode": "lines",
         "showlegend": false,
         "type": "scatter3d",
         "x": [
          -6.744999999999999,
          -6.035
         ],
         "y": [
          -2.0340001727144217,
          -2.3486610944968342
         ],
         "z": [
          9.339330547248418,
          8.165
         ]
        },
        {
         "line": {
          "color": "gray",
          "width": 3
         },
         "mode": "lines",
         "showlegend": false,
         "type": "scatter3d",
         "x": [
          -6.744999999999999,
          -6.035
         ],
         "y": [
          -2.0340001727144217,
          -2.3486610944968342
         ],
         "z": [
          9.339330547248418,
          8.165
         ]
        },
        {
         "line": {
          "color": "gray",
          "width": 3
         },
         "mode": "lines",
         "showlegend": false,
         "type": "scatter3d",
         "x": [
          -8.165,
          -6.744999999999999
         ],
         "y": [
          0,
          -5.752560583314934e-16
         ],
         "z": [
          5.816338905503165,
          5.816338905503165
         ]
        },
        {
         "line": {
          "color": "gray",
          "width": 3
         },
         "mode": "lines",
         "showlegend": false,
         "type": "scatter3d",
         "x": [
          6.744999999999999,
          6.035
         ],
         "y": [
          -2.3486610944968342,
          -2.0340001727144226
         ],
         "z": [
          8.165,
          6.990669452751582
         ]
        },
        {
         "line": {
          "color": "gray",
          "width": 3
         },
         "mode": "lines",
         "showlegend": false,
         "type": "scatter3d",
         "x": [
          6.035,
          4.615
         ],
         "y": [
          2.0340001727144226,
          2.0340001727144226
         ],
         "z": [
          6.990669452751582,
          6.990669452751582
         ]
        },
        {
         "line": {
          "color": "gray",
          "width": 3
         },
         "mode": "lines",
         "showlegend": false,
         "type": "scatter3d",
         "x": [
          1.7750000000000001,
          2.485000000000001
         ],
         "y": [
          2.0340001727144226,
          2.3486610944968342
         ],
         "z": [
          6.990669452751582,
          8.165
         ]
        },
        {
         "line": {
          "color": "gray",
          "width": 3
         },
         "mode": "lines",
         "showlegend": false,
         "type": "scatter3d",
         "x": [
          -4.614999999999998,
          -3.9049999999999994
         ],
         "y": [
          -1.1743305472484165,
          -2.0340001727144217
         ],
         "z": [
          10.199000172714422,
          9.339330547248418
         ]
        },
        {
         "line": {
          "color": "gray",
          "width": 3
         },
         "mode": "lines",
         "showlegend": false,
         "type": "scatter3d",
         "x": [
          3.905000000000001,
          4.615
         ],
         "y": [
          -2.3486610944968342,
          -2.0340001727144235
         ],
         "z": [
          8.165,
          6.990669452751583
         ]
        },
        {
         "line": {
          "color": "gray",
          "width": 3
         },
         "mode": "lines",
         "showlegend": false,
         "type": "scatter3d",
         "x": [
          3.9049999999999976,
          4.615
         ],
         "y": [
          -1.1743305472484182,
          0
         ],
         "z": [
          6.130999827285578,
          5.816338905503165
         ]
        },
        {
         "line": {
          "color": "gray",
          "width": 3
         },
         "mode": "lines",
         "showlegend": false,
         "type": "scatter3d",
         "x": [
          -0.3549999999999988,
          0.35500000000000026
         ],
         "y": [
          -2.3486610944968342,
          -2.0340001727144235
         ],
         "z": [
          8.165,
          6.990669452751583
         ]
        },
        {
         "line": {
          "color": "gray",
          "width": 3
         },
         "mode": "lines",
         "showlegend": false,
         "type": "scatter3d",
         "x": [
          3.9049999999999976,
          4.615
         ],
         "y": [
          -1.1743305472484182,
          0
         ],
         "z": [
          6.130999827285578,
          5.816338905503165
         ]
        },
        {
         "line": {
          "color": "gray",
          "width": 3
         },
         "mode": "lines",
         "showlegend": false,
         "type": "scatter3d",
         "x": [
          -6.744999999999999,
          -8.165
         ],
         "y": [
          -2.0340001727144217,
          -2.0340001727144217
         ],
         "z": [
          9.339330547248418,
          9.339330547248418
         ]
        },
        {
         "line": {
          "color": "gray",
          "width": 3
         },
         "mode": "lines",
         "showlegend": false,
         "type": "scatter3d",
         "x": [
          2.485000000000001,
          1.7750000000000001
         ],
         "y": [
          2.3486610944968342,
          2.0340001727144226
         ],
         "z": [
          8.165,
          9.339330547248416
         ]
        },
        {
         "line": {
          "color": "gray",
          "width": 3
         },
         "mode": "lines",
         "showlegend": false,
         "type": "scatter3d",
         "x": [
          3.9049999999999976,
          4.615
         ],
         "y": [
          -1.1743305472484182,
          -2.0340001727144235
         ],
         "z": [
          6.130999827285578,
          6.990669452751583
         ]
        },
        {
         "line": {
          "color": "gray",
          "width": 3
         },
         "mode": "lines",
         "showlegend": false,
         "type": "scatter3d",
         "x": [
          3.905000000000001,
          4.615
         ],
         "y": [
          -2.3486610944968342,
          -2.0340001727144217
         ],
         "z": [
          8.165,
          9.339330547248418
         ]
        },
        {
         "line": {
          "color": "gray",
          "width": 3
         },
         "mode": "lines",
         "showlegend": false,
         "type": "scatter3d",
         "x": [
          1.7750000000000001,
          0.35500000000000026
         ],
         "y": [
          -2.0340001727144226,
          -2.0340001727144235
         ],
         "z": [
          6.990669452751582,
          6.990669452751583
         ]
        },
        {
         "line": {
          "color": "gray",
          "width": 3
         },
         "mode": "lines",
         "showlegend": false,
         "type": "scatter3d",
         "x": [
          -6.744999999999999,
          -8.165
         ],
         "y": [
          -2.0340001727144226,
          -2.0340001727144235
         ],
         "z": [
          6.990669452751582,
          6.990669452751583
         ]
        },
        {
         "line": {
          "color": "gray",
          "width": 3
         },
         "mode": "lines",
         "showlegend": false,
         "type": "scatter3d",
         "x": [
          6.745000000000001,
          6.035
         ],
         "y": [
          1.174330547248417,
          2.0340001727144226
         ],
         "z": [
          6.130999827285576,
          6.990669452751582
         ]
        },
        {
         "line": {
          "color": "gray",
          "width": 3
         },
         "mode": "lines",
         "showlegend": false,
         "type": "scatter3d",
         "x": [
          -4.615,
          -3.9049999999999994
         ],
         "y": [
          1.174330547248418,
          2.876280291657467e-16
         ],
         "z": [
          10.19900017271442,
          10.513661094496833
         ]
        },
        {
         "line": {
          "color": "gray",
          "width": 3
         },
         "mode": "lines",
         "showlegend": false,
         "type": "scatter3d",
         "x": [
          -2.4849999999999994,
          -1.7750000000000006
         ],
         "y": [
          -2.0340001727144226,
          -1.1743305472484182
         ],
         "z": [
          6.990669452751582,
          6.130999827285578
         ]
        },
        {
         "line": {
          "color": "gray",
          "width": 3
         },
         "mode": "lines",
         "showlegend": false,
         "type": "scatter3d",
         "x": [
          -6.744999999999999,
          -8.165
         ],
         "y": [
          1.330643078826429e-15,
          2.876280291657467e-16
         ],
         "z": [
          10.513661094496833,
          10.513661094496833
         ]
        },
        {
         "line": {
          "color": "gray",
          "width": 3
         },
         "mode": "lines",
         "showlegend": false,
         "type": "scatter3d",
         "x": [
          -2.4849999999999994,
          -3.9049999999999994
         ],
         "y": [
          2.0340001727144226,
          2.0340001727144226
         ],
         "z": [
          6.990669452751582,
          6.990669452751582
         ]
        },
        {
         "line": {
          "color": "gray",
          "width": 3
         },
         "mode": "lines",
         "showlegend": false,
         "type": "scatter3d",
         "x": [
          -2.4849999999999994,
          -3.9049999999999994
         ],
         "y": [
          2.0340001727144226,
          2.0340001727144226
         ],
         "z": [
          6.990669452751582,
          6.990669452751582
         ]
        },
        {
         "line": {
          "color": "gray",
          "width": 3
         },
         "mode": "lines",
         "showlegend": false,
         "type": "scatter3d",
         "x": [
          -2.4849999999999994,
          -3.9049999999999994
         ],
         "y": [
          2.0340001727144226,
          2.0340001727144226
         ],
         "z": [
          9.339330547248416,
          9.339330547248416
         ]
        },
        {
         "line": {
          "color": "gray",
          "width": 3
         },
         "mode": "lines",
         "showlegend": false,
         "type": "scatter3d",
         "x": [
          -1.7750000000000006,
          -2.4849999999999994
         ],
         "y": [
          -1.1743305472484182,
          -5.752560583314934e-16
         ],
         "z": [
          6.130999827285578,
          5.816338905503165
         ]
        },
        {
         "line": {
          "color": "gray",
          "width": 3
         },
         "mode": "lines",
         "showlegend": false,
         "type": "scatter3d",
         "x": [
          3.905000000000001,
          4.615
         ],
         "y": [
          1.174330547248417,
          2.0340001727144226
         ],
         "z": [
          6.130999827285576,
          6.990669452751582
         ]
        },
        {
         "line": {
          "color": "gray",
          "width": 3
         },
         "mode": "lines",
         "showlegend": false,
         "type": "scatter3d",
         "x": [
          1.7750000000000001,
          2.4849999999999994
         ],
         "y": [
          -2.0340001727144217,
          -2.3486610944968342
         ],
         "z": [
          9.339330547248418,
          8.165
         ]
        },
        {
         "line": {
          "color": "gray",
          "width": 3
         },
         "mode": "lines",
         "showlegend": false,
         "type": "scatter3d",
         "x": [
          -0.3549999999999997,
          -1.7749999999999988
         ],
         "y": [
          2.3486610944968342,
          2.3486610944968342
         ],
         "z": [
          8.165,
          8.165
         ]
        },
        {
         "line": {
          "color": "gray",
          "width": 3
         },
         "mode": "lines",
         "showlegend": false,
         "type": "scatter3d",
         "x": [
          -0.3549999999999997,
          0.35500000000000026
         ],
         "y": [
          2.3486610944968342,
          2.0340001727144226
         ],
         "z": [
          8.165,
          6.990669452751582
         ]
        },
        {
         "line": {
          "color": "gray",
          "width": 3
         },
         "mode": "lines",
         "showlegend": false,
         "type": "scatter3d",
         "x": [
          2.4849999999999994,
          1.7750000000000001
         ],
         "y": [
          -2.3486610944968342,
          -2.0340001727144226
         ],
         "z": [
          8.165,
          6.990669452751582
         ]
        },
        {
         "line": {
          "color": "gray",
          "width": 3
         },
         "mode": "lines",
         "showlegend": false,
         "type": "scatter3d",
         "x": [
          -1.7750000000000006,
          -2.4849999999999994
         ],
         "y": [
          -2.3486610944968342,
          -2.0340001727144226
         ],
         "z": [
          8.165,
          6.990669452751582
         ]
        },
        {
         "line": {
          "color": "gray",
          "width": 3
         },
         "mode": "lines",
         "showlegend": false,
         "type": "scatter3d",
         "x": [
          -6.744999999999999,
          -6.035
         ],
         "y": [
          2.0340001727144226,
          1.174330547248418
         ],
         "z": [
          9.339330547248416,
          10.19900017271442
         ]
        },
        {
         "line": {
          "color": "gray",
          "width": 3
         },
         "mode": "lines",
         "showlegend": false,
         "type": "scatter3d",
         "x": [
          -4.614999999999999,
          -3.9049999999999994
         ],
         "y": [
          1.174330547248417,
          0
         ],
         "z": [
          6.130999827285576,
          5.816338905503165
         ]
        },
        {
         "line": {
          "color": "gray",
          "width": 3
         },
         "mode": "lines",
         "showlegend": false,
         "type": "scatter3d",
         "x": [
          -6.744999999999999,
          -6.034999999999998
         ],
         "y": [
          2.0340001727144226,
          2.3486610944968342
         ],
         "z": [
          6.990669452751582,
          8.165
         ]
        },
        {
         "line": {
          "color": "gray",
          "width": 3
         },
         "mode": "lines",
         "showlegend": false,
         "type": "scatter3d",
         "x": [
          -2.4849999999999994,
          -1.7749999999999988
         ],
         "y": [
          2.0340001727144226,
          2.3486610944968342
         ],
         "z": [
          6.990669452751582,
          8.165
         ]
        },
        {
         "line": {
          "color": "gray",
          "width": 3
         },
         "mode": "lines",
         "showlegend": false,
         "type": "scatter3d",
         "x": [
          -6.034999999999999,
          -6.744999999999999
         ],
         "y": [
          1.174330547248417,
          2.0340001727144226
         ],
         "z": [
          6.130999827285576,
          6.990669452751582
         ]
        },
        {
         "line": {
          "color": "gray",
          "width": 3
         },
         "mode": "lines",
         "showlegend": false,
         "type": "scatter3d",
         "x": [
          2.4849999999999994,
          1.7750000000000001
         ],
         "y": [
          1.174330547248417,
          2.0340001727144226
         ],
         "z": [
          6.130999827285576,
          6.990669452751582
         ]
        },
        {
         "line": {
          "color": "gray",
          "width": 3
         },
         "mode": "lines",
         "showlegend": false,
         "type": "scatter3d",
         "x": [
          1.7750000000000001,
          2.4849999999999994
         ],
         "y": [
          -2.0340001727144226,
          -1.1743305472484182
         ],
         "z": [
          6.990669452751582,
          6.130999827285578
         ]
        },
        {
         "line": {
          "color": "gray",
          "width": 3
         },
         "mode": "lines",
         "showlegend": false,
         "type": "scatter3d",
         "x": [
          -4.614999999999998,
          -3.9049999999999994
         ],
         "y": [
          -2.3486610944968342,
          -2.0340001727144235
         ],
         "z": [
          8.165,
          6.990669452751583
         ]
        },
        {
         "line": {
          "color": "gray",
          "width": 3
         },
         "mode": "lines",
         "showlegend": false,
         "type": "scatter3d",
         "x": [
          -6.034999999999998,
          -6.744999999999999
         ],
         "y": [
          2.3486610944968342,
          2.0340001727144226
         ],
         "z": [
          8.165,
          9.339330547248416
         ]
        },
        {
         "line": {
          "color": "gray",
          "width": 3
         },
         "mode": "lines",
         "showlegend": false,
         "type": "scatter3d",
         "x": [
          -1.7750000000000006,
          -2.4849999999999994
         ],
         "y": [
          -1.1743305472484165,
          -2.0340001727144217
         ],
         "z": [
          10.199000172714422,
          9.339330547248418
         ]
        },
        {
         "line": {
          "color": "gray",
          "width": 3
         },
         "mode": "lines",
         "showlegend": false,
         "type": "scatter3d",
         "x": [
          -0.3550000000000015,
          -1.7750000000000006
         ],
         "y": [
          -1.1743305472484182,
          -1.1743305472484182
         ],
         "z": [
          6.130999827285578,
          6.130999827285578
         ]
        },
        {
         "line": {
          "color": "gray",
          "width": 3
         },
         "mode": "lines",
         "showlegend": false,
         "type": "scatter3d",
         "x": [
          8.165,
          6.744999999999999
         ],
         "y": [
          1.174330547248418,
          1.174330547248418
         ],
         "z": [
          10.19900017271442,
          10.19900017271442
         ]
        },
        {
         "line": {
          "color": "gray",
          "width": 3
         },
         "mode": "lines",
         "showlegend": false,
         "type": "scatter3d",
         "x": [
          8.165,
          6.744999999999999
         ],
         "y": [
          1.174330547248418,
          1.174330547248418
         ],
         "z": [
          10.19900017271442,
          10.19900017271442
         ]
        },
        {
         "line": {
          "color": "gray",
          "width": 3
         },
         "mode": "lines",
         "showlegend": false,
         "type": "scatter3d",
         "x": [
          -4.615000000000001,
          -6.035
         ],
         "y": [
          -1.1743305472484182,
          -1.1743305472484182
         ],
         "z": [
          6.130999827285578,
          6.130999827285578
         ]
        },
        {
         "line": {
          "color": "gray",
          "width": 3
         },
         "mode": "lines",
         "showlegend": false,
         "type": "scatter3d",
         "x": [
          -4.615000000000001,
          -3.9049999999999994
         ],
         "y": [
          -1.1743305472484182,
          -2.0340001727144235
         ],
         "z": [
          6.130999827285578,
          6.990669452751583
         ]
        },
        {
         "line": {
          "color": "gray",
          "width": 3
         },
         "mode": "lines",
         "showlegend": false,
         "type": "scatter3d",
         "x": [
          8.165,
          6.744999999999999
         ],
         "y": [
          -1.1743305472484165,
          -1.1743305472484165
         ],
         "z": [
          10.199000172714422,
          10.199000172714422
         ]
        },
        {
         "line": {
          "color": "gray",
          "width": 3
         },
         "mode": "lines",
         "showlegend": false,
         "type": "scatter3d",
         "x": [
          -4.614999999999999,
          -6.034999999999998
         ],
         "y": [
          2.3486610944968342,
          2.3486610944968342
         ],
         "z": [
          8.165,
          8.165
         ]
        },
        {
         "line": {
          "color": "gray",
          "width": 3
         },
         "mode": "lines",
         "showlegend": false,
         "type": "scatter3d",
         "x": [
          -0.3549999999999988,
          0.35500000000000026
         ],
         "y": [
          -2.3486610944968342,
          -2.0340001727144217
         ],
         "z": [
          8.165,
          9.339330547248418
         ]
        },
        {
         "line": {
          "color": "gray",
          "width": 3
         },
         "mode": "lines",
         "showlegend": false,
         "type": "scatter3d",
         "x": [
          -4.614999999999998,
          -6.035
         ],
         "y": [
          -1.1743305472484165,
          -1.1743305472484165
         ],
         "z": [
          10.199000172714422,
          10.199000172714422
         ]
        },
        {
         "line": {
          "color": "gray",
          "width": 3
         },
         "mode": "lines",
         "showlegend": false,
         "type": "scatter3d",
         "x": [
          1.7750000000000001,
          2.4849999999999994
         ],
         "y": [
          2.0340001727144226,
          1.174330547248418
         ],
         "z": [
          9.339330547248416,
          10.19900017271442
         ]
        },
        {
         "line": {
          "color": "gray",
          "width": 3
         },
         "mode": "lines",
         "showlegend": false,
         "type": "scatter3d",
         "x": [
          -6.744999999999999,
          -6.035
         ],
         "y": [
          -2.0340001727144226,
          -1.1743305472484182
         ],
         "z": [
          6.990669452751582,
          6.130999827285578
         ]
        }
       ],
       "layout": {
        "margin": {
         "b": 0,
         "l": 0,
         "r": 0,
         "t": 30
        },
        "scene": {
         "aspectmode": "data",
         "xaxis": {
          "title": {
           "text": "X"
          }
         },
         "yaxis": {
          "title": {
           "text": "Y"
          }
         },
         "zaxis": {
          "title": {
           "text": "Z"
          }
         }
        },
        "showlegend": false,
        "template": {
         "data": {
          "bar": [
           {
            "error_x": {
             "color": "#2a3f5f"
            },
            "error_y": {
             "color": "#2a3f5f"
            },
            "marker": {
             "line": {
              "color": "#E5ECF6",
              "width": 0.5
             },
             "pattern": {
              "fillmode": "overlay",
              "size": 10,
              "solidity": 0.2
             }
            },
            "type": "bar"
           }
          ],
          "barpolar": [
           {
            "marker": {
             "line": {
              "color": "#E5ECF6",
              "width": 0.5
             },
             "pattern": {
              "fillmode": "overlay",
              "size": 10,
              "solidity": 0.2
             }
            },
            "type": "barpolar"
           }
          ],
          "carpet": [
           {
            "aaxis": {
             "endlinecolor": "#2a3f5f",
             "gridcolor": "white",
             "linecolor": "white",
             "minorgridcolor": "white",
             "startlinecolor": "#2a3f5f"
            },
            "baxis": {
             "endlinecolor": "#2a3f5f",
             "gridcolor": "white",
             "linecolor": "white",
             "minorgridcolor": "white",
             "startlinecolor": "#2a3f5f"
            },
            "type": "carpet"
           }
          ],
          "choropleth": [
           {
            "colorbar": {
             "outlinewidth": 0,
             "ticks": ""
            },
            "type": "choropleth"
           }
          ],
          "contour": [
           {
            "colorbar": {
             "outlinewidth": 0,
             "ticks": ""
            },
            "colorscale": [
             [
              0,
              "#0d0887"
             ],
             [
              0.1111111111111111,
              "#46039f"
             ],
             [
              0.2222222222222222,
              "#7201a8"
             ],
             [
              0.3333333333333333,
              "#9c179e"
             ],
             [
              0.4444444444444444,
              "#bd3786"
             ],
             [
              0.5555555555555556,
              "#d8576b"
             ],
             [
              0.6666666666666666,
              "#ed7953"
             ],
             [
              0.7777777777777778,
              "#fb9f3a"
             ],
             [
              0.8888888888888888,
              "#fdca26"
             ],
             [
              1,
              "#f0f921"
             ]
            ],
            "type": "contour"
           }
          ],
          "contourcarpet": [
           {
            "colorbar": {
             "outlinewidth": 0,
             "ticks": ""
            },
            "type": "contourcarpet"
           }
          ],
          "heatmap": [
           {
            "colorbar": {
             "outlinewidth": 0,
             "ticks": ""
            },
            "colorscale": [
             [
              0,
              "#0d0887"
             ],
             [
              0.1111111111111111,
              "#46039f"
             ],
             [
              0.2222222222222222,
              "#7201a8"
             ],
             [
              0.3333333333333333,
              "#9c179e"
             ],
             [
              0.4444444444444444,
              "#bd3786"
             ],
             [
              0.5555555555555556,
              "#d8576b"
             ],
             [
              0.6666666666666666,
              "#ed7953"
             ],
             [
              0.7777777777777778,
              "#fb9f3a"
             ],
             [
              0.8888888888888888,
              "#fdca26"
             ],
             [
              1,
              "#f0f921"
             ]
            ],
            "type": "heatmap"
           }
          ],
          "histogram": [
           {
            "marker": {
             "pattern": {
              "fillmode": "overlay",
              "size": 10,
              "solidity": 0.2
             }
            },
            "type": "histogram"
           }
          ],
          "histogram2d": [
           {
            "colorbar": {
             "outlinewidth": 0,
             "ticks": ""
            },
            "colorscale": [
             [
              0,
              "#0d0887"
             ],
             [
              0.1111111111111111,
              "#46039f"
             ],
             [
              0.2222222222222222,
              "#7201a8"
             ],
             [
              0.3333333333333333,
              "#9c179e"
             ],
             [
              0.4444444444444444,
              "#bd3786"
             ],
             [
              0.5555555555555556,
              "#d8576b"
             ],
             [
              0.6666666666666666,
              "#ed7953"
             ],
             [
              0.7777777777777778,
              "#fb9f3a"
             ],
             [
              0.8888888888888888,
              "#fdca26"
             ],
             [
              1,
              "#f0f921"
             ]
            ],
            "type": "histogram2d"
           }
          ],
          "histogram2dcontour": [
           {
            "colorbar": {
             "outlinewidth": 0,
             "ticks": ""
            },
            "colorscale": [
             [
              0,
              "#0d0887"
             ],
             [
              0.1111111111111111,
              "#46039f"
             ],
             [
              0.2222222222222222,
              "#7201a8"
             ],
             [
              0.3333333333333333,
              "#9c179e"
             ],
             [
              0.4444444444444444,
              "#bd3786"
             ],
             [
              0.5555555555555556,
              "#d8576b"
             ],
             [
              0.6666666666666666,
              "#ed7953"
             ],
             [
              0.7777777777777778,
              "#fb9f3a"
             ],
             [
              0.8888888888888888,
              "#fdca26"
             ],
             [
              1,
              "#f0f921"
             ]
            ],
            "type": "histogram2dcontour"
           }
          ],
          "mesh3d": [
           {
            "colorbar": {
             "outlinewidth": 0,
             "ticks": ""
            },
            "type": "mesh3d"
           }
          ],
          "parcoords": [
           {
            "line": {
             "colorbar": {
              "outlinewidth": 0,
              "ticks": ""
             }
            },
            "type": "parcoords"
           }
          ],
          "pie": [
           {
            "automargin": true,
            "type": "pie"
           }
          ],
          "scatter": [
           {
            "fillpattern": {
             "fillmode": "overlay",
             "size": 10,
             "solidity": 0.2
            },
            "type": "scatter"
           }
          ],
          "scatter3d": [
           {
            "line": {
             "colorbar": {
              "outlinewidth": 0,
              "ticks": ""
             }
            },
            "marker": {
             "colorbar": {
              "outlinewidth": 0,
              "ticks": ""
             }
            },
            "type": "scatter3d"
           }
          ],
          "scattercarpet": [
           {
            "marker": {
             "colorbar": {
              "outlinewidth": 0,
              "ticks": ""
             }
            },
            "type": "scattercarpet"
           }
          ],
          "scattergeo": [
           {
            "marker": {
             "colorbar": {
              "outlinewidth": 0,
              "ticks": ""
             }
            },
            "type": "scattergeo"
           }
          ],
          "scattergl": [
           {
            "marker": {
             "colorbar": {
              "outlinewidth": 0,
              "ticks": ""
             }
            },
            "type": "scattergl"
           }
          ],
          "scattermap": [
           {
            "marker": {
             "colorbar": {
              "outlinewidth": 0,
              "ticks": ""
             }
            },
            "type": "scattermap"
           }
          ],
          "scattermapbox": [
           {
            "marker": {
             "colorbar": {
              "outlinewidth": 0,
              "ticks": ""
             }
            },
            "type": "scattermapbox"
           }
          ],
          "scatterpolar": [
           {
            "marker": {
             "colorbar": {
              "outlinewidth": 0,
              "ticks": ""
             }
            },
            "type": "scatterpolar"
           }
          ],
          "scatterpolargl": [
           {
            "marker": {
             "colorbar": {
              "outlinewidth": 0,
              "ticks": ""
             }
            },
            "type": "scatterpolargl"
           }
          ],
          "scatterternary": [
           {
            "marker": {
             "colorbar": {
              "outlinewidth": 0,
              "ticks": ""
             }
            },
            "type": "scatterternary"
           }
          ],
          "surface": [
           {
            "colorbar": {
             "outlinewidth": 0,
             "ticks": ""
            },
            "colorscale": [
             [
              0,
              "#0d0887"
             ],
             [
              0.1111111111111111,
              "#46039f"
             ],
             [
              0.2222222222222222,
              "#7201a8"
             ],
             [
              0.3333333333333333,
              "#9c179e"
             ],
             [
              0.4444444444444444,
              "#bd3786"
             ],
             [
              0.5555555555555556,
              "#d8576b"
             ],
             [
              0.6666666666666666,
              "#ed7953"
             ],
             [
              0.7777777777777778,
              "#fb9f3a"
             ],
             [
              0.8888888888888888,
              "#fdca26"
             ],
             [
              1,
              "#f0f921"
             ]
            ],
            "type": "surface"
           }
          ],
          "table": [
           {
            "cells": {
             "fill": {
              "color": "#EBF0F8"
             },
             "line": {
              "color": "white"
             }
            },
            "header": {
             "fill": {
              "color": "#C8D4E3"
             },
             "line": {
              "color": "white"
             }
            },
            "type": "table"
           }
          ]
         },
         "layout": {
          "annotationdefaults": {
           "arrowcolor": "#2a3f5f",
           "arrowhead": 0,
           "arrowwidth": 1
          },
          "autotypenumbers": "strict",
          "coloraxis": {
           "colorbar": {
            "outlinewidth": 0,
            "ticks": ""
           }
          },
          "colorscale": {
           "diverging": [
            [
             0,
             "#8e0152"
            ],
            [
             0.1,
             "#c51b7d"
            ],
            [
             0.2,
             "#de77ae"
            ],
            [
             0.3,
             "#f1b6da"
            ],
            [
             0.4,
             "#fde0ef"
            ],
            [
             0.5,
             "#f7f7f7"
            ],
            [
             0.6,
             "#e6f5d0"
            ],
            [
             0.7,
             "#b8e186"
            ],
            [
             0.8,
             "#7fbc41"
            ],
            [
             0.9,
             "#4d9221"
            ],
            [
             1,
             "#276419"
            ]
           ],
           "sequential": [
            [
             0,
             "#0d0887"
            ],
            [
             0.1111111111111111,
             "#46039f"
            ],
            [
             0.2222222222222222,
             "#7201a8"
            ],
            [
             0.3333333333333333,
             "#9c179e"
            ],
            [
             0.4444444444444444,
             "#bd3786"
            ],
            [
             0.5555555555555556,
             "#d8576b"
            ],
            [
             0.6666666666666666,
             "#ed7953"
            ],
            [
             0.7777777777777778,
             "#fb9f3a"
            ],
            [
             0.8888888888888888,
             "#fdca26"
            ],
            [
             1,
             "#f0f921"
            ]
           ],
           "sequentialminus": [
            [
             0,
             "#0d0887"
            ],
            [
             0.1111111111111111,
             "#46039f"
            ],
            [
             0.2222222222222222,
             "#7201a8"
            ],
            [
             0.3333333333333333,
             "#9c179e"
            ],
            [
             0.4444444444444444,
             "#bd3786"
            ],
            [
             0.5555555555555556,
             "#d8576b"
            ],
            [
             0.6666666666666666,
             "#ed7953"
            ],
            [
             0.7777777777777778,
             "#fb9f3a"
            ],
            [
             0.8888888888888888,
             "#fdca26"
            ],
            [
             1,
             "#f0f921"
            ]
           ]
          },
          "colorway": [
           "#636efa",
           "#EF553B",
           "#00cc96",
           "#ab63fa",
           "#FFA15A",
           "#19d3f3",
           "#FF6692",
           "#B6E880",
           "#FF97FF",
           "#FECB52"
          ],
          "font": {
           "color": "#2a3f5f"
          },
          "geo": {
           "bgcolor": "white",
           "lakecolor": "white",
           "landcolor": "#E5ECF6",
           "showlakes": true,
           "showland": true,
           "subunitcolor": "white"
          },
          "hoverlabel": {
           "align": "left"
          },
          "hovermode": "closest",
          "mapbox": {
           "style": "light"
          },
          "paper_bgcolor": "white",
          "plot_bgcolor": "#E5ECF6",
          "polar": {
           "angularaxis": {
            "gridcolor": "white",
            "linecolor": "white",
            "ticks": ""
           },
           "bgcolor": "#E5ECF6",
           "radialaxis": {
            "gridcolor": "white",
            "linecolor": "white",
            "ticks": ""
           }
          },
          "scene": {
           "xaxis": {
            "backgroundcolor": "#E5ECF6",
            "gridcolor": "white",
            "gridwidth": 2,
            "linecolor": "white",
            "showbackground": true,
            "ticks": "",
            "zerolinecolor": "white"
           },
           "yaxis": {
            "backgroundcolor": "#E5ECF6",
            "gridcolor": "white",
            "gridwidth": 2,
            "linecolor": "white",
            "showbackground": true,
            "ticks": "",
            "zerolinecolor": "white"
           },
           "zaxis": {
            "backgroundcolor": "#E5ECF6",
            "gridcolor": "white",
            "gridwidth": 2,
            "linecolor": "white",
            "showbackground": true,
            "ticks": "",
            "zerolinecolor": "white"
           }
          },
          "shapedefaults": {
           "line": {
            "color": "#2a3f5f"
           }
          },
          "ternary": {
           "aaxis": {
            "gridcolor": "white",
            "linecolor": "white",
            "ticks": ""
           },
           "baxis": {
            "gridcolor": "white",
            "linecolor": "white",
            "ticks": ""
           },
           "bgcolor": "#E5ECF6",
           "caxis": {
            "gridcolor": "white",
            "linecolor": "white",
            "ticks": ""
           }
          },
          "title": {
           "x": 0.05
          },
          "xaxis": {
           "automargin": true,
           "gridcolor": "white",
           "linecolor": "white",
           "ticks": "",
           "title": {
            "standoff": 15
           },
           "zerolinecolor": "white",
           "zerolinewidth": 2
          },
          "yaxis": {
           "automargin": true,
           "gridcolor": "white",
           "linecolor": "white",
           "ticks": "",
           "title": {
            "standoff": 15
           },
           "zerolinecolor": "white",
           "zerolinewidth": 2
          }
         }
        },
        "title": {
         "text": "CNT Atoms, pz Orbitals, and Bonds"
        }
       }
      }
     },
     "metadata": {},
     "output_type": "display_data"
    }
   ],
   "source": [
    "\n",
    "plot_pz_normals_plotly(device, pz_dirs, pairs, scale=1.5)"
   ]
  },
  {
   "cell_type": "code",
   "execution_count": 37,
   "id": "ee4187a8",
   "metadata": {},
   "outputs": [
    {
     "data": {
      "image/png": "[encoded data removed]",
      "text/plain": [
       "<Figure size 640x480 with 2 Axes>"
      ]
     },
     "metadata": {},
     "output_type": "display_data"
    }
   ],
   "source": [
    "H_device_theta = build_real_space_device_hamiltonian(\n",
    "    device, pairs, bond=bond, q_pi=q_pi, V_pi=first_neighbor_hopping, angle_dependence=True, angles=angles, degrees=True\n",
    ")\n",
    "plt.imshow(H_device_theta, cmap='hot', interpolation='nearest')\n",
    "plt.colorbar()\n",
    "plt.title('Real-space Hamiltonian with Angle Dependence')\n",
    "plt.show()"
   ]
  },
  {
   "cell_type": "code",
   "execution_count": 41,
   "id": "c625d8d4",
   "metadata": {},
   "outputs": [
    {
     "name": "stdout",
     "output_type": "stream",
     "text": [
      "Number of atoms in extended device: 336\n",
      " Atom 0 has only 1 neighbors in the extended device.\n",
      " Atom 4 has only 1 neighbors in the extended device.\n",
      " Atom 8 has only 1 neighbors in the extended device.\n",
      " Atom 12 has only 1 neighbors in the extended device.\n",
      " Atom 16 has only 1 neighbors in the extended device.\n",
      " Atom 20 has only 1 neighbors in the extended device.\n",
      " Atom 313 has only 1 neighbors in the extended device.\n",
      " Atom 317 has only 1 neighbors in the extended device.\n",
      " Atom 321 has only 1 neighbors in the extended device.\n",
      " Atom 325 has only 1 neighbors in the extended device.\n",
      " Atom 329 has only 1 neighbors in the extended device.\n",
      " Atom 333 has only 1 neighbors in the extended device.\n"
     ]
    },
    {
     "data": {
      "image/png": "[encoded data removed]",
      "text/plain": [
       "<Figure size 1000x500 with 1 Axes>"
      ]
     },
     "metadata": {},
     "output_type": "display_data"
    }
   ],
   "source": [
    "N_L, N_M, N_R = 1, 10, 1\n",
    "n,m = 6, 0\n",
    "bond = 1.42\n",
    "strain = 4.0\n",
    "plt.figure(figsize=(10, 5))\n",
    "\n",
    "device = build_device_structure(n=n, m=m, N_L=N_L, N_M=N_M, N_R=N_R, direction='x')\n",
    "pairs = get_nearest_neighbor_pairs(device, neighbor_cutoff=neighbor_cutoff)\n",
    "strained_device = apply_strain(device, strain, axis=0)\n",
    "\n",
    "angles, pz_dirs = compute_pz_dirs_and_angles(\n",
    "n=n,\n",
    "m=m,\n",
    "N_L=N_L,\n",
    "N_M=N_M,\n",
    "N_R=N_R,\n",
    "bond=bond,\n",
    "direction='x',\n",
    "neighbor_cutoff=neighbor_cutoff,\n",
    "pairs_original=pairs,\n",
    ")\n",
    "# plt.plot(angles, marker='o', linestyle='None')\n",
    "# plot_pz_normals_plotly(device, pz_dirs, pairs, scale=1.5)\n",
    "H_strained_device = build_real_space_device_hamiltonian(strained_device, pairs, bond=bond, q_pi=q_pi, V_pi=first_neighbor_hopping, angle_dependence=True, angles=angles, degrees=True)\n",
    "S_strained_device = np.eye(H_strained_device.shape[0])\n",
    "\n",
    "self_energy = np.load('lead_self_energy.npy',allow_pickle=True)\n",
    "expand_coupling(self_energy[0], len(H_strained_device[0]))\n",
    "expand_coupling(self_energy[1], len(H_strained_device[0]), id='right')\n",
    "\n",
    "gf = GreenFunction(H_strained_device, S_strained_device, selfenergies=[(slice(None),self_energy[0]),(slice(None),self_energy[1])], eta=eta)\n",
    "\n",
    "\n",
    "gd = GridDesc(energies, 1)\n",
    "T = np.empty(gd.energies.size)\n",
    "\n",
    "for e, energy in enumerate(gd.energies):\n",
    "    T[e] = gf.get_transmission(energy, ferretti=False)\n",
    "\n",
    "T = gd.gather_energies(T)\n",
    "plt.plot(energies, T, label=f\"N_M: {N_M}\")\n",
    "\n",
    "plt.xlabel(\"Energy (eV)\")\n",
    "plt.ylabel(\"Transmission\")\n",
    "plt.title(\"Transmission vs Energy of Strained CNT\")\n",
    "plt.xlim(-3, 3)\n",
    "# plt.ylim(0, 1)\n",
    "plt.legend()\n",
    "plt.grid()\n",
    "plt.show()"
   ]
  },
  {
   "cell_type": "code",
   "execution_count": 12,
   "id": "0cc916dd",
   "metadata": {},
   "outputs": [
    {
     "name": "stdout",
     "output_type": "stream",
     "text": [
      "Number of atoms in extended device: 192\n",
      " Atom 0 has only 1 neighbors in the extended device.\n",
      " Atom 4 has only 1 neighbors in the extended device.\n",
      " Atom 8 has only 1 neighbors in the extended device.\n",
      " Atom 12 has only 1 neighbors in the extended device.\n",
      " Atom 16 has only 1 neighbors in the extended device.\n",
      " Atom 20 has only 1 neighbors in the extended device.\n",
      " Atom 169 has only 1 neighbors in the extended device.\n",
      " Atom 173 has only 1 neighbors in the extended device.\n",
      " Atom 177 has only 1 neighbors in the extended device.\n",
      " Atom 181 has only 1 neighbors in the extended device.\n",
      " Atom 185 has only 1 neighbors in the extended device.\n",
      " Atom 189 has only 1 neighbors in the extended device.\n"
     ]
    },
    {
     "data": {
      "image/png": "[encoded data removed]",
      "text/plain": [
       "<Figure size 1000x500 with 1 Axes>"
      ]
     },
     "metadata": {},
     "output_type": "display_data"
    }
   ],
   "source": [
    "N_L, N_M, N_R = 1, 4, 1\n",
    "plt.figure(figsize=(10, 5))\n",
    "n,m = 6, 0\n",
    "bond = 1.42\n",
    "strain = 0.0\n",
    "\n",
    "device = build_device_structure(n=n, m=m, N_L=N_L, N_M=N_M, N_R=N_R, direction='x')\n",
    "pairs = get_nearest_neighbor_pairs(device, neighbor_cutoff=neighbor_cutoff)\n",
    "strained_device = apply_strain(device, strain, axis=0)\n",
    "\n",
    "angles, pz_dirs = compute_pz_dirs_and_angles(\n",
    "    n=n,\n",
    "    m=m,\n",
    "    N_L=N_L,\n",
    "    N_M=N_M,\n",
    "    N_R=N_R,\n",
    "    bond=bond,\n",
    "    direction='x',\n",
    "    neighbor_cutoff=neighbor_cutoff,\n",
    "    pairs_original=pairs,\n",
    ")\n",
    "\n",
    "self_energy = np.load('lead_self_energy.npy', allow_pickle=True)\n",
    "expand_coupling(self_energy[0], len(strained_device))\n",
    "expand_coupling(self_energy[1], len(strained_device), id='right')\n",
    "\n",
    "H_angle = build_real_space_device_hamiltonian(\n",
    "    strained_device, pairs, bond=bond, q_pi=q_pi, V_pi=first_neighbor_hopping,\n",
    "    angle_dependence=True, angles=angles, degrees=True\n",
    ")\n",
    "H_no_angle = build_real_space_device_hamiltonian(\n",
    "    strained_device, pairs, bond=bond, q_pi=q_pi, V_pi=first_neighbor_hopping,\n",
    "    angle_dependence=False\n",
    ")\n",
    "S_strained_device = np.eye(H_angle.shape[0])\n",
    "\n",
    "gf_angle = GreenFunction(H_angle, S_strained_device, selfenergies=[(slice(None), self_energy[0]), (slice(None), self_energy[1])], eta=eta)\n",
    "T_angle = np.empty(energies.size)\n",
    "for e, energy in enumerate(energies):\n",
    "    T_angle[e] = gf_angle.get_transmission(energy, ferretti=False)\n",
    "\n",
    "gf_no_angle = GreenFunction(H_no_angle, S_strained_device, selfenergies=[(slice(None), self_energy[0]), (slice(None), self_energy[1])], eta=eta)\n",
    "T_no_angle = np.empty(energies.size)\n",
    "for e, energy in enumerate(energies):\n",
    "    T_no_angle[e] = gf_no_angle.get_transmission(energy, ferretti=False)\n",
    "\n",
    "plt.plot(energies, T_angle, label=f\"N_M: {N_M} (with angle dependence)\")\n",
    "plt.plot(energies, T_no_angle, label=f\"N_M: {N_M} (without angle dependence)\", linestyle='--')\n",
    "\n",
    "plt.xlabel(\"Energy (eV)\")\n",
    "plt.ylabel(\"Transmission\")\n",
    "plt.title(\"Transmission vs Energy of Strained CNT\")\n",
    "plt.xlim(-3, 3)\n",
    "plt.legend()\n",
    "plt.grid()\n",
    "plt.show()"
   ]
  },
  {
   "cell_type": "code",
   "execution_count": null,
   "id": "25d7a846",
   "metadata": {},
   "outputs": [],
   "source": []
  }
 ],
 "metadata": {
  "kernelspec": {
   "display_name": "guido-edpyt-qtpyt",
   "language": "python",
   "name": "python3"
  },
  "language_info": {
   "codemirror_mode": {
    "name": "ipython",
    "version": 3
   },
   "file_extension": ".py",
   "mimetype": "text/x-python",
   "name": "python",
   "nbconvert_exporter": "python",
   "pygments_lexer": "ipython3",
   "version": "3.9.21"
  }
 },
 "nbformat": 4,
 "nbformat_minor": 5
}
