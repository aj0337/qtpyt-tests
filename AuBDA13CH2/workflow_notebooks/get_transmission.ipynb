{
 "cells": [
  {
   "cell_type": "code",
   "execution_count": 6,
   "metadata": {},
   "outputs": [],
   "source": [
    "from __future__ import annotations\n",
    "import numpy as np\n",
    "from qtpyt.block_tridiag import greenfunction\n",
    "from qtpyt.base.selfenergy import DataSelfEnergy as BaseDataSelfEnergy\n",
    "from qtpyt.projector import expand\n",
    "import pickle"
   ]
  },
  {
   "cell_type": "code",
   "execution_count": 19,
   "metadata": {},
   "outputs": [],
   "source": [
    "class DataSelfEnergy(BaseDataSelfEnergy):\n",
    "    \"\"\"Wrapper\"\"\"\n",
    "\n",
    "    def retarded(self, energy):\n",
    "        return expand(S_molecule, super().retarded(energy), idx_molecule)\n",
    "\n",
    "\n",
    "def load(filename):\n",
    "    return DataSelfEnergy(energies, np.load(filename))\n",
    "\n",
    "def run(outputfile):\n",
    "\n",
    "    T = np.empty(energies.size)\n",
    "\n",
    "    for e, energy in enumerate(energies):\n",
    "        T[e] = gf.get_transmission(energy)\n",
    "\n",
    "    np.save(outputfile, (energies,T.real))\n"
   ]
  },
  {
   "cell_type": "code",
   "execution_count": 11,
   "metadata": {},
   "outputs": [],
   "source": [
    "data_folder = '../output/compute_run'\n",
    "index_active_region = np.load(f\"{data_folder}/index_active_region.npy\")\n",
    "self_energy = np.load(f\"{data_folder}/self_energy.npy\",allow_pickle=True)\n",
    "dmft_sigma_file = f\"{data_folder}/dmft_sigma.npy\"\n",
    "\n",
    "with open(f\"{data_folder}/hs_list_ii.pkl\", 'rb') as f:\n",
    "    hs_list_ii = pickle.load(f)\n",
    "with open(f\"{data_folder}/hs_list_ij.pkl\", 'rb') as f:\n",
    "    hs_list_ij = pickle.load(f)\n",
    "\n",
    "nodes = [0,810,1116,1278,1584,2394]\n",
    "# Define energy range and broadening factor for the Green's function calculation\n",
    "de = 0.2\n",
    "energies = np.arange(-3., 3. + de / 2., de).round(7)\n",
    "eta = 1e-3\n",
    "\n",
    "# Transmission function calculation\n",
    "imb = 2  # index of molecule block from the nodes list\n",
    "S_molecule = hs_list_ii[imb][1]  # overlap of molecule\n",
    "idx_molecule = index_active_region - nodes[imb]  # indices of active region w.r.t molecule\n"
   ]
  },
  {
   "cell_type": "code",
   "execution_count": 15,
   "metadata": {},
   "outputs": [],
   "source": [
    "# Initialize the Green's function solver with the tridiagonalized matrices and self-energies\n",
    "gf = greenfunction.GreenFunction(hs_list_ii,\n",
    "                                hs_list_ij,\n",
    "                                [(0, self_energy[0]),\n",
    "                                (len(hs_list_ii) - 1, self_energy[1])],\n",
    "                                solver='dyson',\n",
    "                                eta=eta)\n"
   ]
  },
  {
   "cell_type": "code",
   "execution_count": 20,
   "metadata": {},
   "outputs": [],
   "source": [
    "# Transmission function for DFT\n",
    "# ! Note that here the dft transmission is computed from a Lowdin orthogonalized H and S as starting point. \n",
    "# It may be more appropriate to compute it using the non-Lowdin orthogonalized one as shown in the dft_transmission_*.ipynb notebook for more faithful results\n",
    "outputfile = f\"{data_folder}/dft_transmission.npy\"\n",
    "run(outputfile)"
   ]
  },
  {
   "cell_type": "code",
   "execution_count": 21,
   "metadata": {},
   "outputs": [
    {
     "data": {
      "text/plain": [
       "(2, <__main__.DataSelfEnergy at 0x1553d9b75970>)"
      ]
     },
     "execution_count": 21,
     "metadata": {},
     "output_type": "execute_result"
    }
   ],
   "source": [
    "# Initialize the Green's function solver with the tridiagonalized matrices and self-energies\n",
    "gf = greenfunction.GreenFunction(hs_list_ii,\n",
    "                                hs_list_ij,\n",
    "                                [(0, self_energy[0]),\n",
    "                                (len(hs_list_ii) - 1, self_energy[1])],\n",
    "                                solver='dyson',\n",
    "                                eta=eta)\n",
    "\n",
    "# Add the DMFT self-energy for transmission\n",
    "\n",
    "self_energy[2] = load(dmft_sigma_file)\n",
    "gf.selfenergies.append((imb, self_energy[2]))\n",
    "\n",
    "# Transmission function with DMFT\n",
    "outputfile = f\"{data_folder}/dmft_transmission.npy\"\n",
    "run(outputfile)\n",
    "gf.selfenergies.pop()"
   ]
  },
  {
   "cell_type": "code",
   "execution_count": null,
   "metadata": {},
   "outputs": [],
   "source": []
  }
 ],
 "metadata": {
  "kernelspec": {
   "display_name": "CSCS Python",
   "language": "python",
   "name": "cscs"
  },
  "language_info": {
   "codemirror_mode": {
    "name": "ipython",
    "version": 3
   },
   "file_extension": ".py",
   "mimetype": "text/x-python",
   "name": "python",
   "nbconvert_exporter": "python",
   "pygments_lexer": "ipython3",
   "version": "3.9.4"
  }
 },
 "nbformat": 4,
 "nbformat_minor": 4
}
