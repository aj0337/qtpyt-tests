{
 "cells": [
  {
   "cell_type": "code",
   "execution_count": 1,
   "metadata": {},
   "outputs": [
    {
     "name": "stderr",
     "output_type": "stream",
     "text": [
      "OMP: Info #276: omp_set_nested routine deprecated, please use omp_set_max_active_levels instead.\n"
     ]
    }
   ],
   "source": [
    "from __future__ import annotations\n",
    "import numpy as np\n",
    "\n",
    "\n",
    "from scipy.optimize import root\n",
    "from scipy.interpolate import interp1d\n",
    "\n",
    "from edpyt.nano_dmft import Gfloc, Gfimp as nanoGfimp\n",
    "from edpyt.dmft import Gfimp, DMFT, Converged"
   ]
  },
  {
   "cell_type": "code",
   "execution_count": 2,
   "metadata": {},
   "outputs": [],
   "source": [
    "# DMFT calculation (runs serially)\n",
    "\n",
    "def distance(delta):\n",
    "    global delta_prev\n",
    "    delta_prev[:] = delta\n",
    "    return dmft.distance(delta)\n",
    "\n",
    "def save_sigma(sigma_diag,outputfile,npsin):\n",
    "    L, ne = sigma_diag.shape\n",
    "    sigma = np.zeros((ne, L, L), complex)\n",
    "\n",
    "    def save(spin):\n",
    "        for diag, mat in zip(sigma_diag.T, sigma):\n",
    "            mat.flat[::(L + 1)] = diag\n",
    "        np.save(outputfile, sigma)\n",
    "\n",
    "    for spin in range(nspin):\n",
    "        save(spin)"
   ]
  },
  {
   "cell_type": "code",
   "execution_count": 3,
   "metadata": {},
   "outputs": [],
   "source": [
    "U = 4.  # Interaction\n",
    "nbaths = 4\n",
    "tol = 64\n",
    "max_iter = 200\n",
    "adjust_mu = True\n",
    "alpha = 0.\n",
    "nspin = 1\n",
    "\n",
    "data_folder = '../output/compute_run'"
   ]
  },
  {
   "cell_type": "code",
   "execution_count": 4,
   "metadata": {},
   "outputs": [],
   "source": [
    "occupancy_goal = np.load(f'{data_folder}/occupancies.npy')\n",
    "len_active = occupancy_goal.size\n",
    "z_ret = np.load(f'{data_folder}/energies.npy')\n",
    "z_mats = np.load(f'{data_folder}/matsubara_energies.npy')\n",
    "hyb_ret = np.fromfile(f'{data_folder}/hybridization.bin', complex).reshape(z_ret.size, len_active, len_active)\n",
    "hyb_mats = np.fromfile(f'{data_folder}/matsubara_hybridization.bin',\n",
    "                        complex).reshape(z_mats.size, len_active, len_active)\n",
    "H_active = np.load(f'{data_folder}/hamiltonian.npy').real\n",
    "\n",
    "eta = z_ret[0].imag\n",
    "beta = np.pi / (z_mats[0].imag)\n",
    "\n",
    "_HybRet = interp1d(z_ret.real,\n",
    "                    hyb_ret,\n",
    "                    axis=0,\n",
    "                    bounds_error=False,\n",
    "                    fill_value=0.)\n",
    "HybRet = lambda z: _HybRet(z.real)\n",
    "\n",
    "_HybMats = interp1d(z_mats.imag,\n",
    "                    hyb_mats,\n",
    "                    axis=0,\n",
    "                    bounds_error=False,\n",
    "                    fill_value=0.)\n",
    "HybMats = lambda z: _HybMats(z.imag)\n",
    "HybZro = lambda z: np.zeros((len_active, z.size), complex)\n",
    "\n",
    "\n",
    "S_active = np.eye(len_active)\n",
    "\n",
    "idx_neq = np.arange(len_active)\n",
    "idx_inv = np.arange(len_active)\n",
    "\n",
    "V = np.eye(len_active) * U"
   ]
  },
  {
   "cell_type": "code",
   "execution_count": 5,
   "metadata": {},
   "outputs": [],
   "source": [
    "double_counting = np.diag(V.diagonal() * (occupancy_goal - 0.5))\n",
    "gfloc = Gfloc(H_active - double_counting, np.eye(len_active), HybMats, idx_neq, idx_inv)\n",
    "\n",
    "nimp = gfloc.idx_neq.size\n",
    "gfimp = []\n",
    "for i in range(nimp):\n",
    "    gfimp.append(Gfimp(nbaths, z_mats.size, V[i, i], beta))\n",
    "\n",
    "gfimp = nanoGfimp(gfimp)\n",
    "\n",
    "occupancy_goal = occupancy_goal[gfloc.idx_neq]"
   ]
  },
  {
   "cell_type": "code",
   "execution_count": 6,
   "metadata": {},
   "outputs": [
    {
     "name": "stdout",
     "output_type": "stream",
     "text": [
      "Iteration :  0\n",
      "Occupation : 11.70173 | Chemical potential : 0.62022 | Error : 84.00784\n",
      "Iteration :  1\n",
      "Occupation : 11.70173 | Chemical potential : 0.64103 | Error : 63.05714\n"
     ]
    }
   ],
   "source": [
    "dmft = DMFT(gfimp,\n",
    "            gfloc,\n",
    "            occupancy_goal,\n",
    "            max_iter=max_iter,\n",
    "            tol=tol,\n",
    "            adjust_mu=adjust_mu,\n",
    "            alpha=alpha)\n",
    "\n",
    "Sigma = lambda z: np.zeros((nimp, z.size), complex)\n",
    "delta = dmft.initialize(V.diagonal().mean(), Sigma, mu=0.)\n",
    "delta_prev = delta.copy()\n",
    "\n",
    "try:\n",
    "    root(distance, delta_prev, method='broyden1')\n",
    "except Converged:\n",
    "    pass\n",
    "\n",
    "np.save(f'{data_folder}/dmft_delta.npy', delta_prev)\n",
    "open(f'{data_folder}/mu.txt', 'w').write(str(gfloc.mu))\n",
    "\n",
    "_Sigma = lambda z: -double_counting.diagonal()[:, None] - gfloc.mu + gfloc.Sigma(z)[idx_inv]\n",
    "\n",
    "dmft_sigma_file = f\"{data_folder}/dmft_sigma.npy\"\n",
    "save_sigma(_Sigma(z_ret), dmft_sigma_file,nspin)"
   ]
  },
  {
   "cell_type": "code",
   "execution_count": 4,
   "metadata": {},
   "outputs": [
    {
     "data": {
      "text/plain": [
       "array([1.8584734 , 1.17283532, 0.99984953, 0.94705889, 1.4467579 ,\n",
       "       1.25806845, 0.99285049, 1.17355686, 1.85227601])"
      ]
     },
     "execution_count": 4,
     "metadata": {},
     "output_type": "execute_result"
    }
   ],
   "source": [
    "data_folder = '../output/compute_run'\n",
    "occupancy_goal = np.load(f'{data_folder}/occupancies.npy')\n",
    "occupancy_goal"
   ]
  },
  {
   "cell_type": "code",
   "execution_count": 5,
   "metadata": {},
   "outputs": [
    {
     "data": {
      "text/plain": [
       "11.701726853426148"
      ]
     },
     "execution_count": 5,
     "metadata": {},
     "output_type": "execute_result"
    }
   ],
   "source": [
    "np.sum(occupancy_goal)"
   ]
  },
  {
   "cell_type": "code",
   "execution_count": null,
   "metadata": {},
   "outputs": [],
   "source": []
  }
 ],
 "metadata": {
  "kernelspec": {
   "display_name": "CSCS Python",
   "language": "python",
   "name": "cscs"
  },
  "language_info": {
   "codemirror_mode": {
    "name": "ipython",
    "version": 3
   },
   "file_extension": ".py",
   "mimetype": "text/x-python",
   "name": "python",
   "nbconvert_exporter": "python",
   "pygments_lexer": "ipython3",
   "version": "3.9.4"
  }
 },
 "nbformat": 4,
 "nbformat_minor": 4
}
