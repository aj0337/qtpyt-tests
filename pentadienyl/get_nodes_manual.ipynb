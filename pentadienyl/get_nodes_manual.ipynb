{
 "cells": [
  {
   "cell_type": "code",
   "execution_count": null,
   "metadata": {},
   "outputs": [],
   "source": [
    "import numpy as np"
   ]
  },
  {
   "cell_type": "markdown",
   "metadata": {},
   "source": [
    "Number of orbitals: left (or right) Au not in tip = 810\n",
    "Number of orbitals: left (or right) Au in tip   = 1116 - 810 = 306\n",
    "Number of orbitals: C, N, H (molecules) = 5 C * 13 + 2 N * 13 + 9 H * 5 spherical harmonics = 136 \n",
    "Nodes = [0, 810, 1116, 1116 + 136, 1116 + 136 + 306, 1116 + 136 + 306 + 810]\n",
    "      = [0, 810, 1116, 1252, 1558, 2368]"
   ]
  },
  {
   "cell_type": "code",
   "execution_count": null,
   "metadata": {},
   "outputs": [],
   "source": []
  }
 ],
 "metadata": {
  "language_info": {
   "name": "python"
  }
 },
 "nbformat": 4,
 "nbformat_minor": 2
}
