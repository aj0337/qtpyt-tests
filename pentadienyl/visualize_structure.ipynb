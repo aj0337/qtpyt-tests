{
 "cells": [
  {
   "cell_type": "code",
   "execution_count": 3,
   "metadata": {},
   "outputs": [
    {
     "ename": "",
     "evalue": "",
     "output_type": "error",
     "traceback": [
      "\u001b[1;31mThe Kernel crashed while executing code in the current cell or a previous cell. \n",
      "\u001b[1;31mPlease review the code in the cell(s) to identify a possible cause of the failure. \n",
      "\u001b[1;31mClick <a href='https://aka.ms/vscodeJupyterKernelCrash'>here</a> for more info. \n",
      "\u001b[1;31mView Jupyter <a href='command:jupyter.viewOutput'>log</a> for further details."
     ]
    },
    {
     "ename": "",
     "evalue": "",
     "output_type": "error",
     "traceback": [
      "\u001b[1;31mCanceled future for execute_request message before replies were done"
     ]
    },
    {
     "ename": "",
     "evalue": "",
     "output_type": "error",
     "traceback": [
      "\u001b[1;31mCanceled future for execute_request message before replies were done. \n",
      "\u001b[1;31mView Jupyter <a href='command:jupyter.viewOutput'>log</a> for further details."
     ]
    }
   ],
   "source": [
    "import numpy as np\n",
    "import matplotlib.pyplot as plt\n",
    "import os\n",
    "from ase.io import read\n",
    "\n",
    "# # new_path = '/capstor/scratch/cscs/ajayaraj/qtpyt-tests/pentadienyl'\n",
    "# # os.chdir(new_path)"
   ]
  },
  {
   "cell_type": "code",
   "execution_count": null,
   "metadata": {},
   "outputs": [],
   "source": [
    "def create_index_to_atom_mapping(atoms):\n",
    "    \"\"\"\n",
    "    Create a mapping of element symbols to their indices in the  list.\n",
    "\n",
    "    Args:\n",
    "        atoms: ASE Atoms object containing the atomic structure.\n",
    "        : List of quantities corresponding to C and N atoms in the same order.\n",
    "\n",
    "    Returns:\n",
    "        dict: A dictionary mapping element symbols ('C', 'N') to their  indices.\n",
    "    \"\"\"\n",
    "    mapping = {}\n",
    "    index = 0\n",
    "\n",
    "    for atom in atoms:\n",
    "        if atom.symbol in ['C', 'N']:\n",
    "            if atom.symbol not in mapping:\n",
    "                mapping[atom.symbol] = []\n",
    "            mapping[atom.symbol].append(index)\n",
    "            index += 1\n",
    "\n",
    "    return mapping\n",
    "\n",
    "def plot_atomic_positions_with_occupancy(atoms, element_colors, occupancy,title):\n",
    "\n",
    "    fig, ax = plt.subplots(figsize=(10, 10))\n",
    "    positions = atoms.positions\n",
    "    x = positions[:, 0]\n",
    "    y = positions[:, 1]\n",
    "\n",
    "    colors = [element_colors[atom.symbol] for atom in atoms]\n",
    "\n",
    "    ax.scatter(x, y, color=colors, s=300)\n",
    "\n",
    "    occupancy_index = 0\n",
    "    for i, (xi, yi, atom) in enumerate(zip(x, y, atoms)):\n",
    "        ax.text(xi, yi, str(i), color='black', fontsize=9, ha='center', va='center')\n",
    "\n",
    "\n",
    "        if atom.symbol in ['C', 'N']:\n",
    "            ax.text(\n",
    "                xi + 0.2, yi,\n",
    "                f\"{occupancy[occupancy_index]:.2f}\",\n",
    "                color='blue', fontsize=9, ha='left', va='center'\n",
    "            )\n",
    "            occupancy_index += 1\n",
    "\n",
    "    ax.set_xlabel('X position')\n",
    "    ax.set_ylabel('Y position')\n",
    "    ax.set_title(title)\n",
    "\n",
    "    plt.show()\n"
   ]
  },
  {
   "cell_type": "code",
   "execution_count": null,
   "metadata": {},
   "outputs": [],
   "source": [
    "atoms = read('dft/device/scatt.xyz')\n",
    "filtered_atoms = atoms[[atom.symbol not in ['H', 'Au'] for atom in atoms]]\n",
    "element_colors = {'C': 'cyan', 'N': 'green'}\n",
    "mapping = create_index_to_atom_mapping(filtered_atoms)\n",
    "print(mapping)\n"
   ]
  },
  {
   "cell_type": "code",
   "execution_count": null,
   "metadata": {},
   "outputs": [],
   "source": []
  }
 ],
 "metadata": {
  "kernelspec": {
   "display_name": "Python (qtpyt)",
   "language": "python",
   "name": "qtpyt"
  },
  "language_info": {
   "codemirror_mode": {
    "name": "ipython",
    "version": 3
   },
   "file_extension": ".py",
   "mimetype": "text/x-python",
   "name": "python",
   "nbconvert_exporter": "python",
   "pygments_lexer": "ipython3",
   "version": "3.9.21"
  }
 },
 "nbformat": 4,
 "nbformat_minor": 2
}
