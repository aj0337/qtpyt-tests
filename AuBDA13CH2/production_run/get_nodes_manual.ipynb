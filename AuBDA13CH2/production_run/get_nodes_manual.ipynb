{
 "cells": [
  {
   "cell_type": "code",
   "execution_count": 65,
   "metadata": {},
   "outputs": [],
   "source": [
    "import os\n",
    "import numpy as np\n",
    "\n",
    "new_path = '/capstor/scratch/cscs/ajayaraj/qtpyt-tests/AuBDA13CH2/production_run'\n",
    "os.chdir(new_path)"
   ]
  },
  {
   "cell_type": "markdown",
   "metadata": {},
   "source": [
    "\n",
    "Number of orbitals: left (or right) Au not in tip = 810\n",
    "\n",
    "Number of orbitals: left (or right) Au in tip   = 1116 - 810 = 306\n",
    "\n",
    "Number of orbitals: C, N, H (molecules) = 7 C * 13 + 2 N * 13 + 9 H * 5 spherical harmonics = 162 \n",
    "\n",
    "Nodes = [0, 810, 1116, 1116 + 162, 1116 + 162 + 306, 1116 + 162 + 306 + 810]\n",
    "\n"
   ]
  },
  {
   "cell_type": "code",
   "execution_count": 66,
   "metadata": {},
   "outputs": [],
   "source": [
    "Nodes = [0, 810, 1116, 1116 + 162, 1116 + 162 + 306, 1116 + 162 + 306 + 810]\n",
    "\n",
    "np.save(\"output/lowdin/nodes.npy\", Nodes)"
   ]
  },
  {
   "cell_type": "code",
   "execution_count": null,
   "metadata": {},
   "outputs": [],
   "source": []
  }
 ],
 "metadata": {
  "kernelspec": {
   "display_name": "Python (qtpyt)",
   "language": "python",
   "name": "qtpyt"
  }
 },
 "nbformat": 4,
 "nbformat_minor": 2
}
