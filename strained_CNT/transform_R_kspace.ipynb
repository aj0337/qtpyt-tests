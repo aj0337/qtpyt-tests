{
 "cells": [
  {
   "cell_type": "code",
   "execution_count": 2,
   "id": "df84018c",
   "metadata": {},
   "outputs": [],
   "source": [
    "import numpy as np\n",
    "import matplotlib.pyplot as plt"
   ]
  },
  {
   "cell_type": "code",
   "execution_count": 5,
   "id": "60c07374",
   "metadata": {},
   "outputs": [],
   "source": [
    "kpts = np.array([\n",
    "    [0.0, 0.0, 0.0],\n",
    "    [0.1, 0.0, 0.0],\n",
    "    [0.2, 0.0, 0.0],\n",
    "    [0.3, 0.0, 0.0],\n",
    "    [0.4, 0.0, 0.0],\n",
    "    [0.5, 0.0, 0.0],\n",
    "])\n",
    "\n",
    "# Load real-space H(R) matrices\n",
    "H0 = np.load(\"hamiltonian/H_R0_leads.npy\")            # H(0)\n",
    "Hp1 = np.load(\"hamiltonian/H_R+1_leads.npy\")          # H(+1)\n",
    "Hm1 = np.load(\"hamiltonian/H_R-1_leads.npy\")          # H(-1)\n",
    "\n",
    "# Initialize H(k)\n",
    "dim = H0.shape[0]\n",
    "H_k_leads = np.zeros((len(kpts), dim, dim), dtype=complex)\n",
    "\n",
    "# Construct H(k)\n",
    "for i, kpt in enumerate(kpts):\n",
    "    kx = kpt[0]  # Assuming 1D periodicity in x\n",
    "    phase_p1 = np.exp(+1j * 2 * np.pi * kx)\n",
    "    phase_m1 = np.exp(-1j * 2 * np.pi * kx)\n",
    "\n",
    "    H_k_leads[i] = H0 + phase_p1 * Hp1 + phase_m1 * Hm1\n",
    "\n",
    "# Save the k-space Hamiltonian\n",
    "np.save(\"hamiltonian/H_k_leads.npy\", H_k_leads)\n"
   ]
  },
  {
   "cell_type": "code",
   "execution_count": null,
   "id": "bdda9dce",
   "metadata": {},
   "outputs": [],
   "source": []
  }
 ],
 "metadata": {
  "kernelspec": {
   "display_name": "guido-edpyt-qtpyt",
   "language": "python",
   "name": "python3"
  },
  "language_info": {
   "codemirror_mode": {
    "name": "ipython",
    "version": 3
   },
   "file_extension": ".py",
   "mimetype": "text/x-python",
   "name": "python",
   "nbconvert_exporter": "python",
   "pygments_lexer": "ipython3",
   "version": "3.9.21"
  }
 },
 "nbformat": 4,
 "nbformat_minor": 5
}
