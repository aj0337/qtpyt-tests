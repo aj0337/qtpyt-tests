{
 "cells": [
  {
   "cell_type": "code",
   "execution_count": 1,
   "metadata": {},
   "outputs": [],
   "source": [
    "from pathlib import Path\n",
    "\n",
    "import numpy as np\n",
    "import tqdm\n",
    "from edpyt.espace import build_espace, screen_espace\n",
    "from edpyt.gf2_lanczos import build_gf2_lanczos\n",
    "from edpyt.shared import params\n",
    "from matplotlib import pyplot as plt"
   ]
  },
  {
   "cell_type": "code",
   "execution_count": 2,
   "metadata": {},
   "outputs": [],
   "source": [
    "class Sigma:\n",
    "\n",
    "    def __init__(self, gf0, gf, eta=1e-5):\n",
    "        self.gf0 = gf0\n",
    "        self.gf = gf\n",
    "        self.eta = eta\n",
    "\n",
    "    def retarded(self, energy):\n",
    "        energies = np.atleast_1d(energy)\n",
    "        g0 = self.gf0(energies, self.eta)\n",
    "        g = self.gf(energies, self.eta)\n",
    "        sigma = np.empty((energies.size,gf.n,gf.n), complex)\n",
    "        for e, energy in enumerate(tqdm.tqdm(energies)):\n",
    "            sigma[e] = np.linalg.inv(g0[...,e]) - np.linalg.inv(g[...,e])\n",
    "        return sigma\n"
   ]
  },
  {
   "cell_type": "code",
   "execution_count": 3,
   "metadata": {},
   "outputs": [],
   "source": [
    "path = Path('../output/lowdin/')\n",
    "H_eff = np.load(path/'effective_hamiltonian.npy')\n",
    "nimp = H_eff.shape[0]\n",
    "occupancy_goal = np.load(\"../output/lowdin/occupancy/occupancies_gfp.npy\")\n",
    "de = 0.01\n",
    "energies = np.arange(-2, 2 + de / 2.0, de).round(7)\n",
    "eta = 6e-2\n",
    "z = energies + eta*1.j\n",
    "beta = 1000.\n",
    "# beta = 70.\n",
    "params['z'] = occupancy_goal\n",
    "V = np.loadtxt('../output/lowdin/U_matrix.txt')\n",
    "DC = np.diag(V.diagonal()*(occupancy_goal-0.5))\n",
    "# neig = get_active_neig(nimp, [(nimp//2,nimp//2)], 3)\n"
   ]
  },
  {
   "cell_type": "code",
   "execution_count": 4,
   "metadata": {},
   "outputs": [
    {
     "data": {
      "text/plain": [
       "array([5.7811579 , 2.54748617, 2.27502273, 2.25033648, 2.44118583,\n",
       "       2.83134256, 2.34763135, 2.62004357, 6.20584808])"
      ]
     },
     "execution_count": 4,
     "metadata": {},
     "output_type": "execute_result"
    }
   ],
   "source": [
    "np.diag(DC)"
   ]
  },
  {
   "cell_type": "code",
   "execution_count": 5,
   "metadata": {},
   "outputs": [
    {
     "data": {
      "text/plain": [
       "array([-11.30677751, -11.00365579,  -7.82440579,  -5.70687795,\n",
       "        -4.95025701,  -2.553914  ,   0.31158343,   1.08915029,\n",
       "         4.51903883])"
      ]
     },
     "execution_count": 5,
     "metadata": {},
     "output_type": "execute_result"
    }
   ],
   "source": [
    "eigvals, _ = np.linalg.eigh(H_eff-DC)\n",
    "eigvals"
   ]
  },
  {
   "cell_type": "code",
   "execution_count": 11,
   "metadata": {},
   "outputs": [
    {
     "name": "stdout",
     "output_type": "stream",
     "text": [
      "[1 1 1 1 1 1 1 1 1 1 1 1 1 1 1 1 1 1 1 1 1 1 1 1 1 1 1 1 1 1 1 1 1 1 1 1 1\n",
      " 1 1 1 1 1 1 1 1 1 1 1 1 1 1 1 1 1 1 1 1 1 1 1 1 1 1 1 1 1 1 1 1 1 1 1 1 1\n",
      " 1 1 1 1 1 1 1 1 1 1 1 1 1 1 1 1 1 1 1 1 1 1 1 1 1 1]\n",
      "-43.163317331220284\n",
      "dict_keys([(5, 5), (5, 6), (6, 5), (6, 6)])\n",
      "[2 2 2 2 2 2 2 2 2 2 2 2 2 2 2 2 2 2 2 2 2 2 2 2 2 2 2 2 2 2 2 2 2 2 2 2 2\n",
      " 2 2 2 2 2 2 2 2 2 2 2 2 2 2 2 2 2 2 2 2 2 2 2 2 2 2 2 2 2 2 2 2 2 2 2 2 2\n",
      " 2 2 2 2 2 2 2 2 2 2 2 2 2 2 2 2 2 2 2 2 2 2 2 2 2 2]\n",
      "-43.163317331220235\n",
      "dict_keys([(5, 5), (5, 6), (6, 5), (6, 6)])\n",
      "[3 3 3 3 3 3 3 3 3 3 3 3 3 3 3 3 3 3 3 3 3 3 3 3 3 3 3 3 3 3 3 3 3 3 3 3 3\n",
      " 3 3 3 3 3 3 3 3 3 3 3 3 3 3 3 3 3 3 3 3 3 3 3 3 3 3 3 3 3 3 3 3 3 3 3 3 3\n",
      " 3 3 3 3 3 3 3 3 3 3 3 3 3 3 3 3 3 3 3 3 3 3 3 3 3 3]\n",
      "-43.16331733122037\n",
      "dict_keys([(5, 5), (5, 6), (6, 5), (6, 6)])\n",
      "[4 4 4 4 4 4 4 4 4 4 4 4 4 4 4 4 4 4 4 4 4 4 4 4 4 4 4 4 4 4 4 4 4 4 4 4 4\n",
      " 4 4 4 4 4 4 4 4 4 4 4 4 4 4 4 4 4 4 4 4 4 4 4 4 4 4 4 4 4 4 4 4 4 4 4 4 4\n",
      " 4 4 4 4 4 4 4 4 4 4 4 4 4 4 4 4 4 4 4 4 4 4 4 4 4 4]\n",
      "-43.1633173312202\n",
      "dict_keys([(5, 5), (5, 6), (6, 5), (6, 6)])\n",
      "[5 5 5 5 5 5 5 5 5 5 5 5 5 5 5 5 5 5 5 5 5 5 5 5 5 5 5 5 5 5 5 5 5 5 5 5 5\n",
      " 5 5 5 5 5 5 5 5 5 5 5 5 5 5 5 5 5 5 5 5 5 5 5 5 5 5 5 5 5 5 5 5 5 5 5 5 5\n",
      " 5 5 5 5 5 5 5 5 5 5 5 5 5 5 5 5 5 5 5 5 5 5 5 5 5 5]\n",
      "-43.163317331220334\n",
      "dict_keys([(5, 5), (5, 6), (6, 5), (6, 6)])\n",
      "[6 6 6 6 6 6 6 6 6 6 6 6 6 6 6 6 6 6 6 6 6 6 6 6 6 6 6 6 6 6 6 6 6 6 6 6 6\n",
      " 6 6 6 6 6 6 6 6 6 6 6 6 6 6 6 6 6 6 6 6 6 6 6 6 6 6 6 6 6 6 6 6 6 6 6 6 6\n",
      " 6 6 6 6 6 6 6 6 6 6 6 6 6 6 6 6 6 6 6 6 6 6 6 6 6 6]\n",
      "-43.16331733122036\n",
      "dict_keys([(5, 5), (5, 6), (6, 5), (6, 6)])\n",
      "[7 7 7 7 7 7 7 7 7 7 7 7 7 7 7 7 7 7 7 7 7 7 7 7 7 7 7 7 7 7 7 7 7 7 7 7 7\n",
      " 7 7 7 7 7 7 7 7 7 7 7 7 7 7 7 7 7 7 7 7 7 7 7 7 7 7 7 7 7 7 7 7 7 7 7 7 7\n",
      " 7 7 7 7 7 7 7 7 7 7 7 7 7 7 7 7 7 7 7 7 7 7 7 7 7 7]\n",
      "-43.16331733122039\n",
      "dict_keys([(5, 5), (5, 6), (6, 5), (6, 6)])\n"
     ]
    }
   ],
   "source": [
    "for i in range(1, 8):\n",
    "    neig = np.ones((nimp+1)*(nimp+1),int) * i\n",
    "    espace, egs = build_espace(H_eff, np.zeros_like(H_eff), neig_sector=neig)\n",
    "    screen_espace(espace, egs, beta)\n",
    "    print(egs)\n",
    "    print(espace.keys())\n"
   ]
  },
  {
   "cell_type": "code",
   "execution_count": null,
   "metadata": {},
   "outputs": [],
   "source": []
  }
 ],
 "metadata": {
  "kernelspec": {
   "display_name": "guido-edpyt-qtpyt",
   "language": "python",
   "name": "python3"
  },
  "language_info": {
   "codemirror_mode": {
    "name": "ipython",
    "version": 3
   },
   "file_extension": ".py",
   "mimetype": "text/x-python",
   "name": "python",
   "nbconvert_exporter": "python",
   "pygments_lexer": "ipython3",
   "version": "3.9.21"
  }
 },
 "nbformat": 4,
 "nbformat_minor": 2
}
