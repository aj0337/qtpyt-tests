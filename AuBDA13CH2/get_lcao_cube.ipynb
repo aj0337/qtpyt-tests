{
 "cells": [
  {
   "cell_type": "code",
   "execution_count": 1,
   "metadata": {},
   "outputs": [],
   "source": [
    "import numpy as np\n",
    "import matplotlib.pyplot as plt\n",
    "from ase.io import read, write\n",
    "from ase.units import Bohr\n",
    "from gpaw import *\n",
    "import numpy as np\n",
    "import os"
   ]
  },
  {
   "cell_type": "code",
   "execution_count": 2,
   "metadata": {},
   "outputs": [],
   "source": [
    "atoms = read('dft/device/scatt.xyz')\n",
    "calc = GPAW('dft/device/scatt.gpw', txt=None)\n",
    "\n",
    "folder_path = 'lcao_cube'\n",
    "\n",
    "if not os.path.exists(folder_path):\n",
    "    os.makedirs(folder_path)"
   ]
  },
  {
   "cell_type": "code",
   "execution_count": 3,
   "metadata": {},
   "outputs": [],
   "source": [
    "\n",
    "\n",
    "homo_energy, lumo_energy = calc.get_homo_lumo()\n",
    "band_energies = calc.get_eigenvalues()\n",
    "\n",
    "homo_band_index = np.argmin(np.abs(band_energies - homo_energy))\n",
    "lumo_band_index = np.argmin(np.abs(band_energies - lumo_energy))\n",
    "\n",
    "nbands_around_fermi = 1\n",
    "bands_around_fermi = range(homo_band_index - nbands_around_fermi,\n",
    "                           lumo_band_index + nbands_around_fermi + 1)\n"
   ]
  },
  {
   "cell_type": "code",
   "execution_count": 5,
   "metadata": {},
   "outputs": [
    {
     "name": "stdout",
     "output_type": "stream",
     "text": [
      "4.236217127539285 4.2589577890173524\n"
     ]
    }
   ],
   "source": [
    "print(homo_energy, lumo_energy)"
   ]
  },
  {
   "cell_type": "code",
   "execution_count": null,
   "metadata": {},
   "outputs": [],
   "source": [
    "print(homo_band_index, lumo_band_index)"
   ]
  },
  {
   "cell_type": "code",
   "execution_count": 4,
   "metadata": {},
   "outputs": [],
   "source": [
    "\n",
    "for band in bands_around_fermi:\n",
    "    wf = calc.get_pseudo_wave_function(band=band)\n",
    "    if band == homo_band_index:\n",
    "        fname = f'{folder_path}/band_homo.cube'\n",
    "    elif band == lumo_band_index:\n",
    "        fname = f'{folder_path}/band_lumo.cube'\n",
    "    elif band < homo_band_index:\n",
    "        diff = homo_band_index - band\n",
    "        fname = f'{folder_path}/band_homo-{diff}.cube'\n",
    "    else:\n",
    "        diff = band - lumo_band_index\n",
    "        fname = f'{folder_path}/band_lumo+{diff}.cube'\n",
    "    write(fname, atoms, data=wf * Bohr**1.5)\n"
   ]
  },
  {
   "cell_type": "code",
   "execution_count": null,
   "metadata": {},
   "outputs": [],
   "source": []
  }
 ],
 "metadata": {
  "kernelspec": {
   "display_name": "CSCS Python",
   "language": "python",
   "name": "cscs"
  },
  "language_info": {
   "codemirror_mode": {
    "name": "ipython",
    "version": 3
   },
   "file_extension": ".py",
   "mimetype": "text/x-python",
   "name": "python",
   "nbconvert_exporter": "python",
   "pygments_lexer": "ipython3",
   "version": "3.9.4"
  }
 },
 "nbformat": 4,
 "nbformat_minor": 4
}
