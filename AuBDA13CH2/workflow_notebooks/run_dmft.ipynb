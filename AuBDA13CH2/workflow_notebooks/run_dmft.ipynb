{
 "cells": [
  {
   "cell_type": "code",
   "execution_count": null,
   "metadata": {},
   "outputs": [],
   "source": [
    "from __future__ import annotations\n",
    "import numpy as np\n",
    "\n",
    "\n",
    "from scipy.optimize import root\n",
    "from scipy.interpolate import interp1d\n",
    "\n",
    "from edpyt.nano_dmft import Gfloc, Gfimp as nanoGfimp\n",
    "from edpyt.dmft import Gfimp, DMFT, Converged"
   ]
  },
  {
   "cell_type": "code",
   "execution_count": null,
   "metadata": {},
   "outputs": [],
   "source": [
    "# DMFT calculation (runs serially)\n",
    "\n",
    "def distance(delta):\n",
    "    global delta_prev\n",
    "    delta_prev[:] = delta\n",
    "    return dmft.distance(delta)\n",
    "\n",
    "def save_sigma(sigma_diag,outputfile,npsin):\n",
    "    L, ne = sigma_diag.shape\n",
    "    sigma = np.zeros((ne, L, L), complex)\n",
    "\n",
    "    def save(spin):\n",
    "        for diag, mat in zip(sigma_diag.T, sigma):\n",
    "            mat.flat[::(L + 1)] = diag\n",
    "        np.save(outputfile, sigma)\n",
    "\n",
    "    for spin in range(nspin):\n",
    "        save(spin)"
   ]
  },
  {
   "cell_type": "code",
   "execution_count": null,
   "metadata": {},
   "outputs": [],
   "source": [
    "U = 4.  # Interaction\n",
    "nbaths = 4\n",
    "tol = 27\n",
    "max_iter = 200\n",
    "adjust_mu = True\n",
    "alpha = 0.\n",
    "nspin = 1\n",
    "\n",
    "data_folder = '../output/compute_run'"
   ]
  },
  {
   "cell_type": "code",
   "execution_count": null,
   "metadata": {},
   "outputs": [],
   "source": [
    "occupancy_goal = np.load(f'{data_folder}/occupancies.npy')\n",
    "len_active = occupancy_goal.size\n",
    "z_ret = np.load(f'{data_folder}/energies.npy')\n",
    "z_mats = np.load(f'{data_folder}/matsubara_energies.npy')\n",
    "hyb_ret = np.fromfile(f'{data_folder}/hybridization.bin', complex).reshape(z_ret.size, len_active, len_active)\n",
    "hyb_mats = np.fromfile(f'{data_folder}/matsubara_hybridization.bin',\n",
    "                        complex).reshape(z_mats.size, len_active, len_active)\n",
    "H_active = np.load(f'{data_folder}/hamiltonian.npy').real\n",
    "\n",
    "eta = z_ret[0].imag\n",
    "beta = np.pi / (z_mats[0].imag)\n",
    "\n",
    "_HybRet = interp1d(z_ret.real,\n",
    "                    hyb_ret,\n",
    "                    axis=0,\n",
    "                    bounds_error=False,\n",
    "                    fill_value=0.)\n",
    "HybRet = lambda z: _HybRet(z.real)\n",
    "\n",
    "_HybMats = interp1d(z_mats.imag,\n",
    "                    hyb_mats,\n",
    "                    axis=0,\n",
    "                    bounds_error=False,\n",
    "                    fill_value=0.)\n",
    "HybMats = lambda z: _HybMats(z.imag)\n",
    "HybZro = lambda z: np.zeros((len_active, z.size), complex)\n",
    "\n",
    "\n",
    "S_active = np.eye(len_active)\n",
    "\n",
    "idx_neq = np.arange(len_active)\n",
    "idx_inv = np.arange(len_active)\n",
    "\n",
    "V = np.eye(len_active) * U"
   ]
  },
  {
   "cell_type": "code",
   "execution_count": null,
   "metadata": {},
   "outputs": [],
   "source": [
    "double_counting = np.diag(V.diagonal() * (occupancy_goal - 0.5))\n",
    "gfloc = Gfloc(H_active - double_counting, np.eye(len_active), HybMats, idx_neq, idx_inv)\n",
    "\n",
    "nimp = gfloc.idx_neq.size\n",
    "gfimp = []\n",
    "for i in range(nimp):\n",
    "    gfimp.append(Gfimp(nbaths, z_mats.size, V[i, i], beta))\n",
    "\n",
    "gfimp = nanoGfimp(gfimp)\n",
    "\n",
    "occupancy_goal = occupancy_goal[gfloc.idx_neq]"
   ]
  },
  {
   "cell_type": "code",
   "execution_count": null,
   "metadata": {},
   "outputs": [],
   "source": [
    "dmft = DMFT(gfimp,\n",
    "            gfloc,\n",
    "            occupancy_goal,\n",
    "            max_iter=max_iter,\n",
    "            tol=tol,\n",
    "            adjust_mu=adjust_mu,\n",
    "            alpha=alpha)\n",
    "\n",
    "Sigma = lambda z: np.zeros((nimp, z.size), complex)\n",
    "delta = dmft.initialize(V.diagonal().mean(), Sigma, mu=0.)\n",
    "delta_prev = delta.copy()\n",
    "\n",
    "try:\n",
    "    root(distance, delta_prev, method='broyden1')\n",
    "except Converged:\n",
    "    pass\n",
    "\n",
    "np.save(f'{data_folder}/dmft_delta.npy', delta_prev)\n",
    "open(f'{data_folder}/mu.txt', 'w').write(str(gfloc.mu))\n",
    "\n",
    "_Sigma = lambda z: -double_counting.diagonal()[:, None] - gfloc.mu + gfloc.Sigma(z)[idx_inv]\n",
    "\n",
    "dmft_sigma_file = f\"{data_folder}/dmft_sigma.npy\"\n",
    "save_sigma(_Sigma(z_ret), dmft_sigma_file,nspin)"
   ]
  }
 ],
 "metadata": {
  "language_info": {
   "name": "python"
  }
 },
 "nbformat": 4,
 "nbformat_minor": 2
}
