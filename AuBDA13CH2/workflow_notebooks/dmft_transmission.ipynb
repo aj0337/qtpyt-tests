{
 "cells": [
  {
   "cell_type": "code",
   "execution_count": 1,
   "metadata": {},
   "outputs": [],
   "source": [
    "# Necessary when connecting to a jupyterhub kernel running on daint via VScode. NOT required otherwise\n",
    "\n",
    "import os\n",
    "\n",
    "new_path = '/users/ajayaraj/scratch/tests/qtpyt-tests/AuBDA13CH2'\n",
    "os.chdir(new_path)\n"
   ]
  },
  {
   "cell_type": "code",
   "execution_count": 2,
   "metadata": {},
   "outputs": [
    {
     "name": "stderr",
     "output_type": "stream",
     "text": [
      "OMP: Info #276: omp_set_nested routine deprecated, please use omp_set_max_active_levels instead.\n"
     ]
    }
   ],
   "source": [
    "from pathlib import Path\n",
    "import matplotlib.pyplot as plt\n",
    "import numpy as np\n",
    "from gpaw import restart\n",
    "from gpaw.lcao.pwf2 import LCAOwrap\n",
    "from gpaw.lcao.tools import remove_pbc\n",
    "from matplotlib.colors import LinearSegmentedColormap, LogNorm\n",
    "from qtpyt.basis import Basis\n",
    "from qtpyt.lo.tools import rotate_matrix, subdiagonalize_atoms, cutcoupling\n",
    "from ase.io import read\n",
    "from qtpyt.basis import Basis\n",
    "from qtpyt.block_tridiag import graph_partition, greenfunction\n",
    "from qtpyt.surface.principallayer import PrincipalSelfEnergy\n",
    "from qtpyt.surface.tools import prepare_leads_matrices\n",
    "from qtpyt.tools import remove_pbc, rotate_couplings\n",
    "from copy import deepcopy\n",
    "from qtpyt.projector import ProjectedGreenFunction\n",
    "from qtpyt.hybridization import Hybridization\n",
    "from qtpyt.continued_fraction import get_ao_charge\n",
    "from scipy.linalg import eigvalsh\n",
    "from qtpyt.base.selfenergy import DataSelfEnergy as BaseDataSelfEnergy\n",
    "from qtpyt.projector import expand"
   ]
  },
  {
   "cell_type": "code",
   "execution_count": 3,
   "metadata": {},
   "outputs": [],
   "source": [
    "from __future__ import annotations\n",
    "\n",
    "from scipy.optimize import root, linearmixing\n",
    "from scipy.interpolate import interp1d\n",
    "from ase.io import read\n",
    "\n",
    "from edpyt.nano_dmft import Gfloc, Gfimp as nanoGfimp\n",
    "from edpyt.dmft import SpinGfimp, Gfimp, DMFT, Converged\n",
    "\n",
    "from edpyt.observs import get_occupation\n",
    "from edpyt.cotools import draw_feynman_dyson_orbital, draw_spin_density\n",
    "from edpyt.dmft import FailedToConverge"
   ]
  },
  {
   "cell_type": "markdown",
   "metadata": {},
   "source": [
    "### Helper functions"
   ]
  },
  {
   "cell_type": "code",
   "execution_count": 4,
   "metadata": {},
   "outputs": [],
   "source": [
    "def get_species_indices(atoms,species):\n",
    "    indices = []\n",
    "    for element in species:\n",
    "        element_indices = atoms.symbols.search(element)\n",
    "        indices.extend(element_indices)\n",
    "    return sorted(indices)\n",
    "\n",
    "def distance(delta):\n",
    "    global delta_prev\n",
    "    delta_prev[:] = delta\n",
    "    return dmft.distance(delta)\n",
    "\n",
    "def save_sigma(sigma_diag,outputfile):\n",
    "    L, ne = sigma_diag.shape\n",
    "    sigma = np.zeros((ne, L, L), complex)\n",
    "    \n",
    "    def save(spin):\n",
    "        for diag, mat in zip(sigma_diag.T, sigma):\n",
    "            mat.flat[::(L + 1)] = diag\n",
    "        np.save(outputfile, sigma)\n",
    "        \n",
    "    for spin in range(1):\n",
    "        save(spin)\n",
    "        \n",
    "class DataSelfEnergy(BaseDataSelfEnergy):\n",
    "    \"\"\"Wrapper\"\"\"\n",
    "\n",
    "    def retarded(self, energy):\n",
    "        return expand(S_molecule, super().retarded(energy), idx_molecule)\n",
    "\n",
    "\n",
    "def load(filename):\n",
    "    return DataSelfEnergy(energies, np.load(filename))\n",
    "\n",
    "def run(outputfile):\n",
    "\n",
    "    global suffix\n",
    "\n",
    "    T = np.empty(energies.size)\n",
    "\n",
    "    for e, energy in enumerate(energies):\n",
    "        T[e] = gf.get_transmission(energy)\n",
    "\n",
    "    np.save(outputfile, (energies,T.real))"
   ]
  },
  {
   "cell_type": "markdown",
   "metadata": {},
   "source": [
    "### Control parameters"
   ]
  },
  {
   "cell_type": "code",
   "execution_count": 5,
   "metadata": {},
   "outputs": [],
   "source": [
    "GPWDEVICEDIR = 'dft/device/'\n",
    "BRIDGE_SPECIES = (\"N\", \"C\", \"H\")\n",
    "GPWLEADSDIR = 'dft/leads/'"
   ]
  },
  {
   "cell_type": "code",
   "execution_count": 6,
   "metadata": {},
   "outputs": [
    {
     "name": "stdout",
     "output_type": "stream",
     "text": [
      "Condition number: 2.8e+04\n"
     ]
    }
   ],
   "source": [
    "lowdin = True\n",
    "cc_path = Path(GPWDEVICEDIR)\n",
    "pl_path = Path(GPWLEADSDIR)\n",
    "gpwfile = f'{cc_path}/scatt.gpw'\n",
    "\n",
    "atoms, calc = restart(gpwfile, txt=None)\n",
    "fermi = calc.get_fermi_level()\n",
    "nao_a = np.array([setup.nao for setup in calc.wfs.setups])\n",
    "basis = Basis(atoms, nao_a)\n",
    "\n",
    "lcao = LCAOwrap(calc)\n",
    "H_lcao = lcao.get_hamiltonian()\n",
    "S_lcao = lcao.get_overlap()\n",
    "H_lcao -= fermi * S_lcao\n"
   ]
  },
  {
   "cell_type": "code",
   "execution_count": 7,
   "metadata": {},
   "outputs": [],
   "source": [
    "bridge_indices = get_species_indices(atoms, BRIDGE_SPECIES)\n",
    "basis_bridge = basis[bridge_indices]\n",
    "bridge_orbital_indices = basis_bridge.get_indices()\n",
    "bridge_start = bridge_orbital_indices[0]\n",
    "bridge_end = bridge_orbital_indices[-1]"
   ]
  },
  {
   "cell_type": "code",
   "execution_count": 8,
   "metadata": {},
   "outputs": [],
   "source": [
    "H_leads_lcao, S_leads_lcao = np.load(pl_path / 'hs_pl_k.npy')\n",
    "\n",
    "basis_dict = {'Au': 9, 'H': 5, 'C': 13, 'N': 13}\n",
    "\n",
    "leads_atoms = read(pl_path / 'leads.xyz')\n",
    "leads_basis = Basis.from_dictionary(leads_atoms, basis_dict)\n",
    "\n",
    "device_atoms = read(cc_path / 'scatt.xyz')\n",
    "device_basis = Basis.from_dictionary(device_atoms, basis_dict)\n",
    "\n",
    "nodes = [0,810,1116,1278,1584,2394]\n",
    "\n",
    "# Define energy range and broadening factor for the Green's function calculation\n",
    "de = 0.2\n",
    "energies = np.arange(-3., 3. + de / 2., de).round(7)\n",
    "eta = 1e-3\n",
    "\n",
    "# Define the number of repetitions (Nr) and unit cell repetition in the leads\n",
    "Nr = (1, 5, 3)\n",
    "unit_cell_rep_in_leads = (5, 5, 3)"
   ]
  },
  {
   "cell_type": "markdown",
   "metadata": {},
   "source": [
    "### Subdiagonalize C, N and H of LCAO Hamiltonian (Hamiltonian obtained directly from gpaw)"
   ]
  },
  {
   "cell_type": "code",
   "execution_count": 9,
   "metadata": {},
   "outputs": [],
   "source": [
    "# Perform subdiagonalization\n",
    "SUBDIAG_SPECIES = (\"C\", \"N\", \"H\")\n",
    "subdiag_indices = get_species_indices(atoms, SUBDIAG_SPECIES)\n",
    "Usub, eig = subdiagonalize_atoms(basis, H_lcao, S_lcao, a=subdiag_indices)\n",
    "\n",
    "# Rotate matrices\n",
    "H_sudiagonalized = rotate_matrix(H_lcao, Usub)[None, ...]\n",
    "S_sudiagonalized = rotate_matrix(S_lcao, Usub)[None, ...]\n",
    "H_sudiagonalized = H_sudiagonalized.astype(np.complex128)\n",
    "S_sudiagonalized = S_sudiagonalized.astype(np.complex128)\n"
   ]
  },
  {
   "cell_type": "code",
   "execution_count": 10,
   "metadata": {},
   "outputs": [],
   "source": [
    "# Prepare the k-points and matrices for the leads (Hamiltonian and overlap matrices)\n",
    "kpts_t, h_leads_kii, s_leads_kii, h_leads_kij, s_leads_kij = prepare_leads_matrices(\n",
    "    H_leads_lcao, S_leads_lcao, unit_cell_rep_in_leads, align=(0, H_sudiagonalized[0, 0, 0]))\n",
    "\n",
    "# Remove periodic boundary conditions (PBC) from the device Hamiltonian and overlap matrices\n",
    "remove_pbc(device_basis, H_sudiagonalized)\n",
    "remove_pbc(device_basis, S_sudiagonalized)\n",
    "\n",
    "# Initialize self-energy list for left and right leads\n",
    "self_energy = [None, None, None]\n",
    "self_energy[0] = PrincipalSelfEnergy(kpts_t, (h_leads_kii, s_leads_kii), (h_leads_kij, s_leads_kij), Nr=Nr)\n",
    "self_energy[1] = PrincipalSelfEnergy(kpts_t, (h_leads_kii, s_leads_kii), (h_leads_kij, s_leads_kij), Nr=Nr, id='right')\n",
    "\n",
    "# Rotate the couplings for the leads based on the specified basis and repetition Nr\n",
    "rotate_couplings(leads_basis, self_energy[0], Nr)\n",
    "rotate_couplings(leads_basis, self_energy[1], Nr)\n",
    "\n",
    "# Tridiagonalize the device Hamiltonian and overlap matrices based on the partitioned nodes\n",
    "hs_list_ii, hs_list_ij = graph_partition.tridiagonalize(nodes, H_sudiagonalized[0], S_sudiagonalized[0])\n",
    "\n",
    "# Initialize the Green's function solver with the tridiagonalized matrices and self-energies\n",
    "gf = greenfunction.GreenFunction(hs_list_ii,\n",
    "                                 hs_list_ij,\n",
    "                                 [(0, self_energy[0]),\n",
    "                                  (len(hs_list_ii) - 1, self_energy[1])],\n",
    "                                 solver='dyson',\n",
    "                                 eta=eta)\n",
    "\n"
   ]
  },
  {
   "cell_type": "markdown",
   "metadata": {},
   "source": [
    "### Define active region and the Green's function for the active region"
   ]
  },
  {
   "cell_type": "code",
   "execution_count": 11,
   "metadata": {},
   "outputs": [],
   "source": [
    "# Extract the basis for the subdiagonalized region and get their indices\n",
    "basis_subdiag_region = basis[subdiag_indices]\n",
    "index_subdiag_region = basis_subdiag_region.get_indices()\n",
    "\n",
    "# Define the active region within the subdiagonalized species\n",
    "active = {'C': [3],'N': [3]}\n",
    "extract_active_region = basis_subdiag_region.extract().take(active)\n",
    "index_active_region = index_subdiag_region[extract_active_region]\n",
    "\n",
    "gfp = ProjectedGreenFunction(gf, index_active_region)\n",
    "hyb = Hybridization(gfp)"
   ]
  },
  {
   "cell_type": "code",
   "execution_count": 12,
   "metadata": {},
   "outputs": [],
   "source": [
    "data_folder = 'output'\n",
    "\n",
    "# Create the folder if it doesn't exist\n",
    "if not os.path.exists(data_folder):\n",
    "    os.makedirs(data_folder)\n",
    "\n",
    "energies = np.arange(-3., 3. + de / 2., de).round(7)\n",
    "n_A = len(index_active_region)\n",
    "# Save the files inside the folder\n",
    "HB = np.empty((energies.size, n_A, n_A), dtype=complex)\n",
    "\n",
    "for e, energy in enumerate(energies):\n",
    "    HB[e] = hyb.retarded(energy)\n",
    "\n",
    "filename = os.path.join(data_folder, 'hybridization.bin')\n",
    "with open(filename,'wb') as f:\n",
    "    HB.tofile(f)\n"
   ]
  },
  {
   "cell_type": "code",
   "execution_count": 13,
   "metadata": {},
   "outputs": [],
   "source": [
    "# Save other data inside the folder\n",
    "np.save(os.path.join(data_folder, 'energies.npy'), energies + 1.j * eta)\n",
    "\n",
    "# Effective Hamiltonian\n",
    "Heff = (hyb.H + hyb.retarded(0.)).real\n",
    "np.save(os.path.join(data_folder, 'hamiltonian.npy'), hyb.H)\n",
    "np.save(os.path.join(data_folder, 'effective_hamiltonian.npy'), Heff)\n",
    "np.save(os.path.join(data_folder, 'eigvals_Heff.npy'), eigvalsh(Heff, gfp.S))"
   ]
  },
  {
   "cell_type": "code",
   "execution_count": 15,
   "metadata": {},
   "outputs": [],
   "source": [
    "# Matsubara\n",
    "gf.eta = 0.\n",
    "assert self_energy[0].eta == 0.\n",
    "assert self_energy[1].eta == 0.\n",
    "ne = 30\n",
    "beta = 70.\n",
    "matsubara_energies = 1.j * (2 * np.arange(ne) + 1) * np.pi / beta\n",
    "HB = np.empty((matsubara_energies.size, n_A, n_A), dtype=complex)\n",
    "\n",
    "for e, energy in enumerate(matsubara_energies):\n",
    "    HB[e] = hyb.retarded(energy)\n",
    "\n",
    "# Save the Matsubara hybrid data\n",
    "filename = os.path.join(data_folder, 'matsubara_hybridization.bin')\n",
    "with open(filename,'wb') as f:\n",
    "    HB.tofile(f)\n",
    "\n",
    "\n",
    "np.save(os.path.join(data_folder, 'occupancies.npy'), get_ao_charge(gfp))\n",
    "np.save(os.path.join(data_folder, 'matsubara_energies.npy'), matsubara_energies)\n"
   ]
  },
  {
   "cell_type": "markdown",
   "metadata": {},
   "source": [
    "### DMFT"
   ]
  },
  {
   "cell_type": "code",
   "execution_count": 16,
   "metadata": {},
   "outputs": [],
   "source": [
    "occupancy_goal = np.load(f'{data_folder}/occupancies.npy')\n",
    "\n",
    "L = occupancy_goal.size\n",
    "\n",
    "z_ret = np.load(f'{data_folder}/energies.npy')\n",
    "z_mats = np.load(f'{data_folder}/matsubara_energies.npy')\n",
    "\n",
    "eta = z_ret[0].imag\n",
    "beta = np.pi / (z_mats[0].imag)\n",
    "\n",
    "hyb_ret = np.fromfile(f'{data_folder}/hybridization.bin', complex).reshape(z_ret.size, L, L)\n",
    "hyb_mats = np.fromfile(f'{data_folder}/matsubara_hybridization.bin',\n",
    "                       complex).reshape(z_mats.size, L, L)\n",
    "\n",
    "_HybRet = interp1d(z_ret.real,\n",
    "                   hyb_ret,\n",
    "                   axis=0,\n",
    "                   bounds_error=False,\n",
    "                   fill_value=0.)\n",
    "HybRet = lambda z: _HybRet(z.real)\n",
    "\n",
    "_HybMats = interp1d(z_mats.imag,\n",
    "                    hyb_mats,\n",
    "                    axis=0,\n",
    "                    bounds_error=False,\n",
    "                    fill_value=0.)\n",
    "HybMats = lambda z: _HybMats(z.imag)\n",
    "HybZro = lambda z: np.zeros((L, z.size), complex)\n",
    "\n",
    "H = np.load(f'{data_folder}/hamiltonian.npy').real\n",
    "S = np.eye(L)\n",
    "\n",
    "idx_neq = np.arange(L)\n",
    "idx_inv = np.arange(L)\n",
    "\n",
    "U = 4.  # Interaction\n",
    "V = np.eye(L) * U\n"
   ]
  },
  {
   "cell_type": "code",
   "execution_count": 17,
   "metadata": {},
   "outputs": [
    {
     "name": "stdout",
     "output_type": "stream",
     "text": [
      "Iteration :  0\n",
      "Occupation : 11.70173 | Chemical potential : 0.20129 | Error : 27.82906\n",
      "Iteration :  1\n",
      "Occupation : 11.70173 | Chemical potential : 0.11855 | Error : 37.52028\n",
      "Iteration :  2\n",
      "Occupation : 11.70173 | Chemical potential : 0.22953 | Error : 28.43034\n",
      "Iteration :  3\n",
      "Occupation : 11.70173 | Chemical potential : 0.23252 | Error : 32.75922\n",
      "Iteration :  4\n",
      "Occupation : 11.70173 | Chemical potential : 0.21210 | Error : 34.29756\n",
      "Iteration :  5\n",
      "Occupation : 11.70173 | Chemical potential : 0.20789 | Error : 33.82716\n",
      "Iteration :  6\n",
      "Occupation : 11.70173 | Chemical potential : 0.20704 | Error : 33.73256\n",
      "Iteration :  7\n",
      "Occupation : 11.70173 | Chemical potential : 0.20676 | Error : 33.72338\n",
      "Iteration :  8\n",
      "Occupation : 11.70173 | Chemical potential : 0.27988 | Error : 19.05961\n"
     ]
    }
   ],
   "source": [
    "double_counting = np.diag(V.diagonal() * (occupancy_goal - 0.5))\n",
    "gfloc = Gfloc(H - double_counting, np.eye(L), HybMats, idx_neq, idx_inv)\n",
    "\n",
    "nimp = gfloc.idx_neq.size\n",
    "gfimp: list[Gfimp] = []\n",
    "nbaths = 4\n",
    "for i in range(nimp):\n",
    "    gfimp.append(Gfimp(nbaths, z_mats.size, V[i, i], beta))\n",
    "\n",
    "gfimp = nanoGfimp(gfimp)\n",
    "\n",
    "occupancy_goal = occupancy_goal[gfloc.idx_neq]\n",
    "\n",
    "dmft = DMFT(gfimp,\n",
    "            gfloc,\n",
    "            occupancy_goal,\n",
    "            max_iter=200,\n",
    "            tol=27,\n",
    "            adjust_mu=True,\n",
    "            alpha=0.)\n",
    "\n",
    "Sigma = lambda z: np.zeros((nimp, z.size), complex)\n",
    "delta = dmft.initialize(V.diagonal().mean(), Sigma, mu=0.)\n",
    "delta_prev = delta.copy()\n",
    "\n",
    "try:\n",
    "    root(distance, delta_prev, method='broyden1')\n",
    "except Converged:\n",
    "    pass\n",
    "\n",
    "np.save(f'{data_folder}/dmft_delta.npy', delta_prev)\n",
    "open(f'{data_folder}/mu.txt', 'w').write(str(gfloc.mu))\n",
    "\n",
    "_Sigma = lambda z: -double_counting.diagonal()[:, None] - gfloc.mu + gfloc.Sigma(z)[idx_inv]\n"
   ]
  },
  {
   "cell_type": "code",
   "execution_count": 18,
   "metadata": {},
   "outputs": [],
   "source": [
    "dmft_sigma_file = f\"{data_folder}/dmft_sigma.npy\"\n",
    "save_sigma(_Sigma(z_ret),dmft_sigma_file)"
   ]
  },
  {
   "cell_type": "markdown",
   "metadata": {},
   "source": [
    "### Transmission function"
   ]
  },
  {
   "cell_type": "code",
   "execution_count": 19,
   "metadata": {},
   "outputs": [],
   "source": [
    "imb = 2  # index of molecule block\n",
    "S_molecule = hs_list_ii[imb][1]  # overlap of molecule\n",
    "idx_molecule = index_active_region - nodes[imb]  # indices of active region w.r.t molecule\n"
   ]
  },
  {
   "cell_type": "code",
   "execution_count": 20,
   "metadata": {},
   "outputs": [
    {
     "data": {
      "text/plain": [
       "(2, <__main__.DataSelfEnergy at 0x1554627aabe0>)"
      ]
     },
     "execution_count": 20,
     "metadata": {},
     "output_type": "execute_result"
    }
   ],
   "source": [
    "# DFT\n",
    "outputfile = f\"{data_folder}/dft_transmission.npy\"\n",
    "run(outputfile)\n",
    "\n",
    "self_energy[2] = load(dmft_sigma_file)\n",
    "gf.selfenergies.append((imb, self_energy[2]))\n",
    "\n",
    "outputfile = f\"{data_folder}/dmft_transmission.npy\"\n",
    "run(outputfile)\n",
    "gf.selfenergies.pop()"
   ]
  },
  {
   "cell_type": "code",
   "execution_count": 21,
   "metadata": {},
   "outputs": [],
   "source": [
    "# Define the path to the reference data for transmission\n",
    "ref_path = \"published_reference/transmission\"\n",
    "\n",
    "# Load the reference LCAO transmission data from a file, where reference is the data from \"Strong correlation effect paper\"\n",
    "E1, Tref_dft = np.load(f\"{ref_path}/ET_dft.npy\")\n",
    "\n",
    "# Load the reference dmft transmission data from a file, where reference is the data from \"Strong correlation effect paper\"\n",
    "E2, Tref_dmft = np.load(f\"{ref_path}/ET_dmft.npy\")\n",
    "\n",
    "E3, T_dft = np.load(f\"{data_folder}/dft_transmission.npy\")\n",
    "\n",
    "E4, T_dmft = np.load(f\"{data_folder}/dmft_transmission.npy\")"
   ]
  },
  {
   "cell_type": "code",
   "execution_count": 23,
   "metadata": {},
   "outputs": [
    {
     "data": {
      "text/plain": [
       "<matplotlib.legend.Legend at 0x1554f1969220>"
      ]
     },
     "execution_count": 23,
     "metadata": {},
     "output_type": "execute_result"
    },
    {
     "data": {
      "image/png": "[encoded data removed]",
      "text/plain": [
       "<Figure size 640x480 with 1 Axes>"
      ]
     },
     "metadata": {},
     "output_type": "display_data"
    }
   ],
   "source": [
    "# Plot the reference LCAO transmission data\n",
    "plt.plot(E1, Tref_dft, label=\"reference dft\")\n",
    "\n",
    "plt.plot(E2, Tref_dmft, label=\"reference dmft\")\n",
    "\n",
    "# Plot the computed LCAO transmission data\n",
    "plt.plot(E3, T_dft, 'o', label=\"computed dft\")\n",
    "\n",
    "plt.plot(E4, T_dmft, 'o', label=\"computed dmft\")\n",
    "\n",
    "# Set the y-axis to a logarithmic scale to better visualize the transmission data\n",
    "plt.yscale(\"log\")\n",
    "plt.xlim(-2.5,2.5)\n",
    "plt.ylim(bottom=1e-5)\n",
    "plt.legend()"
   ]
  },
  {
   "cell_type": "code",
   "execution_count": null,
   "metadata": {},
   "outputs": [],
   "source": []
  }
 ],
 "metadata": {
  "kernelspec": {
   "display_name": "CSCS Python",
   "language": "python",
   "name": "cscs"
  },
  "language_info": {
   "codemirror_mode": {
    "name": "ipython",
    "version": 3
   },
   "file_extension": ".py",
   "mimetype": "text/x-python",
   "name": "python",
   "nbconvert_exporter": "python",
   "pygments_lexer": "ipython3",
   "version": "3.9.4"
  }
 },
 "nbformat": 4,
 "nbformat_minor": 4
}
