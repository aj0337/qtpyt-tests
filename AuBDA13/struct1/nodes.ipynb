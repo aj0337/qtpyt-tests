{
 "cells": [
  {
   "cell_type": "code",
   "execution_count": 1,
   "metadata": {},
   "outputs": [],
   "source": [
    "# Necessary when connecting to a jupyterhub kernel running on daint via VScode. NOT required otherwise\n",
    "\n",
    "import os\n",
    "\n",
    "new_path = '/users/ajayaraj/scratch/tests/qtpyt-tests/AuBDA13/struct1'\n",
    "os.chdir(new_path)\n"
   ]
  },
  {
   "cell_type": "code",
   "execution_count": 2,
   "metadata": {},
   "outputs": [
    {
     "name": "stderr",
     "output_type": "stream",
     "text": [
      "OMP: Info #276: omp_set_nested routine deprecated, please use omp_set_max_active_levels instead.\n"
     ]
    }
   ],
   "source": [
    "from pathlib import Path\n",
    "import numpy as np\n",
    "from gpaw import restart\n",
    "from gpaw.lcao.pwf2 import LCAOwrap\n",
    "from gpaw.lcao.tools import remove_pbc\n",
    "from matplotlib.colors import LinearSegmentedColormap, LogNorm\n",
    "from qtpyt.basis import Basis\n",
    "from qtpyt.lo.tools import rotate_matrix, subdiagonalize_atoms,cutcoupling\n",
    "from ase.io import read\n",
    "from qtpyt.basis import Basis\n",
    "from qtpyt.block_tridiag import graph_partition\n",
    "from qtpyt.tools import remove_pbc\n",
    "from copy import deepcopy\n"
   ]
  },
  {
   "cell_type": "markdown",
   "metadata": {},
   "source": [
    "### Helper functions"
   ]
  },
  {
   "cell_type": "code",
   "execution_count": 3,
   "metadata": {},
   "outputs": [],
   "source": [
    "def get_species_indices(atoms,species):\n",
    "    indices = []\n",
    "    for element in species:\n",
    "        element_indices = atoms.symbols.search(element)\n",
    "        indices.extend(element_indices)\n",
    "    return sorted(indices)\n"
   ]
  },
  {
   "cell_type": "code",
   "execution_count": 4,
   "metadata": {},
   "outputs": [],
   "source": [
    "def create_active_hamiltonian(H_cutcoupled, S_cutcoupled, index_left_Au, index_right_Au,  index_active_region):\n",
    "    \"\"\"\n",
    "    Create the Hamiltonian H_active by retaining the left and right Au orbitals and\n",
    "    the active region couplings within the bridge.\n",
    "\n",
    "    Parameters:\n",
    "    H_cutcoupled (np.ndarray): The Hamiltonian matrix after cutting couplings.\n",
    "    index_active_region (list of int): Indices of the active orbitals within the bridge.\n",
    "\n",
    "    Returns:\n",
    "    np.ndarray: The Hamiltonian matrix H_active.\n",
    "    \"\"\"\n",
    "\n",
    "    # Create a list of indices to retain\n",
    "    indices_to_keep = index_left_Au + sorted(list(index_active_region)) + index_right_Au\n",
    "\n",
    "    # Create the H_active matrix by extracting the relevant rows and columns\n",
    "    H_active = H_cutcoupled[np.ix_(indices_to_keep, indices_to_keep)]\n",
    "    S_active = S_cutcoupled[np.ix_(indices_to_keep, indices_to_keep)]\n",
    "\n",
    "    return H_active[None,...], S_active[None,...]\n"
   ]
  },
  {
   "cell_type": "markdown",
   "metadata": {},
   "source": [
    "### Control parameters"
   ]
  },
  {
   "cell_type": "code",
   "execution_count": 5,
   "metadata": {},
   "outputs": [],
   "source": [
    "GPWDEVICEDIR = 'dft/device/'\n",
    "BRIDGE_SPECIES = (\"N\", \"C\", \"H\")\n",
    "GPWLEADSDIR = 'dft/leads/'"
   ]
  },
  {
   "cell_type": "code",
   "execution_count": 6,
   "metadata": {},
   "outputs": [
    {
     "name": "stdout",
     "output_type": "stream",
     "text": [
      "Condition number: 2.7e+04\n"
     ]
    }
   ],
   "source": [
    "lowdin = True\n",
    "cc_path = Path(GPWDEVICEDIR)\n",
    "pl_path = Path(GPWLEADSDIR)\n",
    "gpwfile = f'{cc_path}/scatt.gpw'\n",
    "\n",
    "atoms, calc = restart(gpwfile, txt=None)\n",
    "fermi = calc.get_fermi_level()\n",
    "nao_a = np.array([setup.nao for setup in calc.wfs.setups])\n",
    "basis = Basis(atoms, nao_a)\n",
    "\n",
    "lcao = LCAOwrap(calc)\n",
    "H_lcao = lcao.get_hamiltonian()\n",
    "S_lcao = lcao.get_overlap()\n",
    "H_lcao -= fermi * S_lcao\n"
   ]
  },
  {
   "cell_type": "code",
   "execution_count": 7,
   "metadata": {},
   "outputs": [],
   "source": [
    "cmap_name = 'custom_white_red'\n",
    "colors = [(1, 1, 1), (166/255, 4/255, 4/255)]\n",
    "n_bins = 100\n",
    "cm = LinearSegmentedColormap.from_list(cmap_name, colors, N=n_bins)\n",
    "norm = LogNorm(vmin=0.1, vmax=10)"
   ]
  },
  {
   "cell_type": "code",
   "execution_count": 8,
   "metadata": {},
   "outputs": [],
   "source": [
    "H_leads_lcao, S_leads_lcao = np.load(pl_path / 'hs_pl_k.npy')\n",
    "\n",
    "basis_dict = {'Au': 9, 'H': 5, 'C': 13, 'N': 13}\n",
    "\n",
    "leads_atoms = read(pl_path / 'leads.xyz')\n",
    "leads_basis = Basis.from_dictionary(leads_atoms, basis_dict)\n",
    "\n",
    "device_atoms = read(cc_path / 'scatt.xyz')\n",
    "device_basis = Basis.from_dictionary(device_atoms, basis_dict)\n",
    "\n",
    "cutoff = [1,1e-2,1e-4,1e-5,1e-6,1e-8,1e-10,1e-18,1e-40]\n",
    "\n",
    "# Define the number of repetitions (Nr) and unit cell repetition in the leads\n",
    "Nr = (1, 5, 3)"
   ]
  },
  {
   "cell_type": "markdown",
   "metadata": {},
   "source": [
    "### Nodes obtained from LCAO Hamiltonian (Hamiltonian obtained directly from gpaw)"
   ]
  },
  {
   "cell_type": "code",
   "execution_count": 9,
   "metadata": {},
   "outputs": [
    {
     "name": "stdout",
     "output_type": "stream",
     "text": [
      "[0, 810, 1116, 1219, 1260, 1566, 2376]\n",
      "[0, 810, 1116, 1219, 1260, 1566, 2376]\n",
      "[0, 810, 1116, 1219, 1260, 1566, 2376]\n",
      "[0, 810, 1116, 1219, 1260, 1566, 2376]\n",
      "[0, 810, 1116, 1219, 1260, 1566, 2376]\n",
      "[0, 810, 1116, 1219, 1260, 1566, 2376]\n",
      "[0, 810, 1116, 1219, 1260, 1566, 2376]\n",
      "[0, 810, 1116, 1219, 1260, 1566, 2376]\n",
      "[0, 810, 1116, 1219, 1260, 1566, 2376]\n"
     ]
    }
   ],
   "source": [
    "# Remove periodic boundary conditions (PBC) from the device Hamiltonian and overlap matrices\n",
    "remove_pbc(device_basis, H_lcao[None,...])\n",
    "remove_pbc(device_basis, S_lcao[None,...])\n",
    "\n",
    "\n",
    "for co in cutoff:\n",
    "    # Partition the device Hamiltonian matrix into tridiagonal nodes\n",
    "    nodes = graph_partition.get_tridiagonal_nodes(device_basis, H_lcao, len(leads_atoms.repeat(Nr)))\n",
    "\n",
    "    # Print the nodes to verify the partitioning\n",
    "    print(nodes)\n"
   ]
  },
  {
   "cell_type": "markdown",
   "metadata": {},
   "source": [
    "### Nodes obtained from Hamiltonian that Subdiagonalizes C, N and H"
   ]
  },
  {
   "cell_type": "code",
   "execution_count": 10,
   "metadata": {},
   "outputs": [
    {
     "name": "stdout",
     "output_type": "stream",
     "text": [
      "[0, 810, 1116, 1260, 1566, 2376]\n",
      "[0, 810, 1116, 1260, 1566, 2376]\n",
      "[0, 810, 1116, 1260, 1566, 2376]\n",
      "[0, 810, 1116, 1260, 1566, 2376]\n",
      "[0, 810, 1116, 1260, 1566, 2376]\n",
      "[0, 810, 1116, 1260, 1566, 2376]\n",
      "[0, 810, 1116, 1260, 1566, 2376]\n",
      "[0, 810, 1116, 1260, 1566, 2376]\n",
      "[0, 810, 1116, 1260, 1566, 2376]\n"
     ]
    }
   ],
   "source": [
    "# Perform subdiagonalization\n",
    "SUBDIAG_SPECIES = (\"C\", \"N\", \"H\")\n",
    "subdiag_indices = get_species_indices(atoms, SUBDIAG_SPECIES)\n",
    "Usub, eig = subdiagonalize_atoms(basis, H_lcao, S_lcao, a=subdiag_indices)\n",
    "\n",
    "# Rotate matrices\n",
    "H_sub = rotate_matrix(H_lcao, Usub)[None, ...]\n",
    "S_sub = rotate_matrix(S_lcao, Usub)[None, ...]\n",
    "\n",
    "# Define the number of repetitions (Nr) and unit cell repetition in the leads\n",
    "Nr = (1, 5, 3)\n",
    "\n",
    "# Remove periodic boundary conditions (PBC) from the device Hamiltonian and overlap matrices\n",
    "remove_pbc(device_basis, H_sub)\n",
    "remove_pbc(device_basis, S_sub)\n",
    "\n",
    "for co in cutoff:\n",
    "    # Partition the device Hamiltonian matrix into tridiagonal nodes\n",
    "    nodes = graph_partition.get_tridiagonal_nodes(device_basis, H_sub[0], len(leads_atoms.repeat(Nr)))\n",
    "\n",
    "    print(nodes)\n"
   ]
  },
  {
   "cell_type": "markdown",
   "metadata": {},
   "source": [
    "### Nodes obtained from Hamiltonian that Subdiagonalizes only C"
   ]
  },
  {
   "cell_type": "code",
   "execution_count": 11,
   "metadata": {},
   "outputs": [
    {
     "name": "stdout",
     "output_type": "stream",
     "text": [
      "[0, 2376]\n",
      "[0, 810, 1107, 1175, 1237, 1269, 1566, 2376]\n",
      "[0, 810, 1116, 1219, 1260, 1566, 2376]\n",
      "[0, 810, 1116, 1260, 1566, 2376]\n",
      "[0, 810, 1116, 1260, 1566, 2376]\n",
      "[0, 810, 1121, 1260, 1566, 2376]\n",
      "[0, 810, 1157, 1260, 1566, 2376]\n",
      "[0, 810, 1157, 1219, 1566, 2376]\n",
      "[0, 810, 1157, 1219, 1566, 2376]\n"
     ]
    }
   ],
   "source": [
    "# Perform subdiagonalization\n",
    "SUBDIAG_SPECIES = (\"C\")\n",
    "subdiag_indices = get_species_indices(atoms, SUBDIAG_SPECIES)\n",
    "Usub, eig = subdiagonalize_atoms(basis, H_lcao, S_lcao, a=subdiag_indices)\n",
    "\n",
    "# Rotate matrices\n",
    "H_sub = rotate_matrix(H_lcao, Usub)[None, ...]\n",
    "S_sub = rotate_matrix(S_lcao, Usub)[None, ...]\n",
    "\n",
    "# Define the number of repetitions (Nr) and unit cell repetition in the leads\n",
    "Nr = (1, 5, 3)\n",
    "\n",
    "# Remove periodic boundary conditions (PBC) from the device Hamiltonian and overlap matrices\n",
    "remove_pbc(device_basis, H_sub)\n",
    "remove_pbc(device_basis, S_sub)\n",
    "\n",
    "for co in cutoff:\n",
    "    # Partition the device Hamiltonian matrix into tridiagonal nodes\n",
    "    nodes = graph_partition.get_tridiagonal_nodes(device_basis, H_sub[0], len(leads_atoms.repeat(Nr)),cutoff=co)\n",
    "\n",
    "    # Print the nodes to verify the partitioning\n",
    "    print(nodes)\n"
   ]
  },
  {
   "cell_type": "markdown",
   "metadata": {},
   "source": [
    "### Nodes obtained from Hamiltonian that Subdiagonalizes only H"
   ]
  },
  {
   "cell_type": "code",
   "execution_count": 12,
   "metadata": {},
   "outputs": [
    {
     "name": "stdout",
     "output_type": "stream",
     "text": [
      "[0, 810, 1116, 1260, 1566, 2376]\n",
      "[0, 810, 1116, 1260, 1566, 2376]\n",
      "[0, 810, 1121, 1260, 1566, 2376]\n",
      "[0, 810, 1121, 1260, 1566, 2376]\n",
      "[0, 810, 1157, 1232, 1566, 2376]\n",
      "[0, 810, 1157, 1219, 1566, 2376]\n"
     ]
    }
   ],
   "source": [
    "# Perform subdiagonalization\n",
    "SUBDIAG_SPECIES = (\"H\")\n",
    "subdiag_indices = get_species_indices(atoms, SUBDIAG_SPECIES)\n",
    "Usub, eig = subdiagonalize_atoms(basis, H_lcao, S_lcao, a=subdiag_indices)\n",
    "\n",
    "# Rotate matrices\n",
    "H_sub = rotate_matrix(H_lcao, Usub)[None, ...]\n",
    "S_sub = rotate_matrix(S_lcao, Usub)[None, ...]\n",
    "\n",
    "# Define the number of repetitions (Nr) and unit cell repetition in the leads\n",
    "Nr = (1, 5, 3)\n",
    "\n",
    "# Remove periodic boundary conditions (PBC) from the device Hamiltonian and overlap matrices\n",
    "remove_pbc(device_basis, H_sub)\n",
    "remove_pbc(device_basis, S_sub)\n",
    "\n",
    "cutoff = [1e-4,1e-5,1e-6,1e-8,1e-10,1e-18]\n",
    "for co in cutoff:\n",
    "    # Partition the device Hamiltonian matrix into tridiagonal nodes\n",
    "    nodes = graph_partition.get_tridiagonal_nodes(device_basis, H_sub[0], len(leads_atoms.repeat(Nr)),cutoff=co)\n",
    "\n",
    "    # Print the nodes to verify the partitioning\n",
    "    print(nodes)\n"
   ]
  },
  {
   "cell_type": "markdown",
   "metadata": {},
   "source": [
    "### Nodes obtained from Hamiltonian that Subdiagonalizes only N"
   ]
  },
  {
   "cell_type": "code",
   "execution_count": 13,
   "metadata": {},
   "outputs": [
    {
     "name": "stdout",
     "output_type": "stream",
     "text": [
      "[0, 810, 1116, 1219, 1260, 1566, 2376]\n",
      "[0, 810, 1116, 1260, 1566, 2376]\n",
      "[0, 810, 1116, 1260, 1566, 2376]\n",
      "[0, 810, 1121, 1260, 1566, 2376]\n",
      "[0, 810, 1157, 1260, 1566, 2376]\n",
      "[0, 810, 1157, 1219, 1566, 2376]\n"
     ]
    }
   ],
   "source": [
    "# Perform subdiagonalization\n",
    "SUBDIAG_SPECIES = (\"N\")\n",
    "subdiag_indices = get_species_indices(atoms, SUBDIAG_SPECIES)\n",
    "Usub, eig = subdiagonalize_atoms(basis, H_lcao, S_lcao, a=subdiag_indices)\n",
    "\n",
    "# Rotate matrices\n",
    "H_sub = rotate_matrix(H_lcao, Usub)[None, ...]\n",
    "S_sub = rotate_matrix(S_lcao, Usub)[None, ...]\n",
    "\n",
    "# Define the number of repetitions (Nr) and unit cell repetition in the leads\n",
    "Nr = (1, 5, 3)\n",
    "\n",
    "# Remove periodic boundary conditions (PBC) from the device Hamiltonian and overlap matrices\n",
    "remove_pbc(device_basis, H_sub)\n",
    "remove_pbc(device_basis, S_sub)\n",
    "\n",
    "\n",
    "for co in cutoff:\n",
    "    # Partition the device Hamiltonian matrix into tridiagonal nodes\n",
    "    nodes = graph_partition.get_tridiagonal_nodes(device_basis, H_sub[0], len(leads_atoms.repeat(Nr)),cutoff=co)\n",
    "\n",
    "    # Print the nodes to verify the partitioning\n",
    "    print(nodes)\n"
   ]
  },
  {
   "attachments": {
    "image.png": {
     "image/png": "[encoded data removed]"
    }
   },
   "cell_type": "markdown",
   "metadata": {},
   "source": [
    "### Conclusion\n",
    "- The nodes list computed by `graph_partition.get_tridiagonal_nodes` depends on which Hamiltonian is passed into the function. The nodes computed using the Hamiltonian where C, N and H are subdiagonalized is different from that computed using LCAO Hamiltonian or the Hamiltonian where only C is subdiagonalized.\n",
    "Playing with the cutoff parameter helps in some cases but no value of cutoff produced the right nodes when the function is applied on the lcao Hamiltonian.\n",
    "### Analysis\n",
    "- When nodes are computed using Hamiltonian subdiagonalized by C, N and H\n",
    "\n",
    "Nodes = [0, 810, 1116, 1260, 1566, 2376]\n",
    "\n",
    "Total orbitals of Au = 2232\n",
    "\n",
    "Total orbitals of Au_left = Total orbitals of Au_right = 1116\n",
    "\n",
    "Since 1116 - 0 = 2376 - 1260 = 1116 these two values likely pick out the Au orbitals of the left and right leads.\n",
    "\n",
    "The other values in the nodes list are 810 and 1566. These correspond to the orbitals of the Au atoms that are not included in the Au tip.\n",
    "\n",
    "The total number of orbitals from C,N and H = 1260-1116 = 144\n",
    "\n",
    "Therefore, \n",
    "\n",
    "0 to 810 = Au left lead orbitals not in tip\n",
    "\n",
    "810 to 1116 = Au orbitals left tip\n",
    "\n",
    "1116 to 1260 = C, N, H orbitals\n",
    "\n",
    "1260 to 1566 = Au orbitals right tip\n",
    "\n",
    "1566 to 2376 = Au right lead orbitals not in tip\n",
    "\n",
    "This is the set of nodes that consistently gives us the right T(E) in the transmission function tests provided in the transmission_question.ipynb notebook\n",
    "\n",
    "- When nodes are computed using Hamiltonian subdiagonalized by only C or directly from the LCAO Hamiltonian\n",
    "\n",
    "Nodes = [0, 810, 1116, 1219, 1260, 1566, 2376]. \n",
    "\n",
    "We see the appearance of an additional 1219 in the nodes list\n",
    "\n",
    "Total C orbitals = 78\n",
    "\n",
    "Total N orbitals = 26\n",
    "\n",
    "Total H orbitals = 40\n",
    "\n",
    "1219 - 1116 = 103 \n",
    "\n",
    "1260 - 1219 = 41\n",
    "\n",
    "Indices 1116 to 1219 picks out the orbitals of the bridge molecule from atom 124 to atom 134 in the figure below while 1219 to 1260 picks out atoms 135 to 139. Therefore, node 1219 seems to divide the Hamiltonian of the bridge molecule in a strange way. \n",
    "\n",
    "![image.png](attachment:image.png)\n",
    "\n"
   ]
  },
  {
   "cell_type": "markdown",
   "metadata": {},
   "source": [
    "### Questions\n",
    "\n",
    "- Can you explain what the `graph_partition.get_tridiagonal_nodes` is supposed to do?\n",
    "    - Is it right to conclude that the `graph_partition.get_tridiagonal_nodes` is meant to pick out chunks of the Hamiltonian that correspond to left lead, bridge and right lead? \n",
    "    - If so, has it been your experience (or do you assume) that `graph_partition.get_tridiagonal_nodes` is only meant to work correctly if all the elements in the bridge are subdiagonalized?"
   ]
  },
  {
   "cell_type": "markdown",
   "metadata": {},
   "source": [
    "### Smaller active Hamiltonian nodes"
   ]
  },
  {
   "cell_type": "markdown",
   "metadata": {},
   "source": [
    "We move ahead with the assumption that in order to obtain the transmission function, regardless of the type of Hamiltonian (subdiagonalized, atoms being subdiagonalized etc), the nodes have to be list that divide the Hamiltonian into [0,lead_left orbitals,left_tip orbitals,bridge orbitals,right_tip orbitals,right_lead orbitals,].\n",
    "\n",
    "The computation in all the previous cell had the same size as the lcao Hamiltonian regardless of the postprocessing done to it. However, if we try to reduce the size of the Hamiltonian after the cutcoupling procedure to extract only the active Hamiltonian, the nodes computed using the LCAO Hamiltonian would no longer be valid. \n",
    "\n",
    "Consider an active space Hamiltonian that includes all LCAO orbital of Au and N and the subdiagonalized C 2pz orbitals. Let us compute by hand what the right nodes should be in this case. Since the Au is unchanged, the left leads region of the nodes should be [0,810,1116]. In the molecule, we have 2x13 orbitals of N and 6x1 orbitals of C 2pz. Therefore the next node = 1116+26+6 = 1148. The right tip and lead will be 1148+(1116-810)=1454 and 1454+(810-0)=2264 since the lead orbitals are symmetric about the molecule. Hence nodes = [0, 810, 1116, 1148, 1454, 2264]\n",
    "\n",
    "The code below shows how variables need to be changed in order to get the right nodes."
   ]
  },
  {
   "cell_type": "code",
   "execution_count": 14,
   "metadata": {},
   "outputs": [
    {
     "name": "stdout",
     "output_type": "stream",
     "text": [
      "[0, 810, 1116, 1148, 1454, 2264]\n",
      "[0, 810, 1116, 1148, 1454, 2264]\n",
      "[0, 810, 1116, 1148, 1454, 2264]\n",
      "[0, 810, 1116, 1148, 1454, 2264]\n",
      "[0, 810, 1129, 1135, 1454, 2264]\n",
      "[0, 810, 1129, 1134, 1454, 2264]\n"
     ]
    }
   ],
   "source": [
    "from ase import Atoms\n",
    "\n",
    "# Define species for subdiagonalization and get their indices in the atom basis\n",
    "SUBDIAG_SPECIES = (\"C\")\n",
    "subdiag_indices = get_species_indices(atoms, SUBDIAG_SPECIES)\n",
    "\n",
    "# Extract the basis for the subdiagonalized region and get their indices\n",
    "basis_subdiag_region = basis[subdiag_indices]\n",
    "index_subdiag_region = basis_subdiag_region.get_indices()\n",
    "\n",
    "# Define the active region within the subdiagonalized species\n",
    "active = {'C': 3}\n",
    "extract_active_region = basis_subdiag_region.extract().take(active)\n",
    "index_active_region = index_subdiag_region[extract_active_region]\n",
    "\n",
    "# Add N orbitals to the active space\n",
    "N_indices = get_species_indices(atoms, (\"N\"))\n",
    "basis_N_region = basis[N_indices]\n",
    "index_N_region = basis_N_region.get_indices()\n",
    "\n",
    "relevant_index = list(index_active_region) + list(index_N_region)\n",
    "\n",
    "# Determine the indices of the inactive region (outside the active set)\n",
    "active_set = set(index_active_region)\n",
    "index_inactive_region = [idx for idx in index_subdiag_region if idx not in active_set]\n",
    "index_inactive_region = list(index_inactive_region)\n",
    "\n",
    "nodes = [0, 810, 1116, 1260, 1566, 2376]\n",
    "index_left_Au = list(range(nodes[0], nodes[2]))  # From 0 to end of left Au region\n",
    "index_right_Au = list(range(nodes[3], nodes[-1]))  # From start of right Au region to the end\n",
    "\n",
    "# Perform subdiagonalization on the Hamiltonian and overlap matrices\n",
    "Usub, eig = subdiagonalize_atoms(basis, H_lcao, S_lcao, a=subdiag_indices)\n",
    "\n",
    "# Rotate the matrices using the subdiagonalization matrix\n",
    "H_subdiagonal = rotate_matrix(H_lcao, Usub)[None, ...]\n",
    "S_subdiagonal = rotate_matrix(S_lcao, Usub)[None, ...]\n",
    "\n",
    "# Create deep copies of the subdiagonalized matrices for further modification\n",
    "\n",
    "H_cutcoupled = deepcopy(H_subdiagonal)\n",
    "S_cutcoupled = deepcopy(S_subdiagonal)\n",
    "\n",
    "\n",
    "# Cut the couplings in the inactive region\n",
    "cutcoupling(H_cutcoupled[0], S_cutcoupled[0], index_inactive_region)\n",
    "\n",
    "H_active, S_active = create_active_hamiltonian(H_cutcoupled[0], S_cutcoupled[0], index_left_Au, index_right_Au, relevant_index)\n",
    "\n",
    "non_h_atoms = [atom for atom in device_atoms if atom.symbol != 'H']\n",
    "\n",
    "device_atoms_no_H = Atoms(symbols=[atom.symbol for atom in non_h_atoms],\n",
    "                          positions=[atom.position for atom in non_h_atoms],\n",
    "                          pbc=device_atoms.get_pbc(),\n",
    "                          cell=device_atoms.get_cell())\n",
    "\n",
    "reduced_basis_dict = {\"Au\":9,\"C\":1,\"N\":13}\n",
    "device_basis_no_H = Basis.from_dictionary(device_atoms_no_H, reduced_basis_dict)\n",
    "\n",
    "for co in cutoff:\n",
    "    # Partition the device Hamiltonian matrix into tridiagonal nodes\n",
    "    nodes = graph_partition.get_tridiagonal_nodes(device_basis_no_H, H_active[0], len(leads_atoms.repeat(Nr)),cutoff=co)\n",
    "\n",
    "    # Print the nodes to verify the partitioning\n",
    "    print(nodes)"
   ]
  }
 ],
 "metadata": {
  "kernelspec": {
   "display_name": "CSCS Python",
   "language": "python",
   "name": "cscs"
  },
  "language_info": {
   "codemirror_mode": {
    "name": "ipython",
    "version": 3
   },
   "file_extension": ".py",
   "mimetype": "text/x-python",
   "name": "python",
   "nbconvert_exporter": "python",
   "pygments_lexer": "ipython3",
   "version": "3.9.4"
  }
 },
 "nbformat": 4,
 "nbformat_minor": 4
}
