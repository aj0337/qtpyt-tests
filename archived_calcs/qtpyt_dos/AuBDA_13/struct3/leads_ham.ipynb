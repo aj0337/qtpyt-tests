{
 "cells": [
  {
   "cell_type": "code",
   "execution_count": 11,
   "id": "927135d1-5376-48d6-89cc-d7c7dbfac2c0",
   "metadata": {},
   "outputs": [],
   "source": [
    "import numpy as np\n",
    "from ase.io import read\n",
    "from ase.units import Hartree\n",
    "from gpaw import *\n",
    "from gpaw.lcao.tools import get_lcao_hamiltonian,get_lead_lcao_hamiltonian\n",
    "from gpaw.mpi import rank, MASTER\n",
    "import pickle"
   ]
  },
  {
   "cell_type": "code",
   "execution_count": 7,
   "id": "d594162a-5c4d-4f37-8142-d9b9ce7c0804",
   "metadata": {},
   "outputs": [],
   "source": [
    "atoms = read('dft/leads_bulk/leads.traj')\n",
    "basis = 'dzp'\n",
    "\n",
    "calc = GPAW(h=0.2,\n",
    "            xc='PBE',\n",
    "            basis='szp(dzp)',\n",
    "            occupations=FermiDirac(width=0.1),\n",
    "            kpts={\n",
    "                'size': (5, 1, 1),\n",
    "                'gamma': True\n",
    "            },\n",
    "            mode='lcao',\n",
    "            txt='leads.txt',\n",
    "            mixer=Mixer(0.1, 5, weight=100.0),\n",
    "            symmetry={\n",
    "                'point_group': False,\n",
    "                'time_reversal': True\n",
    "            })\n",
    "\n"
   ]
  },
  {
   "cell_type": "code",
   "execution_count": 8,
   "id": "c1c5bdc7-7964-4d52-ac74-54dd8b19424c",
   "metadata": {},
   "outputs": [],
   "source": [
    "atoms.set_calculator(calc)\n",
    "atoms.get_potential_energy()\n",
    "calc.write('leads.gpw', mode='all')\n",
    "\n",
    "fermi = calc.get_fermi_level()\n",
    "print(fermi, file=open('fermi_leads.txt', 'w'))"
   ]
  },
  {
   "cell_type": "code",
   "execution_count": 9,
   "id": "234d3ace-a883-4034-8cfb-a4c49cd21178",
   "metadata": {},
   "outputs": [],
   "source": [
    "H_skMM, S_kMM = get_lcao_hamiltonian(calc)"
   ]
  },
  {
   "cell_type": "code",
   "execution_count": 13,
   "id": "f0bbbb49-a8f3-441e-abe0-6fe1348551b0",
   "metadata": {},
   "outputs": [
    {
     "ename": "ValueError",
     "evalue": "too many values to unpack (expected 3)",
     "output_type": "error",
     "traceback": [
      "\u001b[0;31m---------------------------------------------------------------------------\u001b[0m",
      "\u001b[0;31mValueError\u001b[0m                                Traceback (most recent call last)",
      "Cell \u001b[0;32mIn[13], line 1\u001b[0m\n\u001b[0;32m----> 1\u001b[0m _,_H_skMM_leads, S_kMM_leads \u001b[38;5;241m=\u001b[39m get_lead_lcao_hamiltonian(calc)\n",
      "\u001b[0;31mValueError\u001b[0m: too many values to unpack (expected 3)"
     ]
    }
   ],
   "source": [
    "_,_H_skMM_leads, S_kMM_leads = get_lead_lcao_hamiltonian(calc)"
   ]
  },
  {
   "cell_type": "code",
   "execution_count": null,
   "id": "9f7df0b7-82e3-492d-84b2-90366740e939",
   "metadata": {},
   "outputs": [],
   "source": [
    "print("
   ]
  }
 ],
 "metadata": {
  "kernelspec": {
   "display_name": "CSCS Python",
   "language": "python",
   "name": "cscs"
  },
  "language_info": {
   "codemirror_mode": {
    "name": "ipython",
    "version": 3
   },
   "file_extension": ".py",
   "mimetype": "text/x-python",
   "name": "python",
   "nbconvert_exporter": "python",
   "pygments_lexer": "ipython3",
   "version": "3.9.4"
  }
 },
 "nbformat": 4,
 "nbformat_minor": 5
}
