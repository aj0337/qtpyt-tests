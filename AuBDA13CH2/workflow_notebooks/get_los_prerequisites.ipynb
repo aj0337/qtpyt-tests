{
 "cells": [
  {
   "cell_type": "code",
   "execution_count": null,
   "metadata": {},
   "outputs": [],
   "source": [
    "from __future__ import annotations\n",
    "import os\n",
    "from pathlib import Path\n",
    "import numpy as np\n",
    "from gpaw import restart\n",
    "from gpaw.lcao.pwf2 import LCAOwrap\n",
    "from qtpyt.basis import Basis\n",
    "from qtpyt.lo.tools import rotate_matrix, subdiagonalize_atoms, lowdin_rotation\n",
    "from qtpyt.basis import Basis"
   ]
  },
  {
   "cell_type": "code",
   "execution_count": null,
   "metadata": {},
   "outputs": [],
   "source": [
    "# Getting localized orbitals and other prerequisites calculation (runs serially)\n",
    "\n",
    "def get_species_indices(atoms,species):\n",
    "    indices = []\n",
    "    for element in species:\n",
    "        element_indices = atoms.symbols.search(element)\n",
    "        indices.extend(element_indices)\n",
    "    return sorted(indices)"
   ]
  },
  {
   "cell_type": "code",
   "execution_count": null,
   "metadata": {},
   "outputs": [],
   "source": [
    "data_folder = '../output/compute_run'\n",
    "# Create the folder if it doesn't exist\n",
    "if not os.path.exists(data_folder):\n",
    "    os.makedirs(data_folder)\n",
    "\n",
    "GPWDEVICEDIR = '../dft/device/'\n",
    "GPWLEADSDIR = '../dft/leads/'\n",
    "SUBDIAG_SPECIES = (\"C\", \"N\", \"H\")\n",
    "# Define the active region within the subdiagonalized species\n",
    "active = {'C': [3],'N': [3]}\n",
    "lowdin = True\n",
    "\n",
    "cc_path = Path(GPWDEVICEDIR)\n",
    "pl_path = Path(GPWLEADSDIR)\n",
    "gpwfile = f'{cc_path}/scatt.gpw'"
   ]
  },
  {
   "cell_type": "code",
   "execution_count": null,
   "metadata": {},
   "outputs": [],
   "source": [
    "atoms, calc = restart(gpwfile, txt=None)\n",
    "fermi = calc.get_fermi_level()\n",
    "nao_a = np.array([setup.nao for setup in calc.wfs.setups])\n",
    "basis = Basis(atoms, nao_a)\n",
    "\n",
    "lcao = LCAOwrap(calc)\n",
    "H_lcao = lcao.get_hamiltonian()\n",
    "S_lcao = lcao.get_overlap()\n",
    "H_lcao -= fermi * S_lcao"
   ]
  },
  {
   "cell_type": "code",
   "execution_count": null,
   "metadata": {},
   "outputs": [],
   "source": [
    "subdiag_indices = get_species_indices(atoms, SUBDIAG_SPECIES)\n",
    "\n",
    "basis_subdiag_region = basis[subdiag_indices]\n",
    "index_subdiag_region = basis_subdiag_region.get_indices()\n",
    "\n",
    "extract_active_region = basis_subdiag_region.extract().take(active)\n",
    "index_active_region = index_subdiag_region[extract_active_region]\n",
    "\n",
    "np.save(f\"{data_folder}/index_active_region.npy\",index_active_region)\n"
   ]
  },
  {
   "cell_type": "code",
   "execution_count": null,
   "metadata": {},
   "outputs": [],
   "source": [
    "# Perform subdiagonalization\n",
    "Usub, eig = subdiagonalize_atoms(basis, H_lcao, S_lcao, a=subdiag_indices)\n",
    "H_subdiagonalized = rotate_matrix(H_lcao, Usub)\n",
    "S_subdiagonalized = rotate_matrix(S_lcao, Usub)\n",
    "\n",
    "if lowdin:\n",
    "    Ulow = lowdin_rotation(H_subdiagonalized, S_subdiagonalized, index_active_region)\n",
    "\n",
    "    H_subdiagonalized = rotate_matrix(H_subdiagonalized, Ulow)\n",
    "    S_subdiagonalized = rotate_matrix(S_subdiagonalized, Ulow)\n",
    "\n",
    "# Rotate matrices\n",
    "H_subdiagonalized = H_subdiagonalized[None, ...]\n",
    "S_subdiagonalized = S_subdiagonalized[None, ...]\n",
    "\n",
    "np.save(f\"{data_folder}/hs_los_lowdin.npy\", (H_subdiagonalized,S_subdiagonalized))\n"
   ]
  }
 ],
 "metadata": {
  "language_info": {
   "name": "python"
  }
 },
 "nbformat": 4,
 "nbformat_minor": 2
}
