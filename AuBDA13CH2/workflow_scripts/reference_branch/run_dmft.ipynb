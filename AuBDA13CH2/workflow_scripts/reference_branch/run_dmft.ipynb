{
 "cells": [
  {
   "cell_type": "code",
   "execution_count": 1,
   "metadata": {},
   "outputs": [
    {
     "name": "stderr",
     "output_type": "stream",
     "text": [
      "OMP: Info #276: omp_set_nested routine deprecated, please use omp_set_max_active_levels instead.\n"
     ]
    }
   ],
   "source": [
    "from __future__ import annotations\n",
    "\n",
    "import os\n",
    "import sys\n",
    "\n",
    "import numpy as np\n",
    "from edpyt.dmft import DMFT, Converged, Gfimp\n",
    "from edpyt.nano_dmft import Gfimp as nanoGfimp\n",
    "from edpyt.nano_dmft import Gfloc\n",
    "from qtpyt.base.selfenergy import DataSelfEnergy as BaseDataSelfEnergy\n",
    "from qtpyt.projector import expand\n",
    "from scipy.optimize import root"
   ]
  },
  {
   "cell_type": "code",
   "execution_count": 2,
   "metadata": {},
   "outputs": [],
   "source": [
    "class DataSelfEnergy(BaseDataSelfEnergy):\n",
    "    \"\"\"Wrapper\"\"\"\n",
    "\n",
    "    def retarded(self, energy):\n",
    "        return expand(S_molecule, super().retarded(energy), idx_molecule)\n",
    "\n",
    "\n",
    "def load(filename):\n",
    "    return DataSelfEnergy(energies, np.load(filename))\n",
    "\n",
    "\n",
    "def distance(delta):\n",
    "    global delta_prev\n",
    "    delta_prev[:] = delta\n",
    "    return dmft.distance(delta)\n",
    "\n",
    "\n",
    "def save_sigma(sigma_diag, outputfile, npsin):\n",
    "    L, ne = sigma_diag.shape\n",
    "    sigma = np.zeros((ne, L, L), complex)\n",
    "\n",
    "    def save(spin):\n",
    "        for diag, mat in zip(sigma_diag.T, sigma):\n",
    "            mat.flat[:: (L + 1)] = diag\n",
    "        np.save(outputfile, sigma)\n",
    "\n",
    "    for spin in range(nspin):\n",
    "        save(spin)\n"
   ]
  },
  {
   "cell_type": "code",
   "execution_count": 3,
   "metadata": {},
   "outputs": [],
   "source": [
    "nbaths = 4\n",
    "U = 4\n",
    "adjust_mu = True\n",
    "use_double_counting = True\n",
    "\n",
    "tol = 1e-4\n",
    "max_iter = 1000\n",
    "alpha = 0.0\n",
    "nspin = 1\n",
    "eta = 3e-2\n",
    "data_folder = \"../../output/compute_run\"\n",
    "\n",
    "occupancy_goal = np.load(f\"{data_folder}/occupancies.npy\")\n",
    "len_active = 9\n",
    "energies = np.arange(-10, 10, 0.01)\n",
    "z_ret = energies + 1.0j * eta\n",
    "\n",
    "H_active = np.load(f\"{data_folder}/hamiltonian.npy\").real\n",
    "index_active_region = np.load(f\"{data_folder}/index_active_region.npy\")\n",
    "beta = 70\n",
    "ne = 3000\n",
    "z_mats = 1.0j * (2 * np.arange(ne) + 1) * np.pi / beta\n",
    "\n",
    "HybMats = lambda z: 0.0\n",
    "S_active = np.eye(len_active)\n",
    "idx_neq = np.arange(len_active)\n",
    "idx_inv = np.arange(len_active)\n",
    "\n",
    "V = np.eye(len_active) * U\n",
    "\n",
    "# Apply double counting correction if specified\n",
    "double_counting = (\n",
    "    np.diag(V.diagonal() * (occupancy_goal - 0.5))\n",
    "    if use_double_counting\n",
    "    else np.zeros((len_active, len_active))\n",
    ")\n",
    "gfloc = Gfloc(\n",
    "    H_active - double_counting, np.eye(len_active), HybMats, idx_neq, idx_inv\n",
    ")\n",
    "\n",
    "nimp = gfloc.idx_neq.size\n",
    "gfimp = [Gfimp(nbaths, z_mats.size, V[i, i], beta) for i in range(nimp)]\n",
    "gfimp = nanoGfimp(gfimp)\n",
    "\n",
    "occupancy_goal_ = occupancy_goal[gfloc.idx_neq]"
   ]
  },
  {
   "cell_type": "code",
   "execution_count": null,
   "metadata": {},
   "outputs": [
    {
     "name": "stdout",
     "output_type": "stream",
     "text": [
      "Iteration :  0\n",
      "Occupation : 11.70173 Chemical potential : -0.83401 Error : 167.68506 Relative Error : 1.48055\n",
      "Iteration :  1\n",
      "Occupation : 11.70173 Chemical potential : -1.01745 Error : 111.95189 Relative Error : 1.05374\n",
      "Iteration :  2\n",
      "Occupation : 11.70173 Chemical potential : -1.01155 Error : 74.61581 Relative Error : 0.63563\n"
     ]
    }
   ],
   "source": [
    "# Initialize DMFT with adjust_mu parameter\n",
    "dmft = DMFT(\n",
    "    gfimp,\n",
    "    gfloc,\n",
    "    occupancy_goal_,\n",
    "    max_iter=max_iter,\n",
    "    tol=tol,\n",
    "    adjust_mu=adjust_mu,\n",
    "    alpha=alpha,\n",
    ")\n",
    "\n",
    "Sigma = lambda z: np.zeros((nimp, z.size), complex)\n",
    "delta = dmft.initialize(V.diagonal().mean(), Sigma, mu=0)\n",
    "delta_prev = delta.copy()\n",
    "\n",
    "try:\n",
    "    root(distance, delta_prev, method=\"broyden1\")\n",
    "except Converged:\n",
    "    pass\n",
    "\n"
   ]
  },
  {
   "cell_type": "code",
   "execution_count": null,
   "metadata": {},
   "outputs": [],
   "source": [
    "\n",
    "_Sigma = (\n",
    "    lambda z: -double_counting.diagonal()[:, None]\n",
    "    - gfloc.mu\n",
    "    + gfloc.Sigma(z)[idx_inv]\n",
    ")\n",
    "dmft_sigma_file = f\"dmft_sigma.npy\"\n",
    "save_sigma(_Sigma(z_ret), dmft_sigma_file, nspin)\n",
    "\n",
    "gfloc_data = gfloc(z_ret)\n",
    "np.save(f\"dmft_gfloc.npy\", gfloc_data)"
   ]
  },
  {
   "cell_type": "code",
   "execution_count": null,
   "metadata": {},
   "outputs": [],
   "source": []
  }
 ],
 "metadata": {
  "kernelspec": {
   "display_name": "CSCS Python",
   "language": "python",
   "name": "cscs"
  },
  "language_info": {
   "codemirror_mode": {
    "name": "ipython",
    "version": 3
   },
   "file_extension": ".py",
   "mimetype": "text/x-python",
   "name": "python",
   "nbconvert_exporter": "python",
   "pygments_lexer": "ipython3",
   "version": "3.9.4"
  }
 },
 "nbformat": 4,
 "nbformat_minor": 4
}
