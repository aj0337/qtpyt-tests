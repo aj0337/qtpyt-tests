{
 "cells": [
  {
   "cell_type": "code",
   "execution_count": 1,
   "metadata": {},
   "outputs": [
    {
     "name": "stderr",
     "output_type": "stream",
     "text": [
      "[anooja-ThinkPad-X1-Carbon-Gen-11:40358] mca_base_component_repository_open: unable to open mca_btl_openib: librdmacm.so.1: cannot open shared object file: No such file or directory (ignored)\n"
     ]
    }
   ],
   "source": [
    "import os\n",
    "import pickle\n",
    "from pathlib import Path\n",
    "\n",
    "import numpy as np\n",
    "from ase.io import read\n",
    "from qtpyt.base.greenfunction import GreenFunction\n",
    "from qtpyt.base.selfenergy import DataSelfEnergy as BaseDataSelfEnergy\n",
    "from qtpyt.basis import Basis\n",
    "from qtpyt.projector import expand\n",
    "from qtpyt.surface.principallayer import PrincipalSelfEnergy\n",
    "from qtpyt.surface.tools import prepare_leads_matrices\n",
    "from qtpyt.tools import expand_coupling, remove_pbc, rotate_couplings\n"
   ]
  },
  {
   "cell_type": "code",
   "execution_count": 2,
   "metadata": {},
   "outputs": [],
   "source": [
    "class DataSelfEnergy(BaseDataSelfEnergy):\n",
    "    \"\"\"Wrapper\"\"\"\n",
    "\n",
    "    def retarded(self, energy):\n",
    "        # return expand(S_molecule_identity, super().retarded(energy), index_active_region)\n",
    "        return expand(S_molecule_identity, A, index_active_region)\n",
    "\n",
    "\n",
    "def load(filename):\n",
    "    return DataSelfEnergy(energies, np.load(filename))"
   ]
  },
  {
   "cell_type": "code",
   "execution_count": 3,
   "metadata": {},
   "outputs": [],
   "source": [
    "pl_path = Path(\"../dft/leads/\")\n",
    "cc_path = Path(\"../dft/device/\")\n",
    "output_folder = \"../output/lowdin/ferretti\"\n",
    "os.makedirs(output_folder, exist_ok=True)\n",
    "\n",
    "data_folder = \"../output/lowdin\"\n",
    "dmft_data_folder = \"../output/lowdin/beta_38.68/dmft/no_spin\"\n",
    "index_active_region = np.load(f\"{data_folder}/index_active_region.npy\")\n",
    "self_energy = np.load(f\"{data_folder}/self_energy.npy\", allow_pickle=True)\n",
    "dmft_sigma_file = f\"{dmft_data_folder}/dmft_sigma.npy\"\n"
   ]
  },
  {
   "cell_type": "code",
   "execution_count": 4,
   "metadata": {},
   "outputs": [],
   "source": [
    "H_leads_lcao, S_leads_lcao = np.load(pl_path / \"hs_pl_k.npy\")\n",
    "H_subdiagonalized, S_subdiagonalized = map(\n",
    "    lambda m: m.astype(complex), np.load(cc_path / \"hs_cc_k.npy\")\n",
    ")\n",
    "\n",
    "with open(f\"{data_folder}/hs_list_ii.pkl\", \"rb\") as f:\n",
    "    hs_list_ii = pickle.load(f)\n",
    "\n",
    "basis_dict = {\"Au\": 9, \"H\": 5, \"C\": 13, \"N\": 13}\n",
    "\n",
    "leads_atom = read(pl_path / \"leads.xyz\")\n",
    "leads_basis = Basis.from_dictionary(leads_atom, basis_dict)\n",
    "\n",
    "device_atoms = read(cc_path / \"scatt.xyz\")\n",
    "device_basis = Basis.from_dictionary(device_atoms, basis_dict)\n",
    "\n",
    "de = 0.01\n",
    "energies = np.arange(-3.0, 3.0 + de / 2.0, de).round(7)\n",
    "eta = 1e-3\n",
    "\n",
    "Nr = (1, 5, 3)\n",
    "unit_cell_rep_in_leads = (5, 5, 3)\n",
    "\n",
    "kpts_t, h_leads_kii, s_leads_kii, h_leads_kij, s_leads_kij = prepare_leads_matrices(\n",
    "    H_leads_lcao,\n",
    "    S_leads_lcao,\n",
    "    unit_cell_rep_in_leads,\n",
    "    align=(0, H_subdiagonalized[0, 0, 0]),\n",
    ")\n",
    "\n",
    "remove_pbc(device_basis, H_subdiagonalized)\n",
    "remove_pbc(device_basis, S_subdiagonalized)"
   ]
  },
  {
   "cell_type": "code",
   "execution_count": 5,
   "metadata": {},
   "outputs": [],
   "source": [
    "# Initialize self-energy list for left and right leads\n",
    "self_energy = [None, None, None]\n",
    "self_energy[0] = PrincipalSelfEnergy(\n",
    "    kpts_t, (h_leads_kii, s_leads_kii), (h_leads_kij, s_leads_kij), Nr=Nr\n",
    ")\n",
    "self_energy[1] = PrincipalSelfEnergy(\n",
    "    kpts_t, (h_leads_kii, s_leads_kii), (h_leads_kij, s_leads_kij), Nr=Nr, id=\"right\"\n",
    ")\n",
    "\n",
    "# Rotate the couplings for the leads based on the specified basis and repetition Nr\n",
    "rotate_couplings(leads_basis, self_energy[0], Nr)\n",
    "rotate_couplings(leads_basis, self_energy[1], Nr)\n"
   ]
  },
  {
   "cell_type": "code",
   "execution_count": 6,
   "metadata": {},
   "outputs": [
    {
     "data": {
      "text/plain": [
       "(810, 810)"
      ]
     },
     "execution_count": 6,
     "metadata": {},
     "output_type": "execute_result"
    }
   ],
   "source": [
    "self_energy[0].shape"
   ]
  },
  {
   "cell_type": "code",
   "execution_count": 7,
   "metadata": {},
   "outputs": [
    {
     "data": {
      "text/plain": [
       "(810, 810)"
      ]
     },
     "execution_count": 7,
     "metadata": {},
     "output_type": "execute_result"
    }
   ],
   "source": [
    "self_energy[1].shape"
   ]
  },
  {
   "cell_type": "code",
   "execution_count": 8,
   "metadata": {},
   "outputs": [],
   "source": [
    "# expand to dimension of scattering\n",
    "expand_coupling(self_energy[0], len(H_subdiagonalized[0]))\n",
    "expand_coupling(self_energy[1], len(H_subdiagonalized[0]), id=\"right\")\n"
   ]
  },
  {
   "cell_type": "code",
   "execution_count": 9,
   "metadata": {},
   "outputs": [],
   "source": [
    "gf = GreenFunction(\n",
    "    H_subdiagonalized[0],\n",
    "    S_subdiagonalized[0],\n",
    "    selfenergies=[(slice(None), self_energy[0]), (slice(None), self_energy[1])],\n",
    "    eta=eta,\n",
    ")\n"
   ]
  },
  {
   "cell_type": "code",
   "execution_count": 10,
   "metadata": {},
   "outputs": [],
   "source": [
    "nodes = [0, 810, 1116, 1252, 1558, 2368]\n",
    "\n",
    "# Add the DMFT self-energy for transmission\n",
    "dmft_sigma = load(dmft_sigma_file)\n",
    "\n",
    "# Transmission function calculation\n",
    "imb = 2  # index of molecule block from the nodes list\n",
    "S_molecule = hs_list_ii[imb][1]  # overlap of molecule\n",
    "# S_molecule_identity = np.eye(S_molecule.shape[0])\n",
    "S_molecule_identity = np.eye(len(H_subdiagonalized[0]))\n",
    "idx_molecule = (\n",
    "    index_active_region - nodes[imb]\n",
    ")  # indices of active region w.r.t molecule\n",
    "\n",
    "self_energy[2] = dmft_sigma\n"
   ]
  }
 ],
 "metadata": {
  "kernelspec": {
   "display_name": "guido-edpyt-qtpyt",
   "language": "python",
   "name": "python3"
  },
  "language_info": {
   "codemirror_mode": {
    "name": "ipython",
    "version": 3
   },
   "file_extension": ".py",
   "mimetype": "text/x-python",
   "name": "python",
   "nbconvert_exporter": "python",
   "pygments_lexer": "ipython3",
   "version": "3.9.21"
  }
 },
 "nbformat": 4,
 "nbformat_minor": 2
}
