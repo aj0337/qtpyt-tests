{
 "cells": [
  {
   "cell_type": "code",
   "execution_count": null,
   "metadata": {},
   "outputs": [],
   "source": [
    "from __future__ import annotations\n",
    "import numpy as np\n",
    "from qtpyt.block_tridiag import greenfunction\n",
    "from qtpyt.base.selfenergy import DataSelfEnergy as BaseDataSelfEnergy\n",
    "from qtpyt.projector import expand\n",
    "from qtpyt.parallel import comm\n",
    "from qtpyt.parallel.egrid import GridDesc\n",
    "\n",
    "from mpi4py import MPI\n",
    "\n",
    "comm = MPI.COMM_WORLD\n",
    "rank = comm.Get_rank()\n"
   ]
  },
  {
   "cell_type": "code",
   "execution_count": null,
   "metadata": {},
   "outputs": [],
   "source": [
    "class DataSelfEnergy(BaseDataSelfEnergy):\n",
    "    \"\"\"Wrapper\"\"\"\n",
    "\n",
    "    def retarded(self, energy):\n",
    "        return expand(S_molecule, super().retarded(energy), idx_molecule)\n",
    "\n",
    "\n",
    "def load(filename):\n",
    "    return DataSelfEnergy(energies, np.load(filename))\n",
    "\n",
    "def run(outputfile):\n",
    "\n",
    "    gd = GridDesc(energies, 1, float)\n",
    "    T = np.empty(gd.energies.size)\n",
    "\n",
    "    for e, energy in enumerate(gd.energies):\n",
    "        T[e] = gf.get_transmission(energy)\n",
    "\n",
    "    T = gd.gather_energies(T)\n",
    "\n",
    "    if comm.rank == 0:\n",
    "        np.save(outputfile, (energies,T.real))\n"
   ]
  },
  {
   "cell_type": "code",
   "execution_count": null,
   "metadata": {},
   "outputs": [],
   "source": [
    "data_folder = '../output/compute_run'\n",
    "index_active_region = np.load(f\"{data_folder}/index_active_region.npy\")\n",
    "hs_list_ii = np.load(f\"{data_folder}/hs_list_ii.npy\")\n",
    "hs_list_ij = np.load(f\"{data_folder}/hs_list_ij.npy\")\n",
    "self_energy = np.load(f\"{data_folder}/self_energy.npy\")\n",
    "dmft_sigma_file = f\"{data_folder}/dmft_sigma.npy\"\n",
    "\n",
    "nodes = [0,810,1116,1278,1584,2394]\n",
    "# Define energy range and broadening factor for the Green's function calculation\n",
    "de = 0.2\n",
    "energies = np.arange(-3., 3. + de / 2., de).round(7)\n",
    "eta = 1e-3\n",
    "\n",
    "# Transmission function calculation\n",
    "imb = 2  # index of molecule block from the nodes list\n",
    "S_molecule = hs_list_ii[imb][1]  # overlap of molecule\n",
    "idx_molecule = index_active_region - nodes[imb]  # indices of active region w.r.t molecule\n"
   ]
  },
  {
   "cell_type": "code",
   "execution_count": null,
   "metadata": {},
   "outputs": [],
   "source": [
    "# Transmission function for DFT\n",
    "outputfile = f\"{data_folder}/dft_transmission.npy\"\n",
    "run(outputfile)"
   ]
  },
  {
   "cell_type": "code",
   "execution_count": null,
   "metadata": {},
   "outputs": [],
   "source": [
    "# Initialize the Green's function solver with the tridiagonalized matrices and self-energies\n",
    "gf = greenfunction.GreenFunction(hs_list_ii,\n",
    "                                hs_list_ij,\n",
    "                                [(0, self_energy[0]),\n",
    "                                (len(hs_list_ii) - 1, self_energy[1])],\n",
    "                                solver='dyson',\n",
    "                                eta=eta)\n",
    "\n",
    "# Add the DMFT self-energy for transmission\n",
    "if comm.rank == 0:\n",
    "    self_energy[2] = load(dmft_sigma_file)\n",
    "    gf.selfenergies.append((imb, self_energy[2]))\n",
    "\n",
    "    # Transmission function with DMFT\n",
    "    outputfile = f\"{data_folder}/dmft_transmission.npy\"\n",
    "    run(outputfile)\n",
    "    gf.selfenergies.pop()"
   ]
  },
  {
   "cell_type": "code",
   "execution_count": null,
   "metadata": {},
   "outputs": [],
   "source": []
  }
 ],
 "metadata": {
  "language_info": {
   "name": "python"
  }
 },
 "nbformat": 4,
 "nbformat_minor": 2
}
