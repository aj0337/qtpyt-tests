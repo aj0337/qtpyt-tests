{
 "cells": [
  {
   "cell_type": "code",
   "execution_count": 3,
   "metadata": {},
   "outputs": [],
   "source": [
    "from __future__ import annotations\n",
    "import pickle\n",
    "import numpy as np\n",
    "from edpyt.dmft import DMFT, Gfimp\n",
    "from edpyt.nano_dmft import Gfimp as nanoGfimp\n",
    "from scipy.interpolate import interp1d\n",
    "from edpyt.nano_dmft import Gfloc\n",
    "\n",
    "import numpy as np\n",
    "import matplotlib.pyplot as plt\n",
    "import os\n",
    "new_path = '/capstor/scratch/cscs/ajayaraj/qtpyt-tests/pentadienyl'\n",
    "os.chdir(new_path)\n"
   ]
  },
  {
   "cell_type": "code",
   "execution_count": 5,
   "metadata": {},
   "outputs": [],
   "source": [
    "nbaths = 4\n",
    "# U = 4\n",
    "tol = 1e-4\n",
    "max_iter = 1000\n",
    "alpha = 0.0\n",
    "nspin = 1\n",
    "de = 0.01\n",
    "energies = np.arange(-3, 3 + de / 2.0, de).round(7)\n",
    "eta = 1e-3\n",
    "z_ret = energies + 1.0j * eta\n",
    "beta = 1000\n",
    "mu = 0.0\n",
    "adjust_mu = True\n",
    "use_double_counting = True\n",
    "\n",
    "data_folder = \"output/lowdin\"\n",
    "\n",
    "occupancy_goal = np.load(f\"{data_folder}/beta_{beta}/occupancies.npy\")\n",
    "H_active = np.load(f\"{data_folder}/bare_hamiltonian.npy\").real\n",
    "z_mats = np.load(f\"{data_folder}/matsubara_energies.npy\")\n",
    "\n",
    "with open(f\"{data_folder}/hs_list_ii.pkl\", \"rb\") as f:\n",
    "    hs_list_ii = pickle.load(f)\n",
    "\n",
    "with open(f\"{data_folder}/hs_list_ij.pkl\", \"rb\") as f:\n",
    "    hs_list_ij = pickle.load(f)"
   ]
  },
  {
   "cell_type": "code",
   "execution_count": null,
   "metadata": {},
   "outputs": [],
   "source": [
    "len_active = occupancy_goal.size\n",
    "hyb_mats = np.fromfile(f\"{data_folder}/matsubara_hybridization.bin\", complex).reshape(\n",
    "    z_mats.size,\n",
    "    len_active,\n",
    "    len_active,\n",
    ")\n",
    "_HybMats = interp1d(z_mats.imag, hyb_mats, axis=0, bounds_error=False, fill_value=0.0)\n",
    "HybMats = lambda z: _HybMats(z.imag)\n",
    "\n",
    "S_active = np.eye(len_active)\n",
    "idx_neq = np.arange(len_active)\n",
    "idx_inv = np.arange(len_active)\n",
    "\n",
    "V = np.loadtxt(f\"{data_folder}/U_matrix.txt\")\n",
    "# Apply double counting correction if specified\n",
    "double_counting = (\n",
    "    np.diag(V.diagonal() * (occupancy_goal - 0.5))\n",
    "    if use_double_counting\n",
    "    else np.zeros((len_active, len_active))\n",
    ")\n",
    "gfloc = Gfloc(\n",
    "    H_active - double_counting,\n",
    "    S_active,\n",
    "    HybMats,\n",
    "    idx_neq,\n",
    "    idx_inv,\n",
    "    nmats=z_mats.size,\n",
    "    beta=beta,\n",
    ")\n",
    "\n",
    "nimp = gfloc.idx_neq.size\n",
    "gfimp = [Gfimp(nbaths, z_mats.size, V[i, i], beta) for i in range(nimp)]\n",
    "gfimp = nanoGfimp(gfimp)\n",
    "\n",
    "Sigma = lambda z: np.zeros((nimp, z.size), complex)\n",
    "\n",
    "gfloc0 = Gfloc(\n",
    "    H_active, S_active, HybMats, idx_neq, idx_inv, nmats=z_mats.size, beta=beta\n",
    ")\n",
    "gfloc0.update(mu=mu)\n",
    "gfloc0.set_local(Sigma)"
   ]
  },
  {
   "cell_type": "code",
   "execution_count": 8,
   "metadata": {},
   "outputs": [
    {
     "data": {
      "text/plain": [
       "<matplotlib.legend.Legend at 0xfffd731321c0>"
      ]
     },
     "execution_count": 8,
     "metadata": {},
     "output_type": "execute_result"
    },
    {
     "data": {
      "image/png": "[encoded data removed]",
      "text/plain": [
       "<Figure size 640x480 with 1 Axes>"
      ]
     },
     "metadata": {},
     "output_type": "display_data"
    }
   ],
   "source": [
    "dos0 = -1 / np.pi * gfloc0(z_ret).sum(axis=0).imag\n",
    "# dos = -1 / np.pi * gfloc(z_ret).sum(axis=0).imag\n",
    "plt.plot(z_ret.real, dos0, label=\"DOS0\")\n",
    "# plt.plot(z_ret.real, dos, label=\"DOS\")\n",
    "plt.xlabel(\"Energy\")\n",
    "plt.ylabel(\"Density of states\")\n",
    "plt.legend()"
   ]
  },
  {
   "cell_type": "code",
   "execution_count": null,
   "metadata": {},
   "outputs": [],
   "source": []
  }
 ],
 "metadata": {
  "kernelspec": {
   "display_name": "qtpyt",
   "language": "python",
   "name": "python3"
  },
  "language_info": {
   "codemirror_mode": {
    "name": "ipython",
    "version": 3
   },
   "file_extension": ".py",
   "mimetype": "text/x-python",
   "name": "python",
   "nbconvert_exporter": "python",
   "pygments_lexer": "ipython3",
   "version": "3.9.21"
  }
 },
 "nbformat": 4,
 "nbformat_minor": 2
}
