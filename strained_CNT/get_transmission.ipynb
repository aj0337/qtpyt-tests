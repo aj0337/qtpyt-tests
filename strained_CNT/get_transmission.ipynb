{
 "cells": [
  {
   "cell_type": "code",
   "execution_count": null,
   "id": "9c399f3c",
   "metadata": {},
   "outputs": [],
   "source": [
    "import matplotlib.pyplot as plt\n",
    "import numpy as np\n",
    "from qtpyt.base.greenfunction import GreenFunction\n",
    "from qtpyt.base.leads import LeadSelfEnergy\n",
    "from qtpyt.parallel import comm\n",
    "from qtpyt.parallel.egrid import GridDesc\n",
    "from qtpyt.surface.tools import prepare_leads_matrices\n",
    "from qtpyt.tools import expand_coupling"
   ]
  },
  {
   "cell_type": "code",
   "execution_count": 2,
   "id": "ecb0142c",
   "metadata": {},
   "outputs": [],
   "source": [
    "H_device = np.load(\"hamiltonian/H_R_device.npy\")\n",
    "H_device = H_device.astype(np.complex128)\n",
    "S_device = np.eye(H_device.shape[0])\n",
    "H_k_leads = np.load(\"hamiltonian/H_k_leads.npy\")\n",
    "nkpts = H_k_leads.shape[0]\n",
    "dim = H_k_leads.shape[1]\n",
    "S_k_leads = np.zeros((nkpts, dim, dim), dtype=np.complex128)\n",
    "for i in range(nkpts):\n",
    "    S_k_leads[i] = np.eye(dim, dtype=np.complex128)"
   ]
  },
  {
   "cell_type": "code",
   "execution_count": 3,
   "id": "9d3c7aee",
   "metadata": {},
   "outputs": [
    {
     "data": {
      "text/plain": [
       "(6, 72, 72)"
      ]
     },
     "execution_count": 3,
     "metadata": {},
     "output_type": "execute_result"
    }
   ],
   "source": [
    "H_k_leads.shape\n",
    "# (nkpts, dim, dim) where nkpts is the number of k-points in the irreducible Brillouin zone, dim is the number of orbitals * number of atoms in the lead. Here we have 72 atoms in the lead and 1 orbital per atom (2pz), so dim = 72.\n",
    "\n",
    "S_k_leads.shape\n",
    "# We assume overlap matrix is identity for the leads, so S_k_leads is just an identity matrix of the same shape as H_k_leads."
   ]
  },
  {
   "cell_type": "code",
   "execution_count": 4,
   "id": "f6063ea9",
   "metadata": {},
   "outputs": [],
   "source": [
    "nkpts_leads = (6, 1, 1)\n",
    "\n",
    "# Prepare the k-points and matrices for the leads (Hamiltonian and overlap matrices)\n",
    "kpts_t, h_leads_kii, s_leads_kii, h_leads_kij, s_leads_kij = map(lambda m: m[0], prepare_leads_matrices(\n",
    "    H_k_leads,\n",
    "    S_k_leads,\n",
    "    nkpts_leads,\n",
    "    align=(0, H_device[0, 0]),\n",
    "))\n"
   ]
  },
  {
   "cell_type": "code",
   "execution_count": 5,
   "id": "f0e8c411",
   "metadata": {},
   "outputs": [
    {
     "name": "stdout",
     "output_type": "stream",
     "text": [
      "[0. 0. 0.]\n",
      "(72, 72)\n",
      "(72, 72)\n"
     ]
    }
   ],
   "source": [
    "print(kpts_t) # kpts transverse to the transport direction (transport direction is along the x-axis here)\n",
    "print(h_leads_kii.shape) # Hamiltonian matrix for the leads in the k-space\n",
    "print(h_leads_kij.shape)"
   ]
  },
  {
   "cell_type": "code",
   "execution_count": null,
   "id": "cf2ea719",
   "metadata": {},
   "outputs": [
    {
     "name": "stdout",
     "output_type": "stream",
     "text": [
      "(72, 72)\n"
     ]
    }
   ],
   "source": [
    "# Initialize self-energy list for left and right leads\n",
    "self_energy = [None, None]\n",
    "\n",
    "# Create LeadSelfEnergy objects for left and right leads\n",
    "# Uses Sancho Rubio method to compute the surface Green's function\n",
    "self_energy[0] = LeadSelfEnergy((h_leads_kii, s_leads_kii), (h_leads_kij, s_leads_kij))\n",
    "self_energy[1] = LeadSelfEnergy(\n",
    "    (h_leads_kii, s_leads_kii), (h_leads_kij, s_leads_kij), id=\"right\"\n",
    ")\n",
    "\n",
    "print(self_energy[0].shape)"
   ]
  },
  {
   "cell_type": "code",
   "execution_count": null,
   "id": "94f98f34",
   "metadata": {},
   "outputs": [
    {
     "name": "stdout",
     "output_type": "stream",
     "text": [
      "(4800, 4800)\n",
      "(4800, 4800)\n"
     ]
    }
   ],
   "source": [
    "# expand dimension of lead self energy to dimension of scattering region\n",
    "expand_coupling(self_energy[0], len(H_device[0]))\n",
    "expand_coupling(self_energy[1], len(H_device[0]), id='right')\n",
    "print(H_device.shape)\n",
    "print(self_energy[0].shape)\n"
   ]
  },
  {
   "cell_type": "code",
   "execution_count": 8,
   "id": "32886a66",
   "metadata": {},
   "outputs": [],
   "source": [
    "de = 0.1\n",
    "energies = np.arange(-1.,1.+de/2.,de).round(7)\n",
    "eta = 1e-3\n",
    "\n",
    "# slice(None) means that we've already expanded the leads to the scattering region\n",
    "gf = GreenFunction(H_device, S_device, selfenergies=[(slice(None),self_energy[0]),(slice(None),self_energy[1])], eta=eta)\n"
   ]
  },
  {
   "cell_type": "code",
   "execution_count": 9,
   "id": "d0d2b7c1",
   "metadata": {},
   "outputs": [
    {
     "data": {
      "text/plain": [
       "(4800, 4800)"
      ]
     },
     "execution_count": 9,
     "metadata": {},
     "output_type": "execute_result"
    }
   ],
   "source": [
    "gf.H.shape"
   ]
  },
  {
   "cell_type": "code",
   "execution_count": null,
   "id": "67cebee7",
   "metadata": {},
   "outputs": [
    {
     "name": "stdout",
     "output_type": "stream",
     "text": [
      "gf.Ginv [[-1. +0.001j  2.7+0.j    -0. +0.j    ... -0. +0.j    -0. +0.j\n",
      "  -0. +0.j   ]\n",
      " [ 2.7+0.j    -1. +0.001j  2.7+0.j    ... -0. +0.j    -0. +0.j\n",
      "  -0. +0.j   ]\n",
      " [-0. +0.j     2.7+0.j    -1. +0.001j ... -0. +0.j    -0. +0.j\n",
      "  -0. +0.j   ]\n",
      " ...\n",
      " [-0. +0.j    -0. +0.j    -0. +0.j    ... -1. +0.001j  2.7+0.j\n",
      "  -0. +0.j   ]\n",
      " [-0. +0.j    -0. +0.j    -0. +0.j    ...  2.7+0.j    -1. +0.001j\n",
      "   2.7+0.j   ]\n",
      " [-0. +0.j    -0. +0.j    -0. +0.j    ... -0. +0.j     2.7+0.j\n",
      "  -1. +0.001j]]\n",
      "gf.Ginv [[-0.9+0.001j  2.7+0.j    -0. +0.j    ... -0. +0.j    -0. +0.j\n",
      "  -0. +0.j   ]\n",
      " [ 2.7+0.j    -0.9+0.001j  2.7+0.j    ... -0. +0.j    -0. +0.j\n",
      "  -0. +0.j   ]\n",
      " [-0. +0.j     2.7+0.j    -0.9+0.001j ... -0. +0.j    -0. +0.j\n",
      "  -0. +0.j   ]\n",
      " ...\n",
      " [-0. +0.j    -0. +0.j    -0. +0.j    ... -0.9+0.001j  2.7+0.j\n",
      "  -0. +0.j   ]\n",
      " [-0. +0.j    -0. +0.j    -0. +0.j    ...  2.7+0.j    -0.9+0.001j\n",
      "   2.7+0.j   ]\n",
      " [-0. +0.j    -0. +0.j    -0. +0.j    ... -0. +0.j     2.7+0.j\n",
      "  -0.9+0.001j]]\n"
     ]
    }
   ],
   "source": [
    "gd = GridDesc(energies, 1)\n",
    "T = np.empty(gd.energies.size)\n",
    "\n",
    "for e, energy in enumerate(gd.energies):\n",
    "    T[e] = gf.get_transmission(energy)\n",
    "\n",
    "T = gd.gather_energies(T)\n",
    "if comm.rank == 0:\n",
    "    np.save(f'ET', (energies, T))"
   ]
  },
  {
   "cell_type": "code",
   "execution_count": null,
   "id": "45b617cc",
   "metadata": {},
   "outputs": [],
   "source": [
    "plt.plot(energies, T)\n",
    "plt.xlabel(\"Energy (eV)\")\n",
    "plt.ylabel(\"Transmission\")\n",
    "plt.title(\"Transmission vs Energy\")\n",
    "plt.grid()\n",
    "plt.show()\n"
   ]
  }
 ],
 "metadata": {
  "kernelspec": {
   "display_name": "guido-edpyt-qtpyt",
   "language": "python",
   "name": "python3"
  },
  "language_info": {
   "codemirror_mode": {
    "name": "ipython",
    "version": 3
   },
   "file_extension": ".py",
   "mimetype": "text/x-python",
   "name": "python",
   "nbconvert_exporter": "python",
   "pygments_lexer": "ipython3",
   "version": "3.9.21"
  }
 },
 "nbformat": 4,
 "nbformat_minor": 5
}
