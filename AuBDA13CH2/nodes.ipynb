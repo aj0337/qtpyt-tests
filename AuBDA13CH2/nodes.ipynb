{
 "cells": [
  {
   "cell_type": "code",
   "execution_count": 1,
   "metadata": {},
   "outputs": [],
   "source": [
    "# Necessary when connecting to a jupyterhub kernel running on daint via VScode. NOT required otherwise\n",
    "\n",
    "import os\n",
    "\n",
    "new_path = '/users/ajayaraj/scratch/tests/qtpyt-tests/AuBDA13CH2'\n",
    "os.chdir(new_path)\n"
   ]
  },
  {
   "cell_type": "code",
   "execution_count": 2,
   "metadata": {},
   "outputs": [
    {
     "name": "stderr",
     "output_type": "stream",
     "text": [
      "OMP: Info #276: omp_set_nested routine deprecated, please use omp_set_max_active_levels instead.\n"
     ]
    }
   ],
   "source": [
    "from pathlib import Path\n",
    "import numpy as np\n",
    "from gpaw import restart\n",
    "from gpaw.lcao.pwf2 import LCAOwrap\n",
    "from gpaw.lcao.tools import remove_pbc\n",
    "from matplotlib.colors import LinearSegmentedColormap, LogNorm\n",
    "from qtpyt.basis import Basis\n",
    "from qtpyt.lo.tools import rotate_matrix, subdiagonalize_atoms,cutcoupling\n",
    "from ase.io import read\n",
    "from qtpyt.basis import Basis\n",
    "from qtpyt.block_tridiag import graph_partition\n",
    "from qtpyt.tools import remove_pbc\n",
    "from copy import deepcopy\n"
   ]
  },
  {
   "cell_type": "markdown",
   "metadata": {},
   "source": [
    "### Helper functions"
   ]
  },
  {
   "cell_type": "code",
   "execution_count": 3,
   "metadata": {},
   "outputs": [],
   "source": [
    "def get_species_indices(atoms,species):\n",
    "    indices = []\n",
    "    for element in species:\n",
    "        element_indices = atoms.symbols.search(element)\n",
    "        indices.extend(element_indices)\n",
    "    return sorted(indices)\n"
   ]
  },
  {
   "cell_type": "code",
   "execution_count": 4,
   "metadata": {},
   "outputs": [],
   "source": [
    "def create_active_hamiltonian(H_cutcoupled, S_cutcoupled, index_left_Au, index_right_Au,  index_active_region):\n",
    "    \"\"\"\n",
    "    Create the Hamiltonian H_active by retaining the left and right Au orbitals and\n",
    "    the active region couplings within the bridge.\n",
    "\n",
    "    Parameters:\n",
    "    H_cutcoupled (np.ndarray): The Hamiltonian matrix after cutting couplings.\n",
    "    index_active_region (list of int): Indices of the active orbitals within the bridge.\n",
    "\n",
    "    Returns:\n",
    "    np.ndarray: The Hamiltonian matrix H_active.\n",
    "    \"\"\"\n",
    "\n",
    "    # Create a list of indices to retain\n",
    "    indices_to_keep = index_left_Au + sorted(list(index_active_region)) + index_right_Au\n",
    "\n",
    "    # Create the H_active matrix by extracting the relevant rows and columns\n",
    "    H_active = H_cutcoupled[np.ix_(indices_to_keep, indices_to_keep)]\n",
    "    S_active = S_cutcoupled[np.ix_(indices_to_keep, indices_to_keep)]\n",
    "\n",
    "    return H_active[None,...], S_active[None,...]\n"
   ]
  },
  {
   "cell_type": "markdown",
   "metadata": {},
   "source": [
    "### Control parameters"
   ]
  },
  {
   "cell_type": "code",
   "execution_count": 5,
   "metadata": {},
   "outputs": [],
   "source": [
    "GPWDEVICEDIR = 'dft/device/'\n",
    "BRIDGE_SPECIES = (\"N\", \"C\", \"H\")\n",
    "GPWLEADSDIR = 'dft/leads/'"
   ]
  },
  {
   "cell_type": "code",
   "execution_count": 6,
   "metadata": {},
   "outputs": [],
   "source": [
    "lowdin = True\n",
    "cc_path = Path(GPWDEVICEDIR)\n",
    "pl_path = Path(GPWLEADSDIR)\n",
    "gpwfile = f'{cc_path}/scatt.gpw'\n",
    "\n",
    "atoms, calc = restart(gpwfile, txt=None)\n",
    "fermi = calc.get_fermi_level()\n",
    "nao_a = np.array([setup.nao for setup in calc.wfs.setups])\n",
    "basis = Basis(atoms, nao_a)\n",
    "\n",
    "H_lcao, S_lcao = np.load(\"dft/device/hs_cc_k.npy\")\n"
   ]
  },
  {
   "cell_type": "code",
   "execution_count": 7,
   "metadata": {},
   "outputs": [
    {
     "data": {
      "text/plain": [
       "(1, 2394, 2394)"
      ]
     },
     "execution_count": 7,
     "metadata": {},
     "output_type": "execute_result"
    }
   ],
   "source": [
    "S_lcao.shape"
   ]
  },
  {
   "cell_type": "code",
   "execution_count": 8,
   "metadata": {},
   "outputs": [],
   "source": [
    "cmap_name = 'custom_white_red'\n",
    "colors = [(1, 1, 1), (166/255, 4/255, 4/255)]\n",
    "n_bins = 100\n",
    "cm = LinearSegmentedColormap.from_list(cmap_name, colors, N=n_bins)\n",
    "norm = LogNorm(vmin=0.1, vmax=10)"
   ]
  },
  {
   "cell_type": "code",
   "execution_count": 9,
   "metadata": {},
   "outputs": [],
   "source": [
    "H_leads_lcao, S_leads_lcao = np.load(pl_path / 'hs_pl_k.npy')\n",
    "\n",
    "basis_dict = {'Au': 9, 'H': 5, 'C': 13, 'N': 13}\n",
    "\n",
    "leads_atoms = read(pl_path / 'leads.xyz')\n",
    "leads_basis = Basis.from_dictionary(leads_atoms, basis_dict)\n",
    "\n",
    "device_atoms = read(cc_path / 'scatt.xyz')\n",
    "device_basis = Basis.from_dictionary(device_atoms, basis_dict)\n",
    "\n",
    "cutoff = [1,1e-2,1e-4,1e-5,1e-6,1e-8,1e-10,1e-18,1e-40]\n",
    "# Define the number of repetitions (Nr) and unit cell repetition in the leads\n",
    "Nr = (1, 5, 3)"
   ]
  },
  {
   "cell_type": "markdown",
   "metadata": {},
   "source": [
    "### Nodes obtained from LCAO Hamiltonian (Hamiltonian obtained directly from gpaw)"
   ]
  },
  {
   "cell_type": "code",
   "execution_count": 10,
   "metadata": {},
   "outputs": [
    {
     "name": "stdout",
     "output_type": "stream",
     "text": [
      "[0, 810, 1116, 1224, 1278, 1584, 2394]\n",
      "[0, 810, 1116, 1224, 1278, 1584, 2394]\n",
      "[0, 810, 1116, 1224, 1278, 1584, 2394]\n",
      "[0, 810, 1116, 1224, 1278, 1584, 2394]\n",
      "[0, 810, 1116, 1224, 1278, 1584, 2394]\n",
      "[0, 810, 1116, 1224, 1278, 1584, 2394]\n",
      "[0, 810, 1116, 1224, 1278, 1584, 2394]\n",
      "[0, 810, 1116, 1224, 1278, 1584, 2394]\n",
      "[0, 810, 1116, 1224, 1278, 1584, 2394]\n"
     ]
    }
   ],
   "source": [
    "# Remove periodic boundary conditions (PBC) from the device Hamiltonian and overlap matrices\n",
    "remove_pbc(device_basis, H_lcao)\n",
    "remove_pbc(device_basis, S_lcao)\n",
    "\n",
    "\n",
    "for co in cutoff:\n",
    "    # Partition the device Hamiltonian matrix into tridiagonal nodes\n",
    "    nodes = graph_partition.get_tridiagonal_nodes(device_basis, H_lcao[0], len(leads_atoms.repeat(Nr)))\n",
    "\n",
    "    # Print the nodes to verify the partitioning\n",
    "    print(nodes)\n"
   ]
  },
  {
   "cell_type": "markdown",
   "metadata": {},
   "source": [
    "### Nodes obtained from Hamiltonian that Subdiagonalizes C, N and H"
   ]
  },
  {
   "cell_type": "code",
   "execution_count": 11,
   "metadata": {},
   "outputs": [
    {
     "name": "stdout",
     "output_type": "stream",
     "text": [
      "[0, 810, 1116, 1224, 1278, 1584, 2394]\n",
      "[0, 810, 1116, 1224, 1278, 1584, 2394]\n",
      "[0, 810, 1116, 1224, 1278, 1584, 2394]\n",
      "[0, 810, 1116, 1224, 1278, 1584, 2394]\n",
      "[0, 810, 1116, 1224, 1278, 1584, 2394]\n",
      "[0, 810, 1116, 1224, 1278, 1584, 2394]\n",
      "[0, 810, 1116, 1224, 1278, 1584, 2394]\n",
      "[0, 810, 1116, 1224, 1278, 1584, 2394]\n",
      "[0, 810, 1116, 1224, 1278, 1584, 2394]\n"
     ]
    }
   ],
   "source": [
    "# Perform subdiagonalization\n",
    "SUBDIAG_SPECIES = (\"C\", \"N\", \"H\")\n",
    "subdiag_indices = get_species_indices(atoms, SUBDIAG_SPECIES)\n",
    "Usub, eig = subdiagonalize_atoms(basis, H_lcao[0], S_lcao[0], a=subdiag_indices)\n",
    "\n",
    "# Rotate matrices\n",
    "H_sub = rotate_matrix(H_lcao[0], Usub)[None, ...]\n",
    "S_sub = rotate_matrix(S_lcao[0], Usub)[None, ...]\n",
    "\n",
    "# Define the number of repetitions (Nr) and unit cell repetition in the leads\n",
    "Nr = (1, 5, 3)\n",
    "\n",
    "# Remove periodic boundary conditions (PBC) from the device Hamiltonian and overlap matrices\n",
    "remove_pbc(device_basis, H_sub)\n",
    "remove_pbc(device_basis, S_sub)\n",
    "for co in cutoff:\n",
    "    # Partition the device Hamiltonian matrix into tridiagonal nodes\n",
    "    nodes = graph_partition.get_tridiagonal_nodes(device_basis, H_sub[0], len(leads_atoms.repeat(Nr)))\n",
    "\n",
    "    print(nodes)\n"
   ]
  },
  {
   "cell_type": "markdown",
   "metadata": {},
   "source": [
    "### Nodes obtained from Hamiltonian that Subdiagonalizes only C"
   ]
  },
  {
   "cell_type": "code",
   "execution_count": 16,
   "metadata": {},
   "outputs": [
    {
     "name": "stdout",
     "output_type": "stream",
     "text": [
      "[0, 2394]\n",
      "[0, 810, 1107, 1170, 1224, 1287, 1584, 2394]\n",
      "[0, 810, 1116, 1224, 1278, 1584, 2394]\n",
      "[0, 810, 1116, 1278, 1584, 2394]\n",
      "[0, 810, 1116, 1278, 1584, 2394]\n",
      "[0, 810, 1121, 1273, 1584, 2394]\n",
      "[0, 810, 1144, 1250, 1584, 2394]\n",
      "[0, 810, 1144, 1224, 1584, 2394]\n",
      "[0, 810, 1144, 1224, 1584, 2394]\n"
     ]
    }
   ],
   "source": [
    "# Perform subdiagonalization\n",
    "SUBDIAG_SPECIES = (\"C\")\n",
    "subdiag_indices = get_species_indices(atoms, SUBDIAG_SPECIES)\n",
    "Usub, eig = subdiagonalize_atoms(basis, H_lcao[0], S_lcao[0], a=subdiag_indices)\n",
    "\n",
    "# Rotate matrices\n",
    "H_sub = rotate_matrix(H_lcao[0], Usub)[None, ...]\n",
    "S_sub = rotate_matrix(S_lcao[0], Usub)[None, ...]\n",
    "\n",
    "# Define the number of repetitions (Nr) and unit cell repetition in the leads\n",
    "Nr = (1, 5, 3)\n",
    "\n",
    "# Remove periodic boundary conditions (PBC) from the device Hamiltonian and overlap matrices\n",
    "remove_pbc(device_basis, H_sub)\n",
    "remove_pbc(device_basis, S_sub)\n",
    "\n",
    "for co in cutoff:\n",
    "    # Partition the device Hamiltonian matrix into tridiagonal nodes\n",
    "    nodes = graph_partition.get_tridiagonal_nodes(device_basis, H_sub[0], len(leads_atoms.repeat(Nr)),cutoff=co)\n",
    "\n",
    "    # Print the nodes to verify the partitioning\n",
    "    print(nodes)\n"
   ]
  },
  {
   "cell_type": "markdown",
   "metadata": {},
   "source": [
    "### Nodes obtained from Hamiltonian that Subdiagonalizes only H"
   ]
  },
  {
   "cell_type": "code",
   "execution_count": 17,
   "metadata": {},
   "outputs": [
    {
     "name": "stdout",
     "output_type": "stream",
     "text": [
      "[0, 2394]\n",
      "[0, 810, 1107, 1170, 1250, 1287, 1584, 2394]\n",
      "[0, 810, 1116, 1224, 1278, 1584, 2394]\n",
      "[0, 810, 1116, 1278, 1584, 2394]\n",
      "[0, 810, 1121, 1278, 1584, 2394]\n",
      "[0, 810, 1121, 1273, 1584, 2394]\n",
      "[0, 810, 1144, 1250, 1584, 2394]\n",
      "[0, 810, 1144, 1224, 1584, 2394]\n",
      "[0, 810, 1144, 1224, 1584, 2394]\n"
     ]
    }
   ],
   "source": [
    "# Perform subdiagonalization\n",
    "SUBDIAG_SPECIES = (\"H\")\n",
    "subdiag_indices = get_species_indices(atoms, SUBDIAG_SPECIES)\n",
    "Usub, eig = subdiagonalize_atoms(basis, H_lcao[0], S_lcao[0], a=subdiag_indices)\n",
    "\n",
    "# Rotate matrices\n",
    "H_sub = rotate_matrix(H_lcao[0], Usub)[None, ...]\n",
    "S_sub = rotate_matrix(S_lcao[0], Usub)[None, ...]\n",
    "\n",
    "# Define the number of repetitions (Nr) and unit cell repetition in the leads\n",
    "Nr = (1, 5, 3)\n",
    "\n",
    "# Remove periodic boundary conditions (PBC) from the device Hamiltonian and overlap matrices\n",
    "remove_pbc(device_basis, H_sub)\n",
    "remove_pbc(device_basis, S_sub)\n",
    "\n",
    "for co in cutoff:\n",
    "    # Partition the device Hamiltonian matrix into tridiagonal nodes\n",
    "    nodes = graph_partition.get_tridiagonal_nodes(device_basis, H_sub[0], len(leads_atoms.repeat(Nr)),cutoff=co)\n",
    "\n",
    "    # Print the nodes to verify the partitioning\n",
    "    print(nodes)\n"
   ]
  },
  {
   "cell_type": "markdown",
   "metadata": {},
   "source": [
    "### Nodes obtained from Hamiltonian that Subdiagonalizes only N"
   ]
  },
  {
   "cell_type": "code",
   "execution_count": 18,
   "metadata": {},
   "outputs": [
    {
     "name": "stdout",
     "output_type": "stream",
     "text": [
      "[0, 2394]\n",
      "[0, 810, 1107, 1170, 1250, 1287, 1584, 2394]\n",
      "[0, 810, 1116, 1224, 1278, 1584, 2394]\n",
      "[0, 810, 1116, 1278, 1584, 2394]\n",
      "[0, 810, 1116, 1278, 1584, 2394]\n",
      "[0, 810, 1134, 1273, 1584, 2394]\n",
      "[0, 810, 1144, 1250, 1584, 2394]\n",
      "[0, 810, 1144, 1224, 1584, 2394]\n",
      "[0, 810, 1144, 1224, 1584, 2394]\n"
     ]
    }
   ],
   "source": [
    "# Perform subdiagonalization\n",
    "SUBDIAG_SPECIES = (\"N\")\n",
    "subdiag_indices = get_species_indices(atoms, SUBDIAG_SPECIES)\n",
    "Usub, eig = subdiagonalize_atoms(basis, H_lcao[0], S_lcao[0], a=subdiag_indices)\n",
    "\n",
    "# Rotate matrices\n",
    "H_sub = rotate_matrix(H_lcao[0], Usub)[None, ...]\n",
    "S_sub = rotate_matrix(S_lcao[0], Usub)[None, ...]\n",
    "\n",
    "# Define the number of repetitions (Nr) and unit cell repetition in the leads\n",
    "Nr = (1, 5, 3)\n",
    "\n",
    "# Remove periodic boundary conditions (PBC) from the device Hamiltonian and overlap matrices\n",
    "remove_pbc(device_basis, H_sub)\n",
    "remove_pbc(device_basis, S_sub)\n",
    "\n",
    "\n",
    "for co in cutoff:\n",
    "    # Partition the device Hamiltonian matrix into tridiagonal nodes\n",
    "    nodes = graph_partition.get_tridiagonal_nodes(device_basis, H_sub[0], len(leads_atoms.repeat(Nr)),cutoff=co)\n",
    "\n",
    "    # Print the nodes to verify the partitioning\n",
    "    print(nodes)\n"
   ]
  },
  {
   "cell_type": "markdown",
   "metadata": {},
   "source": [
    "### Analysis\n",
    "\n",
    "If we are to assume that the nodes that will give us the right transmission function, are the ones that divide the Hamiltonian indices into [0,Au lead left, Au tip left, molecule, Au lead right, Au tip right], the right nodes would be\n",
    "\n",
    "nodes = [0,810,1116,1278,1584,2394]\n"
   ]
  },
  {
   "cell_type": "markdown",
   "metadata": {},
   "source": [
    "### Conclusion \n",
    "The current implementation of `graph_partition.get_tridiagonal_nodes` is unreliable in producing the right nodes. So proceed by hardcoding the nodes."
   ]
  }
 ],
 "metadata": {
  "kernelspec": {
   "display_name": "CSCS Python",
   "language": "python",
   "name": "cscs"
  },
  "language_info": {
   "codemirror_mode": {
    "name": "ipython",
    "version": 3
   },
   "file_extension": ".py",
   "mimetype": "text/x-python",
   "name": "python",
   "nbconvert_exporter": "python",
   "pygments_lexer": "ipython3",
   "version": "3.9.4"
  }
 },
 "nbformat": 4,
 "nbformat_minor": 4
}
