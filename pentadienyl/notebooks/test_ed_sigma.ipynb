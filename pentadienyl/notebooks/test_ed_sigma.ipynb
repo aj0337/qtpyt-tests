{
 "cells": [
  {
   "cell_type": "code",
   "execution_count": 20,
   "id": "bef68cb7",
   "metadata": {},
   "outputs": [],
   "source": [
    "import os\n",
    "import numpy as np\n",
    "import matplotlib.pyplot as plt\n",
    "\n",
    "\n",
    "from scipy.optimize import broyden1\n",
    "\n",
    "from edpyt.shared import params\n",
    "from edpyt.espace import build_espace, screen_espace\n",
    "from edpyt.gf2_lanczos import build_gf2_lanczos\n",
    "new_path = '/capstor/scratch/cscs/ajayaraj/qtpyt-tests/pentadienyl'\n",
    "os.chdir(new_path)"
   ]
  },
  {
   "cell_type": "code",
   "execution_count": 21,
   "id": "767edb6e",
   "metadata": {},
   "outputs": [],
   "source": [
    "# === Load inputs ===\n",
    "input_folder = \"output/lowdin\"\n",
    "output_folder = \"output/lowdin/beta_1000/ed\"\n",
    "os.makedirs(output_folder, exist_ok=True)\n",
    "\n",
    "H_eff = np.load(f\"{input_folder}/effective_hamiltonian.npy\")\n",
    "occupancy_goal = np.load(f\"{input_folder}/beta_1000/occupancies.npy\")\n",
    "V = np.loadtxt(f\"{input_folder}/U_matrix.txt\")\n",
    "\n",
    "# === Parameters ===\n",
    "nimp = H_eff.shape[0]\n",
    "eta = 1e-3\n",
    "beta = 1000\n",
    "\n",
    "# === Initial double counting ===\n",
    "DC0 = np.diag(V.diagonal() * (occupancy_goal - 0.5))\n",
    "neig = np.ones((nimp + 1) * (nimp + 1), int) * 6\n",
    "\n",
    "params[\"z\"] = occupancy_goal\n",
    "\n",
    "de = 0.01\n",
    "energies = np.arange(-0.5, 1 + de / 2.0, de).round(7)\n",
    "eta = 1e-3\n",
    "\n",
    "dc_diag_optimized = np.load(f\"{output_folder}/ed_dcc_diag.npy\")\n",
    "DC = np.diag(dc_diag_optimized)"
   ]
  },
  {
   "cell_type": "code",
   "execution_count": null,
   "id": "5349f661",
   "metadata": {},
   "outputs": [],
   "source": [
    "class Sigma:\n",
    "    def __init__(self, gf0, gf, H_eff, eta=1e-5):\n",
    "        self.gf0 = gf0\n",
    "        self.gf = gf\n",
    "        self.eta = eta\n",
    "        self.H_eff = H_eff\n",
    "\n",
    "    def retarded(self, energy):\n",
    "        energies = np.atleast_1d(energy)\n",
    "        g0 = self.gf0(energies, self.eta)\n",
    "        g = self.gf(energies, self.eta)\n",
    "        print(\"g0\", g0.shape)\n",
    "        print(\"g\", g.shape)\n",
    "        sigma = np.empty((energies.size, self.gf.n, self.gf.n), complex)\n",
    "        for e, energy in enumerate(energies):\n",
    "            print(\"e\", e)\n",
    "            print(\"energy\", energy)\n",
    "            print(\"g0\", g0[..., e].shape)\n",
    "            print(\"g\", g[..., e].shape)\n",
    "            sigma[e] = np.linalg.inv(g0[..., e]) - np.linalg.inv(g[..., e])\n",
    "            # sigma[e] = energy - self.H_eff - np.linalg.inv(g[..., e])\n",
    "        return sigma"
   ]
  },
  {
   "cell_type": "code",
   "execution_count": 25,
   "id": "cebd1aaf",
   "metadata": {},
   "outputs": [
    {
     "name": "stdout",
     "output_type": "stream",
     "text": [
      "g0 (7, 7, 1)\n",
      "g (7, 7, 1)\n",
      "e 0\n",
      "energy -3.0\n",
      "g0 (7, 7)\n",
      "g (7, 7)\n",
      "Sigma [[[ 0.10157-0.03168j -2.70505-0.00377j -2.83743-0.00129j\n",
      "   -3.01147-0.00032j -3.05411+0.00124j -2.92171-0.0038j\n",
      "   -2.96356-0.00255j]\n",
      "  [-2.70505-0.00377j -0.04797-0.04093j -2.02328-0.0035j\n",
      "   -3.15505-0.00135j -3.19337+0.00343j -2.71244-0.01007j\n",
      "   -2.86582-0.00687j]\n",
      "  [-2.83743-0.00129j -2.02328-0.0035j  -0.09649-0.03204j\n",
      "   -3.75493+0.00013j -2.98915+0.00131j -2.78222-0.00423j\n",
      "   -2.89929-0.00281j]\n",
      "  [-3.01147-0.00032j -3.15505-0.00135j -3.75493+0.00013j\n",
      "   -0.20596-0.03424j -3.91158+0.00046j -2.81285+0.00151j\n",
      "   -2.97871+0.00053j]\n",
      "  [-3.05411+0.00124j -3.19337+0.00343j -2.98915+0.00131j\n",
      "   -3.91158+0.00046j -0.08599-0.03209j -4.03441+0.00366j\n",
      "   -3.25582+0.0025j ]\n",
      "  [-2.92171-0.0038j  -2.71244-0.01007j -2.78222-0.00423j\n",
      "   -2.81285+0.00151j -4.03441+0.00366j -0.07817-0.04578j\n",
      "   -2.43908-0.00985j]\n",
      "  [-2.96356-0.00255j -2.86582-0.00687j -2.89929-0.00281j\n",
      "   -2.97871+0.00053j -3.25582+0.0025j  -2.43908-0.00985j\n",
      "    0.17472-0.0372j ]]]\n"
     ]
    }
   ],
   "source": [
    "espace0, egs0 = build_espace(H_eff, np.zeros_like(H_eff), neig_sector=neig)\n",
    "screen_espace(espace0, egs0, beta)\n",
    "gf0 = build_gf2_lanczos(H_eff, np.zeros_like(H_eff), espace0, beta, egs0)\n",
    "\n",
    "espace, egs = build_espace(H_eff - DC, V, neig_sector=neig)\n",
    "screen_espace(espace, egs, beta)\n",
    "gf = build_gf2_lanczos(H_eff - DC, V, espace, beta, egs)\n",
    "\n",
    "sigma = Sigma(gf0, gf, H_eff, eta=3e-2)\n",
    "test_energy = np.array([-3.0])\n",
    "sigma_ret = sigma.retarded(test_energy)\n",
    "print(\"Sigma\", np.round(sigma_ret,5))"
   ]
  },
  {
   "cell_type": "code",
   "execution_count": 15,
   "id": "5ae5555e",
   "metadata": {},
   "outputs": [
    {
     "data": {
      "text/plain": [
       "array([[ 0.042  -5.400e-04j, -0.20999+1.410e-03j, -0.14253+7.000e-05j,\n",
       "        -0.05437-1.750e-03j,  0.03506-2.000e-04j,  0.06826+1.400e-03j,\n",
       "         0.02516+6.600e-04j],\n",
       "       [-0.20999+1.410e-03j, -0.14289-5.570e-03j,  0.93223-2.300e-04j,\n",
       "         0.32793+6.620e-03j, -0.13489+7.500e-04j, -0.29843-5.310e-03j,\n",
       "        -0.1158 -2.520e-03j],\n",
       "       [-0.14253+7.000e-05j,  0.93223-2.300e-04j,  0.05644-6.200e-04j,\n",
       "         0.75422+1.000e-04j,  0.02843+1.600e-04j, -0.16886+4.000e-05j,\n",
       "        -0.06718+3.000e-05j],\n",
       "       [-0.05437-1.750e-03j,  0.32793+6.620e-03j,  0.75422+1.000e-04j,\n",
       "        -0.31032-1.104e-02j,  0.87969-9.600e-04j,  0.40881+8.540e-03j,\n",
       "         0.11936+4.020e-03j],\n",
       "       [ 0.03506-2.000e-04j, -0.13489+7.500e-04j,  0.02843+1.600e-04j,\n",
       "         0.87969-9.600e-04j,  0.06827-8.300e-04j,  1.01447+6.600e-04j,\n",
       "         0.23074+3.000e-04j],\n",
       "       [ 0.06826+1.400e-03j, -0.29843-5.310e-03j, -0.16886+4.000e-05j,\n",
       "         0.40881+8.540e-03j,  1.01447+6.600e-04j, -0.26852-8.830e-03j,\n",
       "         0.34189-4.010e-03j],\n",
       "       [ 0.02516+6.600e-04j, -0.1158 -2.520e-03j, -0.06718+3.000e-05j,\n",
       "         0.11936+4.020e-03j,  0.23074+3.000e-04j,  0.34189-4.010e-03j,\n",
       "         0.03951-2.310e-03j]])"
      ]
     },
     "execution_count": 15,
     "metadata": {},
     "output_type": "execute_result"
    }
   ],
   "source": [
    "sigma_ref = np.load(\"reference/sigma_ed.npy\")\n",
    "np.round(sigma_ref[0],5)"
   ]
  },
  {
   "cell_type": "code",
   "execution_count": null,
   "id": "acb89c9f",
   "metadata": {},
   "outputs": [],
   "source": []
  }
 ],
 "metadata": {
  "kernelspec": {
   "display_name": "qtpyt",
   "language": "python",
   "name": "python3"
  },
  "language_info": {
   "codemirror_mode": {
    "name": "ipython",
    "version": 3
   },
   "file_extension": ".py",
   "mimetype": "text/x-python",
   "name": "python",
   "nbconvert_exporter": "python",
   "pygments_lexer": "ipython3",
   "version": "3.9.21"
  }
 },
 "nbformat": 4,
 "nbformat_minor": 5
}
