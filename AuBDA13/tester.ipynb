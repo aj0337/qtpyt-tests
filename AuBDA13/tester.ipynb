{
 "cells": [
  {
   "cell_type": "code",
   "execution_count": 1,
   "metadata": {},
   "outputs": [],
   "source": [
    "import pickle\n",
    "\n",
    "def test_pickling_attributes(obj):\n",
    "    for attr in dir(obj):\n",
    "        if attr.startswith(\"__\"):\n",
    "            continue\n",
    "        try:\n",
    "            value = getattr(obj, attr)\n",
    "            pickle.dumps(value)\n",
    "            print(f\"✅ Picklable: {attr}\")\n",
    "        except Exception as e:\n",
    "            print(f\"❌ NOT picklable: {attr} — {type(e).__name__}: {e}\")\n"
   ]
  },
  {
   "cell_type": "code",
   "execution_count": 2,
   "metadata": {},
   "outputs": [
    {
     "name": "stderr",
     "output_type": "stream",
     "text": [
      "[anooja-ThinkPad-X1-Carbon-Gen-11:55962] mca_base_component_repository_open: unable to open mca_btl_openib: librdmacm.so.1: cannot open shared object file: No such file or directory (ignored)\n"
     ]
    }
   ],
   "source": [
    "from __future__ import annotations\n",
    "\n",
    "import os\n",
    "from pathlib import Path\n",
    "\n",
    "import numpy as np\n",
    "from gpaw import restart\n",
    "from qtpyt.basis import Basis\n",
    "\n",
    "def get_species_indices(atoms, species):\n",
    "    indices = []\n",
    "    for element in species:\n",
    "        element_indices = atoms.symbols.search(element)\n",
    "        indices.extend(element_indices)\n",
    "    return sorted(indices)\n",
    "\n",
    "\n",
    "lowdin = False\n",
    "data_folder = f\"./output/lowdin\" if lowdin else f\"./output/no_lowdin\"\n",
    "\n",
    "if not os.path.exists(data_folder):\n",
    "    os.makedirs(data_folder)\n",
    "\n",
    "GPWDEVICEDIR = f\"./dft/device/\"\n",
    "GPWLEADSDIR = \"./dft/leads/\"\n",
    "SUBDIAG_SPECIES = (\"C\", \"N\", \"H\")\n",
    "\n",
    "active = {\"C\": [3], \"N\": [3]}\n",
    "\n",
    "cc_path = Path(GPWDEVICEDIR)\n",
    "pl_path = Path(GPWLEADSDIR)\n",
    "gpwfile = f\"{cc_path}/scatt.gpw\"\n",
    "\n",
    "atoms, calc = restart(gpwfile, txt=None)\n",
    "fermi = calc.get_fermi_level()\n",
    "nao_a = np.array([setup.nao for setup in calc.wfs.setups])\n",
    "basis = Basis(atoms, nao_a)"
   ]
  },
  {
   "cell_type": "code",
   "execution_count": 3,
   "metadata": {},
   "outputs": [
    {
     "name": "stdout",
     "output_type": "stream",
     "text": [
      "✅ Picklable: M_a\n",
      "❌ NOT picklable: _expand — TypeError: cannot pickle 'MPI' object\n",
      "❌ NOT picklable: argsort — TypeError: cannot pickle 'MPI' object\n",
      "❌ NOT picklable: atoms — TypeError: cannot pickle 'MPI' object\n",
      "✅ Picklable: centers\n",
      "❌ NOT picklable: extract — TypeError: cannot pickle 'MPI' object\n",
      "✅ Picklable: from_dictionary\n",
      "❌ NOT picklable: get_indices — TypeError: cannot pickle 'MPI' object\n",
      "✅ Picklable: nao\n",
      "✅ Picklable: nao_a\n",
      "❌ NOT picklable: repeat — TypeError: cannot pickle 'MPI' object\n",
      "❌ NOT picklable: take — TypeError: cannot pickle 'MPI' object\n"
     ]
    }
   ],
   "source": [
    "test_pickling_attributes(basis)\n"
   ]
  },
  {
   "cell_type": "code",
   "execution_count": null,
   "metadata": {},
   "outputs": [],
   "source": []
  }
 ],
 "metadata": {
  "kernelspec": {
   "display_name": "guido-edpyt-qtpyt",
   "language": "python",
   "name": "python3"
  },
  "language_info": {
   "codemirror_mode": {
    "name": "ipython",
    "version": 3
   },
   "file_extension": ".py",
   "mimetype": "text/x-python",
   "name": "python",
   "nbconvert_exporter": "python",
   "pygments_lexer": "ipython3",
   "version": "3.9.21"
  }
 },
 "nbformat": 4,
 "nbformat_minor": 2
}
