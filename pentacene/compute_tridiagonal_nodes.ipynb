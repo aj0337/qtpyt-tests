{
 "cells": [
  {
   "cell_type": "code",
   "execution_count": 6,
   "metadata": {},
   "outputs": [
    {
     "ename": "",
     "evalue": "",
     "output_type": "error",
     "traceback": [
      "\u001b[1;31mThe Kernel crashed while executing code in the current cell or a previous cell. \n",
      "\u001b[1;31mPlease review the code in the cell(s) to identify a possible cause of the failure. \n",
      "\u001b[1;31mClick <a href='https://aka.ms/vscodeJupyterKernelCrash'>here</a> for more info. \n",
      "\u001b[1;31mView Jupyter <a href='command:jupyter.viewOutput'>log</a> for further details."
     ]
    },
    {
     "ename": "",
     "evalue": "",
     "output_type": "error",
     "traceback": [
      "\u001b[1;31mCanceled future for execute_request message before replies were done"
     ]
    },
    {
     "ename": "",
     "evalue": "",
     "output_type": "error",
     "traceback": [
      "\u001b[1;31mCanceled future for execute_request message before replies were done. \n",
      "\u001b[1;31mView Jupyter <a href='command:jupyter.viewOutput'>log</a> for further details."
     ]
    }
   ],
   "source": [
    "import os\n",
    "import numpy as np\n",
    "import matplotlib.pyplot as plt\n",
    "import ase.io\n",
    "\n",
    "new_path = '/capstor/scratch/cscs/ajayaraj/qtpyt-tests/pentacene'\n",
    "os.chdir(new_path)"
   ]
  },
  {
   "cell_type": "code",
   "execution_count": null,
   "metadata": {},
   "outputs": [
    {
     "ename": "AttributeError",
     "evalue": "module 'ase' has no attribute 'io'",
     "output_type": "error",
     "traceback": [
      "\u001b[0;31m---------------------------------------------------------------------------\u001b[0m",
      "\u001b[0;31mAttributeError\u001b[0m                            Traceback (most recent call last)",
      "Cell \u001b[0;32mIn[5], line 1\u001b[0m\n\u001b[0;32m----> 1\u001b[0m atoms \u001b[38;5;241m=\u001b[39m \u001b[43mase\u001b[49m\u001b[38;5;241;43m.\u001b[39;49m\u001b[43mio\u001b[49m\u001b[38;5;241m.\u001b[39mread(\u001b[38;5;124m\"\u001b[39m\u001b[38;5;124m./device/scatt.xyz\u001b[39m\u001b[38;5;124m\"\u001b[39m)\n\u001b[1;32m      2\u001b[0m z_threshold \u001b[38;5;241m=\u001b[39m \u001b[38;5;241m30\u001b[39m\n\u001b[1;32m      4\u001b[0m symbols \u001b[38;5;241m=\u001b[39m atoms\u001b[38;5;241m.\u001b[39mget_chemical_symbols()\n",
      "\u001b[0;31mAttributeError\u001b[0m: module 'ase' has no attribute 'io'"
     ]
    }
   ],
   "source": [
    "atoms = ase.io.read(\"./device/scatt.xyz\")\n",
    "z_threshold = 30\n",
    "\n",
    "symbols = atoms.get_chemical_symbols()\n",
    "x_coords = atoms.positions[:, 1]  # assuming atoms are sorted in x\n",
    "z_coords = atoms.positions[:, 2]\n",
    "\n",
    "num_atoms_leads = np.sum(z_coords < z_threshold)\n",
    "num_atoms_per_lead = num_atoms_leads // 2\n",
    "total_atoms = len(atoms)\n",
    "num_atoms_bridge = total_atoms - num_atoms_leads\n",
    "\n",
    "\n",
    "print(\"total_atoms\", total_atoms)\n",
    "print(\"num_atoms_bridge\", num_atoms_bridge)\n",
    "print(\"num_atoms_leads\", num_atoms_leads)\n",
    "\n",
    "num_spherical_harmonics = {\"C\": 9, \"H\": 4}\n",
    "\n",
    "# Partition atoms based on x-sorted assumption\n",
    "left_lead_indices = np.arange(0, num_atoms_per_lead)\n",
    "bridge_indices = np.arange(num_atoms_per_lead, num_atoms_per_lead + num_atoms_bridge)\n",
    "right_lead_indices = np.arange(num_atoms_per_lead + num_atoms_bridge, total_atoms)\n",
    "\n",
    "\n",
    "print(\"Left lead indices range:\", left_lead_indices.min(), left_lead_indices.max())\n",
    "print(\"Bridge indices range:\", bridge_indices.min(), bridge_indices.max())\n",
    "print(\"Right lead indices range:\", right_lead_indices.min(),right_lead_indices.max())\n",
    "\n",
    "total_sph_left_lead = sum(num_spherical_harmonics[symbols[i]] for i in left_lead_indices)\n",
    "total_sph_bridge = sum(num_spherical_harmonics[symbols[i]] for i in bridge_indices)\n",
    "total_sph_right_lead = sum(num_spherical_harmonics[symbols[i]]\n",
    "                           for i in right_lead_indices)\n",
    "\n",
    "# Populate nodes\n",
    "nodes = [\n",
    "    0,\n",
    "    total_sph_left_lead,\n",
    "    total_sph_left_lead + total_sph_bridge,\n",
    "    total_sph_left_lead + total_sph_bridge + total_sph_right_lead\n",
    "]\n",
    "\n",
    "print(\"Number of orbitals in left lead = \", nodes[1] - nodes[0])\n",
    "print(\"Number of orbitals in bridge = \", nodes[2] - nodes[1])\n",
    "print(\"Number of orbitals in right lead = \", nodes[3] - nodes[2])\n",
    "\n",
    "np.save(\"../unrelaxed/output/no_lowdin/device/nodes.npy\",nodes)\n"
   ]
  },
  {
   "cell_type": "code",
   "execution_count": null,
   "metadata": {},
   "outputs": [],
   "source": [
    "np.save(\"./output/no_lowdin/bridge/nodes.npy\",nodes)"
   ]
  },
  {
   "cell_type": "code",
   "execution_count": null,
   "metadata": {},
   "outputs": [],
   "source": []
  }
 ],
 "metadata": {
  "kernelspec": {
   "display_name": "Python (qtpyt)",
   "language": "python",
   "name": "qtpyt"
  },
  "language_info": {
   "codemirror_mode": {
    "name": "ipython",
    "version": 3
   },
   "file_extension": ".py",
   "mimetype": "text/x-python",
   "name": "python",
   "nbconvert_exporter": "python",
   "pygments_lexer": "ipython3",
   "version": "3.9.21"
  }
 },
 "nbformat": 4,
 "nbformat_minor": 2
}
