{
 "cells": [
  {
   "cell_type": "code",
   "execution_count": 1,
   "metadata": {},
   "outputs": [],
   "source": [
    "# Necessary when connecting to a jupyterhub kernel running on daint via VScode. NOT required otherwise\n",
    "\n",
    "import os\n",
    "\n",
    "new_path = '/users/ajayaraj/scratch/tests/qtpyt-tests/AuBDA13CH2'\n",
    "os.chdir(new_path)\n"
   ]
  },
  {
   "cell_type": "code",
   "execution_count": 2,
   "metadata": {},
   "outputs": [
    {
     "data": {
      "application/vnd.jupyter.widget-view+json": {
       "model_id": "31452191e6e448a1ac8e8723c563780f",
       "version_major": 2,
       "version_minor": 0
      },
      "text/plain": [
       "  0%|          | 0/4 [00:00<?, ?engine/s]"
      ]
     },
     "metadata": {},
     "output_type": "display_data"
    }
   ],
   "source": [
    "import ipcmagic\n",
    "import ipyparallel as ipp\n",
    "# start a cluster of 4 engines\n",
    "%ipcluster start -n 4 --launcher srun"
   ]
  },
  {
   "cell_type": "code",
   "execution_count": 3,
   "metadata": {},
   "outputs": [
    {
     "data": {
      "application/vnd.jupyter.widget-view+json": {
       "model_id": "7dcbaac609e44750b1b8765ff51cfad9",
       "version_major": 2,
       "version_minor": 0
      },
      "text/plain": [
       "%px:   0%|          | 0/4 [00:00<?, ?tasks/s]"
      ]
     },
     "metadata": {},
     "output_type": "display_data"
    },
    {
     "data": {
      "text/plain": [
       "[stderr:3] OMP: Info #276: omp_set_nested routine deprecated, please use omp_set_max_active_levels instead.\n"
      ]
     },
     "metadata": {},
     "output_type": "display_data"
    },
    {
     "data": {
      "text/plain": [
       "[stderr:1] OMP: Info #276: omp_set_nested routine deprecated, please use omp_set_max_active_levels instead.\n"
      ]
     },
     "metadata": {},
     "output_type": "display_data"
    },
    {
     "data": {
      "text/plain": [
       "[stderr:0] OMP: Info #276: omp_set_nested routine deprecated, please use omp_set_max_active_levels instead.\n"
      ]
     },
     "metadata": {},
     "output_type": "display_data"
    },
    {
     "data": {
      "text/plain": [
       "[stderr:2] OMP: Info #276: omp_set_nested routine deprecated, please use omp_set_max_active_levels instead.\n"
      ]
     },
     "metadata": {},
     "output_type": "display_data"
    }
   ],
   "source": [
    "%%px\n",
    "\n",
    "from pathlib import Path\n",
    "import matplotlib.pyplot as plt\n",
    "import numpy as np\n",
    "from gpaw import restart\n",
    "from gpaw.lcao.pwf2 import LCAOwrap\n",
    "from gpaw.lcao.tools import remove_pbc\n",
    "from matplotlib.colors import LinearSegmentedColormap, LogNorm\n",
    "from qtpyt.basis import Basis\n",
    "from qtpyt.lo.tools import rotate_matrix, subdiagonalize_atoms, cutcoupling\n",
    "from ase.io import read\n",
    "from qtpyt.basis import Basis\n",
    "from qtpyt.block_tridiag import graph_partition, greenfunction\n",
    "from qtpyt.surface.principallayer import PrincipalSelfEnergy\n",
    "from qtpyt.surface.tools import prepare_leads_matrices\n",
    "from qtpyt.tools import remove_pbc, rotate_couplings\n",
    "from copy import deepcopy\n",
    "from qtpyt.parallel import comm\n",
    "from qtpyt.parallel.egrid import GridDesc"
   ]
  },
  {
   "cell_type": "markdown",
   "metadata": {},
   "source": [
    "### Helper functions"
   ]
  },
  {
   "cell_type": "code",
   "execution_count": 4,
   "metadata": {},
   "outputs": [],
   "source": [
    "%%px\n",
    "\n",
    "def get_species_indices(atoms,species):\n",
    "    indices = []\n",
    "    for element in species:\n",
    "        element_indices = atoms.symbols.search(element)\n",
    "        indices.extend(element_indices)\n",
    "    return sorted(indices)\n"
   ]
  },
  {
   "cell_type": "markdown",
   "metadata": {},
   "source": [
    "### Control parameters"
   ]
  },
  {
   "cell_type": "code",
   "execution_count": 5,
   "metadata": {},
   "outputs": [],
   "source": [
    "%%px \n",
    "\n",
    "GPWDEVICEDIR = 'dft/device/'\n",
    "BRIDGE_SPECIES = (\"N\", \"C\", \"H\")\n",
    "GPWLEADSDIR = 'dft/leads/'"
   ]
  },
  {
   "cell_type": "code",
   "execution_count": 6,
   "metadata": {},
   "outputs": [],
   "source": [
    "%%px\n",
    "\n",
    "cmap_name = 'custom_white_red'\n",
    "colors = [(1, 1, 1), (166/255, 4/255, 4/255)]\n",
    "n_bins = 100\n",
    "cm = LinearSegmentedColormap.from_list(cmap_name, colors, N=n_bins)\n",
    "norm = LogNorm(vmin=0.1, vmax=10)"
   ]
  },
  {
   "cell_type": "code",
   "execution_count": 7,
   "metadata": {},
   "outputs": [
    {
     "data": {
      "application/vnd.jupyter.widget-view+json": {
       "model_id": "5c5b80c9a52548d88e8159e841488f8a",
       "version_major": 2,
       "version_minor": 0
      },
      "text/plain": [
       "%px:   0%|          | 0/4 [00:00<?, ?tasks/s]"
      ]
     },
     "metadata": {},
     "output_type": "display_data"
    },
    {
     "data": {
      "text/plain": [
       "[stdout:3] Condition number: 2.8e+04\n"
      ]
     },
     "metadata": {},
     "output_type": "display_data"
    },
    {
     "data": {
      "text/plain": [
       "[stdout:2] Condition number: 2.8e+04\n"
      ]
     },
     "metadata": {},
     "output_type": "display_data"
    },
    {
     "data": {
      "text/plain": [
       "[stdout:1] Condition number: 2.8e+04\n"
      ]
     },
     "metadata": {},
     "output_type": "display_data"
    },
    {
     "data": {
      "text/plain": [
       "[stdout:0] Condition number: 2.8e+04\n"
      ]
     },
     "metadata": {},
     "output_type": "display_data"
    }
   ],
   "source": [
    "%%px \n",
    "\n",
    "lowdin = True\n",
    "cc_path = Path(GPWDEVICEDIR)\n",
    "pl_path = Path(GPWLEADSDIR)\n",
    "gpwfile = f'{cc_path}/scatt.gpw'\n",
    "\n",
    "atoms, calc = restart(gpwfile, txt=None)\n",
    "fermi = calc.get_fermi_level()\n",
    "nao_a = np.array([setup.nao for setup in calc.wfs.setups])\n",
    "basis = Basis(atoms, nao_a)\n",
    "\n",
    "lcao = LCAOwrap(calc)\n",
    "H_lcao = lcao.get_hamiltonian()\n",
    "S_lcao = lcao.get_overlap()\n",
    "H_lcao -= fermi * S_lcao\n"
   ]
  },
  {
   "cell_type": "code",
   "execution_count": 8,
   "metadata": {},
   "outputs": [],
   "source": [
    "%%px \n",
    "\n",
    "bridge_indices = get_species_indices(atoms, BRIDGE_SPECIES)\n",
    "basis_bridge = basis[bridge_indices]\n",
    "bridge_orbital_indices = basis_bridge.get_indices()\n",
    "bridge_start = bridge_orbital_indices[0]\n",
    "bridge_end = bridge_orbital_indices[-1]"
   ]
  },
  {
   "cell_type": "code",
   "execution_count": 9,
   "metadata": {},
   "outputs": [],
   "source": [
    "%%px \n",
    "\n",
    "H_leads_lcao, S_leads_lcao = np.load(pl_path / 'hs_pl_k.npy')\n",
    "\n",
    "basis_dict = {'Au': 9, 'H': 5, 'C': 13, 'N': 13}\n",
    "\n",
    "leads_atoms = read(pl_path / 'leads.xyz')\n",
    "leads_basis = Basis.from_dictionary(leads_atoms, basis_dict)\n",
    "\n",
    "device_atoms = read(cc_path / 'scatt.xyz')\n",
    "device_basis = Basis.from_dictionary(device_atoms, basis_dict)\n",
    "\n",
    "nodes = [0,810,1116,1278,1584,2394]\n",
    "\n",
    "# Define the number of repetitions (Nr) and unit cell repetition in the leads\n",
    "Nr = (1, 5, 3)\n",
    "unit_cell_rep_in_leads = (5, 5, 3)\n",
    "\n",
    "# Define broadening factor for the Green's function calculation\n",
    "eta = 1e-3"
   ]
  },
  {
   "cell_type": "code",
   "execution_count": 10,
   "metadata": {},
   "outputs": [],
   "source": [
    "%%px\n",
    "\n",
    "# Define the path to the reference data for transmission\n",
    "ref_path = \"published_reference/transmission\"\n",
    "\n",
    "# Load the reference LCAO transmission data from a file, where reference is the data from \"Strong correlation effect paper\"\n",
    "E, Tref_dft = np.load(f\"{ref_path}/ET_dft.npy\")"
   ]
  },
  {
   "cell_type": "markdown",
   "metadata": {},
   "source": [
    "### Use the LCAO Hamiltonian to compute transmission function"
   ]
  },
  {
   "cell_type": "code",
   "execution_count": 11,
   "metadata": {},
   "outputs": [
    {
     "data": {
      "application/vnd.jupyter.widget-view+json": {
       "model_id": "a626229b12b1422f87dfbc95263ef89a",
       "version_major": 2,
       "version_minor": 0
      },
      "text/plain": [
       "%px:   0%|          | 0/4 [00:00<?, ?tasks/s]"
      ]
     },
     "metadata": {},
     "output_type": "display_data"
    },
    {
     "data": {
      "text/plain": [
       "[output:0]"
      ]
     },
     "metadata": {},
     "output_type": "display_data"
    },
    {
     "data": {
      "image/png": "[encoded data removed]",
      "text/plain": [
       "<Figure size 640x480 with 1 Axes>"
      ]
     },
     "metadata": {
      "engine": 0
     },
     "output_type": "display_data"
    }
   ],
   "source": [
    "%%px\n",
    "\n",
    "H_lcao2 = H_lcao[None,...]\n",
    "S_lcao2 = S_lcao[None,...]\n",
    "\n",
    "# Prepare the k-points and matrices for the leads (Hamiltonian and overlap matrices)\n",
    "kpts_t, h_leads_kii, s_leads_kii, h_leads_kij, s_leads_kij = prepare_leads_matrices(\n",
    "    H_leads_lcao, S_leads_lcao, unit_cell_rep_in_leads, align=(0, H_lcao2[0, 0, 0]))\n",
    "\n",
    "# Remove periodic boundary conditions (PBC) from the device Hamiltonian and overlap matrices\n",
    "remove_pbc(device_basis, H_lcao2)\n",
    "remove_pbc(device_basis, S_lcao2)\n",
    "\n",
    "# Initialize self-energy list for left and right leads\n",
    "self_energy = [None, None]\n",
    "self_energy[0] = PrincipalSelfEnergy(kpts_t, (h_leads_kii, s_leads_kii), (h_leads_kij, s_leads_kij), Nr=Nr)\n",
    "self_energy[1] = PrincipalSelfEnergy(kpts_t, (h_leads_kii, s_leads_kii), (h_leads_kij, s_leads_kij), Nr=Nr, id='right')\n",
    "\n",
    "# Rotate the couplings for the leads based on the specified basis and repetition Nr\n",
    "rotate_couplings(leads_basis, self_energy[0], Nr)\n",
    "rotate_couplings(leads_basis, self_energy[1], Nr)\n",
    "\n",
    "# Tridiagonalize the device Hamiltonian and overlap matrices based on the partitioned nodes\n",
    "hs_list_ii, hs_list_ij = graph_partition.tridiagonalize(nodes, H_lcao2[0], S_lcao2[0])\n",
    "\n",
    "# Initialize the Green's function solver with the tridiagonalized matrices and self-energies\n",
    "gf = greenfunction.GreenFunction(hs_list_ii,\n",
    "                                 hs_list_ij,\n",
    "                                 [(0, self_energy[0]),\n",
    "                                  (len(hs_list_ii) - 1, self_energy[1])],\n",
    "                                 solver='coupling',\n",
    "                                 eta=eta)\n",
    "# Define energy range for the Green's function calculation\n",
    "de = 0.01\n",
    "energies = np.arange(-3., 3. + de / 2., de).round(7)\n",
    "\n",
    "\n",
    "# Calculate the transmission function T for each energy in the defined range\n",
    "gd = GridDesc(energies, 1, float)\n",
    "T = np.empty(gd.energies.size)\n",
    "\n",
    "for e, energy in enumerate(gd.energies):\n",
    "    T[e] = gf.get_transmission(energy)\n",
    "\n",
    "T = gd.gather_energies(T)\n",
    "\n",
    "if comm.rank == 0:\n",
    "    # Plot the reference LCAO transmission data\n",
    "    plt.plot(E, Tref_dft, label=\"reference dft\")\n",
    "\n",
    "    # Plot the computed LCAO transmission data\n",
    "    plt.plot(energies, T, label=\"computed dft\")\n",
    "\n",
    "    # Set the y-axis to a logarithmic scale to better visualize the transmission data\n",
    "    plt.yscale(\"log\")\n",
    "    plt.xlim(-2,2)\n",
    "    plt.ylim(bottom=5e-5)\n",
    "    plt.legend()"
   ]
  },
  {
   "cell_type": "markdown",
   "metadata": {},
   "source": [
    "### Subdiagonalize C, N and H of LCAO Hamiltonian (Hamiltonian obtained directly from gpaw)"
   ]
  },
  {
   "cell_type": "code",
   "execution_count": 12,
   "metadata": {},
   "outputs": [
    {
     "data": {
      "application/vnd.jupyter.widget-view+json": {
       "model_id": "a100beea74af48b5b531774d4a66e1b9",
       "version_major": 2,
       "version_minor": 0
      },
      "text/plain": [
       "%px:   0%|          | 0/4 [00:00<?, ?tasks/s]"
      ]
     },
     "metadata": {},
     "output_type": "display_data"
    }
   ],
   "source": [
    "%%px \n",
    "\n",
    "# Perform subdiagonalization\n",
    "SUBDIAG_SPECIES = (\"C\", \"N\", \"H\")\n",
    "subdiag_indices = get_species_indices(atoms, SUBDIAG_SPECIES)\n",
    "Usub, eig = subdiagonalize_atoms(basis, H_lcao, S_lcao, a=subdiag_indices)\n",
    "\n",
    "# Rotate matrices\n",
    "H_sudiagonalized = rotate_matrix(H_lcao, Usub)[None, ...]\n",
    "S_sudiagonalized = rotate_matrix(S_lcao, Usub)[None, ...]\n"
   ]
  },
  {
   "cell_type": "markdown",
   "metadata": {},
   "source": [
    "### Compute and plot transmission function"
   ]
  },
  {
   "cell_type": "code",
   "execution_count": 13,
   "metadata": {},
   "outputs": [
    {
     "data": {
      "application/vnd.jupyter.widget-view+json": {
       "model_id": "d88fbb6a0a6b4e4ebb7d83da96bf5440",
       "version_major": 2,
       "version_minor": 0
      },
      "text/plain": [
       "%px:   0%|          | 0/4 [00:00<?, ?tasks/s]"
      ]
     },
     "metadata": {},
     "output_type": "display_data"
    }
   ],
   "source": [
    "%%px\n",
    "\n",
    "# Prepare the k-points and matrices for the leads (Hamiltonian and overlap matrices)\n",
    "kpts_t, h_leads_kii, s_leads_kii, h_leads_kij, s_leads_kij = prepare_leads_matrices(\n",
    "    H_leads_lcao, S_leads_lcao, unit_cell_rep_in_leads, align=(0, H_sudiagonalized[0, 0, 0]))\n",
    "\n",
    "# Remove periodic boundary conditions (PBC) from the device Hamiltonian and overlap matrices\n",
    "remove_pbc(device_basis, H_sudiagonalized)\n",
    "remove_pbc(device_basis, S_sudiagonalized)\n",
    "\n",
    "# Initialize self-energy list for left and right leads\n",
    "self_energy = [None, None]\n",
    "self_energy[0] = PrincipalSelfEnergy(kpts_t, (h_leads_kii, s_leads_kii), (h_leads_kij, s_leads_kij), Nr=Nr)\n",
    "self_energy[1] = PrincipalSelfEnergy(kpts_t, (h_leads_kii, s_leads_kii), (h_leads_kij, s_leads_kij), Nr=Nr, id='right')\n",
    "\n",
    "# Rotate the couplings for the leads based on the specified basis and repetition Nr\n",
    "rotate_couplings(leads_basis, self_energy[0], Nr)\n",
    "rotate_couplings(leads_basis, self_energy[1], Nr)\n",
    "\n",
    "# Tridiagonalize the device Hamiltonian and overlap matrices based on the partitioned nodes\n",
    "hs_list_ii, hs_list_ij = graph_partition.tridiagonalize(nodes, H_sudiagonalized[0], S_sudiagonalized[0])\n",
    "\n",
    "# Initialize the Green's function solver with the tridiagonalized matrices and self-energies\n",
    "gf = greenfunction.GreenFunction(hs_list_ii,\n",
    "                                 hs_list_ij,\n",
    "                                 [(0, self_energy[0]),\n",
    "                                  (len(hs_list_ii) - 1, self_energy[1])],\n",
    "                                 solver='coupling',\n",
    "                                 eta=eta)\n",
    "\n",
    "# Calculate the transmission function T for each energy in the defined range\n",
    "gd = GridDesc(energies, 1, float)\n",
    "T = np.empty(gd.energies.size)\n",
    "\n",
    "for e, energy in enumerate(gd.energies):\n",
    "    T[e] = gf.get_transmission(energy)\n",
    "\n",
    "T = gd.gather_energies(T)\n",
    "\n"
   ]
  },
  {
   "cell_type": "code",
   "execution_count": 14,
   "metadata": {},
   "outputs": [
    {
     "data": {
      "text/plain": [
       "[output:0]"
      ]
     },
     "metadata": {},
     "output_type": "display_data"
    },
    {
     "data": {
      "image/png": "[encoded data removed]",
      "text/plain": [
       "<Figure size 640x480 with 1 Axes>"
      ]
     },
     "metadata": {
      "engine": 0
     },
     "output_type": "display_data"
    }
   ],
   "source": [
    "%%px\n",
    "\n",
    "if comm.rank == 0:\n",
    "    # Plot the reference LCAO transmission data\n",
    "    plt.plot(E, Tref_dft, label=\"reference dft\")\n",
    "\n",
    "    # Plot the computed LCAO transmission data\n",
    "    plt.plot(energies, T, label=\"computed dft\")\n",
    "\n",
    "    # Set the y-axis to a logarithmic scale to better visualize the transmission data\n",
    "    plt.yscale(\"log\")\n",
    "    plt.xlim(-2,2)\n",
    "    plt.ylim(bottom=5e-5)\n",
    "    plt.legend()"
   ]
  },
  {
   "cell_type": "markdown",
   "metadata": {},
   "source": [
    "### Subdiagonalize only C and look at T(E) "
   ]
  },
  {
   "cell_type": "code",
   "execution_count": 15,
   "metadata": {},
   "outputs": [
    {
     "data": {
      "application/vnd.jupyter.widget-view+json": {
       "model_id": "b4a1ac4e2eea44e4aebfa1a24482ce83",
       "version_major": 2,
       "version_minor": 0
      },
      "text/plain": [
       "%px:   0%|          | 0/4 [00:00<?, ?tasks/s]"
      ]
     },
     "metadata": {},
     "output_type": "display_data"
    }
   ],
   "source": [
    "%%px\n",
    "\n",
    "# Define the species for subdiagonalization\n",
    "SUBDIAG_SPECIES = (\"C\")\n",
    "\n",
    "# Get the indices of atoms corresponding to the specified species in the basis\n",
    "subdiag_indices = get_species_indices(atoms, SUBDIAG_SPECIES)\n",
    "\n",
    "# Perform subdiagonalization on the Hamiltonian and overlap matrices using the selected species\n",
    "Usub, eig = subdiagonalize_atoms(basis, H_lcao, S_lcao, a=subdiag_indices)\n",
    "\n",
    "# Rotate the Hamiltonian and overlap matrices using the subdiagonalization matrix\n",
    "H_sudiagonalized = rotate_matrix(H_lcao, Usub)[None, ...]\n",
    "S_sudiagonalized = rotate_matrix(S_lcao, Usub)[None, ...]\n",
    "\n"
   ]
  },
  {
   "cell_type": "markdown",
   "metadata": {},
   "source": [
    "### Compute and plot transmission function"
   ]
  },
  {
   "cell_type": "code",
   "execution_count": 16,
   "metadata": {},
   "outputs": [
    {
     "data": {
      "application/vnd.jupyter.widget-view+json": {
       "model_id": "1e84695c3e804ce5831d3dcef24e01b2",
       "version_major": 2,
       "version_minor": 0
      },
      "text/plain": [
       "%px:   0%|          | 0/4 [00:00<?, ?tasks/s]"
      ]
     },
     "metadata": {},
     "output_type": "display_data"
    }
   ],
   "source": [
    "%%px\n",
    "\n",
    "# Prepare the k-points and matrices for the leads (Hamiltonian and overlap matrices)\n",
    "kpts_t, h_leads_kii, s_leads_kii, h_leads_kij, s_leads_kij = prepare_leads_matrices(\n",
    "    H_leads_lcao, S_leads_lcao, unit_cell_rep_in_leads, align=(0, H_sudiagonalized[0, 0, 0]))\n",
    "\n",
    "# Remove periodic boundary conditions (PBC) from the device Hamiltonian and overlap matrices\n",
    "remove_pbc(device_basis, H_sudiagonalized)\n",
    "remove_pbc(device_basis, S_sudiagonalized)\n",
    "\n",
    "# Initialize self-energy list for the left and right leads\n",
    "self_energy = [None, None]\n",
    "self_energy[0] = PrincipalSelfEnergy(\n",
    "    kpts_t,\n",
    "    (h_leads_kii, s_leads_kii),\n",
    "    (h_leads_kij, s_leads_kij),\n",
    "    Nr=Nr\n",
    ")\n",
    "self_energy[1] = PrincipalSelfEnergy(\n",
    "    kpts_t,\n",
    "    (h_leads_kii, s_leads_kii),\n",
    "    (h_leads_kij, s_leads_kij),\n",
    "    Nr=Nr,\n",
    "    id='right'\n",
    ")\n",
    "\n",
    "# Rotate the couplings for the leads based on the specified basis and repetition Nr\n",
    "rotate_couplings(leads_basis, self_energy[0], Nr)\n",
    "rotate_couplings(leads_basis, self_energy[1], Nr)\n",
    "\n",
    "\n",
    "# Tridiagonalize the device Hamiltonian and overlap matrices based on the partitioned nodes\n",
    "hs_list_ii, hs_list_ij = graph_partition.tridiagonalize(\n",
    "    nodes,\n",
    "    H_sudiagonalized[0],\n",
    "    S_sudiagonalized[0]\n",
    ")\n",
    "\n",
    "# Initialize the Green's function solver with the tridiagonalized matrices and self-energies\n",
    "gf = greenfunction.GreenFunction(\n",
    "    hs_list_ii,\n",
    "    hs_list_ij,\n",
    "    [\n",
    "        (0, self_energy[0]),  # Attach the left self-energy at the first node\n",
    "        (len(hs_list_ii) - 1, self_energy[1])  # Attach the right self-energy at the last node\n",
    "    ],\n",
    "    solver='coupling',\n",
    "    eta=eta\n",
    ")\n",
    "# Calculate the transmission function T for each energy in the defined range\n",
    "gd = GridDesc(energies, 1, float)\n",
    "T = np.empty(gd.energies.size)\n",
    "\n",
    "for e, energy in enumerate(gd.energies):\n",
    "    T[e] = gf.get_transmission(energy)\n",
    "\n",
    "T = gd.gather_energies(T)\n",
    "\n"
   ]
  },
  {
   "cell_type": "code",
   "execution_count": 17,
   "metadata": {},
   "outputs": [
    {
     "data": {
      "text/plain": [
       "[output:0]"
      ]
     },
     "metadata": {},
     "output_type": "display_data"
    },
    {
     "data": {
      "image/png": "[encoded data removed]",
      "text/plain": [
       "<Figure size 640x480 with 1 Axes>"
      ]
     },
     "metadata": {
      "engine": 0
     },
     "output_type": "display_data"
    }
   ],
   "source": [
    "%%px\n",
    "\n",
    "if comm.rank == 0:\n",
    "    # Plot the reference LCAO transmission data\n",
    "    plt.plot(E, Tref_dft, label=\"reference dft\")\n",
    "\n",
    "    # Plot the computed LCAO transmission data\n",
    "    plt.plot(energies, T, label=\"computed dft\")\n",
    "\n",
    "    # Set the y-axis to a logarithmic scale to better visualize the transmission data\n",
    "    plt.yscale(\"log\")\n",
    "    plt.xlim(-2,2)\n",
    "    plt.ylim(bottom=5e-5)\n",
    "    plt.legend()"
   ]
  },
  {
   "cell_type": "markdown",
   "metadata": {},
   "source": [
    "### Analysis\n",
    "\n",
    "- In all of the above computation of T(E), the following steps are taken\n",
    "  - The self energy of the left and right leads are computed. (How should we take into account the Au tips?)\n",
    "  - The Hamiltonian of the device (leads + bridge molecule) is subdiagonalized based on the atoms provided to subdiagonalize. This step is not done in the lcao Hamiltonian case (The first one) \n",
    "  - The H, S of the device are tridiagonalized. \n",
    "  - Green's function is computed with information from the tridiagonalized device Hamiltonian and the self-energies of the left and right leads.\n",
    "  - None of the above steps include any cut-coupling or embedding procedure.\n",
    "\n",
    "### Conclusion\n",
    "\n",
    "- The transmission function remains unchanged regardless of subdiagonalization (as expected).\n",
    "- The computed transmission functions are slightly shifted w.r.t the reference data.\n",
    "- The Fano peak computed by me is sharper than that of the reference and also slightly shifted away from 0 eV. The reference Fano peak is almost exactly at 0 eV? Is there a physical significance to the position of the Fano peak?\n",
    "- The peak around -2 eV is enhanced in my calculations compared to reference.\n"
   ]
  }
 ],
 "metadata": {
  "kernelspec": {
   "display_name": "CSCS Python",
   "language": "python",
   "name": "cscs"
  },
  "language_info": {
   "codemirror_mode": {
    "name": "ipython",
    "version": 3
   },
   "file_extension": ".py",
   "mimetype": "text/x-python",
   "name": "python",
   "nbconvert_exporter": "python",
   "pygments_lexer": "ipython3",
   "version": "3.9.4"
  }
 },
 "nbformat": 4,
 "nbformat_minor": 4
}
