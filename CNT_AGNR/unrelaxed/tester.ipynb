{
 "cells": [
  {
   "cell_type": "code",
   "execution_count": 1,
   "id": "22bdcb1e",
   "metadata": {},
   "outputs": [],
   "source": [
    "import numpy as np\n",
    "import matplotlib.pyplot as plt"
   ]
  },
  {
   "cell_type": "code",
   "execution_count": 7,
   "id": "94693d65",
   "metadata": {},
   "outputs": [
    {
     "name": "stdout",
     "output_type": "stream",
     "text": [
      "self_energy_shape (648, 648)\n",
      "nodes [    0  3888  6736 10624]\n",
      "index active region [    3    12    21 ... 10600 10609 10618]\n"
     ]
    }
   ],
   "source": [
    "data_folder = \"./output/no_lowdin/device\"\n",
    "self_energy = np.load(f\"{data_folder}/self_energy.npy\", allow_pickle=True)\n",
    "nodes = np.load(f\"{data_folder}/nodes.npy\")\n",
    "index_active_region = np.load(f\"{data_folder}/index_active_region.npy\")\n",
    "print(\"self_energy_shape\",self_energy[0].shape)\n",
    "print(\"nodes\",nodes)\n",
    "print(\"index active region\", index_active_region)\n"
   ]
  },
  {
   "cell_type": "code",
   "execution_count": 41,
   "id": "c60a03db",
   "metadata": {},
   "outputs": [],
   "source": [
    "def expand_sparse_self_energy(sigma_small, index_active, target_size, target_range):\n",
    "    \"\"\"\n",
    "    Expand a sparse self-energy matrix to a dense matrix of size (target_size, target_size),\n",
    "    inserting values only at the positions that lie within target_range.\n",
    "\n",
    "    Parameters\n",
    "    ----------\n",
    "    sigma_small : np.ndarray\n",
    "        (n_active, n_active) self-energy matrix in the active subspace.\n",
    "    index_active : np.ndarray\n",
    "        Indices in the full space where the active orbitals reside.\n",
    "    target_size : int\n",
    "        Size of the expanded self-energy matrix (typically a lead block size).\n",
    "    target_range : tuple\n",
    "        (start, end) range in full space corresponding to the lead region.\n",
    "\n",
    "    Returns\n",
    "    -------\n",
    "    sigma_expanded : np.ndarray\n",
    "        (target_size, target_size) full-sized self-energy with values inserted at appropriate indices.\n",
    "    \"\"\"\n",
    "    start, end = target_range\n",
    "    print(start,end)\n",
    "    sigma_expanded = np.zeros((target_size, target_size), dtype=complex)\n",
    "\n",
    "    # Map global indices to local within the lead block\n",
    "    local_indices = np.array([i - start for i in index_active if start <= i < end])\n",
    "    active_indices = np.array([i for i in index_active if start <= i < end])\n",
    "    print(local_indices)\n",
    "    print(active_indices)\n",
    "    if len(local_indices) == 0:\n",
    "        raise ValueError(\"No active orbitals found in the target range.\")\n",
    "\n",
    "    for i_new, i_old in enumerate(active_indices):\n",
    "        for j_new, j_old in enumerate(active_indices):\n",
    "            sigma_expanded[local_indices[i_new], local_indices[j_new]] = sigma_small[i_old, j_old]\n",
    "\n",
    "    return sigma_expanded\n"
   ]
  },
  {
   "cell_type": "code",
   "execution_count": 46,
   "id": "72a5f31e",
   "metadata": {},
   "outputs": [
    {
     "ename": "ValueError",
     "evalue": "Inconsistent shape: sigma_small is (648, 648) but 432 active orbitals found in lead range.",
     "output_type": "error",
     "traceback": [
      "\u001b[0;31m---------------------------------------------------------------------------\u001b[0m",
      "\u001b[0;31mValueError\u001b[0m                                Traceback (most recent call last)",
      "Cell \u001b[0;32mIn[46], line 1\u001b[0m\n\u001b[0;32m----> 1\u001b[0m sigma_left \u001b[38;5;241m=\u001b[39m \u001b[43mexpand_sparse_self_energy\u001b[49m\u001b[43m(\u001b[49m\n\u001b[1;32m      2\u001b[0m \u001b[43m    \u001b[49m\u001b[43msigma_small\u001b[49m\u001b[38;5;241;43m=\u001b[39;49m\u001b[43mself_energy\u001b[49m\u001b[43m[\u001b[49m\u001b[38;5;241;43m0\u001b[39;49m\u001b[43m]\u001b[49m\u001b[38;5;241;43m.\u001b[39;49m\u001b[43mSigma\u001b[49m\u001b[43m,\u001b[49m\n\u001b[1;32m      3\u001b[0m \u001b[43m    \u001b[49m\u001b[43mindex_active\u001b[49m\u001b[38;5;241;43m=\u001b[39;49m\u001b[43mindex_active_region\u001b[49m\u001b[43m,\u001b[49m\n\u001b[1;32m      4\u001b[0m \u001b[43m    \u001b[49m\u001b[43mtarget_size\u001b[49m\u001b[38;5;241;43m=\u001b[39;49m\u001b[43mnodes\u001b[49m\u001b[43m[\u001b[49m\u001b[38;5;241;43m1\u001b[39;49m\u001b[43m]\u001b[49m\u001b[43m \u001b[49m\u001b[38;5;241;43m-\u001b[39;49m\u001b[43m \u001b[49m\u001b[43mnodes\u001b[49m\u001b[43m[\u001b[49m\u001b[38;5;241;43m0\u001b[39;49m\u001b[43m]\u001b[49m\u001b[43m,\u001b[49m\n\u001b[1;32m      5\u001b[0m \u001b[43m    \u001b[49m\u001b[43mtarget_range\u001b[49m\u001b[38;5;241;43m=\u001b[39;49m\u001b[43m(\u001b[49m\u001b[43mnodes\u001b[49m\u001b[43m[\u001b[49m\u001b[38;5;241;43m0\u001b[39;49m\u001b[43m]\u001b[49m\u001b[43m,\u001b[49m\u001b[43m \u001b[49m\u001b[43mnodes\u001b[49m\u001b[43m[\u001b[49m\u001b[38;5;241;43m1\u001b[39;49m\u001b[43m]\u001b[49m\u001b[43m)\u001b[49m\n\u001b[1;32m      6\u001b[0m \u001b[43m)\u001b[49m\n\u001b[1;32m      8\u001b[0m sigma_right \u001b[38;5;241m=\u001b[39m expand_sparse_self_energy(\n\u001b[1;32m      9\u001b[0m     sigma_small\u001b[38;5;241m=\u001b[39mself_energy[\u001b[38;5;241m1\u001b[39m]\u001b[38;5;241m.\u001b[39mSigma,\n\u001b[1;32m     10\u001b[0m     index_active\u001b[38;5;241m=\u001b[39mindex_active_region,\n\u001b[1;32m     11\u001b[0m     target_size\u001b[38;5;241m=\u001b[39mnodes[\u001b[38;5;241m3\u001b[39m] \u001b[38;5;241m-\u001b[39m nodes[\u001b[38;5;241m2\u001b[39m],\n\u001b[1;32m     12\u001b[0m     target_range\u001b[38;5;241m=\u001b[39m(nodes[\u001b[38;5;241m2\u001b[39m], nodes[\u001b[38;5;241m3\u001b[39m])\n\u001b[1;32m     13\u001b[0m )\n",
      "Cell \u001b[0;32mIn[45], line 32\u001b[0m, in \u001b[0;36mexpand_sparse_self_energy\u001b[0;34m(sigma_small, index_active, target_size, target_range)\u001b[0m\n\u001b[1;32m     30\u001b[0m n_lead_active \u001b[38;5;241m=\u001b[39m \u001b[38;5;28mlen\u001b[39m(active_indices_in_this_lead)\n\u001b[1;32m     31\u001b[0m \u001b[38;5;28;01mif\u001b[39;00m sigma_small\u001b[38;5;241m.\u001b[39mshape[\u001b[38;5;241m0\u001b[39m] \u001b[38;5;241m!=\u001b[39m n_lead_active:\n\u001b[0;32m---> 32\u001b[0m     \u001b[38;5;28;01mraise\u001b[39;00m \u001b[38;5;167;01mValueError\u001b[39;00m(\n\u001b[1;32m     33\u001b[0m         \u001b[38;5;124mf\u001b[39m\u001b[38;5;124m\"\u001b[39m\u001b[38;5;124mInconsistent shape: sigma_small is \u001b[39m\u001b[38;5;132;01m{\u001b[39;00msigma_small\u001b[38;5;241m.\u001b[39mshape\u001b[38;5;132;01m}\u001b[39;00m\u001b[38;5;124m but \u001b[39m\u001b[38;5;132;01m{\u001b[39;00mn_lead_active\u001b[38;5;132;01m}\u001b[39;00m\u001b[38;5;124m active orbitals found in lead range.\u001b[39m\u001b[38;5;124m\"\u001b[39m\n\u001b[1;32m     34\u001b[0m     )\n\u001b[1;32m     36\u001b[0m \u001b[38;5;28;01mfor\u001b[39;00m i_new, i_act \u001b[38;5;129;01min\u001b[39;00m \u001b[38;5;28mzip\u001b[39m(local_indices, active_indices_in_this_lead):\n\u001b[1;32m     37\u001b[0m     \u001b[38;5;28;01mfor\u001b[39;00m j_new, j_act \u001b[38;5;129;01min\u001b[39;00m \u001b[38;5;28mzip\u001b[39m(local_indices, active_indices_in_this_lead):\n",
      "\u001b[0;31mValueError\u001b[0m: Inconsistent shape: sigma_small is (648, 648) but 432 active orbitals found in lead range."
     ]
    }
   ],
   "source": [
    "sigma_left = expand_sparse_self_energy(\n",
    "    sigma_small=self_energy[0].Sigma,\n",
    "    index_active=index_active_region,\n",
    "    target_size=nodes[1] - nodes[0],\n",
    "    target_range=(nodes[0], nodes[1])\n",
    ")\n",
    "\n",
    "sigma_right = expand_sparse_self_energy(\n",
    "    sigma_small=self_energy[1].Sigma,\n",
    "    index_active=index_active_region,\n",
    "    target_size=nodes[3] - nodes[2],\n",
    "    target_range=(nodes[2], nodes[3])\n",
    ")\n"
   ]
  },
  {
   "cell_type": "code",
   "execution_count": null,
   "id": "ade3edaa",
   "metadata": {},
   "outputs": [],
   "source": []
  }
 ],
 "metadata": {
  "kernelspec": {
   "display_name": "qtpyt",
   "language": "python",
   "name": "python3"
  },
  "language_info": {
   "codemirror_mode": {
    "name": "ipython",
    "version": 3
   },
   "file_extension": ".py",
   "mimetype": "text/x-python",
   "name": "python",
   "nbconvert_exporter": "python",
   "pygments_lexer": "ipython3",
   "version": "3.9.21"
  }
 },
 "nbformat": 4,
 "nbformat_minor": 5
}
