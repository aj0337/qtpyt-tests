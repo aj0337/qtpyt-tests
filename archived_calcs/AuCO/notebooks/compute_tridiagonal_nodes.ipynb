{
 "cells": [
  {
   "cell_type": "code",
   "execution_count": 2,
   "metadata": {},
   "outputs": [
    {
     "name": "stderr",
     "output_type": "stream",
     "text": [
      "[anooja-ThinkPad-X1-Carbon-Gen-11:16236] mca_base_component_repository_open: unable to open mca_btl_openib: librdmacm.so.1: cannot open shared object file: No such file or directory (ignored)\n"
     ]
    }
   ],
   "source": [
    "import numpy as np\n",
    "import matplotlib.pyplot as plt\n",
    "from ase.io import read"
   ]
  },
  {
   "cell_type": "code",
   "execution_count": 12,
   "metadata": {},
   "outputs": [
    {
     "data": {
      "text/plain": [
       "[0, 30, 38, 62]"
      ]
     },
     "execution_count": 12,
     "metadata": {},
     "output_type": "execute_result"
    }
   ],
   "source": [
    "atoms = read(\"../dft/device/scatt.xyz\")\n",
    "y_threshold = 4.0\n",
    "\n",
    "# Get atomic symbols and z coordinates\n",
    "symbols = atoms.get_chemical_symbols()\n",
    "x_coords = atoms.positions[:, 0]\n",
    "y_coords = atoms.positions[:, 1]\n",
    "\n",
    "# Count atoms in the leads\n",
    "num_atoms_bridge = np.sum(y_coords > y_threshold)\n",
    "\n",
    "# Atoms per lead (assuming symmetric leads)\n",
    "num_atoms_left_lead = 5\n",
    "num_atoms_right_lead = 4\n",
    "\n",
    "\n",
    "num_spherical_harmonics = {\"Au\": 6, \"C\": 4, \"O\": 4}\n",
    "\n",
    "# Count spherical harmonics in left lead\n",
    "left_lead_indices = np.argsort(x_coords)[:num_atoms_left_lead]\n",
    "total_sph_left_lead = sum(num_spherical_harmonics[symbols[i]] for i in left_lead_indices)\n",
    "\n",
    "# Count spherical harmonics in the bridge\n",
    "bridge_indices = np.argsort(x_coords)[num_atoms_left_lead:num_atoms_left_lead + num_atoms_bridge]\n",
    "total_sph_bridge = sum(num_spherical_harmonics[symbols[i]] for i in bridge_indices)\n",
    "\n",
    "# Count spherical harmonics in right lead\n",
    "right_lead_indices = np.argsort(x_coords)[-num_atoms_right_lead:]\n",
    "total_sph_right_lead = sum(num_spherical_harmonics[symbols[i]] for i in right_lead_indices)\n",
    "\n",
    "# Populate nodes\n",
    "nodes = [\n",
    "    0,\n",
    "    total_sph_left_lead,\n",
    "    total_sph_left_lead + total_sph_bridge,\n",
    "    total_sph_left_lead + total_sph_bridge + total_sph_right_lead]\n",
    "nodes"
   ]
  },
  {
   "cell_type": "code",
   "execution_count": 13,
   "metadata": {},
   "outputs": [
    {
     "data": {
      "text/plain": [
       "2"
      ]
     },
     "execution_count": 13,
     "metadata": {},
     "output_type": "execute_result"
    }
   ],
   "source": [
    "num_atoms_bridge"
   ]
  },
  {
   "cell_type": "code",
   "execution_count": 14,
   "metadata": {},
   "outputs": [
    {
     "data": {
      "text/plain": [
       "(array([0, 1, 2, 3, 4]), array([5, 6]), array([ 7,  8,  9, 10]))"
      ]
     },
     "execution_count": 14,
     "metadata": {},
     "output_type": "execute_result"
    }
   ],
   "source": [
    "left_lead_indices, bridge_indices, right_lead_indices"
   ]
  },
  {
   "cell_type": "code",
   "execution_count": null,
   "metadata": {},
   "outputs": [],
   "source": [
    "output_folder = \"../block_tridiagonal_gf/output/no_lowdin\"\n",
    "np.save(f\"{output_folder}/nodes.npy\", nodes)"
   ]
  },
  {
   "cell_type": "code",
   "execution_count": null,
   "metadata": {},
   "outputs": [],
   "source": []
  }
 ],
 "metadata": {
  "kernelspec": {
   "display_name": "guido-edpyt-qtpyt",
   "language": "python",
   "name": "python3"
  },
  "language_info": {
   "codemirror_mode": {
    "name": "ipython",
    "version": 3
   },
   "file_extension": ".py",
   "mimetype": "text/x-python",
   "name": "python",
   "nbconvert_exporter": "python",
   "pygments_lexer": "ipython3",
   "version": "3.9.21"
  }
 },
 "nbformat": 4,
 "nbformat_minor": 2
}
