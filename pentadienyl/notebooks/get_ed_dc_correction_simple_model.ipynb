{
 "cells": [
  {
   "cell_type": "code",
   "execution_count": 1,
   "id": "bef68cb7",
   "metadata": {},
   "outputs": [
    {
     "name": "stderr",
     "output_type": "stream",
     "text": [
      "/users/ajayaraj/miniconda3/envs/qtpyt/lib/python3.9/site-packages/numba/cpython/hashing.py:524: UserWarning: FNV hashing is not implemented in Numba. See PEP 456 https://www.python.org/dev/peps/pep-0456/ for rationale over not using FNV. Numba will continue to work, but hashes for built in types will be computed using siphash24. This will permit e.g. dictionaries to continue to behave as expected, however anything relying on the value of the hash opposed to hash as a derived property is likely to not work as expected.\n",
      "  warnings.warn(msg)\n"
     ]
    }
   ],
   "source": [
    "import os\n",
    "import numpy as np\n",
    "import matplotlib.pyplot as plt\n",
    "\n",
    "\n",
    "from scipy.optimize import broyden1\n",
    "\n",
    "from edpyt.shared import params\n",
    "from edpyt.espace import build_espace, screen_espace\n",
    "from edpyt.gf2_lanczos import build_gf2_lanczos\n",
    "new_path = '/capstor/scratch/cscs/ajayaraj/qtpyt-tests/pentadienyl'\n",
    "os.chdir(new_path)"
   ]
  },
  {
   "cell_type": "code",
   "execution_count": null,
   "id": "767edb6e",
   "metadata": {},
   "outputs": [],
   "source": [
    "# === Load inputs ===\n",
    "input_folder = \"output/lowdin\"\n",
    "output_folder = \"output/lowdin/beta_1000/ed\"\n",
    "os.makedirs(output_folder, exist_ok=True)\n",
    "\n",
    "H_eff = np.load(f\"{input_folder}/effective_hamiltonian.npy\")\n",
    "occupancy_goal = np.load(f\"{input_folder}/beta_1000/occupancies.npy\")\n",
    "V = np.loadtxt(f\"{input_folder}/U_matrix.txt\")\n",
    "\n",
    "# === Parameters ===\n",
    "nimp = H_eff.shape[0]\n",
    "eta = 1e-3\n",
    "beta = 1000\n",
    "\n",
    "# === Initial double counting ===\n",
    "DC0 = np.diag(V.diagonal() * (occupancy_goal - 0.5))\n",
    "neig = np.ones((nimp + 1) * (nimp + 1), int) * 6\n",
    "\n",
    "params[\"z\"] = occupancy_goal\n",
    "\n",
    "# Precompute reference ratio structure\n",
    "dc0_diag = DC0.diagonal()\n",
    "\n",
    "# Initial guess\n",
    "x0 = dc0_diag.copy()\n"
   ]
  },
  {
   "cell_type": "code",
   "execution_count": null,
   "id": "5349f661",
   "metadata": {},
   "outputs": [],
   "source": [
    "class Sigma:\n",
    "    def __init__(self, gf0, gf, H_eff, eta=1e-5):\n",
    "        self.gf0 = gf0\n",
    "        self.gf = gf\n",
    "        self.eta = eta\n",
    "        self.H_eff = H_eff\n",
    "\n",
    "    def retarded(self, energy):\n",
    "        energies = np.atleast_1d(energy)\n",
    "        g0 = self.gf0(energies, self.eta)\n",
    "        g = self.gf(energies, self.eta)\n",
    "        sigma = np.empty((energies.size, self.gf.n, self.gf.n), complex)\n",
    "        for e, energy in enumerate(energies):\n",
    "            sigma[e] = np.linalg.inv(g0[..., e]) - np.linalg.inv(g[..., e])\n",
    "        return sigma\n",
    "\n",
    "def residual_function(dc_diag):\n",
    "    # Clip only the lower bound\n",
    "    dc_diag = np.clip(dc_diag, 0.0, np.inf)\n",
    "\n",
    "    DC = np.diag(dc_diag)\n",
    "    espace, egs = build_espace(H_eff - DC, V, neig_sector=neig)\n",
    "    screen_espace(espace, egs, beta)\n",
    "    gf = build_gf2_lanczos(H_eff - DC, V, espace, beta, egs)\n",
    "    sigma = Sigma( gf, H_eff, eta=eta)\n",
    "\n",
    "    # Get physical residual from Σ at large negative frequency\n",
    "    energies = np.array([-1.0])\n",
    "    sig_cost = sigma.retarded(energies)\n",
    "    sig_real_diag = sig_cost.real.diagonal(axis1=1, axis2=2)\n",
    "    residual = np.sum(sig_real_diag, axis=0)\n",
    "\n",
    "    # Logging\n",
    "    residual_norm = np.linalg.norm(residual)\n",
    "    print(f\"[Broyden] Residual norm: {residual_norm:.6e}, DC_diag: {dc_diag}\")\n",
    "\n",
    "    return residual"
   ]
  },
  {
   "cell_type": "code",
   "execution_count": 15,
   "id": "cebd1aaf",
   "metadata": {},
   "outputs": [],
   "source": [
    "espace, egs = build_espace(H_eff, np.zeros_like(H_eff), neig_sector=neig)\n",
    "screen_espace(espace, egs, beta)\n",
    "gf0 = build_gf2_lanczos(H_eff, np.zeros_like(H_eff), espace, beta, egs)"
   ]
  },
  {
   "cell_type": "code",
   "execution_count": null,
   "id": "7f841741",
   "metadata": {},
   "outputs": [
    {
     "data": {
      "text/plain": [
       "array([[ 3.78852376+1.00000000e-03j, -1.91421496+2.92298498e-17j,\n",
       "        -0.07734793-4.92932886e-17j, -0.0271844 -1.37020345e-17j,\n",
       "         0.03608719-1.33265278e-17j,  0.12214289-7.91292874e-18j,\n",
       "        -0.21345702-5.03084545e-18j],\n",
       "       [-1.91421496+2.90238356e-17j, -0.39382748+1.00000000e-03j,\n",
       "        -3.01443925+4.31655799e-17j,  0.1167535 -5.66033351e-18j,\n",
       "         0.0506806 +3.12470621e-17j, -0.09506318+9.26389841e-18j,\n",
       "         0.08246743-5.87401180e-18j],\n",
       "       [-0.07734793-4.95655719e-17j, -3.01443925+4.29350035e-17j,\n",
       "        -0.82737575+1.00000000e-03j,  2.75190579-4.90937638e-17j,\n",
       "        -0.05983166+4.36270229e-17j, -0.05195454+4.80016054e-18j,\n",
       "        -0.03239373-1.80611317e-17j],\n",
       "       [-0.0271844 -1.37427180e-17j,  0.1167535 -5.45743028e-18j,\n",
       "         2.75190579-4.93543978e-17j, -1.00316445+1.00000000e-03j,\n",
       "         2.78327605-1.48607025e-17j, -0.11081976+3.17665893e-17j,\n",
       "         0.05150389-4.93012217e-17j],\n",
       "       [ 0.03608719-1.38821233e-17j,  0.0506806 +3.09748401e-17j,\n",
       "        -0.05983166+4.33816587e-17j,  2.78327605-1.49527223e-17j,\n",
       "        -0.83100144+1.00000000e-03j,  2.89955025+6.95623136e-18j,\n",
       "         0.05382939-1.28100245e-17j],\n",
       "       [ 0.12214289-7.88456120e-18j, -0.09506318+8.60363313e-18j,\n",
       "        -0.05195454+4.70860031e-18j, -0.11081976+3.14109706e-17j,\n",
       "         2.89955025+7.72509687e-18j, -0.27246946+1.00000000e-03j,\n",
       "        -2.48144521-7.70781639e-17j],\n",
       "       [-0.21345702-5.44356773e-18j,  0.08246743-6.51746831e-18j,\n",
       "        -0.03239373-1.87755340e-17j,  0.05150389-4.88603030e-17j,\n",
       "         0.05382939-1.30398900e-17j, -2.48144521-7.66443505e-17j,\n",
       "         3.49872474+1.00000000e-03j]])"
      ]
     },
     "execution_count": 28,
     "metadata": {},
     "output_type": "execute_result"
    }
   ],
   "source": [
    "energy = np.array([-1.0])\n",
    "gf0_1 = gf0(energy,eta=eta)\n",
    "gf0_1 = np.array(gf0_1)[:,:,0]\n",
    "gf0_inv = np.linalg.inv(gf0_1)\n",
    "gf0_inv"
   ]
  },
  {
   "cell_type": "code",
   "execution_count": 35,
   "id": "2dcd85f0",
   "metadata": {},
   "outputs": [
    {
     "data": {
      "text/plain": [
       "array([[ 3.7884749 +1.01532389e-03j, -2.12605744+3.88961645e-05j,\n",
       "        -0.2162145 +2.52769841e-06j,  0.02106961+4.61992605e-05j,\n",
       "         0.06868882-5.43227785e-06j,  0.06249947-3.52046289e-05j,\n",
       "        -0.23254974-1.59316793e-05j],\n",
       "       [-2.12605744+3.88961645e-05j, -0.39442507+1.16216798e-03j,\n",
       "        -3.94116062+8.80078480e-06j,  0.42768896+1.83494485e-04j,\n",
       "         0.18705867-2.05247903e-05j, -0.37654515-1.40547803e-04j,\n",
       "        -0.01838446-6.28158920e-05j],\n",
       "       [-0.2162145 +2.52769841e-06j, -3.94116062+8.80078480e-06j,\n",
       "        -0.82761675+1.02069766e-03j,  3.51363621+5.10576102e-06j,\n",
       "        -0.08979733-5.26864549e-06j, -0.22538275+1.91485181e-08j,\n",
       "        -0.09741978+4.33304047e-07j],\n",
       "       [ 0.02106961+4.61992605e-05j,  0.42768896+1.83494485e-04j,\n",
       "         3.51363621+5.10576102e-06j, -1.00312543+1.31194459e-03j,\n",
       "         3.661596  -2.50912474e-05j, -0.48619441-2.29487294e-04j,\n",
       "        -0.04597498-1.01588629e-04j],\n",
       "       [ 0.06868882-5.43227785e-06j,  0.18705867-2.05247903e-05j,\n",
       "        -0.08979733-5.26864549e-06j,  3.661596  -2.50912474e-05j,\n",
       "        -0.83113923+1.02673071e-03j,  3.91433365+1.54149265e-05j,\n",
       "         0.2782697 +6.38775393e-06j],\n",
       "       [ 0.06249947-3.52046289e-05j, -0.37654515-1.40547803e-04j,\n",
       "        -0.22538275+1.91485181e-08j, -0.48619441-2.29487294e-04j,\n",
       "         3.91433365+1.54149265e-05j, -0.27236611+1.24108687e-03j,\n",
       "        -2.84315998+1.02148500e-04j],\n",
       "       [-0.23254974-1.59316793e-05j, -0.01838446-6.28158920e-05j,\n",
       "        -0.09741978+4.33304047e-07j, -0.04597498-1.01588629e-04j,\n",
       "         0.2782697 +6.38775393e-06j, -2.84315998+1.02148500e-04j,\n",
       "         3.49856253+1.05833761e-03j]])"
      ]
     },
     "execution_count": 35,
     "metadata": {},
     "output_type": "execute_result"
    }
   ],
   "source": [
    "gf_1 = gf(energy,eta=eta)\n",
    "gf_1 = np.array(gf_1)[:,:,0]\n",
    "gf_inv = np.linalg.inv(gf_1)\n",
    "gf_inv"
   ]
  },
  {
   "cell_type": "code",
   "execution_count": 30,
   "id": "bbcdeb71",
   "metadata": {},
   "outputs": [
    {
     "data": {
      "text/plain": [
       "array([[ 4.88533125e-05-1.53238914e-05j,  2.11842485e-01-3.88961646e-05j,\n",
       "         1.38866567e-01-2.52769842e-06j, -4.82540126e-02-4.61992605e-05j,\n",
       "        -3.26016348e-02+5.43227785e-06j,  5.96434214e-02+3.52046289e-05j,\n",
       "         1.90927111e-02+1.59316793e-05j],\n",
       "       [ 2.11842485e-01-3.88961646e-05j,  5.97589258e-04-1.62167977e-04j,\n",
       "         9.26721370e-01-8.80078480e-06j, -3.10935460e-01-1.83494485e-04j,\n",
       "        -1.36378070e-01+2.05247903e-05j,  2.81481965e-01+1.40547803e-04j,\n",
       "         1.00851882e-01+6.28158920e-05j],\n",
       "       [ 1.38866567e-01-2.52769842e-06j,  9.26721370e-01-8.80078480e-06j,\n",
       "         2.40998652e-04-2.06976622e-05j, -7.61730417e-01-5.10576102e-06j,\n",
       "         2.99656683e-02+5.26864548e-06j,  1.73428206e-01-1.91485166e-08j,\n",
       "         6.50260557e-02-4.33304047e-07j],\n",
       "       [-4.82540126e-02-4.61992605e-05j, -3.10935460e-01-1.83494485e-04j,\n",
       "        -7.61730417e-01-5.10576102e-06j, -3.90159127e-05-3.11944593e-04j,\n",
       "        -8.78319951e-01+2.50912474e-05j,  3.75374650e-01+2.29487294e-04j,\n",
       "         9.74788728e-02+1.01588629e-04j],\n",
       "       [-3.26016348e-02+5.43227785e-06j, -1.36378070e-01+2.05247903e-05j,\n",
       "         2.99656683e-02+5.26864548e-06j, -8.78319951e-01+2.50912474e-05j,\n",
       "         1.37783887e-04-2.67307098e-05j, -1.01478340e+00-1.54149265e-05j,\n",
       "        -2.24440309e-01-6.38775393e-06j],\n",
       "       [ 5.96434214e-02+3.52046289e-05j,  2.81481965e-01+1.40547803e-04j,\n",
       "         1.73428206e-01-1.91485166e-08j,  3.75374650e-01+2.29487294e-04j,\n",
       "        -1.01478340e+00-1.54149265e-05j, -1.03346399e-04-2.41086866e-04j,\n",
       "         3.61714773e-01-1.02148500e-04j],\n",
       "       [ 1.90927111e-02+1.59316793e-05j,  1.00851882e-01+6.28158920e-05j,\n",
       "         6.50260557e-02-4.33304047e-07j,  9.74788728e-02+1.01588629e-04j,\n",
       "        -2.24440309e-01-6.38775393e-06j,  3.61714773e-01-1.02148500e-04j,\n",
       "         1.62207392e-04-5.83376073e-05j]])"
      ]
     },
     "execution_count": 30,
     "metadata": {},
     "output_type": "execute_result"
    }
   ],
   "source": [
    "gf0_inv-gf_inv"
   ]
  },
  {
   "cell_type": "code",
   "execution_count": 31,
   "id": "693c796d",
   "metadata": {},
   "outputs": [],
   "source": [
    "de = 0.01\n",
    "energies = np.arange(-3, 3 + de / 2.0, de).round(7)\n",
    "eta = 1e-3\n",
    "\n",
    "espace, egs = build_espace(H_eff - DC0, V, neig_sector=neig)\n",
    "screen_espace(espace, egs, beta)\n",
    "gf = build_gf2_lanczos(H_eff - DC0, V, espace, beta, egs)\n",
    "sigma = Sigma(gf, H_eff, eta=3e-2)\n",
    "sigma_ret = sigma.retarded(energies)\n",
    "# np.save(f\"{output_folder}/sigma_abinit.npy\", sigma_ret)\n"
   ]
  },
  {
   "cell_type": "code",
   "execution_count": null,
   "id": "5ae5555e",
   "metadata": {},
   "outputs": [],
   "source": [
    "sigma_ref = np.load(\"reference/sigma_ed.npy\")\n",
    "np.round(sigma_ref[0],5)"
   ]
  },
  {
   "cell_type": "code",
   "execution_count": null,
   "id": "107815fd",
   "metadata": {},
   "outputs": [
    {
     "data": {
      "text/plain": [
       "array([[ 0.042  -5.400e-04j, -0.20999+1.410e-03j, -0.14253+7.000e-05j,\n",
       "        -0.05437-1.750e-03j,  0.03506-2.000e-04j,  0.06826+1.400e-03j,\n",
       "         0.02516+6.600e-04j],\n",
       "       [-0.20999+1.410e-03j, -0.14289-5.570e-03j,  0.93223-2.300e-04j,\n",
       "         0.32793+6.620e-03j, -0.13489+7.500e-04j, -0.29843-5.310e-03j,\n",
       "        -0.1158 -2.520e-03j],\n",
       "       [-0.14253+7.000e-05j,  0.93223-2.300e-04j,  0.05644-6.200e-04j,\n",
       "         0.75422+1.000e-04j,  0.02843+1.600e-04j, -0.16886+4.000e-05j,\n",
       "        -0.06718+3.000e-05j],\n",
       "       [-0.05437-1.750e-03j,  0.32793+6.620e-03j,  0.75422+1.000e-04j,\n",
       "        -0.31032-1.104e-02j,  0.87969-9.600e-04j,  0.40881+8.540e-03j,\n",
       "         0.11936+4.020e-03j],\n",
       "       [ 0.03506-2.000e-04j, -0.13489+7.500e-04j,  0.02843+1.600e-04j,\n",
       "         0.87969-9.600e-04j,  0.06827-8.300e-04j,  1.01447+6.600e-04j,\n",
       "         0.23074+3.000e-04j],\n",
       "       [ 0.06826+1.400e-03j, -0.29843-5.310e-03j, -0.16886+4.000e-05j,\n",
       "         0.40881+8.540e-03j,  1.01447+6.600e-04j, -0.26852-8.830e-03j,\n",
       "         0.34189-4.010e-03j],\n",
       "       [ 0.02516+6.600e-04j, -0.1158 -2.520e-03j, -0.06718+3.000e-05j,\n",
       "         0.11936+4.020e-03j,  0.23074+3.000e-04j,  0.34189-4.010e-03j,\n",
       "         0.03951-2.310e-03j]])"
      ]
     },
     "execution_count": 6,
     "metadata": {},
     "output_type": "execute_result"
    }
   ],
   "source": []
  },
  {
   "cell_type": "code",
   "execution_count": 79,
   "id": "50b70f7b",
   "metadata": {},
   "outputs": [
    {
     "name": "stdout",
     "output_type": "stream",
     "text": [
      "[Broyden] Residual norm: 2.114902e+00, DC_diag: [5.46515887 1.97886514 2.52035611 2.22202704 2.7152016  2.12250731\n",
      " 5.90703705]\n",
      "[Broyden] Residual norm: 2.362296e+00, DC_diag: [3.11307469 3.28217026 4.23748965 3.7732374  4.5134989  3.76731898\n",
      " 3.80085714]\n",
      "[Broyden] Residual norm: 2.784512e-01, DC_diag: [4.52254297 2.50117473 3.20851064 2.84368657 3.43588313 2.78167829\n",
      " 5.06296919]\n",
      "0:  |F(x)| = 0.151262; step 0.400758\n",
      "[Broyden] Residual norm: 1.683121e-01, DC_diag: [4.44489596 2.4590732  3.42138892 3.01129126 3.67796451 2.70982219\n",
      " 4.97293117]\n",
      "1:  |F(x)| = 0.119863; step 1\n",
      "[Broyden] Residual norm: 9.861978e-02, DC_diag: [4.41136119 2.55134217 3.33959801 3.01924605 3.56878418 2.86848879\n",
      " 4.94874025]\n",
      "2:  |F(x)| = 0.0670133; step 1\n",
      "[Broyden] Residual norm: 4.094316e-02, DC_diag: [4.3979653  2.52910658 3.36982129 2.96484483 3.61795738 2.80483911\n",
      " 4.94415642]\n",
      "3:  |F(x)| = 0.0345809; step 1\n",
      "[Broyden] Residual norm: 1.963286e-02, DC_diag: [4.41691468 2.5258762  3.36814621 3.00998703 3.60656749 2.81724678\n",
      " 4.95263478]\n",
      "4:  |F(x)| = 0.016433; step 1\n",
      "[Broyden] Residual norm: 6.892592e-04, DC_diag: [4.41063142 2.52556001 3.36838893 2.99572177 3.61055144 2.81331944\n",
      " 4.94994629]\n",
      "5:  |F(x)| = 0.000597589; step 1\n"
     ]
    }
   ],
   "source": [
    "dc_diag_optimized = broyden1(\n",
    "    residual_function,\n",
    "    x0,\n",
    "    f_tol=1e-3,\n",
    "    maxiter=50,\n",
    "    verbose=True,\n",
    ")"
   ]
  },
  {
   "cell_type": "code",
   "execution_count": 32,
   "id": "bd3ebbe4",
   "metadata": {},
   "outputs": [],
   "source": [
    "dc_diag_optimized = np.load(f\"{output_folder}/ed_dcc_diag_-1ev.npy\")\n",
    "DC = np.diag(dc_diag_optimized)\n",
    "espace, egs = build_espace(H_eff - DC, V, neig_sector=neig)\n",
    "screen_espace(espace, egs, beta)\n",
    "gf = build_gf2_lanczos(H_eff - DC, V, espace, beta, egs)\n",
    "sigma = Sigma( gf, H_eff, eta=3e-2)\n",
    "sigma_ret = sigma.retarded(energies)\n",
    "sigma_ret_trace = np.trace(sigma_ret, axis1=1, axis2=2)"
   ]
  },
  {
   "cell_type": "code",
   "execution_count": 36,
   "id": "55477093",
   "metadata": {},
   "outputs": [
    {
     "data": {
      "text/plain": [
       "array([[ 4.88533080e-05-1.01532389e-03j, -7.88157515e-01-3.88961645e-05j,\n",
       "        -8.61133433e-01-2.52769841e-06j, -1.04825401e+00-4.61992605e-05j,\n",
       "        -1.03260163e+00+5.43227785e-06j, -9.40356579e-01+3.52046289e-05j,\n",
       "        -9.80907289e-01+1.59316793e-05j],\n",
       "       [-7.88157515e-01-3.88961645e-05j,  5.97589228e-04-1.16216798e-03j,\n",
       "        -7.32786300e-02-8.80078480e-06j, -1.31093546e+00-1.83494485e-04j,\n",
       "        -1.13637807e+00+2.05247903e-05j, -7.18518035e-01+1.40547803e-04j,\n",
       "        -8.99148118e-01+6.28158920e-05j],\n",
       "       [-8.61133433e-01-2.52769841e-06j, -7.32786300e-02-8.80078480e-06j,\n",
       "         2.40998665e-04-1.02069766e-03j, -1.76173042e+00-5.10576102e-06j,\n",
       "        -9.70034332e-01+5.26864549e-06j, -8.26571794e-01-1.91485181e-08j,\n",
       "        -9.34973944e-01-4.33304047e-07j],\n",
       "       [-1.04825401e+00-4.61992605e-05j, -1.31093546e+00-1.83494485e-04j,\n",
       "        -1.76173042e+00-5.10576102e-06j, -3.90159539e-05-1.31194459e-03j,\n",
       "        -1.87831995e+00+2.50912474e-05j, -6.24625350e-01+2.29487294e-04j,\n",
       "        -9.02521127e-01+1.01588629e-04j],\n",
       "       [-1.03260163e+00+5.43227785e-06j, -1.13637807e+00+2.05247903e-05j,\n",
       "        -9.70034332e-01+5.26864549e-06j, -1.87831995e+00+2.50912474e-05j,\n",
       "         1.37783898e-04-1.02673071e-03j, -2.01478340e+00-1.54149265e-05j,\n",
       "        -1.22444031e+00-6.38775393e-06j],\n",
       "       [-9.40356579e-01+3.52046289e-05j, -7.18518035e-01+1.40547803e-04j,\n",
       "        -8.26571794e-01-1.91485181e-08j, -6.24625350e-01+2.29487294e-04j,\n",
       "        -2.01478340e+00-1.54149265e-05j, -1.03346433e-04-1.24108687e-03j,\n",
       "        -6.38285227e-01-1.02148500e-04j],\n",
       "       [-9.80907289e-01+1.59316793e-05j, -8.99148118e-01+6.28158920e-05j,\n",
       "        -9.34973944e-01-4.33304047e-07j, -9.02521127e-01+1.01588629e-04j,\n",
       "        -1.22444031e+00-6.38775393e-06j, -6.38285227e-01-1.02148500e-04j,\n",
       "         1.62207380e-04-1.05833761e-03j]])"
      ]
     },
     "execution_count": 36,
     "metadata": {},
     "output_type": "execute_result"
    }
   ],
   "source": [
    "energy - sigma.H_eff - np.linalg.inv(gf_1)"
   ]
  },
  {
   "cell_type": "code",
   "execution_count": 13,
   "id": "7e5fda60",
   "metadata": {},
   "outputs": [
    {
     "data": {
      "text/plain": [
       "array([[ 0.04144-3.234e-02j, -2.69526-6.480e-03j, -2.83828-2.270e-03j,\n",
       "        -3.0086 -4.200e-04j, -3.05753+2.210e-03j, -2.90684-6.920e-03j,\n",
       "        -2.95929-3.970e-03j],\n",
       "       [-2.69526-6.480e-03j,  0.34524-5.093e-02j, -2.00019-7.100e-03j,\n",
       "        -3.14856-1.730e-03j, -3.21918+6.970e-03j, -2.63585-2.154e-02j,\n",
       "        -2.83878-1.246e-02j],\n",
       "       [-2.83828-2.270e-03j, -2.00019-7.100e-03j,  0.06819-3.334e-02j,\n",
       "        -3.76125-6.000e-05j, -3.00093+2.570e-03j, -2.74903-8.290e-03j,\n",
       "        -2.89105-4.750e-03j],\n",
       "       [-3.0086 -4.200e-04j, -3.14856-1.730e-03j, -3.76125-6.000e-05j,\n",
       "         0.35376-3.434e-02j, -3.90962+6.700e-04j, -2.81785+6.000e-04j,\n",
       "        -2.98169-3.000e-05j],\n",
       "       [-3.05753+2.210e-03j, -3.21918+6.970e-03j, -3.00093+2.570e-03j,\n",
       "        -3.90962+6.700e-04j,  0.07893-3.337e-02j, -4.07228+7.730e-03j,\n",
       "        -3.25982+4.490e-03j],\n",
       "       [-2.90684-6.920e-03j, -2.63585-2.154e-02j, -2.74903-8.290e-03j,\n",
       "        -2.81785+6.000e-04j, -4.07228+7.730e-03j,  0.48101-5.845e-02j,\n",
       "        -2.40939-1.581e-02j],\n",
       "       [-2.95929-3.970e-03j, -2.83878-1.246e-02j, -2.89105-4.750e-03j,\n",
       "        -2.98169-3.000e-05j, -3.25982+4.490e-03j, -2.40939-1.581e-02j,\n",
       "         0.15199-3.968e-02j]])"
      ]
     },
     "execution_count": 13,
     "metadata": {},
     "output_type": "execute_result"
    }
   ],
   "source": [
    "sig_ret = sigma.retarded(np.array([-0.5]))\n",
    "np.round(sigma_ret[0],5)"
   ]
  },
  {
   "cell_type": "code",
   "execution_count": 81,
   "id": "13387d3a",
   "metadata": {},
   "outputs": [
    {
     "name": "stdout",
     "output_type": "stream",
     "text": [
      "[[-0.03660698  0.14846752 -0.03802963  0.32163608 -0.05041906  0.25755319\n",
      "  -0.03842353]]\n"
     ]
    }
   ],
   "source": [
    "energy = [-10000.0]\n",
    "sig_cost = sigma.retarded(energy)\n",
    "sig_real_diag = sig_cost.real.diagonal(axis1=1, axis2=2)\n",
    "print(sig_real_diag)"
   ]
  },
  {
   "cell_type": "code",
   "execution_count": 86,
   "id": "fbc7f9d1",
   "metadata": {},
   "outputs": [
    {
     "data": {
      "text/plain": [
       "<matplotlib.legend.Legend at 0x4001ffbcfd30>"
      ]
     },
     "execution_count": 86,
     "metadata": {},
     "output_type": "execute_result"
    },
    {
     "data": {
      "image/png": "[encoded data removed]",
      "text/plain": [
       "<Figure size 640x480 with 1 Axes>"
      ]
     },
     "metadata": {},
     "output_type": "display_data"
    }
   ],
   "source": [
    "sig_ref = np.load(\"./reference/sigma_ed_diag.npy\")\n",
    "sig_trace = np.sum(sig_ref, axis=0)\n",
    "energies_ref = np.linspace(-0.5,1, 2000)\n",
    "\n",
    "plt.plot(energies, sigma_ret_trace.real, label=\"Real part\")\n",
    "plt.plot(energies, sigma_ret_trace.imag, label=\"Imaginary part\")\n",
    "plt.plot(energies_ref,sig_trace.real, label=\"Real ref\")\n",
    "plt.plot(energies_ref,sig_trace.imag, label=\"Imaginary ref\")\n",
    "plt.plot\n",
    "plt.xlabel(\"Energy\")\n",
    "plt.ylabel(\"Sigma\")\n",
    "plt.xlim(-0.5, 1)\n",
    "# plt.ylim(-10,20)\n",
    "plt.legend()"
   ]
  },
  {
   "cell_type": "code",
   "execution_count": 87,
   "id": "9c65088f",
   "metadata": {},
   "outputs": [],
   "source": [
    "np.save(f\"{output_folder}/ed_dcc_diag_-1ev.npy\", dc_diag_optimized)"
   ]
  }
 ],
 "metadata": {
  "kernelspec": {
   "display_name": "Python (qtpyt)",
   "language": "python",
   "name": "qtpyt"
  },
  "language_info": {
   "codemirror_mode": {
    "name": "ipython",
    "version": 3
   },
   "file_extension": ".py",
   "mimetype": "text/x-python",
   "name": "python",
   "nbconvert_exporter": "python",
   "pygments_lexer": "ipython3",
   "version": "3.9.21"
  }
 },
 "nbformat": 4,
 "nbformat_minor": 5
}
