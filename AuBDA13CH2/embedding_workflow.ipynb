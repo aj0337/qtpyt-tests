{
 "cells": [
  {
   "cell_type": "code",
   "execution_count": 2,
   "metadata": {},
   "outputs": [],
   "source": [
    "import numpy as np\n",
    "\n",
    "from pathlib import Path\n",
    "from ase.io import read\n",
    "\n",
    "from qtpyt.tools import remove_pbc\n",
    "from qtpyt.lo import tools as lot\n",
    "from qtpyt.surface import principallayer\n",
    "from qtpyt.basis import Basis\n",
    "from qtpyt.base.greenfunction import GreenFunction\n",
    "from qtpyt.base.selfenergy import SelfEnergy\n",
    "import tqdm\n",
    "from qtpyt.base import intgreenfunction\n",
    "from gpaw import restart\n",
    "from qtpyt.surface.tools import prepare_leads_matrices"
   ]
  },
  {
   "cell_type": "markdown",
   "metadata": {},
   "source": [
    "### Helper functions"
   ]
  },
  {
   "cell_type": "code",
   "execution_count": 3,
   "metadata": {},
   "outputs": [],
   "source": [
    "def get_species_indices(atoms,species):\n",
    "    indices = []\n",
    "    for element in species:\n",
    "        element_indices = atoms.symbols.search(element)\n",
    "        indices.extend(element_indices)\n",
    "    return sorted(indices)\n"
   ]
  },
  {
   "cell_type": "code",
   "execution_count": 4,
   "metadata": {},
   "outputs": [],
   "source": [
    "# define the extend coupling function, which we shall use twice\n",
    "def extend_coupling(selfenergy, nbf_m, id='left'):\n",
    "    nbf_i = selfenergy.nbf_i\n",
    "    h_im = np.zeros((nbf_i, nbf_m), complex)\n",
    "    s_im = np.zeros_like(h_im)\n",
    "    if id == 'left':\n",
    "        h_im[:,:nbf_i] = selfenergy.h_im\n",
    "        s_im[:,:nbf_i] = selfenergy.s_im\n",
    "    else:\n",
    "        h_im[:,-nbf_i:] = selfenergy.h_im\n",
    "        s_im[:,-nbf_i:] = selfenergy.s_im\n",
    "    selfenergy.h_im = h_im\n",
    "    selfenergy.s_im = s_im\n",
    "    selfenergy.sigma_mm = np.zeros((nbf_m, nbf_m), complex)"
   ]
  },
  {
   "cell_type": "markdown",
   "metadata": {},
   "source": [
    "### Control parameters"
   ]
  },
  {
   "cell_type": "code",
   "execution_count": 5,
   "metadata": {},
   "outputs": [],
   "source": [
    "GPWDEVICEDIR = 'dft/device/'\n",
    "BRIDGE_SPECIES = (\"N\", \"C\", \"H\")\n",
    "GPWLEADSDIR = 'dft/leads/'"
   ]
  },
  {
   "cell_type": "code",
   "execution_count": 6,
   "metadata": {},
   "outputs": [],
   "source": [
    "cc_path = Path(GPWDEVICEDIR)\n",
    "pl_path = Path(GPWLEADSDIR)\n",
    "gpwfile = f'{cc_path}/scatt.gpw'\n",
    "\n",
    "atoms, calc = restart(gpwfile, txt=None)\n",
    "fermi = calc.get_fermi_level()\n",
    "nao_a = np.array([setup.nao for setup in calc.wfs.setups])\n",
    "basis = Basis(atoms, nao_a)\n",
    "\n",
    "H_lcao, S_lcao = np.load(\"dft/device/hs_cc_k.npy\")\n"
   ]
  },
  {
   "cell_type": "code",
   "execution_count": 7,
   "metadata": {},
   "outputs": [],
   "source": [
    "H_leads_lcao, S_leads_lcao = np.load(pl_path / 'hs_pl_k.npy')\n",
    "basis_dict = {'Au': 9, 'H': 5, 'C': 13, 'N': 13}\n",
    "\n",
    "leads_atoms = read(pl_path / 'leads.xyz')\n",
    "leads_basis = Basis.from_dictionary(leads_atoms, basis_dict)\n",
    "\n",
    "device_atoms = read(cc_path / 'scatt.xyz')\n",
    "device_basis = Basis.from_dictionary(device_atoms, basis_dict)\n",
    "\n",
    "# Define the number of repetitions (Nr) and unit cell repetition in the leads\n",
    "Nr = (1, 5, 3)\n",
    "unit_cell_rep_in_leads = (5, 5, 3)\n",
    "\n",
    "nodes = [0,810,1116,1278,1584,2394]\n",
    "\n",
    "# Define energy range and broadening factor for the Green's function calculation\n",
    "de = 0.2\n",
    "energies = np.arange(-3., 3. + de / 2., de).round(7)\n",
    "eta = 1e-3\n"
   ]
  },
  {
   "cell_type": "code",
   "execution_count": 8,
   "metadata": {},
   "outputs": [],
   "source": [
    "# Prepare the k-points and matrices for the leads (Hamiltonian and overlap matrices) This is here because tests suggest that\n",
    "# this step needs to be done prior to removing PBC in the aligning Hamiltonian\n",
    "\n",
    "kpts_t, h_leads_kii, s_leads_kii, h_leads_kij, s_leads_kij = prepare_leads_matrices(\n",
    "    H_leads_lcao, S_leads_lcao, unit_cell_rep_in_leads, align=(0, H_lcao[0, 0, 0]))\n",
    "\n",
    "# Remove periodic boundary conditions (PBC) from the device Hamiltonian and overlap matrices\n",
    "remove_pbc(device_basis, H_lcao)\n",
    "remove_pbc(device_basis, S_lcao)\n",
    "\n",
    "selfenergies = [None, None]\n",
    "selfenergies[0] = principallayer.PrincipalSelfEnergy(kpts_t, (h_leads_kii, s_leads_kii), (h_leads_kij, s_leads_kij), Nr=Nr)\n",
    "selfenergies[1] = principallayer.PrincipalSelfEnergy(kpts_t, (h_leads_kii, s_leads_kii), (h_leads_kij, s_leads_kij), Nr=Nr, id='right')\n"
   ]
  },
  {
   "cell_type": "code",
   "execution_count": 9,
   "metadata": {},
   "outputs": [],
   "source": [
    "# extract indices of the active space which include C and N atoms\n",
    "active = np.where(np.isin(device_atoms.symbols,['C','N']))[0]\n",
    "\n",
    "idx_active = device_basis[active].get_indices().reshape(active.size,13)\n",
    "idx_lo_pz = idx_active[:,3].copy()  # what is this? it seems to be the indices of the pz orbitals in the los basis\n",
    "iaopz = idx_active[:,2].copy()  # what is this?\n",
    "# get embedding space as the difference\n",
    "idx_embedding = np.setdiff1d(range(H_lcao.shape[-1]), idx_lo_pz)\n"
   ]
  },
  {
   "cell_type": "code",
   "execution_count": 10,
   "metadata": {},
   "outputs": [],
   "source": [
    "# get subdiagonalization matrix\n",
    "Us, eig = lot.subdiagonalize_atoms(device_basis, H_lcao[0], S_lcao[0], a=active)\n",
    "\n",
    "# make sure that the projection onto the original pz AOs has the same sign for all pz LOs\n",
    "# I am still not sure if this step is correct but now at least I understand the logic behind it\n",
    "flip_sign = np.where(Us[iaopz,idx_lo_pz]<0.)[0]\n",
    "for i in flip_sign:\n",
    "    Us[np.ix_(idx_active[i],idx_active[i])] *= -1\n",
    "\n",
    "#get subdiagonalized pair\n",
    "H_subdiagonal = lot.rotate_matrix(H_lcao[0], Us)\n",
    "S_subdiagonal = lot.rotate_matrix(S_lcao[0], Us)"
   ]
  },
  {
   "cell_type": "code",
   "execution_count": 11,
   "metadata": {},
   "outputs": [],
   "source": [
    "selfenergies = [None, None]\n",
    "selfenergies[0] = principallayer.PrincipalSelfEnergy(kpts_t, (h_leads_kii, s_leads_kii), (h_leads_kij, s_leads_kij), Nr=Nr)\n",
    "selfenergies[1] = principallayer.PrincipalSelfEnergy(kpts_t, (h_leads_kii, s_leads_kii), (h_leads_kij, s_leads_kij), Nr=Nr, id='right')\n",
    "\n",
    "# orthogonalize subspaces, hs_mm (active) and hs_ii (embedding) as usual\n",
    "hs_mm, hs_ii, hs_im, U = lot.extract_orthogonal_subspaces(H_subdiagonal, S_subdiagonal, idx_lo_pz)\n",
    "\n",
    "# # expand embedding self-enegies matrix with dimension nbf_pl x nbf_pl to matrix with dimension nbf_i x nbf_i\n",
    "# nbf_i = hs_ii[0].shape[0]\n",
    "# extend_coupling(selfenergies[0], nbf_i)\n",
    "# extend_coupling(selfenergies[1], nbf_i, id='right')\n"
   ]
  },
  {
   "cell_type": "code",
   "execution_count": 12,
   "metadata": {},
   "outputs": [],
   "source": [
    "# get \\Sigma_A from Eq. (B7) that is nbf_m x nbf_m (i.e., size of the active space)\n",
    "self_mm = SelfEnergy(hs_ii, hs_im, [(slice(None), selfenergies[0]),(slice(None), selfenergies[1])])\n",
    "\n",
    "# get G_A with the \\Sigma_L and \\Sigma_R leads' self-energies\n",
    "gf = GreenFunction(hs_mm[0], hs_mm[1])\n",
    "\n",
    "# add the embedding self-energy to G_A using the class for the interacting Green's function\n",
    "igf = intgreenfunction.GreenFunction(gf, (slice(None), self_mm))"
   ]
  },
  {
   "cell_type": "code",
   "execution_count": 13,
   "metadata": {},
   "outputs": [
    {
     "ename": "UnboundLocalError",
     "evalue": "local variable 'sigma' referenced before assignment",
     "output_type": "error",
     "traceback": [
      "\u001b[0;31m---------------------------------------------------------------------------\u001b[0m",
      "\u001b[0;31mUnboundLocalError\u001b[0m                         Traceback (most recent call last)",
      "Cell \u001b[0;32mIn[13], line 5\u001b[0m\n\u001b[1;32m      3\u001b[0m T_e \u001b[38;5;241m=\u001b[39m np\u001b[38;5;241m.\u001b[39mzeros_like(energies)\n\u001b[1;32m      4\u001b[0m \u001b[38;5;28;01mfor\u001b[39;00m e, energy \u001b[38;5;129;01min\u001b[39;00m \u001b[38;5;28menumerate\u001b[39m(energies):\n\u001b[0;32m----> 5\u001b[0m     T_e[e] \u001b[38;5;241m=\u001b[39m \u001b[43migf\u001b[49m\u001b[38;5;241;43m.\u001b[39;49m\u001b[43mget_transmission\u001b[49m\u001b[43m(\u001b[49m\u001b[43menergy\u001b[49m\u001b[43m)\u001b[49m\n",
      "File \u001b[0;32m~/Work/EMPA/qtpyt/qtpyt/base/intgreenfunction.py:64\u001b[0m, in \u001b[0;36mGreenFunction.get_transmission\u001b[0;34m(self, energy)\u001b[0m\n\u001b[1;32m     62\u001b[0m \u001b[38;5;28;01mdef\u001b[39;00m \u001b[38;5;21mget_transmission\u001b[39m(\u001b[38;5;28mself\u001b[39m, energy):\n\u001b[1;32m     63\u001b[0m     \u001b[38;5;66;03m# also update reference green's function selfenergies\u001b[39;00m\n\u001b[0;32m---> 64\u001b[0m     G \u001b[38;5;241m=\u001b[39m \u001b[38;5;28;43mself\u001b[39;49m\u001b[38;5;241;43m.\u001b[39;49m\u001b[43mretarded\u001b[49m\u001b[43m(\u001b[49m\u001b[43menergy\u001b[49m\u001b[43m)\u001b[49m\n\u001b[1;32m     65\u001b[0m     gamma_L \u001b[38;5;241m=\u001b[39m \u001b[38;5;28mself\u001b[39m\u001b[38;5;241m.\u001b[39mgreenfunction\u001b[38;5;241m.\u001b[39mgammas[\u001b[38;5;241m0\u001b[39m]\n\u001b[1;32m     66\u001b[0m     gamma_R \u001b[38;5;241m=\u001b[39m \u001b[38;5;28mself\u001b[39m\u001b[38;5;241m.\u001b[39mgreenfunction\u001b[38;5;241m.\u001b[39mgammas[\u001b[38;5;241m1\u001b[39m]\n",
      "File \u001b[0;32m~/Work/EMPA/qtpyt/qtpyt/base/intgreenfunction.py:47\u001b[0m, in \u001b[0;36mGreenFunction.retarded\u001b[0;34m(self, energy)\u001b[0m\n\u001b[1;32m     46\u001b[0m \u001b[38;5;28;01mdef\u001b[39;00m \u001b[38;5;21mretarded\u001b[39m(\u001b[38;5;28mself\u001b[39m, energy):\n\u001b[0;32m---> 47\u001b[0m     g, dg \u001b[38;5;241m=\u001b[39m \u001b[38;5;28;43mself\u001b[39;49m\u001b[38;5;241;43m.\u001b[39;49m\u001b[43mget_partials\u001b[49m\u001b[43m(\u001b[49m\u001b[43menergy\u001b[49m\u001b[43m)\u001b[49m\n\u001b[1;32m     48\u001b[0m     \u001b[38;5;28;01mreturn\u001b[39;00m g \u001b[38;5;241m+\u001b[39m dg\n",
      "File \u001b[0;32m~/Work/EMPA/qtpyt/qtpyt/base/intgreenfunction.py:41\u001b[0m, in \u001b[0;36mGreenFunction.get_partials\u001b[0;34m(self, energy)\u001b[0m\n\u001b[1;32m     35\u001b[0m \u001b[38;5;250m\u001b[39m\u001b[38;5;124;03m\"\"\"Get partial contributions to the Green's function.\u001b[39;00m\n\u001b[1;32m     36\u001b[0m \u001b[38;5;124;03mThis is equivalent to computing the (0,0) element of a\u001b[39;00m\n\u001b[1;32m     37\u001b[0m \u001b[38;5;124;03mmatrix inverse.\u001b[39;00m\n\u001b[1;32m     38\u001b[0m \u001b[38;5;124;03mG(0,0) = g(0,0) + g(0,0) (tau_mi g(1,1) tau_im) g(0,0)\u001b[39;00m\n\u001b[1;32m     39\u001b[0m \u001b[38;5;124;03m\"\"\"\u001b[39;00m\n\u001b[1;32m     40\u001b[0m \u001b[38;5;28;01mif\u001b[39;00m \u001b[38;5;28mself\u001b[39m\u001b[38;5;241m.\u001b[39menergy \u001b[38;5;241m!=\u001b[39m energy:\n\u001b[0;32m---> 41\u001b[0m     \u001b[38;5;28mself\u001b[39m\u001b[38;5;241m.\u001b[39mg \u001b[38;5;241m=\u001b[39m \u001b[38;5;28;43mself\u001b[39;49m\u001b[38;5;241;43m.\u001b[39;49m\u001b[43mgreenfunction\u001b[49m\u001b[38;5;241;43m.\u001b[39;49m\u001b[43mretarded\u001b[49m\u001b[43m(\u001b[49m\u001b[43menergy\u001b[49m\u001b[43m)\u001b[49m\n\u001b[1;32m     42\u001b[0m     indices, selfenergy \u001b[38;5;241m=\u001b[39m \u001b[38;5;28mself\u001b[39m\u001b[38;5;241m.\u001b[39mselfenergy\n\u001b[1;32m     43\u001b[0m     \u001b[38;5;28mself\u001b[39m\u001b[38;5;241m.\u001b[39mSigma[indices] \u001b[38;5;241m=\u001b[39m selfenergy\u001b[38;5;241m.\u001b[39mretarded(energy)\n",
      "File \u001b[0;32m~/Work/EMPA/qtpyt/qtpyt/base/greenfunction.py:117\u001b[0m, in \u001b[0;36mGreenFunction.retarded\u001b[0;34m(self, energy)\u001b[0m\n\u001b[1;32m    115\u001b[0m \u001b[38;5;28;01mif\u001b[39;00m \u001b[38;5;28mself\u001b[39m\u001b[38;5;241m.\u001b[39menergy \u001b[38;5;241m!=\u001b[39m energy:\n\u001b[1;32m    116\u001b[0m     \u001b[38;5;28mself\u001b[39m\u001b[38;5;241m.\u001b[39menergy \u001b[38;5;241m=\u001b[39m energy\n\u001b[0;32m--> 117\u001b[0m     Ginv \u001b[38;5;241m=\u001b[39m \u001b[38;5;28;43mself\u001b[39;49m\u001b[38;5;241;43m.\u001b[39;49m\u001b[43mget_Ginv\u001b[49m\u001b[43m(\u001b[49m\u001b[43menergy\u001b[49m\u001b[43m)\u001b[49m\n\u001b[1;32m    118\u001b[0m     \u001b[38;5;28mself\u001b[39m\u001b[38;5;241m.\u001b[39mGr \u001b[38;5;241m=\u001b[39m xp\u001b[38;5;241m.\u001b[39mlinalg\u001b[38;5;241m.\u001b[39minv(Ginv)\n\u001b[1;32m    119\u001b[0m \u001b[38;5;28;01mreturn\u001b[39;00m \u001b[38;5;28mself\u001b[39m\u001b[38;5;241m.\u001b[39mGr\n",
      "File \u001b[0;32m~/Work/EMPA/qtpyt/qtpyt/base/greenfunction.py:110\u001b[0m, in \u001b[0;36mGreenFunction.get_Ginv\u001b[0;34m(self, energy)\u001b[0m\n\u001b[1;32m    108\u001b[0m     \u001b[38;5;28;01mif\u001b[39;00m i \u001b[38;5;129;01min\u001b[39;00m \u001b[38;5;28mself\u001b[39m\u001b[38;5;241m.\u001b[39midxleads:\n\u001b[1;32m    109\u001b[0m         \u001b[38;5;28mself\u001b[39m\u001b[38;5;241m.\u001b[39mgammas\u001b[38;5;241m.\u001b[39mappend(get_lambda(sigma))\n\u001b[0;32m--> 110\u001b[0m \u001b[38;5;28mprint\u001b[39m(\u001b[38;5;124m\"\u001b[39m\u001b[38;5;124msigma shape\u001b[39m\u001b[38;5;124m\"\u001b[39m, \u001b[43msigma\u001b[49m\u001b[38;5;241m.\u001b[39mshape)\n\u001b[1;32m    111\u001b[0m \u001b[38;5;28;01mreturn\u001b[39;00m Ginv\n",
      "\u001b[0;31mUnboundLocalError\u001b[0m: local variable 'sigma' referenced before assignment"
     ]
    }
   ],
   "source": [
    "# calculate transmission\n",
    "energies = np.linspace(-3,3,0.5)\n",
    "T_e = np.zeros_like(energies)\n",
    "for e, energy in enumerate(energies):\n",
    "    T_e[e] = igf.get_transmission(energy)"
   ]
  },
  {
   "cell_type": "code",
   "execution_count": 15,
   "metadata": {},
   "outputs": [
    {
     "data": {
      "image/png": "[encoded data removed]",
      "text/plain": [
       "<Figure size 800x600 with 1 Axes>"
      ]
     },
     "metadata": {},
     "output_type": "display_data"
    }
   ],
   "source": [
    "from matplotlib import pyplot as plt\n",
    "\n",
    "E_ref, T_ref = np.load(\"published_reference/transmission/ET_dft.npy\")\n",
    "\n",
    "plt.figure(figsize=(8, 6))  # Set the figure size\n",
    "\n",
    "# Plot the reference DFT data\n",
    "plt.plot(E_ref, T_ref, label=\"references dft\", color='blue')\n",
    "\n",
    "# Plot the computed DFT data\n",
    "# plt.plot(energies, T_e, 'o', label=\"embedded\", color='red')\n",
    "\n",
    "# Set the y-axis to log scale\n",
    "plt.yscale(\"log\")\n",
    "\n",
    "# Set x-axis limits\n",
    "plt.xlim(-2, 2)\n",
    "\n",
    "# Set y-axis limits, bottom starting at 5e-5\n",
    "plt.ylim(bottom=5e-5)\n",
    "\n",
    "# Add a legend to distinguish between the reference and computed data\n",
    "plt.legend()\n",
    "\n",
    "# Add labels for the axes\n",
    "plt.xlabel('Energy')\n",
    "plt.ylabel('Transmission')\n",
    "\n",
    "# Add a title (optional)\n",
    "plt.title('Transmission vs Energy')\n",
    "\n",
    "# Show the grid for better readability\n",
    "plt.grid(True)\n",
    "\n",
    "# Display the plot\n",
    "plt.show()"
   ]
  },
  {
   "attachments": {
    "image.png": {
     "image/png": "[encoded data removed]"
    }
   },
   "cell_type": "markdown",
   "metadata": {},
   "source": [
    "### What do I need?\n",
    "\n",
    "1. Compute T(E) from G_active using eqn.B3. This can be done by providing hs_active and sigma_a to a Greensfunction class. hs_active is obtained from extract_orthogonal_subspace.\n",
    "2. I need to compute sigma_A using eqn. B8 which requires the hs_ae_coupling and Greens function of the embedding region. hs_ae_coupling is obtained from extract_orthogonal_subspace.\n",
    "3. Embedding Greens function can be obtained by providing hs_embedding and embedded leads self energy to the Greens function class (eqn. B11). Embedded leads self energy needs to be computed using eqn. B12 which requires hs_le_coupling and Greens function for each lead.\n",
    "\n",
    "Based on the above information, if I were to order the steps chronologically to compute various quantities, it would look like this\n",
    "\n",
    "1. Get Green's functions for the left and right leads using a Greens's function class.\n",
    "2. Get the H and S for the coupling between the leads and the embedding region.\n",
    "3. Use the above matrices to compute the embedded leads self energy sigma_L,R for the left and right leads. This sigma_L,R would have dimensions of the embedding region.\n",
    "4. Or, alternatively compute directly the sigma_L,R for the left and right using a selfenergy class.\n",
    "5. Provide hs_embedding and sigma_L,R to a Greensfunction class to compute embedding Green's function G_e.\n",
    "6. Compute active self energy sigma_a using G_e and hs_ae_coupling using a self energy class.\n",
    "7. Provide hs_active and sigma_a to Greensfunction class to compute active Green's function G_active\n",
    "8. Compute T(E) using G_active.get_transmission().\n",
    "   1. If we were to successfully get to this step of computing transmission functions, there is an issue. If we use the formula given by \n",
    "   \n",
    "   ![image.png](attachment:image.png)\n",
    "   \n",
    "   we need gamma_L, G and gamma_R to have the same dimensions. But by the end of step 8, we have a G_active that has the dimensions of the active space while the gamma_L,R have the dimensions of the leads. How do we reconcile this?"
   ]
  },
  {
   "cell_type": "markdown",
   "metadata": {},
   "source": [
    "### Analyzing the workflow code "
   ]
  },
  {
   "attachments": {
    "image-2.png": {
     "image/png": "[encoded data removed]"
    },
    "image.png": {
     "image/png": "[encoded data removed]"
    }
   },
   "cell_type": "markdown",
   "metadata": {},
   "source": [
    "1. `extend_coupling()` is a part of the `deprecated` folder in the code base, while the other parts of the code such as `PrincipalSelfEnergy()` are from the main code base. I could get it to work by calling other functions that are also in the `deprecated` folder but that would require some adjustments to the rest of the code.\n",
    "2. Build self-energy for left and right lead seems straightforward. Something to keep in mind: `selfenergies[0,1].gammas` will have the dimensions of the leads.\n",
    "3. Orthogonalize subspaces, `hs_mm` (active) and `hs_ii` (embedding)  in order to extract H and S for the active, embedding and the coupling between them.\n",
    "4. `extend_coupling` (if it was working) that perhaps executes the step in the equation below (?) and changes the dimensions of selfenergy from that of the leads to that of the embedding. \n",
    "   \n",
    "   ![image.png](attachment:image.png)\n",
    "5. Get \\Sigma_A from Eq. (B8) that is nbf_m x nbf_m (i.e., size of the active space)\n",
    "`self_mm = SelfEnergy(hs_ii, hs_im, [(slice(None), selfenergies[0]),(slice(None), selfenergies[1])])`. Need to understand how the `slice(None)` is used to ensure the right implementation to extract the right indices. My rudimentary understanding is that the `selfenergies[0,1]` in this step now have dimensions of the embedding and not the leads, while `self_mm` will have the dimensions of the active space.  \n",
    "\n",
    "   ![image-2.png](attachment:image-2.png)\n",
    "\n",
    "6. Get G_Active. However the information of the \\Sigma_L and \\Sigma_R leads' self-energies required to compute gamma_L,R for the Landauer formula is missing in the line\n",
    "`gf = GreenFunction(hs_mm[0], hs_mm[1])`\n",
    "\n",
    "7. Add the embedding self-energy \\Sigma_A to G_A using the class for the interacting Green's function\n",
    "`igf = intgreenfunction.GreenFunction(gf, (slice(None), self_mm)` (However this function doesn't work. See error above)\n",
    "\n",
    "8. How do we compute T(E) while also resolving the dimensionality of leads' Gamma and active space Green's function?\n"
   ]
  },
  {
   "cell_type": "markdown",
   "metadata": {},
   "source": []
  },
  {
   "cell_type": "markdown",
   "metadata": {},
   "source": [
    "### Now how do we incorporate many body effects? How should the workflow be modified in order to do this? "
   ]
  }
 ],
 "metadata": {
  "kernelspec": {
   "display_name": "gpaw",
   "language": "python",
   "name": "python3"
  },
  "language_info": {
   "codemirror_mode": {
    "name": "ipython",
    "version": 3
   },
   "file_extension": ".py",
   "mimetype": "text/x-python",
   "name": "python",
   "nbconvert_exporter": "python",
   "pygments_lexer": "ipython3",
   "version": "3.9.18"
  }
 },
 "nbformat": 4,
 "nbformat_minor": 4
}
