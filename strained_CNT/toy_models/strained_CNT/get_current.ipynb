{
 "cells": [
  {
   "cell_type": "code",
   "execution_count": null,
   "id": "4da4d6e8",
   "metadata": {},
   "outputs": [],
   "source": [
    "from os import walk\n",
    "import numpy as np\n",
    "from matplotlib import pyplot as plt\n",
    "from glob import glob\n",
    "from ase.units import _e, _hplanck, kB\n",
    "\n",
    "G0 = 2. * _e**2 / _hplanck"
   ]
  },
  {
   "cell_type": "code",
   "execution_count": null,
   "id": "eb4a4b53",
   "metadata": {},
   "outputs": [],
   "source": [
    "def fermidistribution(energy, kt):\n",
    "    # fermi level is fixed to zero\n",
    "    # energy can be a single number or a list\n",
    "    assert kt >= 0., 'Negative temperature encountered!'\n",
    "\n",
    "    if kt == 0:\n",
    "        if isinstance(energy, float):\n",
    "            return int(energy / 2. <= 0)\n",
    "        else:\n",
    "            return (energy / 2. <= 0).astype(int)\n",
    "    else:\n",
    "        return 1. / (1. + np.exp(energy / kt))\n",
    "\n",
    "\n",
    "def current(bias, energies, transmission, temp=300, unit='uA'):\n",
    "    \"\"\"Get the current in nA.\"\"\"\n",
    "    if not isinstance(bias, (int, float)):\n",
    "        bias = bias[np.newaxis]\n",
    "        energies = energies[:, np.newaxis]\n",
    "        transmission = transmission[:, np.newaxis]\n",
    "\n",
    "    fl = fermidistribution(energies - bias / 2., kB * temp)\n",
    "    fr = fermidistribution(energies + bias / 2., kB * temp)\n",
    "\n",
    "    return G0 * np.trapz((fl - fr) * transmission, x=energies, axis=0) * 1e6  # uA\n"
   ]
  },
  {
   "cell_type": "code",
   "execution_count": null,
   "id": "bae92fca",
   "metadata": {},
   "outputs": [],
   "source": [
    "energies = np.load('../scatt/data_ENERGIES.npy').real\n",
    "\n",
    "files = []\n",
    "directory = 'transmission_data/'\n",
    "for (dirpath, dirnames, filenames) in walk(directory):\n",
    "    files.extend(f'{directory}{file}' for file in filenames)\n",
    "files.sort(key=lambda fn: float(fn.split('_')[-1].strip(\".npy\")))\n",
    "\n",
    "dV = 0.1\n",
    "Vmin = -1.5\n",
    "Vmax = 1.5 + dV / 2.\n",
    "dmu_min = -4\n",
    "dmu_max = 3\n",
    "bias = np.arange(-2.5, 2.5 + dV / 2., dV)\n",
    "temp = np.asarray([np.load(fn) for fn in files])\n",
    "I = np.asarray([current(bias, energies, t, temp=9) for t in transmission])\n",
    "# I = np.clip(I, 0, 30)\n"
   ]
  }
 ],
 "metadata": {
  "language_info": {
   "name": "python"
  }
 },
 "nbformat": 4,
 "nbformat_minor": 5
}
