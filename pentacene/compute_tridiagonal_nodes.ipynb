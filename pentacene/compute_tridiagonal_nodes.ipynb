{
 "cells": [
  {
   "cell_type": "code",
   "execution_count": 1,
   "metadata": {},
   "outputs": [],
   "source": [
    "import os\n",
    "import numpy as np\n",
    "import matplotlib.pyplot as plt\n",
    "from ase.io import read\n",
    "\n",
    "# new_path = '/capstor/scratch/cscs/ajayaraj/qtpyt-tests/pentacene'\n",
    "# os.chdir(new_path)"
   ]
  },
  {
   "cell_type": "code",
   "execution_count": 7,
   "metadata": {},
   "outputs": [
    {
     "name": "stdout",
     "output_type": "stream",
     "text": [
      "Total atoms: 114\n",
      "Left lead atoms: 40\n",
      "Right lead atoms: 38\n",
      "Bridge atoms: 36\n",
      "Number of orbitals in left lead = 290\n",
      "Number of orbitals in bridge = 254\n",
      "Number of orbitals in right lead = 272\n"
     ]
    }
   ],
   "source": [
    "atoms = read(\"./dft/device/scatt_sorted.xyz\")\n",
    "\n",
    "z_threshold = 8  # Separate leads vs bridge (in z)\n",
    "x_coords = atoms.positions[:, 0]\n",
    "z_coords = atoms.positions[:, 2]\n",
    "\n",
    "x_min, x_max = np.min(x_coords), np.max(x_coords)\n",
    "x_threshold = (x_max + x_min) * 0.5  # Midpoint in x\n",
    "\n",
    "symbols = atoms.get_chemical_symbols()\n",
    "total_atoms = len(atoms)\n",
    "\n",
    "num_spherical_harmonics = {\"C\": 9, \"H\": 4}\n",
    "\n",
    "left_lead_indices = []\n",
    "right_lead_indices = []\n",
    "bridge_indices = []\n",
    "\n",
    "for i, (x, z) in enumerate(zip(x_coords, z_coords)):\n",
    "    if z < z_threshold:\n",
    "        if x < x_threshold:\n",
    "            left_lead_indices.append(i)\n",
    "        else:\n",
    "            right_lead_indices.append(i)\n",
    "    else:\n",
    "        bridge_indices.append(i)\n",
    "\n",
    "left_lead_indices = np.array(left_lead_indices)\n",
    "right_lead_indices = np.array(right_lead_indices)\n",
    "bridge_indices = np.array(bridge_indices)\n",
    "\n",
    "# Debug prints\n",
    "print(\"Total atoms:\", total_atoms)\n",
    "print(\"Left lead atoms:\", len(left_lead_indices))\n",
    "print(\"Right lead atoms:\", len(right_lead_indices))\n",
    "print(\"Bridge atoms:\", len(bridge_indices))\n",
    "\n",
    "# Compute total spherical harmonics per region\n",
    "total_sph_left_lead = sum(num_spherical_harmonics[symbols[i]] for i in left_lead_indices)\n",
    "total_sph_bridge = sum(num_spherical_harmonics[symbols[i]] for i in bridge_indices)\n",
    "total_sph_right_lead = sum(num_spherical_harmonics[symbols[i]] for i in right_lead_indices)\n",
    "\n",
    "nodes = [\n",
    "    0,\n",
    "    total_sph_left_lead,\n",
    "    total_sph_left_lead + total_sph_bridge,\n",
    "    total_sph_left_lead + total_sph_bridge + total_sph_right_lead\n",
    "]\n",
    "\n",
    "print(\"Number of orbitals in left lead =\", nodes[1] - nodes[0])\n",
    "print(\"Number of orbitals in bridge =\", nodes[2] - nodes[1])\n",
    "print(\"Number of orbitals in right lead =\", nodes[3] - nodes[2])\n",
    "\n",
    "np.save(\"./output/device/nodes.npy\", nodes)\n"
   ]
  },
  {
   "cell_type": "code",
   "execution_count": null,
   "metadata": {},
   "outputs": [],
   "source": []
  }
 ],
 "metadata": {
  "kernelspec": {
   "display_name": "guido-edpyt-qtpyt",
   "language": "python",
   "name": "python3"
  },
  "language_info": {
   "codemirror_mode": {
    "name": "ipython",
    "version": 3
   },
   "file_extension": ".py",
   "mimetype": "text/x-python",
   "name": "python",
   "nbconvert_exporter": "python",
   "pygments_lexer": "ipython3",
   "version": "3.9.21"
  }
 },
 "nbformat": 4,
 "nbformat_minor": 2
}
