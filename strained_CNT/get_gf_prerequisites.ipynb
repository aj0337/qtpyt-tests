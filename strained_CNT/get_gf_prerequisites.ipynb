{
 "cells": [
  {
   "cell_type": "code",
   "execution_count": 4,
   "id": "9c399f3c",
   "metadata": {},
   "outputs": [],
   "source": [
    "import numpy as np\n",
    "import matplotlib.pyplot as plt\n",
    "from qtpyt.surface.tools import prepare_leads_matrices"
   ]
  },
  {
   "cell_type": "code",
   "execution_count": null,
   "id": "ecb0142c",
   "metadata": {},
   "outputs": [],
   "source": [
    "H_subdiagonalized = np.load(\"hamiltonian/H_R_device.npy\")\n",
    "H_subdiagonalized = H_subdiagonalized.astype(np.complex128)\n",
    "S_subdiagonalized = np.eye(H_subdiagonalized.shape[0], dtype=np.complex128)\n",
    "H_k_leads = np.load(\"hamiltonian/H_k_leads.npy\")\n",
    "nkpts = H_k_leads.shape[0]\n",
    "dim = H_k_leads.shape[1]\n",
    "S_k_leads = np.zeros((nkpts, dim, dim), dtype=np.complex128)\n",
    "for i in range(nkpts):\n",
    "    S_k_leads[i] = np.eye(dim, dtype=np.complex128)"
   ]
  },
  {
   "cell_type": "code",
   "execution_count": 8,
   "id": "f6063ea9",
   "metadata": {},
   "outputs": [],
   "source": [
    "Nr = (1, 1, 1)\n",
    "unit_cell_rep_in_leads = (10, 1, 1)\n",
    "\n",
    "# Prepare the k-points and matrices for the leads (Hamiltonian and overlap matrices)\n",
    "kpts_t, h_leads_kii, s_leads_kii, h_leads_kij, s_leads_kij = prepare_leads_matrices(\n",
    "    H_k_leads,\n",
    "    S_k_leads,\n",
    "    unit_cell_rep_in_leads,\n",
    "    align=(0, H_subdiagonalized[0, 0]),\n",
    ")\n"
   ]
  },
  {
   "cell_type": "code",
   "execution_count": 9,
   "id": "a26f0be1",
   "metadata": {},
   "outputs": [
    {
     "data": {
      "text/plain": [
       "array([[0., 0., 0.]])"
      ]
     },
     "execution_count": 9,
     "metadata": {},
     "output_type": "execute_result"
    }
   ],
   "source": [
    "kpts_t"
   ]
  },
  {
   "cell_type": "code",
   "execution_count": null,
   "id": "cf2ea719",
   "metadata": {},
   "outputs": [],
   "source": []
  }
 ],
 "metadata": {
  "kernelspec": {
   "display_name": "guido-edpyt-qtpyt",
   "language": "python",
   "name": "python3"
  },
  "language_info": {
   "codemirror_mode": {
    "name": "ipython",
    "version": 3
   },
   "file_extension": ".py",
   "mimetype": "text/x-python",
   "name": "python",
   "nbconvert_exporter": "python",
   "pygments_lexer": "ipython3",
   "version": "3.9.21"
  }
 },
 "nbformat": 4,
 "nbformat_minor": 5
}
