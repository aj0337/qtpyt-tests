{
 "cells": [
  {
   "cell_type": "code",
   "execution_count": 1,
   "id": "f11d7f45",
   "metadata": {},
   "outputs": [
    {
     "name": "stderr",
     "output_type": "stream",
     "text": [
      "/users/ajayaraj/miniconda3/envs/qtpyt/lib/python3.9/site-packages/numba/cpython/hashing.py:524: UserWarning: FNV hashing is not implemented in Numba. See PEP 456 https://www.python.org/dev/peps/pep-0456/ for rationale over not using FNV. Numba will continue to work, but hashes for built in types will be computed using siphash24. This will permit e.g. dictionaries to continue to behave as expected, however anything relying on the value of the hash opposed to hash as a derived property is likely to not work as expected.\n",
      "  warnings.warn(msg)\n"
     ]
    }
   ],
   "source": [
    "from __future__ import annotations\n",
    "\n",
    "import os\n",
    "import pickle\n",
    "\n",
    "import numpy as np\n",
    "from qtpyt.block_tridiag import greenfunction\n",
    "from qtpyt.hybridization import Hybridization\n",
    "from qtpyt.projector import ProjectedGreenFunction\n",
    "# from scipy.linalg import eigvalsh\n",
    "\n",
    "new_path = '/capstor/scratch/cscs/ajayaraj/qtpyt-tests/pentadienyl'\n",
    "os.chdir(new_path)"
   ]
  },
  {
   "cell_type": "code",
   "execution_count": 2,
   "metadata": {},
   "outputs": [],
   "source": [
    "# Data paths\n",
    "data_folder = f\"./output/lowdin\"\n",
    "\n",
    "# Load data\n",
    "index_active_region = np.load(f\"{data_folder}/index_active_region.npy\")\n",
    "self_energy = np.load(f\"{data_folder}/self_energy.npy\", allow_pickle=True)\n",
    "with open(f\"{data_folder}/hs_list_ii.pkl\", \"rb\") as f:\n",
    "    hs_list_ii = pickle.load(f)\n",
    "with open(f\"{data_folder}/hs_list_ij.pkl\", \"rb\") as f:\n",
    "    hs_list_ij = pickle.load(f)\n",
    "\n",
    "# Parameters\n",
    "eta = 1e-3\n",
    "\n",
    "# Green's Function Setup\n",
    "gf = greenfunction.GreenFunction(\n",
    "    hs_list_ii,\n",
    "    hs_list_ij,\n",
    "    [(0, self_energy[0]), (len(hs_list_ii) - 1, self_energy[1])],\n",
    "    solver=\"dyson\",\n",
    "    eta=eta,\n",
    ")\n",
    "gfp = ProjectedGreenFunction(gf, index_active_region)\n",
    "\n",
    "hyb = Hybridization(gfp)"
   ]
  },
  {
   "cell_type": "code",
   "execution_count": 4,
   "id": "310007f4",
   "metadata": {},
   "outputs": [],
   "source": [
    "static_hybr = hyb.retarded(0.0).real"
   ]
  },
  {
   "cell_type": "code",
   "execution_count": 6,
   "id": "d0f4191a",
   "metadata": {},
   "outputs": [
    {
     "name": "stdout",
     "output_type": "stream",
     "text": [
      "Trace of static hybridization: -2.337927\n"
     ]
    }
   ],
   "source": [
    "trace_static_hybr = np.trace(static_hybr)\n",
    "print(f\"Trace of static hybridization: {trace_static_hybr:.6f}\")"
   ]
  },
  {
   "cell_type": "code",
   "execution_count": 9,
   "id": "28276a1b",
   "metadata": {},
   "outputs": [
    {
     "data": {
      "text/plain": [
       "array([-4.70714113+0.j, -0.58256369+0.j,  0.33240253+0.j,  0.49577817+0.j,\n",
       "        0.35935208+0.j, -0.27296628+0.j, -4.24634417+0.j])"
      ]
     },
     "execution_count": 9,
     "metadata": {},
     "output_type": "execute_result"
    }
   ],
   "source": [
    "hyb.H.diagonal()"
   ]
  },
  {
   "cell_type": "code",
   "execution_count": 10,
   "id": "19ef94ee",
   "metadata": {},
   "outputs": [
    {
     "name": "stdout",
     "output_type": "stream",
     "text": [
      "Trace of static hybridization: 0.104740\n"
     ]
    }
   ],
   "source": [
    "static_hybr = hyb.retarded(1000.0).real\n",
    "trace_static_hybr = np.trace(static_hybr)\n",
    "print(f\"Trace of static hybridization: {trace_static_hybr:.6f}\")"
   ]
  },
  {
   "cell_type": "code",
   "execution_count": null,
   "id": "062792f8",
   "metadata": {},
   "outputs": [],
   "source": []
  }
 ],
 "metadata": {
  "kernelspec": {
   "display_name": "Python (qtpyt)",
   "language": "python",
   "name": "qtpyt"
  }
 },
 "nbformat": 4,
 "nbformat_minor": 5
}
