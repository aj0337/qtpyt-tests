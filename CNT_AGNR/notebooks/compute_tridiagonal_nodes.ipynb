{
 "cells": [
  {
   "cell_type": "code",
   "execution_count": 1,
   "metadata": {},
   "outputs": [],
   "source": [
    "import numpy as np\n",
    "import matplotlib.pyplot as plt\n",
    "from ase.io import read"
   ]
  },
  {
   "cell_type": "code",
   "execution_count": null,
   "metadata": {},
   "outputs": [
    {
     "name": "stdout",
     "output_type": "stream",
     "text": [
      "total_atoms 1216\n",
      "num_atoms_bridge 352\n",
      "num_atoms_leads 864\n",
      "Left lead indices range: 0 431\n",
      "Bridge indices range: 432 783\n",
      "Right lead indices range: 784 1215\n",
      "Number of orbitals in left lead =  3888\n",
      "Number of orbitals in bridge =  2848\n",
      "Number of orbitals in right lead =  3888\n"
     ]
    }
   ],
   "source": [
    "atoms = read(\"../structures/unrelaxed/scatt.xyz\")\n",
    "z_threshold = 30\n",
    "\n",
    "symbols = atoms.get_chemical_symbols()\n",
    "z_coords = atoms.positions[:, 2]\n",
    "\n",
    "num_atoms_leads = np.sum(z_coords < z_threshold)\n",
    "num_atoms_per_lead = num_atoms_leads // 2\n",
    "total_atoms = len(atoms)\n",
    "num_atoms_bridge = total_atoms - num_atoms_leads\n",
    "\n",
    "\n",
    "print(\"total_atoms\", total_atoms)\n",
    "print(\"num_atoms_bridge\", num_atoms_bridge)\n",
    "print(\"num_atoms_leads\", num_atoms_leads)\n",
    "\n",
    "num_spherical_harmonics = {\"C\": 9, \"H\": 4}\n",
    "\n",
    "# Partition atoms based on x-sorted assumption\n",
    "left_lead_indices = np.arange(0, num_atoms_per_lead)\n",
    "bridge_indices = np.arange(num_atoms_per_lead, num_atoms_per_lead + num_atoms_bridge)\n",
    "right_lead_indices = np.arange(num_atoms_per_lead + num_atoms_bridge, total_atoms)\n",
    "\n",
    "\n",
    "print(\"Left lead indices range:\", left_lead_indices.min(), left_lead_indices.max())\n",
    "print(\"Bridge indices range:\", bridge_indices.min(), bridge_indices.max())\n",
    "print(\"Right lead indices range:\", right_lead_indices.min(),right_lead_indices.max())\n",
    "\n",
    "total_sph_left_lead = sum(num_spherical_harmonics[symbols[i]] for i in left_lead_indices)\n",
    "total_sph_bridge = sum(num_spherical_harmonics[symbols[i]] for i in bridge_indices)\n",
    "total_sph_right_lead = sum(num_spherical_harmonics[symbols[i]]\n",
    "                           for i in right_lead_indices)\n",
    "\n",
    "# Populate nodes\n",
    "nodes = [\n",
    "    0,\n",
    "    total_sph_left_lead,\n",
    "    total_sph_left_lead + total_sph_bridge,\n",
    "    total_sph_left_lead + total_sph_bridge + total_sph_right_lead\n",
    "]\n",
    "\n",
    "print(\"Number of orbitals in left lead = \", nodes[1] - nodes[0])\n",
    "print(\"Number of orbitals in bridge = \", nodes[2] - nodes[1])\n",
    "print(\"Number of orbitals in right lead = \", nodes[3] - nodes[2])\n",
    "\n",
    "np.save(\"../unrelaxed/output/no_lowdin/device/nodes.npy\",nodes)\n"
   ]
  },
  {
   "cell_type": "code",
   "execution_count": null,
   "metadata": {},
   "outputs": [],
   "source": [
    "atoms = read(\"../structures/unrelaxed/bridge_sorted.xyz\")\n",
    "z_threshold = 30\n",
    "\n",
    "symbols = atoms.get_chemical_symbols()\n",
    "z_coords = atoms.positions[:, 2]\n",
    "\n",
    "num_atoms_bridge = len(atoms)\n",
    "\n",
    "\n",
    "print(\"num_atoms_bridge\", num_atoms_bridge)\n",
    "\n",
    "num_spherical_harmonics = {\"C\": 9, \"H\": 4}\n",
    "\n",
    "# Partition atoms based on x-sorted assumption\n",
    "bridge_indices = np.arange(0, num_atoms_bridge)\n",
    "\n",
    "\n",
    "print(\"Bridge indices range:\", bridge_indices.min(), bridge_indices.max())\n",
    "\n",
    "total_sph_bridge = sum(num_spherical_harmonics[symbols[i]] for i in bridge_indices)\n",
    "\n",
    "# Populate nodes\n",
    "nodes = [\n",
    "    0,\n",
    "     total_sph_bridge,\n",
    "]\n",
    "nodes"
   ]
  },
  {
   "cell_type": "code",
   "execution_count": null,
   "metadata": {},
   "outputs": [],
   "source": [
    "np.save(\"../unrelaxed/output/no_lowdin/bridge/nodes.npy\",nodes)"
   ]
  },
  {
   "cell_type": "code",
   "execution_count": null,
   "metadata": {},
   "outputs": [],
   "source": []
  }
 ],
 "metadata": {
  "kernelspec": {
   "display_name": "qtpyt",
   "language": "python",
   "name": "python3"
  },
  "language_info": {
   "codemirror_mode": {
    "name": "ipython",
    "version": 3
   },
   "file_extension": ".py",
   "mimetype": "text/x-python",
   "name": "python",
   "nbconvert_exporter": "python",
   "pygments_lexer": "ipython3",
   "version": "3.9.21"
  }
 },
 "nbformat": 4,
 "nbformat_minor": 2
}
