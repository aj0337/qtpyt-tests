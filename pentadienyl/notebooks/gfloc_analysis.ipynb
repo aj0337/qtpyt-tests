{
 "cells": [
  {
   "cell_type": "code",
   "execution_count": 1,
   "metadata": {},
   "outputs": [],
   "source": [
    "import os\n",
    "\n",
    "new_path = '/capstor/scratch/cscs/ajayaraj/qtpyt-tests/AuBDA13CH2/dft_fd_1e-2'\n",
    "os.chdir(new_path)"
   ]
  },
  {
   "cell_type": "code",
   "execution_count": 8,
   "metadata": {},
   "outputs": [],
   "source": [
    "from scipy.interpolate import interp1d\n"
   ]
  },
  {
   "cell_type": "code",
   "execution_count": 6,
   "metadata": {},
   "outputs": [
    {
     "name": "stderr",
     "output_type": "stream",
     "text": [
      "/users/ajayaraj/miniconda3/envs/qtpyt/lib/python3.9/site-packages/numba/cpython/hashing.py:524: UserWarning: FNV hashing is not implemented in Numba. See PEP 456 https://www.python.org/dev/peps/pep-0456/ for rationale over not using FNV. Numba will continue to work, but hashes for built in types will be computed using siphash24. This will permit e.g. dictionaries to continue to behave as expected, however anything relying on the value of the hash opposed to hash as a derived property is likely to not work as expected.\n",
      "  warnings.warn(msg)\n"
     ]
    }
   ],
   "source": [
    "import numpy as np\n",
    "import matplotlib.pyplot as plt\n",
    "import pickle\n",
    "\n",
    "from edpyt.nano_dmft import Gfloc"
   ]
  },
  {
   "cell_type": "code",
   "execution_count": 21,
   "metadata": {},
   "outputs": [],
   "source": [
    "nbaths = 4\n",
    "# U = 4\n",
    "tol = 1e-4\n",
    "max_iter = 1000\n",
    "alpha = 0.0\n",
    "nspin = 1\n",
    "de = 0.01\n",
    "energies = np.arange(-3, 3 + de / 2.0, de).round(7)\n",
    "eta = 1e-3\n",
    "z_ret = energies + 1.0j * eta\n",
    "betas = [2000.0,2500.0]\n",
    "mu = 0.0\n",
    "adjust_mu = True\n",
    "use_double_counting = True"
   ]
  },
  {
   "cell_type": "code",
   "execution_count": 22,
   "metadata": {},
   "outputs": [],
   "source": [
    "data_folder = \"output/lowdin/beta_100\"\n",
    "output_folder = f\"output/lowdin/beta_100/U_matrix\"\n",
    "occupancy_goal = np.load(f\"{data_folder}/occupancies_gfp_mu_0.0.npy\")\n"
   ]
  },
  {
   "cell_type": "code",
   "execution_count": 23,
   "metadata": {},
   "outputs": [],
   "source": [
    "H_active = np.load(f\"{data_folder}/bare_hamiltonian.npy\").real\n",
    "z_mats = np.load(f\"{data_folder}/matsubara_energies.npy\")\n",
    "index_active_region = np.load(f\"{data_folder}/index_active_region.npy\")"
   ]
  },
  {
   "cell_type": "code",
   "execution_count": 35,
   "metadata": {},
   "outputs": [],
   "source": [
    "len_active = occupancy_goal.size\n",
    "hyb_mats = np.fromfile(f\"{data_folder}/matsubara_hybridization.bin\", complex).reshape(\n",
    "    z_mats.size,\n",
    "    len_active,\n",
    "    len_active,\n",
    ")\n",
    "_HybMats = interp1d(z_mats.imag, hyb_mats, axis=0, bounds_error=False, fill_value=0.0)\n",
    "HybMats = lambda z: _HybMats(z.imag)\n",
    "\n",
    "hyb_ret = np.fromfile(f\"{data_folder}/hybridization.bin\", complex).reshape(\n",
    "    z_ret.size,\n",
    "    len_active,\n",
    "    len_active,\n",
    ")\n",
    "_HybRet = interp1d(z_ret.real, hyb_ret, axis=0, bounds_error=False, fill_value=0.0)\n",
    "HybRet = lambda z: _HybRet(z.real)\n",
    "\n",
    "S_active = np.eye(len_active)\n",
    "idx_neq = np.arange(len_active)\n",
    "idx_inv = np.arange(len_active)"
   ]
  },
  {
   "cell_type": "code",
   "execution_count": 36,
   "metadata": {},
   "outputs": [],
   "source": [
    "def plot(gf, ax=None, eta=1e-5, semilogy=True):\n",
    "    \"\"\"Plot the Green's function.\"\"\"\n",
    "    if ax is None:\n",
    "        fig, ax = plt.subplots()\n",
    "    if semilogy:\n",
    "        show = getattr(ax, 'semilogy')\n",
    "    else:\n",
    "        show = getattr(ax, 'plot')\n",
    "    w = z_ret.real\n",
    "    dos = -1/np.pi * gf(z_ret.real+1.j*eta).sum(0).imag\n",
    "    if dos.ndim>1:\n",
    "        show(w, dos[0], label=r'spin $\\uparrow$')\n",
    "        show(w, dos[1], label=r'spin $\\downarrow$')\n",
    "    else:\n",
    "        show(w, dos, label=r'spin $\\uparrow$ & $\\downarrow$')\n",
    "    ax.set_xlim(w.min(), w.max())\n",
    "    ax.set_xlabel('E-E$_F$ [eV]')\n",
    "    ax.set_ylabel('DOS [a.u.]')\n",
    "    ax.legend()\n",
    "    return ax"
   ]
  },
  {
   "cell_type": "code",
   "execution_count": 38,
   "metadata": {},
   "outputs": [
    {
     "data": {
      "text/plain": [
       "[<matplotlib.lines.Line2D at 0x4001cf840fa0>]"
      ]
     },
     "execution_count": 38,
     "metadata": {},
     "output_type": "execute_result"
    },
    {
     "data": {
      "image/png": "[encoded data removed]",
      "text/plain": [
       "<Figure size 640x480 with 1 Axes>"
      ]
     },
     "metadata": {},
     "output_type": "display_data"
    }
   ],
   "source": [
    "gfloc0 = Gfloc(H_active,S_active, HybMats, idx_neq,idx_inv,z_mats.size,beta)\n",
    "# gfloc0 = Gfloc(H_active,S_active, HybRet, idx_neq,idx_inv)\n",
    "gfloc0.set_local(lambda z: np.zeros((len_active,z.size), complex))\n",
    "gfloc0.update(mu=0.)\n",
    "eigvals = np.linalg.eigvalsh(H_active)\n",
    "ax = plot(gfloc0, eta=eta, semilogy=False)\n",
    "ax.plot(eigvals, np.zeros_like(eigvals), 'o', label='eigenvalues')"
   ]
  },
  {
   "cell_type": "code",
   "execution_count": null,
   "metadata": {},
   "outputs": [],
   "source": []
  }
 ],
 "metadata": {
  "kernelspec": {
   "display_name": "Python (qtpyt)",
   "language": "python",
   "name": "qtpyt"
  }
 },
 "nbformat": 4,
 "nbformat_minor": 2
}
