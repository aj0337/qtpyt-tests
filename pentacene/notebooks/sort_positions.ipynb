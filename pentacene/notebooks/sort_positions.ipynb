{
 "cells": [
  {
   "cell_type": "code",
   "execution_count": 2,
   "id": "5b31d605",
   "metadata": {},
   "outputs": [],
   "source": [
    "import numpy as np\n",
    "import matplotlib.pyplot as plt\n",
    "import os\n",
    "\n",
    "# new_path = '/capstor/scratch/cscs/ajayaraj/qtpyt-tests/CNT_AGNR/structures'\n",
    "# os.chdir(new_path)"
   ]
  },
  {
   "cell_type": "markdown",
   "id": "7e13870c",
   "metadata": {},
   "source": [
    "### Sort device positions"
   ]
  },
  {
   "cell_type": "code",
   "execution_count": 4,
   "id": "f7b6983d",
   "metadata": {},
   "outputs": [
    {
     "name": "stdout",
     "output_type": "stream",
     "text": [
      "x and z thresholds: 17.88, 9.00\n"
     ]
    }
   ],
   "source": [
    "\"\"\"\n",
    "This script sorts an extended XYZ file for a quantum transport device.\n",
    "The sorting follows the device geometry: left lead → bridge (molecule) → right lead.\n",
    "Within each block, atoms are sorted by increasing x, y, and z coordinates.\n",
    "\n",
    "### Assumptions:\n",
    "1. The left and right leads occupy roughly 25% each of the total x-span.\n",
    "2. The bridge (molecule) occupies the middle 50% of the x-span.\n",
    "3. The device geometry is approximately symmetric along the x-axis.\n",
    "4. Leads and the bridge are separated based on x-coordinates, not atom type.\n",
    "\n",
    "The output is written to a new extended XYZ file with consistent column alignment.\n",
    "\"\"\"\n",
    "\n",
    "# Load the original extended xyz file\n",
    "file_path = \"./dft/device/scatt_original.xyz\"\n",
    "with open(file_path, \"r\") as f:\n",
    "    data = f.readlines()\n",
    "\n",
    "# First two lines contain the number of atoms and a comment line\n",
    "num_atoms = int(data[0].strip())\n",
    "comment = data[1].strip()\n",
    "\n",
    "# Read the atomic data\n",
    "atoms = []\n",
    "for line in data[2 : num_atoms + 2]:\n",
    "    parts = line.split()\n",
    "    element = parts[0]\n",
    "    x, y, z = map(float, parts[1:4])\n",
    "    atoms.append((element, x, y, z))\n",
    "\n",
    "# Determine boundaries for left lead, bridge, and right lead based on x-position\n",
    "x_positions = [atom[1] for atom in atoms]\n",
    "x_min, x_max = min(x_positions), max(x_positions)\n",
    "\n",
    "# Define thresholds based on geometry\n",
    "x_threshold = (x_max - x_min) * 0.5\n",
    "z_threshold = 9  # Threshold for separating layers in the device in Angstrom\n",
    "print(f\"x and z thresholds: {x_threshold:.2f}, {z_threshold:.2f}\")\n",
    "\n",
    "\n",
    "# Define sorting keys based on position in the device\n",
    "def sorting_key(atom):\n",
    "    element, x, y, z = atom\n",
    "    if x < x_threshold and z < z_threshold:  # Left lead\n",
    "        block = 0\n",
    "    elif x > x_threshold and z < z_threshold:  # Right lead\n",
    "        block = 2\n",
    "    else:  # Bridge (molecule)\n",
    "        block = 1\n",
    "    return (block, x, y, z)\n",
    "\n",
    "\n",
    "# Sort the atoms based on the defined sorting order\n",
    "sorted_atoms = sorted(atoms, key=sorting_key)\n",
    "\n",
    "# Write the sorted structure to a new extended xyz file with better alignment\n",
    "output_path_aligned = \"./dft/device/scatt_sorted.xyz\"\n",
    "with open(output_path_aligned, \"w\") as f:\n",
    "    f.write(f\"{num_atoms}\\n{comment}\\n\")\n",
    "    for atom in sorted_atoms:\n",
    "        element, x, y, z = atom\n",
    "        f.write(f\"{element:<3} {x:15.8f} {y:15.8f} {z:15.8f}\\n\")\n"
   ]
  },
  {
   "cell_type": "markdown",
   "id": "32f5a716",
   "metadata": {},
   "source": [
    "### Sort Lead positions"
   ]
  },
  {
   "cell_type": "code",
   "execution_count": 6,
   "id": "cefe824d",
   "metadata": {},
   "outputs": [],
   "source": [
    "\"\"\"\n",
    "This script sorts an extended XYZ file for a lead (left or right) in a quantum transport device.\n",
    "Sorting is consistent with the device structure: atoms are sorted by increasing x, y, and z.\n",
    "\n",
    "The script assumes:\n",
    "1. The lead geometry roughly corresponds to the device leads (from previous sorting).\n",
    "2. Atoms are only in the lead region (left or right) and occupy one side of the device's x-span.\n",
    "\"\"\"\n",
    "\n",
    "# Load the lead-only extended xyz file\n",
    "file_path = \"./dft/leads/leads_original.xyz\"\n",
    "with open(file_path, \"r\") as f:\n",
    "    data = f.readlines()\n",
    "\n",
    "# First two lines: number of atoms and comment\n",
    "num_atoms = int(data[0].strip())\n",
    "comment = data[1].strip()\n",
    "\n",
    "# Read atomic data\n",
    "atoms = []\n",
    "for line in data[2 : num_atoms + 2]:\n",
    "    parts = line.split()\n",
    "    element = parts[0]\n",
    "    x, y, z = map(float, parts[1:4])\n",
    "    atoms.append((element, x, y, z))\n",
    "\n",
    "# Sort atoms by x, then y, then z (same as device structure logic)\n",
    "sorted_atoms = sorted(atoms, key=lambda atom: (atom[1], atom[2], atom[3]))\n",
    "\n",
    "# Write the sorted structure to a new extended xyz file\n",
    "output_path = \"./dft/leads/leads_sorted.xyz\"\n",
    "with open(output_path, \"w\") as f:\n",
    "    f.write(f\"{num_atoms}\\n{comment}\\n\")\n",
    "    for atom in sorted_atoms:\n",
    "        element, x, y, z = atom\n",
    "        f.write(f\"{element:<3} {x:15.8f} {y:15.8f} {z:15.8f}\\n\")\n"
   ]
  },
  {
   "cell_type": "code",
   "execution_count": null,
   "id": "eb0af1c4",
   "metadata": {},
   "outputs": [],
   "source": []
  }
 ],
 "metadata": {
  "kernelspec": {
   "display_name": "guido-edpyt-qtpyt",
   "language": "python",
   "name": "python3"
  },
  "language_info": {
   "codemirror_mode": {
    "name": "ipython",
    "version": 3
   },
   "file_extension": ".py",
   "mimetype": "text/x-python",
   "name": "python",
   "nbconvert_exporter": "python",
   "pygments_lexer": "ipython3",
   "version": "3.9.21"
  }
 },
 "nbformat": 4,
 "nbformat_minor": 5
}
