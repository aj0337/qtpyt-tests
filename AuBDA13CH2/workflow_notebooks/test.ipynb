{
 "cells": [
  {
   "cell_type": "code",
   "execution_count": 1,
   "metadata": {},
   "outputs": [],
   "source": [
    "from __future__ import annotations\n",
    "\n",
    "import os\n",
    "import pickle\n",
    "\n",
    "import numpy as np\n",
    "from qtpyt.base.selfenergy import DataSelfEnergy as BaseDataSelfEnergy\n",
    "from qtpyt.block_tridiag import greenfunction\n",
    "from qtpyt.continued_fraction import get_ao_charge\n",
    "from qtpyt.projector import ProjectedGreenFunction, expand\n",
    "from scipy.optimize import root\n",
    "\n",
    "from edpyt.dmft import DMFT, Converged, Gfimp\n",
    "from edpyt.nano_dmft import Gfimp as nanoGfimp\n",
    "from edpyt.nano_dmft import Gfloc"
   ]
  },
  {
   "cell_type": "code",
   "execution_count": 2,
   "metadata": {},
   "outputs": [],
   "source": [
    "def distance(delta):\n",
    "    global delta_prev\n",
    "    delta_prev[:] = delta\n",
    "    return dmft.distance(delta)\n",
    "\n",
    "\n",
    "def save_sigma(sigma_diag, outputfile, npsin):\n",
    "    L, ne = sigma_diag.shape\n",
    "    sigma = np.zeros((ne, L, L), complex)\n",
    "\n",
    "    def save(spin):\n",
    "        for diag, mat in zip(sigma_diag.T, sigma):\n",
    "            mat.flat[:: (L + 1)] = diag\n",
    "        np.save(outputfile, sigma)\n",
    "\n",
    "    for spin in range(nspin):\n",
    "        save(spin)\n",
    "\n",
    "class DataSelfEnergy(BaseDataSelfEnergy):\n",
    "    \"\"\"Wrapper\"\"\"\n",
    "\n",
    "    def retarded(self, energy):\n",
    "        return expand(S_molecule, super().retarded(energy), idx_molecule)\n",
    "\n",
    "\n",
    "def load(filename):\n",
    "    return DataSelfEnergy(energies, np.load(filename))"
   ]
  },
  {
   "cell_type": "code",
   "execution_count": null,
   "metadata": {},
   "outputs": [],
   "source": [
    "U = 4.0  # Interaction\n",
    "nbaths = 4\n",
    "tol = 1.5\n",
    "max_iter = 4\n",
    "alpha = 0.0\n",
    "nspin = 1\n",
    "mu = U/2\n",
    "eta = 3e-2\n",
    "data_folder = \"../output/compute_run\"\n",
    "output_folder = \"../output/compute_run/model\"\n",
    "os.makedirs(output_folder, exist_ok=True)\n",
    "\n",
    "occupancy_goal = np.load(f\"{data_folder}/occupancies.npy\")\n",
    "energies = np.arange(-10,10,0.01)\n",
    "z_ret = energies + 1.j * eta\n",
    "\n",
    "H_active = np.load(f\"{data_folder}/hamiltonian.npy\").real\n",
    "index_active_region = np.load(f\"{data_folder}/index_active_region.npy\")\n",
    "len_active = len(index_active_region)\n",
    "\n",
    "beta = 1000\n",
    "ne = 3000\n",
    "z_mats = 1.0j * (2 * np.arange(ne) + 1) * np.pi / beta\n",
    "\n",
    "HybMats = lambda z: 0.0\n",
    "\n",
    "S_active = np.eye(len_active)\n",
    "\n",
    "idx_neq = np.arange(len_active)\n",
    "idx_inv = np.arange(len_active)\n",
    "\n",
    "V = np.eye(len_active) * U\n"
   ]
  },
  {
   "cell_type": "code",
   "execution_count": 6,
   "metadata": {},
   "outputs": [],
   "source": [
    "gfloc = Gfloc(H_active, np.eye(len_active), HybMats, idx_neq, idx_inv)\n",
    "gfloc.mu = mu\n",
    "nimp = gfloc.idx_neq.size\n",
    "gfimp = []\n",
    "for i in range(nimp):\n",
    "    gfimp.append(Gfimp(nbaths, z_mats.size, V[i, i], beta))\n",
    "\n",
    "gfimp = nanoGfimp(gfimp)\n",
    "\n",
    "occupancy_goal = occupancy_goal[gfloc.idx_neq]\n",
    "\n",
    "dmft = DMFT(\n",
    "    gfimp,\n",
    "    gfloc,\n",
    "    occupancy_goal,\n",
    "    max_iter=max_iter,\n",
    "    tol=tol,\n",
    "    adjust_mu=False,\n",
    "    alpha=alpha,\n",
    "    store_iterations=True,\n",
    "    egrid = z_ret,\n",
    "    iter_filename = f\"{output_folder}/dmft_iterations.h5\"\n",
    ")\n",
    "\n",
    "Sigma = lambda z: np.zeros((nimp, z.size), complex)\n",
    "delta = dmft.initialize(V.diagonal().mean(), Sigma, mu=mu)\n",
    "delta_prev = delta.copy()\n"
   ]
  },
  {
   "cell_type": "code",
   "execution_count": 7,
   "metadata": {},
   "outputs": [
    {
     "name": "stdout",
     "output_type": "stream",
     "text": [
      "Iteration :  0\n",
      "Occupation : 11.70173 | Chemical potential : 2.00000 | Relative Error : 1.70839\n",
      "Iteration :  1\n",
      "Occupation : 11.70173 | Chemical potential : 2.00000 | Relative Error : 2.05770\n",
      "Iteration :  2\n",
      "Occupation : 11.70173 | Chemical potential : 2.00000 | Relative Error : 1.68716\n",
      "Iteration :  3\n",
      "Occupation : 11.70173 | Chemical potential : 2.00000 | Relative Error : 0.97553\n"
     ]
    }
   ],
   "source": [
    "try:\n",
    "    root(distance, delta_prev, method=\"broyden1\")\n",
    "except Converged:\n",
    "    pass\n",
    "\n",
    "np.save(f\"{output_folder}/dmft_delta.npy\", delta_prev)\n",
    "open(f\"{output_folder}/mu.txt\", \"w\").write(str(gfloc.mu))\n",
    "\n",
    "_Sigma = lambda z: -gfloc.mu + gfloc.Sigma(z)[idx_inv]\n"
   ]
  },
  {
   "cell_type": "code",
   "execution_count": 8,
   "metadata": {},
   "outputs": [],
   "source": [
    "dmft_sigma_file = f\"{output_folder}/dmft_sigma.npy\"\n",
    "save_sigma(_Sigma(z_ret), dmft_sigma_file, nspin)"
   ]
  },
  {
   "cell_type": "code",
   "execution_count": 9,
   "metadata": {},
   "outputs": [],
   "source": [
    "self_energy = np.load(f\"{data_folder}/self_energy.npy\",allow_pickle=True)\n",
    "with open(f\"{data_folder}/hs_list_ii.pkl\", 'rb') as f:\n",
    "    hs_list_ii = pickle.load(f)\n",
    "with open(f\"{data_folder}/hs_list_ij.pkl\", 'rb') as f:\n",
    "    hs_list_ij = pickle.load(f)\n"
   ]
  },
  {
   "cell_type": "code",
   "execution_count": 10,
   "metadata": {},
   "outputs": [],
   "source": [
    "gf = greenfunction.GreenFunction(hs_list_ii,\n",
    "                                hs_list_ij,\n",
    "                                [(0, self_energy[0]),\n",
    "                                (len(hs_list_ii) - 1, self_energy[1])],\n",
    "                                solver='dyson',\n",
    "                                eta=eta)"
   ]
  },
  {
   "cell_type": "code",
   "execution_count": null,
   "metadata": {},
   "outputs": [
    {
     "ename": "TypeError",
     "evalue": "expected str, bytes or os.PathLike object, not ndarray",
     "output_type": "error",
     "traceback": [
      "\u001b[0;31m---------------------------------------------------------------------------\u001b[0m",
      "\u001b[0;31mTypeError\u001b[0m                                 Traceback (most recent call last)",
      "Cell \u001b[0;32mIn[11], line 3\u001b[0m\n\u001b[1;32m      1\u001b[0m gfp \u001b[38;5;241m=\u001b[39m ProjectedGreenFunction(gf, index_active_region)\n\u001b[1;32m      2\u001b[0m charge \u001b[38;5;241m=\u001b[39m get_ao_charge(gfp)\n\u001b[0;32m----> 3\u001b[0m \u001b[43mnp\u001b[49m\u001b[38;5;241;43m.\u001b[39;49m\u001b[43msave\u001b[49m\u001b[43m(\u001b[49m\u001b[43mcharge\u001b[49m\u001b[43m,\u001b[49m\u001b[38;5;124;43mf\u001b[39;49m\u001b[38;5;124;43m\"\u001b[39;49m\u001b[38;5;132;43;01m{\u001b[39;49;00m\u001b[43moutput_folder\u001b[49m\u001b[38;5;132;43;01m}\u001b[39;49;00m\u001b[38;5;124;43m/charge_per_orbital.npy\u001b[39;49m\u001b[38;5;124;43m\"\u001b[39;49m\u001b[43m)\u001b[49m\n",
      "File \u001b[0;32m<__array_function__ internals>:5\u001b[0m, in \u001b[0;36msave\u001b[0;34m(*args, **kwargs)\u001b[0m\n",
      "File \u001b[0;32m~/miniconda3/envs/gpaw/lib/python3.9/site-packages/numpy/lib/npyio.py:522\u001b[0m, in \u001b[0;36msave\u001b[0;34m(file, arr, allow_pickle, fix_imports)\u001b[0m\n\u001b[1;32m    520\u001b[0m     file_ctx \u001b[38;5;241m=\u001b[39m contextlib_nullcontext(file)\n\u001b[1;32m    521\u001b[0m \u001b[38;5;28;01melse\u001b[39;00m:\n\u001b[0;32m--> 522\u001b[0m     file \u001b[38;5;241m=\u001b[39m \u001b[43mos_fspath\u001b[49m\u001b[43m(\u001b[49m\u001b[43mfile\u001b[49m\u001b[43m)\u001b[49m\n\u001b[1;32m    523\u001b[0m     \u001b[38;5;28;01mif\u001b[39;00m \u001b[38;5;129;01mnot\u001b[39;00m file\u001b[38;5;241m.\u001b[39mendswith(\u001b[38;5;124m'\u001b[39m\u001b[38;5;124m.npy\u001b[39m\u001b[38;5;124m'\u001b[39m):\n\u001b[1;32m    524\u001b[0m         file \u001b[38;5;241m=\u001b[39m file \u001b[38;5;241m+\u001b[39m \u001b[38;5;124m'\u001b[39m\u001b[38;5;124m.npy\u001b[39m\u001b[38;5;124m'\u001b[39m\n",
      "\u001b[0;31mTypeError\u001b[0m: expected str, bytes or os.PathLike object, not ndarray"
     ]
    }
   ],
   "source": [
    "gfp = ProjectedGreenFunction(gf, index_active_region)\n",
    "charge = get_ao_charge(gfp)\n"
   ]
  },
  {
   "cell_type": "code",
   "execution_count": 13,
   "metadata": {},
   "outputs": [],
   "source": [
    "np.save(f\"{output_folder}/charge_per_orbital.npy\",charge)"
   ]
  },
  {
   "cell_type": "code",
   "execution_count": null,
   "metadata": {},
   "outputs": [],
   "source": [
    "\n",
    "nodes = [0,810,1116,1278,1584,2394]\n",
    "imb = 2  # index of molecule block from the nodes list\n",
    "S_molecule = hs_list_ii[imb][1]  # overlap of molecule\n",
    "idx_molecule = index_active_region - nodes[imb]  # indices of active region w.r.t molecule\n",
    "\n",
    "dmft_sigma = load(dmft_sigma_file)\n",
    "self_energy[2] = dmft_sigma\n",
    "gf.selfenergies.append((imb, self_energy[2]))"
   ]
  },
  {
   "cell_type": "code",
   "execution_count": null,
   "metadata": {},
   "outputs": [],
   "source": [
    "gfp_dmft = ProjectedGreenFunction(gf, index_active_region)\n",
    "charge_dmft = get_ao_charge(gfp_dmft)\n",
    "np.save(f\"{output_folder}/charge_per_orbital_dmft.npy\",charge_dmft)\n"
   ]
  },
  {
   "cell_type": "code",
   "execution_count": 6,
   "metadata": {},
   "outputs": [
    {
     "name": "stdout",
     "output_type": "stream",
     "text": [
      "Iteration: iteration_0\n",
      "  Bath 0: vk = [ 1.43522381 -1.36049928  0.89997291], ek = [-5.08651834  1.00525302  4.37930194]\n",
      "  Bath 1: vk = [2.22809143 2.24950774 2.39296756], ek = [-4.17125751 -0.22343322  4.24314158]\n",
      "  Bath 2: vk = [2.49163781 3.27539316 2.0429297 ], ek = [-5.86868235 -1.63353989  4.24070351]\n",
      "  Bath 3: vk = [1.33862676 4.00614949 2.26647876], ek = [-5.26663992 -1.47762222  4.03964537]\n",
      "  Bath 4: vk = [1.69282536 1.85705493 1.35507076], ek = [-4.44278437  0.88447045  5.02733713]\n",
      "  Bath 5: vk = [2.28315188 2.51573504 1.91649074], ek = [-3.91622504  0.28929369  4.51794002]\n",
      "  Bath 6: vk = [2.56018674 3.2826961  2.05363419], ek = [-5.73566162 -1.62745845  4.16028754]\n",
      "  Bath 7: vk = [2.22701504 2.24063312 2.41937638], ek = [-4.19204059 -0.2057461   4.24328419]\n",
      "  Bath 8: vk = [1.48866322 1.39725609 0.96083441], ek = [-5.04878137  1.00842968  4.22216073]\n",
      "Iteration: iteration_1\n",
      "  Bath 0: vk = [ 1.42873674 -1.19190648  1.08437698], ek = [-4.34130491  1.03505639  4.05236112]\n",
      "  Bath 1: vk = [2.1749542  1.97541395 2.54465373], ek = [-3.69022774 -0.23286138  3.46752721]\n",
      "  Bath 2: vk = [3.02257377 1.69653095 1.78118345], ek = [-2.52703508 -1.22561121  0.14611698]\n",
      "  Bath 3: vk = [3.52638115 1.01967005 2.50234038], ek = [-1.55624061 -0.02582244  1.11889609]\n",
      "  Bath 4: vk = [1.6828455  1.62862862 1.57266473], ek = [-3.63615334  0.91608457  4.37174669]\n",
      "  Bath 5: vk = [2.21912475 2.1396805  2.20700796], ek = [-2.82026114  0.29371534  3.57908907]\n",
      "  Bath 6: vk = [3.10743746 1.62379358 1.7233244 ], ek = [-2.47508467 -1.19210573  0.11983878]\n",
      "  Bath 7: vk = [2.17930613 1.96183881 2.56779314], ek = [-3.68109706 -0.21446087  3.5062676 ]\n",
      "  Bath 8: vk = [1.48426227 1.23239696 1.13955573], ek = [-4.31988745  1.04375728  4.10255752]\n",
      "Iteration: iteration_2\n",
      "  Bath 0: vk = [ 1.43025801 -1.29360043  0.97774426], ek = [-4.76770784  1.0098409   4.12086007]\n",
      "  Bath 1: vk = [2.20672932 2.14968786 2.45088485], ek = [-3.9783559  -0.22635519  3.90406315]\n",
      "  Bath 2: vk = [2.89754913 2.38280823 1.33437759], ek = [-2.94406284 -1.37995327  0.24228447]\n",
      "  Bath 3: vk = [3.92261643 0.63306653 2.29077387], ek = [-1.55400638 -0.02623764  2.07562553]\n",
      "  Bath 4: vk = [1.68636125 1.7725311  1.43996359], ek = [-4.10003503  0.89331436  4.6795688 ]\n",
      "  Bath 5: vk = [2.25789232 2.38171408 2.02749233], ek = [-3.4646863   0.29090345  4.06640523]\n",
      "  Bath 6: vk = [2.98529961 2.34395374 1.29635814], ek = [-2.90625117 -1.35894697  0.2062603 ]\n",
      "  Bath 7: vk = [2.20764688 2.13924015 2.47607927], ek = [-3.98686794 -0.20844203  3.92312629]\n",
      "  Bath 8: vk = [1.48515451 1.33203594 1.03600765], ek = [-4.7428233   1.01542229  4.08673904]\n",
      "Iteration: iteration_3\n",
      "  Bath 0: vk = [ 1.36422887 -0.48665673  1.38501764], ek = [-2.1862973   0.25445041  3.93198336]\n",
      "  Bath 1: vk = [1.84994534 1.97625485 2.93721476], ek = [-6.47342731 -0.97450036  5.01892039]\n",
      "  Bath 2: vk = [5.72017563e-05 2.33900258e-06 3.48397564e+00], ek = [-3.70863219 -2.21210137  0.30355507]\n",
      "  Bath 3: vk = [4.33970757e-04 1.66011566e+00 3.80821113e+00], ek = [-3.20409184 -0.00425531  0.71826196]\n",
      "  Bath 4: vk = [1.65763802 0.65689154 1.9412622 ], ek = [-1.6433049   0.2181736   3.96839313]\n",
      "  Bath 5: vk = [2.00510427 0.82377692 2.50718171], ek = [-0.51382513  0.05220607  4.75182648]\n",
      "  Bath 6: vk = [3.49008682e-06 3.07433818e-07 3.47405944e+00], ek = [-3.74935755 -2.34902385  0.28935669]\n",
      "  Bath 7: vk = [1.8843249  1.97799547 2.94450912], ek = [-6.42423834 -0.93920339  5.14602414]\n",
      "  Bath 8: vk = [1.42223995 0.50508124 1.43933385], ek = [-2.19595389  0.25630913  3.89812397]\n"
     ]
    }
   ],
   "source": [
    "import h5py\n",
    "\n",
    "with h5py.File(f'{output_folder}/dmft_iterations.h5', 'r') as f:\n",
    "    # Access last n iterations of delta, sigma, gfloc\n",
    "    last_n_data = f['last_n_iterations']\n",
    "    for iter_key in last_n_data.keys():\n",
    "        delta = last_n_data[f'{iter_key}/delta'][:]\n",
    "        sigma = last_n_data[f'{iter_key}/sigma'][:]\n",
    "        gfloc = last_n_data[f'{iter_key}/gfloc'][:]\n",
    "\n",
    "\n",
    "with h5py.File(f'{output_folder}/dmft_iterations.h5', 'r') as f:\n",
    "    # Access all bath parameters for each iteration\n",
    "    bath_data = f['all_bath_parameters']\n",
    "    for iter_num in sorted(bath_data.keys()):\n",
    "        iter_grp = bath_data[f'{iter_num}']\n",
    "        print(f\"Iteration: {iter_num}\")\n",
    "        for bath_idx in range(9):\n",
    "            vk = iter_grp[f'vk_{bath_idx}'][:]\n",
    "            ek = iter_grp[f'ek_{bath_idx}'][:]\n",
    "            print(f\"  Bath {bath_idx}: vk = {vk}, ek = {ek}\")\n"
   ]
  },
  {
   "cell_type": "code",
   "execution_count": null,
   "metadata": {},
   "outputs": [],
   "source": []
  }
 ],
 "metadata": {
  "kernelspec": {
   "display_name": "gpaw",
   "language": "python",
   "name": "python3"
  },
  "language_info": {
   "codemirror_mode": {
    "name": "ipython",
    "version": 3
   },
   "file_extension": ".py",
   "mimetype": "text/x-python",
   "name": "python",
   "nbconvert_exporter": "python",
   "pygments_lexer": "ipython3",
   "version": "3.9.18"
  }
 },
 "nbformat": 4,
 "nbformat_minor": 4
}
